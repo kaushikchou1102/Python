{
 "cells": [
  {
   "cell_type": "markdown",
   "id": "822e0e4b-7c27-454f-a2c1-5ee51e5ae6cf",
   "metadata": {},
   "source": [
    "## Numpy:Introduction\n",
    "\n",
    "- NumPy is a Open Source Python package. It stands for **Numerical Python**. It is a library consisting of multidimensional array objects and a collection of routines for processing of array.\n",
    "\n",
    "- NumPy is the fundamental package for scientific computing with Python , having following important functionalities: \n",
    "     - A powerful N-dimensional array object\n",
    "     - A sophisticated (broadcasting) functions\n",
    "     - Contains tools for integrating C/C++ and Fortran code\n",
    "     - Have  useful  linear algebra, Fourier transform, and random number capabilities"
   ]
  },
  {
   "cell_type": "markdown",
   "id": "b7d8c0a6-773d-46a2-a3b6-b80ba3011eb1",
   "metadata": {},
   "source": [
    "## Why NuMpy?\n",
    "\n",
    "- Mathematical and logical operations on **arrays**.\n",
    "\n",
    "- Efficient storage and manipulation of **numerical arrays** is which is fundamental in  the process of  **data science**.\n",
    "\n",
    "- NumPy arrays form the core of nearly the entire **ecosystem** of **data science** tools in Python,"
   ]
  },
  {
   "cell_type": "code",
   "execution_count": 4,
   "id": "35b863a2-57e1-41da-bc19-8847e86cbc45",
   "metadata": {},
   "outputs": [
    {
     "name": "stdout",
     "output_type": "stream",
     "text": [
      "Requirement already satisfied: numpy in c:\\users\\amitm\\anaconda3\\lib\\site-packages (1.26.4)\n"
     ]
    }
   ],
   "source": [
    "!pip install numpy"
   ]
  },
  {
   "cell_type": "code",
   "execution_count": 5,
   "id": "b5c2059d-2b3d-4c9f-99b4-9445d8b5a5cb",
   "metadata": {},
   "outputs": [],
   "source": [
    "import numpy as np"
   ]
  },
  {
   "cell_type": "code",
   "execution_count": 6,
   "id": "f8069fbc-9829-42fb-b055-dce0e74349d1",
   "metadata": {},
   "outputs": [
    {
     "data": {
      "text/plain": [
       "'1.26.4'"
      ]
     },
     "execution_count": 6,
     "metadata": {},
     "output_type": "execute_result"
    }
   ],
   "source": [
    "np.__version__"
   ]
  },
  {
   "cell_type": "code",
   "execution_count": 7,
   "id": "1b735dd4-5bd4-4b1e-aaae-e80cc69b294f",
   "metadata": {},
   "outputs": [],
   "source": [
    "# We have lists in Python which serve the purpose of arrays,but their processing is slow.NumPy intends for providing an array object which is upto 50x faster as compared to handed-down Python lists\n",
    "\n",
    "## In numpy,the array object is called ndarray.\n",
    "## Arrays are oftentimes used in data science where resources and speed are essential."
   ]
  },
  {
   "cell_type": "raw",
   "id": "40663075-7fae-4ef8-a728-1bba526530c7",
   "metadata": {},
   "source": [
    "# Unlike lists,in memory , NumPy arrays are stored at one continuous place so processes can easily access andmanipulate them.This is called LOCALITY OF REFERENCE"
   ]
  },
  {
   "cell_type": "code",
   "execution_count": 8,
   "id": "e58d07a9-3511-4c75-b11e-a1eb4a63ba75",
   "metadata": {},
   "outputs": [],
   "source": [
    "## Arrays are homogeneous (same data type)"
   ]
  },
  {
   "cell_type": "code",
   "execution_count": 9,
   "id": "6acc9e83-f15f-4c25-ab87-52485e69d54c",
   "metadata": {},
   "outputs": [],
   "source": [
    "## It is a table of elements (typically numbers),all of the similar type, indexed by a tuple of positive integers"
   ]
  },
  {
   "cell_type": "code",
   "execution_count": 10,
   "id": "502f7432-ff03-4737-ab12-6e6c06be1834",
   "metadata": {},
   "outputs": [],
   "source": [
    "## Dimensions are named as axes in Numpy.The number of axes is rank"
   ]
  },
  {
   "cell_type": "code",
   "execution_count": 11,
   "id": "13c0f7b3-7e8e-475e-8e9d-0640c54eb03c",
   "metadata": {},
   "outputs": [],
   "source": [
    "### NumPy's array class is know as ndarray.Even , it is known by the alias array"
   ]
  },
  {
   "cell_type": "code",
   "execution_count": 12,
   "id": "0c45b403-ecae-4c46-a290-76286d23b5be",
   "metadata": {},
   "outputs": [
    {
     "name": "stdout",
     "output_type": "stream",
     "text": [
      "(1, 2, 3, 4, 5)\n"
     ]
    }
   ],
   "source": [
    "a =(1,2,3,4,5)\n",
    "\n",
    "print(a)"
   ]
  },
  {
   "cell_type": "code",
   "execution_count": 13,
   "id": "0594567d-aa6a-4eaf-9db6-e192f52b71dc",
   "metadata": {},
   "outputs": [
    {
     "data": {
      "text/plain": [
       "tuple"
      ]
     },
     "execution_count": 13,
     "metadata": {},
     "output_type": "execute_result"
    }
   ],
   "source": [
    "type(a)\n"
   ]
  },
  {
   "cell_type": "code",
   "execution_count": 14,
   "id": "8b41ffb8-882e-468c-a6dd-359ebd735559",
   "metadata": {},
   "outputs": [
    {
     "name": "stdout",
     "output_type": "stream",
     "text": [
      "[1 2 3 4 5]\n"
     ]
    }
   ],
   "source": [
    "b= np.array(a)\n",
    "print(b)"
   ]
  },
  {
   "cell_type": "code",
   "execution_count": 15,
   "id": "2f37e1b4-b584-4437-ba78-f64c9e4f5fd0",
   "metadata": {},
   "outputs": [
    {
     "data": {
      "text/plain": [
       "numpy.ndarray"
      ]
     },
     "execution_count": 15,
     "metadata": {},
     "output_type": "execute_result"
    }
   ],
   "source": [
    "type(b)"
   ]
  },
  {
   "cell_type": "code",
   "execution_count": 16,
   "id": "b463f291-5a81-4128-b665-0030f01ed10d",
   "metadata": {},
   "outputs": [
    {
     "data": {
      "text/plain": [
       "1"
      ]
     },
     "execution_count": 16,
     "metadata": {},
     "output_type": "execute_result"
    }
   ],
   "source": [
    "b.ndim # in order to find the dimsn"
   ]
  },
  {
   "cell_type": "code",
   "execution_count": 17,
   "id": "d13a5583-5f5a-49cc-82a5-a79f6316892e",
   "metadata": {},
   "outputs": [
    {
     "data": {
      "text/plain": [
       "(5,)"
      ]
     },
     "execution_count": 17,
     "metadata": {},
     "output_type": "execute_result"
    }
   ],
   "source": [
    "b.shape # no.of rows and no.columns"
   ]
  },
  {
   "cell_type": "code",
   "execution_count": 18,
   "id": "461d2414-28c2-42d2-a064-c6538707601f",
   "metadata": {},
   "outputs": [
    {
     "data": {
      "text/plain": [
       "5"
      ]
     },
     "execution_count": 18,
     "metadata": {},
     "output_type": "execute_result"
    }
   ],
   "source": [
    "b.size # total number of elements present in an array"
   ]
  },
  {
   "cell_type": "code",
   "execution_count": 19,
   "id": "7f4f280f-5567-4aa6-8b01-f2503ade4d53",
   "metadata": {},
   "outputs": [
    {
     "data": {
      "text/plain": [
       "dtype('int32')"
      ]
     },
     "execution_count": 19,
     "metadata": {},
     "output_type": "execute_result"
    }
   ],
   "source": [
    "b.dtype ## data type of my array"
   ]
  },
  {
   "cell_type": "code",
   "execution_count": 20,
   "id": "993492dc-9c92-47da-ade4-9472039c10e7",
   "metadata": {},
   "outputs": [
    {
     "name": "stdout",
     "output_type": "stream",
     "text": [
      "Array elements are:  [[4 5 6]\n",
      " [7 8 9]]\n",
      "Array is of type:  <class 'numpy.ndarray'>\n",
      "No.of dimensions:  2\n",
      "Array shape:  (2, 3)\n",
      "Array size:  6\n",
      "Array stores elements of type:  int32\n"
     ]
    }
   ],
   "source": [
    "arr = np.array([[4,5,6],[7,8,9]])\n",
    "\n",
    "print(\"Array elements are: \",arr)\n",
    "print(\"Array is of type: \",type(arr))\n",
    "print(\"No.of dimensions: \",arr.ndim)\n",
    "print(\"Array shape: \",arr.shape)\n",
    "print(\"Array size: \",arr.size)\n",
    "print(\"Array stores elements of type: \",arr.dtype)"
   ]
  },
  {
   "cell_type": "code",
   "execution_count": 21,
   "id": "6d9bfaa7-d82f-4baf-9283-6a40dc3accaf",
   "metadata": {},
   "outputs": [
    {
     "name": "stdout",
     "output_type": "stream",
     "text": [
      "[1 2 3 4 5]\n"
     ]
    }
   ],
   "source": [
    "import numpy as arr\n",
    "\n",
    "a =(1,2,3,4,5)\n",
    "b =arr.array(a)\n",
    "print (b)"
   ]
  },
  {
   "cell_type": "code",
   "execution_count": 22,
   "id": "d4d92bfd-4d91-4d03-ad75-30c911940ef7",
   "metadata": {},
   "outputs": [],
   "source": [
    "#### Speed Comaprison numpy vs core python"
   ]
  },
  {
   "cell_type": "code",
   "execution_count": 23,
   "id": "27442f11-1400-48f7-82b4-700d6142ee4a",
   "metadata": {},
   "outputs": [
    {
     "name": "stdout",
     "output_type": "stream",
     "text": [
      "pure python version= 13.84116005897522\n",
      "numpy = 0.19992589950561523\n"
     ]
    }
   ],
   "source": [
    "import time as tm\n",
    "\n",
    "size_1 = 10000000\n",
    "\n",
    "def pure_python_version():\n",
    "    start_time_pp =  tm.time() ## time of start of code execution\n",
    "    list1 = range(size_1)\n",
    "    list2 = range(size_1)\n",
    "    sum_list=[list1[i]+list2[i] for i in range(len(list1))]\n",
    "    end_time_pp =  tm.time()\n",
    "    return end_time_pp - start_time_pp ## end time for execution (difference)\n",
    "\n",
    "def numpy_version():\n",
    "    start_time_np = tm.time()\n",
    "    array1 = np.arange(size_1)\n",
    "    array2 =  np.arange(size_1)\n",
    "    sum_array = array1 + array2\n",
    "    end_time_np = tm.time()\n",
    "    return end_time_np - start_time_np ## end time for execution (difference)\n",
    "\n",
    "python_time = pure_python_version()\n",
    "numpy_time  = numpy_version()\n",
    "\n",
    "print(\"pure python version=\",python_time)\n",
    "print(\"numpy =\",numpy_time)"
   ]
  },
  {
   "cell_type": "code",
   "execution_count": 24,
   "id": "054c1186-2c78-448d-b6a3-86550fd2219e",
   "metadata": {},
   "outputs": [],
   "source": [
    "my_list=[2,3,4,6,7,8]"
   ]
  },
  {
   "cell_type": "code",
   "execution_count": 25,
   "id": "3b4fa36e-f91f-4928-a11c-b4024f34eae0",
   "metadata": {},
   "outputs": [
    {
     "data": {
      "text/plain": [
       "array([2, 3, 4, 6, 7, 8])"
      ]
     },
     "execution_count": 25,
     "metadata": {},
     "output_type": "execute_result"
    }
   ],
   "source": [
    "my_array=np.array(my_list)\n",
    "my_array"
   ]
  },
  {
   "cell_type": "code",
   "execution_count": 26,
   "id": "bb4b3d85-3656-4de2-b2e8-d9fae9f1ebc6",
   "metadata": {},
   "outputs": [
    {
     "data": {
      "text/plain": [
       "numpy.ndarray"
      ]
     },
     "execution_count": 26,
     "metadata": {},
     "output_type": "execute_result"
    }
   ],
   "source": [
    "array_2 = [[1,2,3],[4,5,6],[7,8,9]]\n",
    "array_3= np.array(array_2)\n",
    "array_3\n",
    "type(array_3)"
   ]
  },
  {
   "cell_type": "code",
   "execution_count": 27,
   "id": "3225b49f-03cc-4046-9e6d-e45cd5763e7d",
   "metadata": {},
   "outputs": [
    {
     "data": {
      "text/plain": [
       "2"
      ]
     },
     "execution_count": 27,
     "metadata": {},
     "output_type": "execute_result"
    }
   ],
   "source": [
    "array_3.ndim"
   ]
  },
  {
   "cell_type": "code",
   "execution_count": 28,
   "id": "5cb67033-c5e4-470a-b7c7-bbda4a61ecb3",
   "metadata": {},
   "outputs": [
    {
     "data": {
      "text/plain": [
       "(3, 3)"
      ]
     },
     "execution_count": 28,
     "metadata": {},
     "output_type": "execute_result"
    }
   ],
   "source": [
    "array_3.shape"
   ]
  },
  {
   "cell_type": "code",
   "execution_count": 29,
   "id": "f5b3476d-58aa-4c8c-aabb-290c3ff5043d",
   "metadata": {},
   "outputs": [
    {
     "name": "stdout",
     "output_type": "stream",
     "text": [
      "[[1 2 3 7 5 1]]\n"
     ]
    },
    {
     "data": {
      "text/plain": [
       "2"
      ]
     },
     "execution_count": 29,
     "metadata": {},
     "output_type": "execute_result"
    }
   ],
   "source": [
    "a = np.array([1, 2, 3,7,5,1], ndmin = 2) \n",
    "print (a)\n",
    "np.ndim(a)"
   ]
  },
  {
   "cell_type": "code",
   "execution_count": 30,
   "id": "6974162b-4239-4923-a073-5d4df874eb7e",
   "metadata": {},
   "outputs": [
    {
     "name": "stdout",
     "output_type": "stream",
     "text": [
      "[[[1 2 3 7 5 1]]]\n"
     ]
    },
    {
     "data": {
      "text/plain": [
       "3"
      ]
     },
     "execution_count": 30,
     "metadata": {},
     "output_type": "execute_result"
    }
   ],
   "source": [
    "a = np.array([1, 2, 3,7,5,1], ndmin = 3) \n",
    "print (a)\n",
    "np.ndim(a)"
   ]
  },
  {
   "cell_type": "code",
   "execution_count": 31,
   "id": "0db8c3a4-bae9-40ca-8c6d-05066ce22483",
   "metadata": {},
   "outputs": [
    {
     "name": "stdout",
     "output_type": "stream",
     "text": [
      "[[[[[[[[[[1 2 3 7 5 1]]]]]]]]]]\n"
     ]
    },
    {
     "data": {
      "text/plain": [
       "10"
      ]
     },
     "execution_count": 31,
     "metadata": {},
     "output_type": "execute_result"
    }
   ],
   "source": [
    "a = np.array([1, 2, 3,7,5,1], ndmin = 10) \n",
    "print (a)\n",
    "np.ndim(a)"
   ]
  },
  {
   "cell_type": "code",
   "execution_count": 32,
   "id": "7e58ffbb-09db-493d-9d73-13a80e4192e6",
   "metadata": {},
   "outputs": [
    {
     "name": "stdout",
     "output_type": "stream",
     "text": [
      "[1.+0.j 2.+0.j 3.+0.j]\n"
     ]
    }
   ],
   "source": [
    "a = np.array([1, 2, 3], dtype = complex) \n",
    "print (a)"
   ]
  },
  {
   "cell_type": "code",
   "execution_count": 33,
   "id": "0fa2b5e3-9688-477c-ba6b-f7f8a723a0eb",
   "metadata": {},
   "outputs": [
    {
     "data": {
      "text/plain": [
       "3"
      ]
     },
     "execution_count": 33,
     "metadata": {},
     "output_type": "execute_result"
    }
   ],
   "source": [
    "len(array_3) # total number of rows"
   ]
  },
  {
   "cell_type": "code",
   "execution_count": 34,
   "id": "07183030-9c02-4604-8407-2c562e747dfe",
   "metadata": {},
   "outputs": [
    {
     "data": {
      "text/plain": [
       "array([7, 8, 9])"
      ]
     },
     "execution_count": 34,
     "metadata": {},
     "output_type": "execute_result"
    }
   ],
   "source": [
    "array_3[2] #Indexing 3rd row"
   ]
  },
  {
   "cell_type": "code",
   "execution_count": 35,
   "id": "c2516519-001b-4992-a8b2-8025f7a1d1fe",
   "metadata": {},
   "outputs": [
    {
     "data": {
      "text/plain": [
       "array([[1, 2, 3],\n",
       "       [4, 5, 6],\n",
       "       [7, 8, 9]])"
      ]
     },
     "execution_count": 35,
     "metadata": {},
     "output_type": "execute_result"
    }
   ],
   "source": [
    "array_3"
   ]
  },
  {
   "cell_type": "code",
   "execution_count": 36,
   "id": "6054d926-8cc2-4a67-9a62-e9fd81001b4d",
   "metadata": {},
   "outputs": [
    {
     "data": {
      "text/plain": [
       "array([1, 2, 3])"
      ]
     },
     "execution_count": 36,
     "metadata": {},
     "output_type": "execute_result"
    }
   ],
   "source": [
    "array_3[0]"
   ]
  },
  {
   "cell_type": "code",
   "execution_count": 40,
   "id": "ed42f633-01fd-4ccf-a198-fb7ca82ead05",
   "metadata": {},
   "outputs": [
    {
     "data": {
      "text/plain": [
       "7"
      ]
     },
     "execution_count": 40,
     "metadata": {},
     "output_type": "execute_result"
    }
   ],
   "source": [
    "array_3[2,0]"
   ]
  },
  {
   "cell_type": "code",
   "execution_count": 41,
   "id": "90d34eca-32e2-449f-b2bb-44a6a26fc44b",
   "metadata": {},
   "outputs": [
    {
     "data": {
      "text/plain": [
       "array([2, 5, 8])"
      ]
     },
     "execution_count": 41,
     "metadata": {},
     "output_type": "execute_result"
    }
   ],
   "source": [
    "array_3[:,1] # Acessing Column"
   ]
  },
  {
   "cell_type": "code",
   "execution_count": 43,
   "id": "cd75aef9-9ce1-4a00-82c1-c70b13f99ebb",
   "metadata": {},
   "outputs": [
    {
     "data": {
      "text/plain": [
       "array([3, 6, 9])"
      ]
     },
     "execution_count": 43,
     "metadata": {},
     "output_type": "execute_result"
    }
   ],
   "source": [
    "array_3[:,2] # Acessing Column"
   ]
  },
  {
   "cell_type": "code",
   "execution_count": 44,
   "id": "58b2af02-3dfa-4e2e-8b37-100df6dbeb8c",
   "metadata": {},
   "outputs": [
    {
     "data": {
      "text/plain": [
       "array([[7]])"
      ]
     },
     "execution_count": 44,
     "metadata": {},
     "output_type": "execute_result"
    }
   ],
   "source": [
    "array_3[2:,:1] ## 3rd row onwards until 1st column"
   ]
  },
  {
   "cell_type": "code",
   "execution_count": 45,
   "id": "742f66ee-f936-42a8-8f79-9544896bbc07",
   "metadata": {},
   "outputs": [
    {
     "data": {
      "text/plain": [
       "array([[7, 8]])"
      ]
     },
     "execution_count": 45,
     "metadata": {},
     "output_type": "execute_result"
    }
   ],
   "source": [
    "array_3[2:,:2] ## 3rd row onwards until 2nd column"
   ]
  },
  {
   "cell_type": "markdown",
   "id": "b05747df-c839-4077-9329-12926369a1db",
   "metadata": {},
   "source": [
    "## Array Atrributes\n",
    "Numpy Arrays are conveinent and fast as compared to Python Lists.\n",
    "1.Shape(no of rows & columns)"
   ]
  },
  {
   "cell_type": "code",
   "execution_count": 46,
   "id": "c0c2d2c9-fec8-43ae-8ae0-1e9c60a3b540",
   "metadata": {},
   "outputs": [
    {
     "data": {
      "text/plain": [
       "(3, 3)"
      ]
     },
     "execution_count": 46,
     "metadata": {},
     "output_type": "execute_result"
    }
   ],
   "source": [
    "array_3.shape #Rows*Column"
   ]
  },
  {
   "cell_type": "code",
   "execution_count": 47,
   "id": "eba08a58-37df-4a52-ac58-7da7e8f6e77b",
   "metadata": {},
   "outputs": [
    {
     "data": {
      "text/plain": [
       "1"
      ]
     },
     "execution_count": 47,
     "metadata": {},
     "output_type": "execute_result"
    }
   ],
   "source": [
    "my_array.ndim #dimension of array"
   ]
  },
  {
   "cell_type": "code",
   "execution_count": 48,
   "id": "af3aa9e0-504b-4ae1-a686-df4d353725f6",
   "metadata": {},
   "outputs": [
    {
     "data": {
      "text/plain": [
       "dtype('int32')"
      ]
     },
     "execution_count": 48,
     "metadata": {},
     "output_type": "execute_result"
    }
   ],
   "source": [
    "array_3.dtype"
   ]
  },
  {
   "cell_type": "code",
   "execution_count": 49,
   "id": "d3b4bc83-35e2-4b7b-9f9b-9f251197ede9",
   "metadata": {},
   "outputs": [],
   "source": [
    "## Array Initilization"
   ]
  },
  {
   "cell_type": "code",
   "execution_count": 50,
   "id": "b4bc68cc-c0e0-47f2-a18f-392c86960695",
   "metadata": {},
   "outputs": [
    {
     "data": {
      "text/plain": [
       "array([1, 2, 3, 4, 5, 6, 7, 8, 9])"
      ]
     },
     "execution_count": 50,
     "metadata": {},
     "output_type": "execute_result"
    }
   ],
   "source": [
    "np.arange(1,10)"
   ]
  },
  {
   "cell_type": "code",
   "execution_count": 51,
   "id": "52b0ca30-737c-432f-820f-10f141b49c1e",
   "metadata": {},
   "outputs": [
    {
     "data": {
      "text/plain": [
       "array([1, 4, 7])"
      ]
     },
     "execution_count": 51,
     "metadata": {},
     "output_type": "execute_result"
    }
   ],
   "source": [
    "np.arange(1,10,3) #(start,end,space)"
   ]
  },
  {
   "cell_type": "code",
   "execution_count": 52,
   "id": "fbb11318-56e1-499f-9933-241dfb586027",
   "metadata": {},
   "outputs": [
    {
     "data": {
      "text/plain": [
       "array([0, 0, 0])"
      ]
     },
     "execution_count": 52,
     "metadata": {},
     "output_type": "execute_result"
    }
   ],
   "source": [
    "np.zeros(3,dtype=int)"
   ]
  },
  {
   "cell_type": "code",
   "execution_count": 53,
   "id": "33bc8478-096c-474e-b50f-4692b477c629",
   "metadata": {},
   "outputs": [
    {
     "data": {
      "text/plain": [
       "array([0, 0, 0, 0, 0, 0, 0, 0, 0])"
      ]
     },
     "execution_count": 53,
     "metadata": {},
     "output_type": "execute_result"
    }
   ],
   "source": [
    "np.zeros(9,dtype=int)"
   ]
  },
  {
   "cell_type": "code",
   "execution_count": 54,
   "id": "7c6636a8-404b-45ae-8e7f-393d18058528",
   "metadata": {},
   "outputs": [
    {
     "data": {
      "text/plain": [
       "array([[0, 0],\n",
       "       [0, 0],\n",
       "       [0, 0]])"
      ]
     },
     "execution_count": 54,
     "metadata": {},
     "output_type": "execute_result"
    }
   ],
   "source": [
    "np.zeros((3,2),dtype=int)"
   ]
  },
  {
   "cell_type": "code",
   "execution_count": 55,
   "id": "4eef5881-0ed7-4660-8e24-ed8bf67a9363",
   "metadata": {},
   "outputs": [
    {
     "data": {
      "text/plain": [
       "array([[1, 1, 1],\n",
       "       [1, 1, 1]])"
      ]
     },
     "execution_count": 55,
     "metadata": {},
     "output_type": "execute_result"
    }
   ],
   "source": [
    "np.ones((2,3),dtype=int)"
   ]
  },
  {
   "cell_type": "code",
   "execution_count": 57,
   "id": "f772d12f-efbf-4b9a-90eb-a6a37e0d16f5",
   "metadata": {},
   "outputs": [
    {
     "data": {
      "text/plain": [
       "array([[1., 0., 0.],\n",
       "       [0., 1., 0.],\n",
       "       [0., 0., 1.]])"
      ]
     },
     "execution_count": 57,
     "metadata": {},
     "output_type": "execute_result"
    }
   ],
   "source": [
    "np.eye(3,3) # Identity matrix"
   ]
  },
  {
   "cell_type": "code",
   "execution_count": 58,
   "id": "5d8b550e-29b8-45bb-9661-f9e25cf5c9ce",
   "metadata": {},
   "outputs": [
    {
     "data": {
      "text/plain": [
       "array([4, 5, 6])"
      ]
     },
     "execution_count": 58,
     "metadata": {},
     "output_type": "execute_result"
    }
   ],
   "source": [
    "np.array([4,5,6])"
   ]
  },
  {
   "cell_type": "code",
   "execution_count": 60,
   "id": "ec83fd78-6be8-4882-b687-2b8760937ec9",
   "metadata": {},
   "outputs": [
    {
     "data": {
      "text/plain": [
       "array([0.        , 0.04040404, 0.08080808, 0.12121212, 0.16161616,\n",
       "       0.2020202 , 0.24242424, 0.28282828, 0.32323232, 0.36363636,\n",
       "       0.4040404 , 0.44444444, 0.48484848, 0.52525253, 0.56565657,\n",
       "       0.60606061, 0.64646465, 0.68686869, 0.72727273, 0.76767677,\n",
       "       0.80808081, 0.84848485, 0.88888889, 0.92929293, 0.96969697,\n",
       "       1.01010101, 1.05050505, 1.09090909, 1.13131313, 1.17171717,\n",
       "       1.21212121, 1.25252525, 1.29292929, 1.33333333, 1.37373737,\n",
       "       1.41414141, 1.45454545, 1.49494949, 1.53535354, 1.57575758,\n",
       "       1.61616162, 1.65656566, 1.6969697 , 1.73737374, 1.77777778,\n",
       "       1.81818182, 1.85858586, 1.8989899 , 1.93939394, 1.97979798,\n",
       "       2.02020202, 2.06060606, 2.1010101 , 2.14141414, 2.18181818,\n",
       "       2.22222222, 2.26262626, 2.3030303 , 2.34343434, 2.38383838,\n",
       "       2.42424242, 2.46464646, 2.50505051, 2.54545455, 2.58585859,\n",
       "       2.62626263, 2.66666667, 2.70707071, 2.74747475, 2.78787879,\n",
       "       2.82828283, 2.86868687, 2.90909091, 2.94949495, 2.98989899,\n",
       "       3.03030303, 3.07070707, 3.11111111, 3.15151515, 3.19191919,\n",
       "       3.23232323, 3.27272727, 3.31313131, 3.35353535, 3.39393939,\n",
       "       3.43434343, 3.47474747, 3.51515152, 3.55555556, 3.5959596 ,\n",
       "       3.63636364, 3.67676768, 3.71717172, 3.75757576, 3.7979798 ,\n",
       "       3.83838384, 3.87878788, 3.91919192, 3.95959596, 4.        ])"
      ]
     },
     "execution_count": 60,
     "metadata": {},
     "output_type": "execute_result"
    }
   ],
   "source": [
    "np.linspace(0,4,100) # (start,end,no of values)"
   ]
  },
  {
   "cell_type": "code",
   "execution_count": 61,
   "id": "39f35465-fbff-41f4-b927-ee170307e1c3",
   "metadata": {},
   "outputs": [
    {
     "data": {
      "text/plain": [
       "array([1.23      , 1.61555556, 2.00111111, 2.38666667, 2.77222222,\n",
       "       3.15777778, 3.54333333, 3.92888889, 4.31444444, 4.7       ])"
      ]
     },
     "execution_count": 61,
     "metadata": {},
     "output_type": "execute_result"
    }
   ],
   "source": [
    "np.linspace(1.23,4.7,10)"
   ]
  },
  {
   "cell_type": "code",
   "execution_count": 62,
   "id": "8f6b88f9-62d3-401c-89e8-29f6369a3e56",
   "metadata": {},
   "outputs": [
    {
     "data": {
      "text/plain": [
       "array([-2.        , -1.55555556, -1.11111111, -0.66666667, -0.22222222,\n",
       "        0.22222222,  0.66666667,  1.11111111,  1.55555556,  2.        ])"
      ]
     },
     "execution_count": 62,
     "metadata": {},
     "output_type": "execute_result"
    }
   ],
   "source": [
    "np.linspace(-2,2,10)"
   ]
  },
  {
   "cell_type": "raw",
   "id": "cbd9c921-83ac-42b2-8ee7-b37db9bfa4d5",
   "metadata": {},
   "source": [
    "### Array Initilization with Random numbers\n",
    "In various applications( like assigning weights in Artificial Neural Networks) arrays need to be initialised randomly.\n",
    "for this purpose there are various predefined functions in Numpy(reshape and random)"
   ]
  },
  {
   "cell_type": "code",
   "execution_count": 63,
   "id": "ece7fe9c-3c97-4e55-a844-b2dd870716b8",
   "metadata": {},
   "outputs": [
    {
     "data": {
      "text/plain": [
       "array([0.94090184, 0.09582718])"
      ]
     },
     "execution_count": 63,
     "metadata": {},
     "output_type": "execute_result"
    }
   ],
   "source": [
    "np.random.rand(2)"
   ]
  },
  {
   "cell_type": "code",
   "execution_count": 64,
   "id": "4e274357-ec01-47f5-b87b-308a5c5f367e",
   "metadata": {},
   "outputs": [
    {
     "data": {
      "text/plain": [
       "array([0.11936861, 0.57495469, 0.07922548, 0.10416212, 0.79600226,\n",
       "       0.20829169, 0.78885872, 0.62401116, 0.86113182, 0.22913036,\n",
       "       0.63554958, 0.041723  , 0.55546221, 0.20255422, 0.15422416,\n",
       "       0.0940268 , 0.31148904, 0.71483067, 0.64192367, 0.33041944])"
      ]
     },
     "execution_count": 64,
     "metadata": {},
     "output_type": "execute_result"
    }
   ],
   "source": [
    "np.random.rand(20)"
   ]
  },
  {
   "cell_type": "code",
   "execution_count": 65,
   "id": "80495482-86fa-4d48-8562-1b7f05a6e4b5",
   "metadata": {},
   "outputs": [
    {
     "data": {
      "text/plain": [
       "array([0.33044174, 0.6764555 , 0.62650596, 0.15817686, 0.81734742,\n",
       "       0.05936331, 0.03025177, 0.80425959, 0.89993815])"
      ]
     },
     "execution_count": 65,
     "metadata": {},
     "output_type": "execute_result"
    }
   ],
   "source": [
    "np.random.rand(9)"
   ]
  },
  {
   "cell_type": "code",
   "execution_count": 66,
   "id": "ae620ed5-e4db-47eb-a19d-4aff02215a97",
   "metadata": {},
   "outputs": [
    {
     "data": {
      "text/plain": [
       "array([[0.17267961, 0.01702153],\n",
       "       [0.61052051, 0.24942552]])"
      ]
     },
     "execution_count": 66,
     "metadata": {},
     "output_type": "execute_result"
    }
   ],
   "source": [
    "np.random.rand(2,2)"
   ]
  },
  {
   "cell_type": "code",
   "execution_count": 67,
   "id": "49537092-22d6-4301-b60e-838e7b8c7352",
   "metadata": {},
   "outputs": [
    {
     "data": {
      "text/plain": [
       "array([[1, 2, 3, 4, 5, 6, 7, 8, 9]])"
      ]
     },
     "execution_count": 67,
     "metadata": {},
     "output_type": "execute_result"
    }
   ],
   "source": [
    "array_3.reshape(1,9)"
   ]
  },
  {
   "cell_type": "code",
   "execution_count": 68,
   "id": "3711bcf2-c1e4-4313-ae41-98df076bfab3",
   "metadata": {},
   "outputs": [
    {
     "data": {
      "text/plain": [
       "array([[1],\n",
       "       [2],\n",
       "       [3],\n",
       "       [4],\n",
       "       [5],\n",
       "       [6],\n",
       "       [7],\n",
       "       [8],\n",
       "       [9]])"
      ]
     },
     "execution_count": 68,
     "metadata": {},
     "output_type": "execute_result"
    }
   ],
   "source": [
    "array_3.reshape(9,1)"
   ]
  },
  {
   "cell_type": "code",
   "execution_count": 69,
   "id": "d3a6bb14-23e2-461b-a90a-a633a641516a",
   "metadata": {},
   "outputs": [
    {
     "data": {
      "text/plain": [
       "array([[ 1,  2,  3,  4],\n",
       "       [ 4,  5,  6,  7],\n",
       "       [ 7,  8,  9, 10],\n",
       "       [10, 11, 12, 13]])"
      ]
     },
     "execution_count": 69,
     "metadata": {},
     "output_type": "execute_result"
    }
   ],
   "source": [
    "x=[[1,2,3,4],[4,5,6,7],[7,8,9,10],[10,11,12,13]]\n",
    "x=np.array(x)\n",
    "x"
   ]
  },
  {
   "cell_type": "code",
   "execution_count": 70,
   "id": "c424a639-8298-41ff-8f1c-28d7ce769632",
   "metadata": {},
   "outputs": [
    {
     "data": {
      "text/plain": [
       "1"
      ]
     },
     "execution_count": 70,
     "metadata": {},
     "output_type": "execute_result"
    }
   ],
   "source": [
    "x.min() ## overrall minimum"
   ]
  },
  {
   "cell_type": "code",
   "execution_count": 72,
   "id": "52331fbe-5ebe-44f6-ab30-13bd623bb593",
   "metadata": {},
   "outputs": [
    {
     "data": {
      "text/plain": [
       "13"
      ]
     },
     "execution_count": 72,
     "metadata": {},
     "output_type": "execute_result"
    }
   ],
   "source": [
    "x.max()"
   ]
  },
  {
   "cell_type": "code",
   "execution_count": 73,
   "id": "45d3e308-3d73-419d-bde5-86a9f3c49c7e",
   "metadata": {},
   "outputs": [
    {
     "data": {
      "text/plain": [
       "112"
      ]
     },
     "execution_count": 73,
     "metadata": {},
     "output_type": "execute_result"
    }
   ],
   "source": [
    "x.sum()"
   ]
  },
  {
   "cell_type": "code",
   "execution_count": 75,
   "id": "f52abf9a-3ec5-4bba-8663-f4311345134a",
   "metadata": {},
   "outputs": [
    {
     "data": {
      "text/plain": [
       "7.0"
      ]
     },
     "execution_count": 75,
     "metadata": {},
     "output_type": "execute_result"
    }
   ],
   "source": [
    "x.mean()"
   ]
  },
  {
   "cell_type": "code",
   "execution_count": 76,
   "id": "02ae3e13-b784-422e-9a61-5455c2be6685",
   "metadata": {},
   "outputs": [
    {
     "data": {
      "text/plain": [
       "array([1, 2, 3, 4])"
      ]
     },
     "execution_count": 76,
     "metadata": {},
     "output_type": "execute_result"
    }
   ],
   "source": [
    "x.min(axis=0) ## minimum value column wise"
   ]
  },
  {
   "cell_type": "code",
   "execution_count": 77,
   "id": "364785a9-4bbc-4d8e-9923-6db68cfb85a5",
   "metadata": {},
   "outputs": [
    {
     "data": {
      "text/plain": [
       "array([ 1,  4,  7, 10])"
      ]
     },
     "execution_count": 77,
     "metadata": {},
     "output_type": "execute_result"
    }
   ],
   "source": [
    "x.min(axis=1) "
   ]
  },
  {
   "cell_type": "code",
   "execution_count": 79,
   "id": "baf042b5-8ae4-4714-8a2d-7a5672ecaed8",
   "metadata": {},
   "outputs": [
    {
     "data": {
      "text/plain": [
       "array([ 4,  7, 10, 13])"
      ]
     },
     "execution_count": 79,
     "metadata": {},
     "output_type": "execute_result"
    }
   ],
   "source": [
    "x.max(axis=1) "
   ]
  },
  {
   "cell_type": "code",
   "execution_count": 80,
   "id": "bf8604c1-1677-4bb6-9053-4739f5ff9cf1",
   "metadata": {},
   "outputs": [
    {
     "data": {
      "text/plain": [
       "0"
      ]
     },
     "execution_count": 80,
     "metadata": {},
     "output_type": "execute_result"
    }
   ],
   "source": [
    "x.argmin() ## index of the minimum value "
   ]
  },
  {
   "cell_type": "code",
   "execution_count": 81,
   "id": "411117b2-4f35-4f6e-921f-96737ee23187",
   "metadata": {},
   "outputs": [
    {
     "data": {
      "text/plain": [
       "15"
      ]
     },
     "execution_count": 81,
     "metadata": {},
     "output_type": "execute_result"
    }
   ],
   "source": [
    "x.argmax() ## index of the minimum value "
   ]
  },
  {
   "cell_type": "code",
   "execution_count": 82,
   "id": "701022fa-ce2d-47ff-9025-8ef290d3d2fd",
   "metadata": {},
   "outputs": [
    {
     "data": {
      "text/plain": [
       "array([0, 0, 0, 0], dtype=int64)"
      ]
     },
     "execution_count": 82,
     "metadata": {},
     "output_type": "execute_result"
    }
   ],
   "source": [
    "x.argmin(axis=0) #column wise"
   ]
  },
  {
   "cell_type": "code",
   "execution_count": 83,
   "id": "a59d4912-f63f-4176-88be-66df4416c13f",
   "metadata": {},
   "outputs": [
    {
     "data": {
      "text/plain": [
       "array([0, 0, 0, 0], dtype=int64)"
      ]
     },
     "execution_count": 83,
     "metadata": {},
     "output_type": "execute_result"
    }
   ],
   "source": [
    "x.argmin(axis=1) #column wise"
   ]
  },
  {
   "cell_type": "code",
   "execution_count": 84,
   "id": "6b8e7a3b-edb7-4a3a-895f-d8bbe7ac7f49",
   "metadata": {},
   "outputs": [
    {
     "data": {
      "text/plain": [
       "array([[ 1,  2,  3,  4],\n",
       "       [ 4,  5,  6,  7],\n",
       "       [ 7,  8,  9, 10],\n",
       "       [10, 11, 12, 13]])"
      ]
     },
     "execution_count": 84,
     "metadata": {},
     "output_type": "execute_result"
    }
   ],
   "source": [
    "x"
   ]
  },
  {
   "cell_type": "code",
   "execution_count": 85,
   "id": "e864022f-5371-4797-91df-f7f45d9bdcc2",
   "metadata": {},
   "outputs": [
    {
     "data": {
      "text/plain": [
       "array([[ 1,  2,  3,  4,  4,  5,  6,  7,  7,  8,  9, 10, 10, 11, 12, 13]])"
      ]
     },
     "execution_count": 85,
     "metadata": {},
     "output_type": "execute_result"
    }
   ],
   "source": [
    "x.reshape(1,16) # 1D to 2D "
   ]
  },
  {
   "cell_type": "code",
   "execution_count": 86,
   "id": "d66f239c-19e0-474c-b1b8-290a664607a8",
   "metadata": {},
   "outputs": [
    {
     "data": {
      "text/plain": [
       "array([[ 1,  2,  3,  4,  4,  5,  6,  7],\n",
       "       [ 7,  8,  9, 10, 10, 11, 12, 13]])"
      ]
     },
     "execution_count": 86,
     "metadata": {},
     "output_type": "execute_result"
    }
   ],
   "source": [
    "x.reshape(2,8) # 1D to 2D "
   ]
  },
  {
   "cell_type": "code",
   "execution_count": 87,
   "id": "9a59a22f-f310-401f-8f0a-91dd354b8129",
   "metadata": {},
   "outputs": [
    {
     "ename": "ValueError",
     "evalue": "cannot reshape array of size 16 into shape (6,2)",
     "output_type": "error",
     "traceback": [
      "\u001b[1;31m---------------------------------------------------------------------------\u001b[0m",
      "\u001b[1;31mValueError\u001b[0m                                Traceback (most recent call last)",
      "Cell \u001b[1;32mIn[87], line 1\u001b[0m\n\u001b[1;32m----> 1\u001b[0m x\u001b[38;5;241m.\u001b[39mreshape(\u001b[38;5;241m6\u001b[39m,\u001b[38;5;241m2\u001b[39m)\n",
      "\u001b[1;31mValueError\u001b[0m: cannot reshape array of size 16 into shape (6,2)"
     ]
    }
   ],
   "source": [
    "x.reshape(6,2) # 1D to 2D "
   ]
  },
  {
   "cell_type": "code",
   "execution_count": 88,
   "id": "5449f62d-f99a-470b-b6b4-fd40f5def02e",
   "metadata": {},
   "outputs": [
    {
     "data": {
      "text/plain": [
       "array([ 1,  2,  3,  4,  4,  5,  6,  7,  7,  8,  9, 10, 10, 11, 12, 13])"
      ]
     },
     "execution_count": 88,
     "metadata": {},
     "output_type": "execute_result"
    }
   ],
   "source": [
    "x.flatten() #2D to 1D"
   ]
  },
  {
   "cell_type": "code",
   "execution_count": 89,
   "id": "c4248327-b944-4bc5-a36c-3edad6482ff9",
   "metadata": {},
   "outputs": [
    {
     "data": {
      "text/plain": [
       "array([[ 1,  4,  7, 10],\n",
       "       [ 2,  5,  8, 11],\n",
       "       [ 3,  6,  9, 12],\n",
       "       [ 4,  7, 10, 13]])"
      ]
     },
     "execution_count": 89,
     "metadata": {},
     "output_type": "execute_result"
    }
   ],
   "source": [
    "x.transpose()"
   ]
  },
  {
   "cell_type": "code",
   "execution_count": null,
   "id": "83f7226a-2a5d-4972-a5c6-585903bd260c",
   "metadata": {},
   "outputs": [],
   "source": [
    "1\n",
    "10\n",
    "100\n",
    "1000\n",
    "10000"
   ]
  },
  {
   "cell_type": "code",
   "execution_count": 90,
   "id": "fe9af3fc-74a2-4630-8018-62e641c06f26",
   "metadata": {},
   "outputs": [
    {
     "data": {
      "text/plain": [
       "0.0001"
      ]
     },
     "execution_count": 90,
     "metadata": {},
     "output_type": "execute_result"
    }
   ],
   "source": [
    "1/10000"
   ]
  },
  {
   "cell_type": "code",
   "execution_count": 91,
   "id": "371c09b3-720c-4146-a1f4-1485747ddbeb",
   "metadata": {},
   "outputs": [
    {
     "data": {
      "text/plain": [
       "0.001"
      ]
     },
     "execution_count": 91,
     "metadata": {},
     "output_type": "execute_result"
    }
   ],
   "source": [
    "10/10000"
   ]
  },
  {
   "cell_type": "code",
   "execution_count": 92,
   "id": "ff3f7bf1-f550-48a4-824f-1584b5327ac2",
   "metadata": {},
   "outputs": [
    {
     "data": {
      "text/plain": [
       "0.9999"
      ]
     },
     "execution_count": 92,
     "metadata": {},
     "output_type": "execute_result"
    }
   ],
   "source": [
    "9999/10000"
   ]
  },
  {
   "cell_type": "code",
   "execution_count": 93,
   "id": "593b9f3a-59ac-48ce-8ac0-216c6e83831c",
   "metadata": {},
   "outputs": [
    {
     "data": {
      "text/plain": [
       "1.0"
      ]
     },
     "execution_count": 93,
     "metadata": {},
     "output_type": "execute_result"
    }
   ],
   "source": [
    "10000/10000"
   ]
  },
  {
   "cell_type": "code",
   "execution_count": 98,
   "id": "e3faa536-9bcf-4dbd-acee-0bffdba20470",
   "metadata": {},
   "outputs": [],
   "source": [
    "var =np.linspace(1,100, 1000000)"
   ]
  },
  {
   "cell_type": "code",
   "execution_count": 100,
   "id": "55529724-8c68-4b24-bdec-9b2c7334388a",
   "metadata": {},
   "outputs": [
    {
     "data": {
      "text/plain": [
       "1000000"
      ]
     },
     "execution_count": 100,
     "metadata": {},
     "output_type": "execute_result"
    }
   ],
   "source": [
    "len(var)"
   ]
  },
  {
   "cell_type": "code",
   "execution_count": 101,
   "id": "e1ae486f-79b4-4c33-97cd-da66393c7597",
   "metadata": {},
   "outputs": [
    {
     "data": {
      "text/plain": [
       "[1.0,\n",
       " 1.000099000099,\n",
       " 1.0001980001980002,\n",
       " 1.0002970002970002,\n",
       " 1.0003960003960004,\n",
       " 1.0004950004950004,\n",
       " 1.0005940005940006,\n",
       " 1.0006930006930006,\n",
       " 1.0007920007920008,\n",
       " 1.0008910008910008,\n",
       " 1.000990000990001,\n",
       " 1.001089001089001,\n",
       " 1.0011880011880012,\n",
       " 1.0012870012870012,\n",
       " 1.0013860013860014,\n",
       " 1.0014850014850014,\n",
       " 1.0015840015840016,\n",
       " 1.0016830016830016,\n",
       " 1.0017820017820018,\n",
       " 1.0018810018810018,\n",
       " 1.001980001980002,\n",
       " 1.002079002079002,\n",
       " 1.0021780021780022,\n",
       " 1.0022770022770022,\n",
       " 1.0023760023760024,\n",
       " 1.0024750024750024,\n",
       " 1.0025740025740026,\n",
       " 1.0026730026730026,\n",
       " 1.0027720027720028,\n",
       " 1.0028710028710028,\n",
       " 1.002970002970003,\n",
       " 1.003069003069003,\n",
       " 1.0031680031680033,\n",
       " 1.0032670032670032,\n",
       " 1.0033660033660035,\n",
       " 1.0034650034650034,\n",
       " 1.0035640035640037,\n",
       " 1.0036630036630036,\n",
       " 1.0037620037620039,\n",
       " 1.0038610038610039,\n",
       " 1.003960003960004,\n",
       " 1.004059004059004,\n",
       " 1.004158004158004,\n",
       " 1.0042570042570043,\n",
       " 1.0043560043560043,\n",
       " 1.0044550044550045,\n",
       " 1.0045540045540045,\n",
       " 1.0046530046530047,\n",
       " 1.0047520047520047,\n",
       " 1.0048510048510049,\n",
       " 1.0049500049500049,\n",
       " 1.005049005049005,\n",
       " 1.005148005148005,\n",
       " 1.0052470052470053,\n",
       " 1.0053460053460053,\n",
       " 1.0054450054450055,\n",
       " 1.0055440055440055,\n",
       " 1.0056430056430057,\n",
       " 1.0057420057420057,\n",
       " 1.0058410058410059,\n",
       " 1.0059400059400059,\n",
       " 1.006039006039006,\n",
       " 1.006138006138006,\n",
       " 1.0062370062370063,\n",
       " 1.0063360063360063,\n",
       " 1.0064350064350065,\n",
       " 1.0065340065340065,\n",
       " 1.0066330066330067,\n",
       " 1.0067320067320067,\n",
       " 1.006831006831007,\n",
       " 1.006930006930007,\n",
       " 1.007029007029007,\n",
       " 1.007128007128007,\n",
       " 1.0072270072270073,\n",
       " 1.0073260073260073,\n",
       " 1.0074250074250075,\n",
       " 1.0075240075240075,\n",
       " 1.0076230076230077,\n",
       " 1.0077220077220077,\n",
       " 1.007821007821008,\n",
       " 1.007920007920008,\n",
       " 1.0080190080190081,\n",
       " 1.0081180081180081,\n",
       " 1.0082170082170083,\n",
       " 1.0083160083160083,\n",
       " 1.0084150084150083,\n",
       " 1.0085140085140085,\n",
       " 1.0086130086130085,\n",
       " 1.0087120087120087,\n",
       " 1.0088110088110087,\n",
       " 1.008910008910009,\n",
       " 1.009009009009009,\n",
       " 1.0091080091080091,\n",
       " 1.0092070092070091,\n",
       " 1.0093060093060093,\n",
       " 1.0094050094050093,\n",
       " 1.0095040095040095,\n",
       " 1.0096030096030095,\n",
       " 1.0097020097020097,\n",
       " 1.0098010098010097,\n",
       " 1.00990000990001,\n",
       " 1.00999900999901,\n",
       " 1.0100980100980101,\n",
       " 1.0101970101970101,\n",
       " 1.0102960102960103,\n",
       " 1.0103950103950103,\n",
       " 1.0104940104940106,\n",
       " 1.0105930105930105,\n",
       " 1.0106920106920108,\n",
       " 1.0107910107910107,\n",
       " 1.010890010890011,\n",
       " 1.010989010989011,\n",
       " 1.0110880110880112,\n",
       " 1.0111870111870112,\n",
       " 1.0112860112860114,\n",
       " 1.0113850113850114,\n",
       " 1.0114840114840116,\n",
       " 1.0115830115830116,\n",
       " 1.0116820116820118,\n",
       " 1.0117810117810118,\n",
       " 1.011880011880012,\n",
       " 1.011979011979012,\n",
       " 1.0120780120780122,\n",
       " 1.0121770121770122,\n",
       " 1.0122760122760124,\n",
       " 1.0123750123750124,\n",
       " 1.0124740124740126,\n",
       " 1.0125730125730126,\n",
       " 1.0126720126720126,\n",
       " 1.0127710127710128,\n",
       " 1.0128700128700128,\n",
       " 1.012969012969013,\n",
       " 1.013068013068013,\n",
       " 1.0131670131670132,\n",
       " 1.0132660132660132,\n",
       " 1.0133650133650134,\n",
       " 1.0134640134640134,\n",
       " 1.0135630135630136,\n",
       " 1.0136620136620136,\n",
       " 1.0137610137610138,\n",
       " 1.0138600138600138,\n",
       " 1.013959013959014,\n",
       " 1.014058014058014,\n",
       " 1.0141570141570142,\n",
       " 1.0142560142560142,\n",
       " 1.0143550143550144,\n",
       " 1.0144540144540144,\n",
       " 1.0145530145530146,\n",
       " 1.0146520146520146,\n",
       " 1.0147510147510148,\n",
       " 1.0148500148500148,\n",
       " 1.014949014949015,\n",
       " 1.015048015048015,\n",
       " 1.0151470151470152,\n",
       " 1.0152460152460152,\n",
       " 1.0153450153450154,\n",
       " 1.0154440154440154,\n",
       " 1.0155430155430156,\n",
       " 1.0156420156420156,\n",
       " 1.0157410157410158,\n",
       " 1.0158400158400158,\n",
       " 1.015939015939016,\n",
       " 1.016038016038016,\n",
       " 1.0161370161370162,\n",
       " 1.0162360162360162,\n",
       " 1.0163350163350164,\n",
       " 1.0164340164340164,\n",
       " 1.0165330165330166,\n",
       " 1.0166320166320166,\n",
       " 1.0167310167310166,\n",
       " 1.0168300168300168,\n",
       " 1.0169290169290168,\n",
       " 1.017028017028017,\n",
       " 1.017127017127017,\n",
       " 1.0172260172260172,\n",
       " 1.0173250173250172,\n",
       " 1.0174240174240174,\n",
       " 1.0175230175230174,\n",
       " 1.0176220176220176,\n",
       " 1.0177210177210176,\n",
       " 1.0178200178200179,\n",
       " 1.0179190179190178,\n",
       " 1.018018018018018,\n",
       " 1.018117018117018,\n",
       " 1.0182160182160183,\n",
       " 1.0183150183150182,\n",
       " 1.0184140184140185,\n",
       " 1.0185130185130185,\n",
       " 1.0186120186120187,\n",
       " 1.0187110187110187,\n",
       " 1.0188100188100189,\n",
       " 1.0189090189090189,\n",
       " 1.019008019008019,\n",
       " 1.019107019107019,\n",
       " 1.0192060192060193,\n",
       " 1.0193050193050193,\n",
       " 1.0194040194040195,\n",
       " 1.0195030195030195,\n",
       " 1.0196020196020197,\n",
       " 1.0197010197010197,\n",
       " 1.0198000198000199,\n",
       " 1.0198990198990199,\n",
       " 1.01999801999802,\n",
       " 1.02009702009702,\n",
       " 1.0201960201960203,\n",
       " 1.0202950202950203,\n",
       " 1.0203940203940205,\n",
       " 1.0204930204930205,\n",
       " 1.0205920205920207,\n",
       " 1.0206910206910207,\n",
       " 1.0207900207900207,\n",
       " 1.020889020889021,\n",
       " 1.0209880209880209,\n",
       " 1.021087021087021,\n",
       " 1.021186021186021,\n",
       " 1.0212850212850213,\n",
       " 1.0213840213840213,\n",
       " 1.0214830214830215,\n",
       " 1.0215820215820215,\n",
       " 1.0216810216810217,\n",
       " 1.0217800217800217,\n",
       " 1.021879021879022,\n",
       " 1.021978021978022,\n",
       " 1.0220770220770221,\n",
       " 1.022176022176022,\n",
       " 1.0222750222750223,\n",
       " 1.0223740223740223,\n",
       " 1.0224730224730225,\n",
       " 1.0225720225720225,\n",
       " 1.0226710226710227,\n",
       " 1.0227700227700227,\n",
       " 1.022869022869023,\n",
       " 1.022968022968023,\n",
       " 1.0230670230670231,\n",
       " 1.0231660231660231,\n",
       " 1.0232650232650233,\n",
       " 1.0233640233640233,\n",
       " 1.0234630234630235,\n",
       " 1.0235620235620235,\n",
       " 1.0236610236610237,\n",
       " 1.0237600237600237,\n",
       " 1.023859023859024,\n",
       " 1.023958023958024,\n",
       " 1.0240570240570241,\n",
       " 1.0241560241560241,\n",
       " 1.0242550242550243,\n",
       " 1.0243540243540243,\n",
       " 1.0244530244530246,\n",
       " 1.0245520245520245,\n",
       " 1.0246510246510248,\n",
       " 1.0247500247500247,\n",
       " 1.024849024849025,\n",
       " 1.024948024948025,\n",
       " 1.025047025047025,\n",
       " 1.0251460251460252,\n",
       " 1.0252450252450251,\n",
       " 1.0253440253440254,\n",
       " 1.0254430254430253,\n",
       " 1.0255420255420256,\n",
       " 1.0256410256410255,\n",
       " 1.0257400257400258,\n",
       " 1.0258390258390258,\n",
       " 1.025938025938026,\n",
       " 1.026037026037026,\n",
       " 1.0261360261360262,\n",
       " 1.0262350262350262,\n",
       " 1.0263340263340264,\n",
       " 1.0264330264330264,\n",
       " 1.0265320265320266,\n",
       " 1.0266310266310266,\n",
       " 1.0267300267300268,\n",
       " 1.0268290268290268,\n",
       " 1.026928026928027,\n",
       " 1.027027027027027,\n",
       " 1.0271260271260272,\n",
       " 1.0272250272250272,\n",
       " 1.0273240273240274,\n",
       " 1.0274230274230274,\n",
       " 1.0275220275220276,\n",
       " 1.0276210276210276,\n",
       " 1.0277200277200278,\n",
       " 1.0278190278190278,\n",
       " 1.027918027918028,\n",
       " 1.028017028017028,\n",
       " 1.0281160281160282,\n",
       " 1.0282150282150282,\n",
       " 1.0283140283140284,\n",
       " 1.0284130284130284,\n",
       " 1.0285120285120286,\n",
       " 1.0286110286110286,\n",
       " 1.0287100287100288,\n",
       " 1.0288090288090288,\n",
       " 1.028908028908029,\n",
       " 1.029007029007029,\n",
       " 1.0291060291060292,\n",
       " 1.0292050292050292,\n",
       " 1.0293040293040292,\n",
       " 1.0294030294030294,\n",
       " 1.0295020295020294,\n",
       " 1.0296010296010296,\n",
       " 1.0297000297000296,\n",
       " 1.0297990297990298,\n",
       " 1.0298980298980298,\n",
       " 1.02999702999703,\n",
       " 1.03009603009603,\n",
       " 1.0301950301950302,\n",
       " 1.0302940302940302,\n",
       " 1.0303930303930304,\n",
       " 1.0304920304920304,\n",
       " 1.0305910305910306,\n",
       " 1.0306900306900306,\n",
       " 1.0307890307890308,\n",
       " 1.0308880308880308,\n",
       " 1.030987030987031,\n",
       " 1.031086031086031,\n",
       " 1.0311850311850312,\n",
       " 1.0312840312840312,\n",
       " 1.0313830313830314,\n",
       " 1.0314820314820314,\n",
       " 1.0315810315810316,\n",
       " 1.0316800316800316,\n",
       " 1.0317790317790319,\n",
       " 1.0318780318780318,\n",
       " 1.031977031977032,\n",
       " 1.032076032076032,\n",
       " 1.0321750321750323,\n",
       " 1.0322740322740322,\n",
       " 1.0323730323730325,\n",
       " 1.0324720324720325,\n",
       " 1.0325710325710327,\n",
       " 1.0326700326700327,\n",
       " 1.0327690327690329,\n",
       " 1.0328680328680329,\n",
       " 1.032967032967033,\n",
       " 1.033066033066033,\n",
       " 1.0331650331650333,\n",
       " 1.0332640332640333,\n",
       " 1.0333630333630333,\n",
       " 1.0334620334620335,\n",
       " 1.0335610335610335,\n",
       " 1.0336600336600337,\n",
       " 1.0337590337590337,\n",
       " 1.0338580338580339,\n",
       " 1.0339570339570339,\n",
       " 1.034056034056034,\n",
       " 1.034155034155034,\n",
       " 1.0342540342540343,\n",
       " 1.0343530343530343,\n",
       " 1.0344520344520345,\n",
       " 1.0345510345510345,\n",
       " 1.0346500346500347,\n",
       " 1.0347490347490347,\n",
       " 1.034848034848035,\n",
       " 1.0349470349470349,\n",
       " 1.035046035046035,\n",
       " 1.035145035145035,\n",
       " 1.0352440352440353,\n",
       " 1.0353430353430353,\n",
       " 1.0354420354420355,\n",
       " 1.0355410355410355,\n",
       " 1.0356400356400357,\n",
       " 1.0357390357390357,\n",
       " 1.035838035838036,\n",
       " 1.035937035937036,\n",
       " 1.0360360360360361,\n",
       " 1.036135036135036,\n",
       " 1.0362340362340363,\n",
       " 1.0363330363330363,\n",
       " 1.0364320364320365,\n",
       " 1.0365310365310365,\n",
       " 1.0366300366300367,\n",
       " 1.0367290367290367,\n",
       " 1.036828036828037,\n",
       " 1.036927036927037,\n",
       " 1.0370260370260371,\n",
       " 1.0371250371250371,\n",
       " 1.0372240372240373,\n",
       " 1.0373230373230373,\n",
       " 1.0374220374220373,\n",
       " 1.0375210375210375,\n",
       " 1.0376200376200375,\n",
       " 1.0377190377190377,\n",
       " 1.0378180378180377,\n",
       " 1.037917037917038,\n",
       " 1.038016038016038,\n",
       " 1.0381150381150381,\n",
       " 1.0382140382140381,\n",
       " 1.0383130383130383,\n",
       " 1.0384120384120383,\n",
       " 1.0385110385110385,\n",
       " 1.0386100386100385,\n",
       " 1.0387090387090387,\n",
       " 1.0388080388080387,\n",
       " 1.038907038907039,\n",
       " 1.039006039006039,\n",
       " 1.0391050391050392,\n",
       " 1.0392040392040391,\n",
       " 1.0393030393030394,\n",
       " 1.0394020394020393,\n",
       " 1.0395010395010396,\n",
       " 1.0396000396000395,\n",
       " 1.0396990396990398,\n",
       " 1.0397980397980398,\n",
       " 1.03989703989704,\n",
       " 1.03999603999604,\n",
       " 1.0400950400950402,\n",
       " 1.0401940401940402,\n",
       " 1.0402930402930404,\n",
       " 1.0403920403920404,\n",
       " 1.0404910404910406,\n",
       " 1.0405900405900406,\n",
       " 1.0406890406890408,\n",
       " 1.0407880407880408,\n",
       " 1.040887040887041,\n",
       " 1.040986040986041,\n",
       " 1.0410850410850412,\n",
       " 1.0411840411840412,\n",
       " 1.0412830412830414,\n",
       " 1.0413820413820414,\n",
       " 1.0414810414810414,\n",
       " 1.0415800415800416,\n",
       " 1.0416790416790418,\n",
       " 1.0417780417780418,\n",
       " 1.0418770418770418,\n",
       " 1.041976041976042,\n",
       " 1.042075042075042,\n",
       " 1.0421740421740422,\n",
       " 1.0422730422730422,\n",
       " 1.0423720423720424,\n",
       " 1.0424710424710424,\n",
       " 1.0425700425700426,\n",
       " 1.0426690426690426,\n",
       " 1.0427680427680428,\n",
       " 1.0428670428670428,\n",
       " 1.042966042966043,\n",
       " 1.043065043065043,\n",
       " 1.0431640431640432,\n",
       " 1.0432630432630432,\n",
       " 1.0433620433620434,\n",
       " 1.0434610434610434,\n",
       " 1.0435600435600436,\n",
       " 1.0436590436590436,\n",
       " 1.0437580437580438,\n",
       " 1.0438570438570438,\n",
       " 1.043956043956044,\n",
       " 1.044055044055044,\n",
       " 1.0441540441540442,\n",
       " 1.0442530442530442,\n",
       " 1.0443520443520444,\n",
       " 1.0444510444510444,\n",
       " 1.0445500445500446,\n",
       " 1.0446490446490446,\n",
       " 1.0447480447480448,\n",
       " 1.0448470448470448,\n",
       " 1.044946044946045,\n",
       " 1.045045045045045,\n",
       " 1.0451440451440452,\n",
       " 1.0452430452430452,\n",
       " 1.0453420453420454,\n",
       " 1.0454410454410454,\n",
       " 1.0455400455400456,\n",
       " 1.0456390456390456,\n",
       " 1.0457380457380459,\n",
       " 1.0458370458370458,\n",
       " 1.0459360459360458,\n",
       " 1.046035046035046,\n",
       " 1.046134046134046,\n",
       " 1.0462330462330462,\n",
       " 1.0463320463320462,\n",
       " 1.0464310464310465,\n",
       " 1.0465300465300464,\n",
       " 1.0466290466290467,\n",
       " 1.0467280467280466,\n",
       " 1.0468270468270469,\n",
       " 1.0469260469260468,\n",
       " 1.047025047025047,\n",
       " 1.047124047124047,\n",
       " 1.0472230472230473,\n",
       " 1.0473220473220473,\n",
       " 1.0474210474210475,\n",
       " 1.0475200475200475,\n",
       " 1.0476190476190477,\n",
       " 1.0477180477180477,\n",
       " 1.0478170478170479,\n",
       " 1.0479160479160479,\n",
       " 1.048015048015048,\n",
       " 1.048114048114048,\n",
       " 1.0482130482130483,\n",
       " 1.0483120483120483,\n",
       " 1.0484110484110485,\n",
       " 1.0485100485100485,\n",
       " 1.0486090486090487,\n",
       " 1.0487080487080487,\n",
       " 1.048807048807049,\n",
       " 1.0489060489060489,\n",
       " 1.049005049005049,\n",
       " 1.049104049104049,\n",
       " 1.0492030492030493,\n",
       " 1.0493020493020493,\n",
       " 1.0494010494010495,\n",
       " 1.0495000495000495,\n",
       " 1.0495990495990497,\n",
       " 1.0496980496980497,\n",
       " 1.04979704979705,\n",
       " 1.04989604989605,\n",
       " 1.04999504999505,\n",
       " 1.05009405009405,\n",
       " 1.05019305019305,\n",
       " 1.0502920502920503,\n",
       " 1.0503910503910503,\n",
       " 1.0504900504900505,\n",
       " 1.0505890505890505,\n",
       " 1.0506880506880507,\n",
       " 1.0507870507870507,\n",
       " 1.050886050886051,\n",
       " 1.050985050985051,\n",
       " 1.0510840510840511,\n",
       " 1.051183051183051,\n",
       " 1.0512820512820513,\n",
       " 1.0513810513810513,\n",
       " 1.0514800514800515,\n",
       " 1.0515790515790515,\n",
       " 1.0516780516780517,\n",
       " 1.0517770517770517,\n",
       " 1.051876051876052,\n",
       " 1.051975051975052,\n",
       " 1.0520740520740521,\n",
       " 1.0521730521730521,\n",
       " 1.0522720522720523,\n",
       " 1.0523710523710523,\n",
       " 1.0524700524700525,\n",
       " 1.0525690525690525,\n",
       " 1.0526680526680527,\n",
       " 1.0527670527670527,\n",
       " 1.052866052866053,\n",
       " 1.052965052965053,\n",
       " 1.0530640530640532,\n",
       " 1.0531630531630531,\n",
       " 1.0532620532620534,\n",
       " 1.0533610533610533,\n",
       " 1.0534600534600536,\n",
       " 1.0535590535590535,\n",
       " 1.0536580536580538,\n",
       " 1.0537570537570538,\n",
       " 1.053856053856054,\n",
       " 1.053955053955054,\n",
       " 1.054054054054054,\n",
       " 1.0541530541530542,\n",
       " 1.0542520542520541,\n",
       " 1.0543510543510544,\n",
       " 1.0544500544500544,\n",
       " 1.0545490545490546,\n",
       " 1.0546480546480546,\n",
       " 1.0547470547470548,\n",
       " 1.0548460548460548,\n",
       " 1.054945054945055,\n",
       " 1.055044055044055,\n",
       " 1.0551430551430552,\n",
       " 1.0552420552420552,\n",
       " 1.0553410553410554,\n",
       " 1.0554400554400554,\n",
       " 1.0555390555390556,\n",
       " 1.0556380556380556,\n",
       " 1.0557370557370558,\n",
       " 1.0558360558360558,\n",
       " 1.055935055935056,\n",
       " 1.056034056034056,\n",
       " 1.0561330561330562,\n",
       " 1.0562320562320562,\n",
       " 1.0563310563310564,\n",
       " 1.0564300564300564,\n",
       " 1.0565290565290566,\n",
       " 1.0566280566280566,\n",
       " 1.0567270567270568,\n",
       " 1.0568260568260568,\n",
       " 1.056925056925057,\n",
       " 1.057024057024057,\n",
       " 1.0571230571230572,\n",
       " 1.0572220572220572,\n",
       " 1.0573210573210574,\n",
       " 1.0574200574200574,\n",
       " 1.0575190575190576,\n",
       " 1.0576180576180576,\n",
       " 1.0577170577170578,\n",
       " 1.0578160578160578,\n",
       " 1.057915057915058,\n",
       " 1.058014058014058,\n",
       " 1.058113058113058,\n",
       " 1.0582120582120582,\n",
       " 1.0583110583110584,\n",
       " 1.0584100584100584,\n",
       " 1.0585090585090584,\n",
       " 1.0586080586080586,\n",
       " 1.0587070587070586,\n",
       " 1.0588060588060588,\n",
       " 1.0589050589050588,\n",
       " 1.059004059004059,\n",
       " 1.059103059103059,\n",
       " 1.0592020592020592,\n",
       " 1.0593010593010592,\n",
       " 1.0594000594000594,\n",
       " 1.0594990594990594,\n",
       " 1.0595980595980596,\n",
       " 1.0596970596970596,\n",
       " 1.0597960597960598,\n",
       " 1.0598950598950598,\n",
       " 1.05999405999406,\n",
       " 1.06009306009306,\n",
       " 1.0601920601920602,\n",
       " 1.0602910602910602,\n",
       " 1.0603900603900605,\n",
       " 1.0604890604890604,\n",
       " 1.0605880605880607,\n",
       " 1.0606870606870606,\n",
       " 1.0607860607860609,\n",
       " 1.0608850608850608,\n",
       " 1.060984060984061,\n",
       " 1.061083061083061,\n",
       " 1.0611820611820613,\n",
       " 1.0612810612810613,\n",
       " 1.0613800613800615,\n",
       " 1.0614790614790615,\n",
       " 1.0615780615780617,\n",
       " 1.0616770616770617,\n",
       " 1.0617760617760619,\n",
       " 1.0618750618750619,\n",
       " 1.061974061974062,\n",
       " 1.062073062073062,\n",
       " 1.0621720621720623,\n",
       " 1.0622710622710623,\n",
       " 1.0623700623700625,\n",
       " 1.0624690624690625,\n",
       " 1.0625680625680625,\n",
       " 1.0626670626670627,\n",
       " 1.0627660627660627,\n",
       " 1.0628650628650629,\n",
       " 1.0629640629640629,\n",
       " 1.063063063063063,\n",
       " 1.063162063162063,\n",
       " 1.0632610632610633,\n",
       " 1.0633600633600633,\n",
       " 1.0634590634590635,\n",
       " 1.0635580635580635,\n",
       " 1.0636570636570637,\n",
       " 1.0637560637560637,\n",
       " 1.063855063855064,\n",
       " 1.0639540639540639,\n",
       " 1.064053064053064,\n",
       " 1.064152064152064,\n",
       " 1.0642510642510643,\n",
       " 1.0643500643500643,\n",
       " 1.0644490644490645,\n",
       " 1.0645480645480645,\n",
       " 1.0646470646470647,\n",
       " 1.0647460647460647,\n",
       " 1.064845064845065,\n",
       " 1.064944064944065,\n",
       " 1.0650430650430651,\n",
       " 1.065142065142065,\n",
       " 1.0652410652410653,\n",
       " 1.0653400653400653,\n",
       " 1.0654390654390655,\n",
       " 1.0655380655380655,\n",
       " 1.0656370656370657,\n",
       " 1.0657360657360657,\n",
       " 1.065835065835066,\n",
       " 1.065934065934066,\n",
       " 1.0660330660330661,\n",
       " 1.0661320661320661,\n",
       " 1.0662310662310663,\n",
       " 1.0663300663300663,\n",
       " 1.0664290664290665,\n",
       " 1.0665280665280665,\n",
       " 1.0666270666270665,\n",
       " 1.0667260667260667,\n",
       " 1.0668250668250667,\n",
       " 1.066924066924067,\n",
       " 1.067023067023067,\n",
       " 1.0671220671220671,\n",
       " 1.0672210672210671,\n",
       " 1.0673200673200673,\n",
       " 1.0674190674190673,\n",
       " 1.0675180675180675,\n",
       " 1.0676170676170675,\n",
       " 1.0677160677160678,\n",
       " 1.0678150678150677,\n",
       " 1.067914067914068,\n",
       " 1.068013068013068,\n",
       " 1.0681120681120682,\n",
       " 1.0682110682110681,\n",
       " 1.0683100683100684,\n",
       " 1.0684090684090684,\n",
       " 1.0685080685080686,\n",
       " 1.0686070686070686,\n",
       " 1.0687060687060688,\n",
       " 1.0688050688050688,\n",
       " 1.068904068904069,\n",
       " 1.069003069003069,\n",
       " 1.0691020691020692,\n",
       " 1.0692010692010692,\n",
       " 1.0693000693000694,\n",
       " 1.0693990693990694,\n",
       " 1.0694980694980696,\n",
       " 1.0695970695970696,\n",
       " 1.0696960696960698,\n",
       " 1.0697950697950698,\n",
       " 1.06989406989407,\n",
       " 1.06999306999307,\n",
       " 1.0700920700920702,\n",
       " 1.0701910701910702,\n",
       " 1.0702900702900704,\n",
       " 1.0703890703890704,\n",
       " 1.0704880704880706,\n",
       " 1.0705870705870706,\n",
       " 1.0706860706860706,\n",
       " 1.0707850707850708,\n",
       " 1.070884070884071,\n",
       " 1.070983070983071,\n",
       " 1.071082071082071,\n",
       " 1.0711810711810712,\n",
       " 1.0712800712800712,\n",
       " 1.0713790713790714,\n",
       " 1.0714780714780714,\n",
       " 1.0715770715770716,\n",
       " 1.0716760716760716,\n",
       " 1.0717750717750718,\n",
       " 1.0718740718740718,\n",
       " 1.071973071973072,\n",
       " 1.072072072072072,\n",
       " 1.0721710721710722,\n",
       " 1.0722700722700722,\n",
       " 1.0723690723690724,\n",
       " 1.0724680724680724,\n",
       " 1.0725670725670726,\n",
       " 1.0726660726660726,\n",
       " 1.0727650727650728,\n",
       " 1.0728640728640728,\n",
       " 1.072963072963073,\n",
       " 1.073062073062073,\n",
       " 1.0731610731610732,\n",
       " 1.0732600732600732,\n",
       " 1.0733590733590734,\n",
       " 1.0734580734580734,\n",
       " 1.0735570735570736,\n",
       " 1.0736560736560736,\n",
       " 1.0737550737550738,\n",
       " 1.0738540738540738,\n",
       " 1.073953073953074,\n",
       " 1.074052074052074,\n",
       " 1.0741510741510742,\n",
       " 1.0742500742500742,\n",
       " 1.0743490743490745,\n",
       " 1.0744480744480744,\n",
       " 1.0745470745470747,\n",
       " 1.0746460746460746,\n",
       " 1.0747450747450746,\n",
       " 1.0748440748440748,\n",
       " 1.074943074943075,\n",
       " 1.075042075042075,\n",
       " 1.075141075141075,\n",
       " 1.0752400752400753,\n",
       " 1.0753390753390752,\n",
       " 1.0754380754380755,\n",
       " 1.0755370755370754,\n",
       " 1.0756360756360757,\n",
       " 1.0757350757350757,\n",
       " 1.0758340758340759,\n",
       " 1.0759330759330759,\n",
       " 1.076032076032076,\n",
       " 1.076131076131076,\n",
       " 1.0762300762300763,\n",
       " 1.0763290763290763,\n",
       " 1.0764280764280765,\n",
       " 1.0765270765270765,\n",
       " 1.0766260766260767,\n",
       " 1.0767250767250767,\n",
       " 1.0768240768240769,\n",
       " 1.0769230769230769,\n",
       " 1.077022077022077,\n",
       " 1.077121077121077,\n",
       " 1.0772200772200773,\n",
       " 1.0773190773190773,\n",
       " 1.0774180774180775,\n",
       " 1.0775170775170775,\n",
       " 1.0776160776160777,\n",
       " 1.0777150777150777,\n",
       " 1.077814077814078,\n",
       " 1.0779130779130779,\n",
       " 1.078012078012078,\n",
       " 1.078111078111078,\n",
       " 1.0782100782100783,\n",
       " 1.0783090783090783,\n",
       " 1.0784080784080785,\n",
       " 1.0785070785070785,\n",
       " 1.0786060786060787,\n",
       " 1.0787050787050787,\n",
       " 1.0788040788040787,\n",
       " 1.078903078903079,\n",
       " 1.0790020790020791,\n",
       " 1.079101079101079,\n",
       " 1.079200079200079,\n",
       " 1.0792990792990793,\n",
       " 1.0793980793980793,\n",
       " 1.0794970794970795,\n",
       " 1.0795960795960795,\n",
       " 1.0796950796950797,\n",
       " 1.0797940797940797,\n",
       " 1.07989307989308,\n",
       " 1.07999207999208,\n",
       " 1.0800910800910801,\n",
       " 1.0801900801900801,\n",
       " 1.0802890802890803,\n",
       " 1.0803880803880803,\n",
       " 1.0804870804870805,\n",
       " 1.0805860805860805,\n",
       " 1.0806850806850807,\n",
       " 1.0807840807840807,\n",
       " 1.080883080883081,\n",
       " 1.080982080982081,\n",
       " 1.0810810810810811,\n",
       " 1.0811800811800811,\n",
       " 1.0812790812790813,\n",
       " 1.0813780813780813,\n",
       " 1.0814770814770815,\n",
       " 1.0815760815760815,\n",
       " 1.0816750816750818,\n",
       " 1.0817740817740817,\n",
       " 1.081873081873082,\n",
       " 1.081972081972082,\n",
       " 1.0820710820710822,\n",
       " 1.0821700821700821,\n",
       " 1.0822690822690824,\n",
       " 1.0823680823680824,\n",
       " 1.0824670824670826,\n",
       " 1.0825660825660826,\n",
       " 1.0826650826650828,\n",
       " 1.0827640827640828,\n",
       " 1.082863082863083,\n",
       " 1.082962082962083,\n",
       " 1.0830610830610832,\n",
       " 1.0831600831600832,\n",
       " 1.0832590832590832,\n",
       " 1.0833580833580834,\n",
       " 1.0834570834570834,\n",
       " 1.0835560835560836,\n",
       " 1.0836550836550836,\n",
       " 1.0837540837540838,\n",
       " 1.0838530838530838,\n",
       " 1.083952083952084,\n",
       " 1.084051084051084,\n",
       " 1.0841500841500842,\n",
       " 1.0842490842490842,\n",
       " 1.0843480843480844,\n",
       " 1.0844470844470844,\n",
       " 1.0845460845460846,\n",
       " 1.0846450846450846,\n",
       " 1.0847440847440848,\n",
       " 1.0848430848430848,\n",
       " 1.084942084942085,\n",
       " 1.085041085041085,\n",
       " 1.0851400851400852,\n",
       " 1.0852390852390852,\n",
       " 1.0853380853380854,\n",
       " 1.0854370854370854,\n",
       " 1.0855360855360856,\n",
       " 1.0856350856350856,\n",
       " 1.0857340857340858,\n",
       " 1.0858330858330858,\n",
       " 1.085932085932086,\n",
       " 1.086031086031086,\n",
       " 1.0861300861300862,\n",
       " 1.0862290862290862,\n",
       " 1.0863280863280864,\n",
       " 1.0864270864270864,\n",
       " 1.0865260865260866,\n",
       " 1.0866250866250866,\n",
       " 1.0867240867240868,\n",
       " 1.0868230868230868,\n",
       " 1.086922086922087,\n",
       " 1.087021087021087,\n",
       " 1.0871200871200872,\n",
       " 1.0872190872190872,\n",
       " 1.0873180873180872,\n",
       " 1.0874170874170874,\n",
       " 1.0875160875160876,\n",
       " 1.0876150876150876,\n",
       " 1.0877140877140876,\n",
       " 1.0878130878130878,\n",
       " 1.0879120879120878,\n",
       " 1.088011088011088,\n",
       " 1.088110088110088,\n",
       " 1.0882090882090882,\n",
       " 1.0883080883080882,\n",
       " 1.0884070884070884,\n",
       " 1.0885060885060884,\n",
       " 1.0886050886050886,\n",
       " 1.0887040887040886,\n",
       " 1.0888030888030888,\n",
       " 1.0889020889020888,\n",
       " 1.089001089001089,\n",
       " 1.089100089100089,\n",
       " 1.0891990891990893,\n",
       " 1.0892980892980892,\n",
       " 1.0893970893970895,\n",
       " 1.0894960894960894,\n",
       " 1.0895950895950897,\n",
       " 1.0896940896940897,\n",
       " 1.0897930897930899,\n",
       " 1.0898920898920899,\n",
       " 1.08999108999109,\n",
       " 1.09009009009009,\n",
       " 1.0901890901890903,\n",
       " 1.0902880902880903,\n",
       " 1.0903870903870905,\n",
       " 1.0904860904860905,\n",
       " 1.0905850905850907,\n",
       " 1.0906840906840907,\n",
       " 1.0907830907830909,\n",
       " 1.0908820908820909,\n",
       " 1.090981090981091,\n",
       " 1.091080091080091,\n",
       " 1.0911790911790913,\n",
       " 1.0912780912780913,\n",
       " 1.0913770913770913,\n",
       " 1.0914760914760915,\n",
       " 1.0915750915750917,\n",
       " 1.0916740916740917,\n",
       " 1.0917730917730917,\n",
       " 1.0918720918720919,\n",
       " 1.0919710919710919,\n",
       " 1.092070092070092,\n",
       " 1.092169092169092,\n",
       " 1.0922680922680923,\n",
       " 1.0923670923670923,\n",
       " 1.0924660924660925,\n",
       " 1.0925650925650925,\n",
       " 1.0926640926640927,\n",
       " 1.0927630927630927,\n",
       " 1.092862092862093,\n",
       " 1.092961092961093,\n",
       " 1.093060093060093,\n",
       " 1.093159093159093,\n",
       " 1.0932580932580933,\n",
       " 1.0933570933570933,\n",
       " 1.0934560934560935,\n",
       " 1.0935550935550935,\n",
       " 1.0936540936540937,\n",
       " 1.0937530937530937,\n",
       " 1.093852093852094,\n",
       " 1.093951093951094,\n",
       " 1.0940500940500941,\n",
       " 1.0941490941490941,\n",
       " 1.0942480942480943,\n",
       " 1.0943470943470943,\n",
       " 1.0944460944460945,\n",
       " 1.0945450945450945,\n",
       " 1.0946440946440947,\n",
       " 1.0947430947430947,\n",
       " 1.094842094842095,\n",
       " 1.094941094941095,\n",
       " 1.0950400950400951,\n",
       " 1.0951390951390951,\n",
       " 1.0952380952380953,\n",
       " 1.0953370953370953,\n",
       " 1.0954360954360953,\n",
       " 1.0955350955350955,\n",
       " 1.0956340956340958,\n",
       " 1.0957330957330957,\n",
       " 1.0958320958320957,\n",
       " 1.095931095931096,\n",
       " 1.096030096030096,\n",
       " 1.0961290961290961,\n",
       " 1.0962280962280961,\n",
       " 1.0963270963270964,\n",
       " 1.0964260964260963,\n",
       " 1.0965250965250966,\n",
       " 1.0966240966240965,\n",
       " 1.0967230967230968,\n",
       " 1.0968220968220967,\n",
       " 1.096921096921097,\n",
       " 1.097020097020097,\n",
       " 1.0971190971190972,\n",
       " 1.0972180972180972,\n",
       " 1.0973170973170974,\n",
       " 1.0974160974160974,\n",
       " 1.0975150975150976,\n",
       " 1.0976140976140976,\n",
       " 1.0977130977130978,\n",
       " 1.0978120978120978,\n",
       " 1.097911097911098,\n",
       " 1.098010098010098,\n",
       " 1.0981090981090982,\n",
       " 1.0982080982080982,\n",
       " 1.0983070983070984,\n",
       " 1.0984060984060984,\n",
       " 1.0985050985050986,\n",
       " 1.0986040986040986,\n",
       " 1.0987030987030988,\n",
       " 1.0988020988020988,\n",
       " 1.098901098901099,\n",
       " ...]"
      ]
     },
     "execution_count": 101,
     "metadata": {},
     "output_type": "execute_result"
    }
   ],
   "source": [
    "list(var)"
   ]
  },
  {
   "cell_type": "code",
   "execution_count": null,
   "id": "3fae4e74-810c-4e0a-8956-d7be9ce7754d",
   "metadata": {},
   "outputs": [],
   "source": []
  }
 ],
 "metadata": {
  "kernelspec": {
   "display_name": "Python 3 (ipykernel)",
   "language": "python",
   "name": "python3"
  },
  "language_info": {
   "codemirror_mode": {
    "name": "ipython",
    "version": 3
   },
   "file_extension": ".py",
   "mimetype": "text/x-python",
   "name": "python",
   "nbconvert_exporter": "python",
   "pygments_lexer": "ipython3",
   "version": "3.11.7"
  }
 },
 "nbformat": 4,
 "nbformat_minor": 5
}
