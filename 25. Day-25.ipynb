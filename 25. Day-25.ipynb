{
 "cells": [
  {
   "cell_type": "raw",
   "id": "faf7e8d1-1617-423d-9a49-6f410ef69486",
   "metadata": {},
   "source": [
    "## Regular Expression\n",
    "\n",
    "\n",
    "\n",
    "Key Functions in re Module\n",
    "re.match(pattern, string): Checks for a match only at the beginning of the string.\n",
    "re.search(pattern, string): Searches the entire string for the first occurrence of the pattern.\n",
    "re.findall(pattern, string): Returns a list of all matches found in the string.\n",
    "re.finditer(pattern, string): Returns an iterator yielding match objects for all matches in the string.\n",
    "re.sub(pattern, repl, string): Replaces occurrences of the pattern with repl in the string.\n",
    "re.split(pattern, string): Splits the string by occurrences of the pattern.\n"
   ]
  },
  {
   "cell_type": "code",
   "execution_count": 1,
   "id": "9087aba9-8ceb-4961-91e7-3bdb362476d2",
   "metadata": {},
   "outputs": [],
   "source": [
    "import re"
   ]
  },
  {
   "cell_type": "code",
   "execution_count": 4,
   "id": "75bd0935-cd21-4adc-9ae7-e4b22c64374a",
   "metadata": {},
   "outputs": [],
   "source": [
    "emails = [\n",
    "    'alice@example.com',\n",
    "    'bob.smith@company.org',\n",
    "    'charlie_jones@subdomain.co.uk',\n",
    "    'david123@another-domain.net'\n",
    "]\n"
   ]
  },
  {
   "cell_type": "code",
   "execution_count": 6,
   "id": "a76b61b5-56bc-4e29-991e-615476580ce3",
   "metadata": {},
   "outputs": [
    {
     "data": {
      "text/plain": [
       "['alice@example.com',\n",
       " 'bob.smith@company.org',\n",
       " 'charlie_jones@subdomain.co.uk',\n",
       " 'david123@another-domain.net']"
      ]
     },
     "execution_count": 6,
     "metadata": {},
     "output_type": "execute_result"
    }
   ],
   "source": [
    "emails"
   ]
  },
  {
   "cell_type": "code",
   "execution_count": 7,
   "id": "fe0d22fe-b32d-48fc-b954-c2a86c87e827",
   "metadata": {},
   "outputs": [],
   "source": [
    "#Extract the domains from these email addresses\n",
    "\n",
    "# Define the pattern to match email domains\n",
    "pattern = r'@([\\w\\.-]+)'"
   ]
  },
  {
   "cell_type": "code",
   "execution_count": 9,
   "id": "41e59773-9b7a-479a-b8b8-3196de2a6d63",
   "metadata": {},
   "outputs": [
    {
     "data": {
      "text/plain": [
       "'@([\\\\w\\\\.-]+)'"
      ]
     },
     "execution_count": 9,
     "metadata": {},
     "output_type": "execute_result"
    }
   ],
   "source": [
    "pattern"
   ]
  },
  {
   "cell_type": "code",
   "execution_count": 11,
   "id": "c498e068-d2e3-4de0-885e-aef204179777",
   "metadata": {},
   "outputs": [],
   "source": [
    "# Extract domains\n",
    "domains = [re.search(pattern, i).group(1) for i in emails]"
   ]
  },
  {
   "cell_type": "code",
   "execution_count": 12,
   "id": "e946e819-8d0d-4b1d-a8a5-4e409c9b0174",
   "metadata": {},
   "outputs": [
    {
     "data": {
      "text/plain": [
       "['example.com', 'company.org', 'subdomain.co.uk', 'another-domain.net']"
      ]
     },
     "execution_count": 12,
     "metadata": {},
     "output_type": "execute_result"
    }
   ],
   "source": [
    "domains"
   ]
  },
  {
   "cell_type": "code",
   "execution_count": 13,
   "id": "e3ecc1a5-2570-4877-984c-16f720e82916",
   "metadata": {},
   "outputs": [],
   "source": [
    "# Extract domains\n",
    "domains1 = [re.search(pattern, i) for i in emails]"
   ]
  },
  {
   "cell_type": "code",
   "execution_count": 14,
   "id": "b52661d4-fe19-470a-ab86-05960f20cf36",
   "metadata": {},
   "outputs": [
    {
     "data": {
      "text/plain": [
       "[<re.Match object; span=(5, 17), match='@example.com'>,\n",
       " <re.Match object; span=(9, 21), match='@company.org'>,\n",
       " <re.Match object; span=(13, 29), match='@subdomain.co.uk'>,\n",
       " <re.Match object; span=(8, 27), match='@another-domain.net'>]"
      ]
     },
     "execution_count": 14,
     "metadata": {},
     "output_type": "execute_result"
    }
   ],
   "source": [
    "domains1"
   ]
  },
  {
   "cell_type": "code",
   "execution_count": 15,
   "id": "f6c94573-76e2-4ccc-b510-2f038b6bc90d",
   "metadata": {},
   "outputs": [],
   "source": [
    "#Example 1: Extracting Dates from Text\n",
    "#Suppose you have a dataset containing logs with dates in various formats, and you need to standardize or extract these dates.\n",
    "#Here's how you might do that:\n",
    "    \n",
    "    \n",
    "logs = [\n",
    "    \"User login on 2024-07-25 at 14:32\",\n",
    "    \"Error reported on 25/07/2024\",\n",
    "    \"Update completed on 2024.07.25\",\n",
    "    \"Maintenance scheduled for 25-07-2024\"\n",
    "]"
   ]
  },
  {
   "cell_type": "code",
   "execution_count": 16,
   "id": "4f37cd21-3a0f-4ed8-9669-31003df3a112",
   "metadata": {},
   "outputs": [
    {
     "data": {
      "text/plain": [
       "['User login on 2024-07-25 at 14:32',\n",
       " 'Error reported on 25/07/2024',\n",
       " 'Update completed on 2024.07.25',\n",
       " 'Maintenance scheduled for 25-07-2024']"
      ]
     },
     "execution_count": 16,
     "metadata": {},
     "output_type": "execute_result"
    }
   ],
   "source": [
    "logs"
   ]
  },
  {
   "cell_type": "code",
   "execution_count": 17,
   "id": "e6c1db61-8b93-45c2-a732-1724872d50b8",
   "metadata": {},
   "outputs": [],
   "source": [
    "#Extract all dates from these logs, regardless of their format.\n",
    "\n",
    "\n",
    "# Define the pattern to match dates in different formats\n",
    "pattern = r'\\b(\\d{4}[-.]\\d{2}[-.]\\d{2}|\\d{2}[-/]\\d{2}[-/]\\d{4})\\b'"
   ]
  },
  {
   "cell_type": "code",
   "execution_count": 18,
   "id": "0888c1a1-6ac4-494f-8226-50f49b2f47d8",
   "metadata": {},
   "outputs": [
    {
     "data": {
      "text/plain": [
       "'\\\\b(\\\\d{4}[-.]\\\\d{2}[-.]\\\\d{2}|\\\\d{2}[-/]\\\\d{2}[-/]\\\\d{4})\\\\b'"
      ]
     },
     "execution_count": 18,
     "metadata": {},
     "output_type": "execute_result"
    }
   ],
   "source": [
    "pattern"
   ]
  },
  {
   "cell_type": "code",
   "execution_count": 19,
   "id": "f9f0d14f-6b4f-4a6a-83a9-5075fcda2d13",
   "metadata": {},
   "outputs": [
    {
     "name": "stdout",
     "output_type": "stream",
     "text": [
      "['2024-07-25', '25/07/2024', '2024.07.25', '25-07-2024']\n"
     ]
    }
   ],
   "source": [
    "# Extract dates\n",
    "dates = re.findall(pattern, ' '.join(logs))\n",
    "\n",
    "print(dates)"
   ]
  },
  {
   "cell_type": "raw",
   "id": "b6801cf2-0a62-4ec7-820c-8ce6c65d2346",
   "metadata": {},
   "source": [
    "Explanation\n",
    "Pattern: r'\\b(\\d{4}[-.]\\d{2}[-.]\\d{2}|\\d{2}[-/]\\d{2}[-/]\\d{4})\\b'\n",
    "\n",
    "\\b denotes a word boundary to ensure we match complete dates.\n",
    "\\d{4}[-.]\\d{2}[-.]\\d{2} matches dates in the format YYYY-MM-DD or YYYY.MM.DD.\n",
    "\\d{2}[-/]\\d{2}[-/]\\d{4} matches dates in the format DD-MM-YYYY or DD/MM/YYYY.\n",
    "re.findall(pattern, ' '.join(logs)):\n",
    "\n",
    "Joins all logs into a single string to search for dates across the entire text."
   ]
  },
  {
   "cell_type": "code",
   "execution_count": 20,
   "id": "0144f78c-6b93-45ff-9272-e96f554ee1c2",
   "metadata": {},
   "outputs": [],
   "source": [
    "#Example 2: Extracting Phone Numbers\n",
    "#You might need to extract phone numbers from a dataset containing contact information.\n",
    "\n",
    "\n",
    "contacts = [\n",
    "    \"John Doe: +1-800-555-1234\",\n",
    "    \"Jane Smith: (555) 678-9012\",\n",
    "    \"Alice Johnson: 555.234.5678\",\n",
    "    \"Bob Brown: 555-3456\"\n",
    "]"
   ]
  },
  {
   "cell_type": "code",
   "execution_count": 21,
   "id": "7010a4cf-df63-4030-a32f-d175f53c49fa",
   "metadata": {},
   "outputs": [],
   "source": [
    "#Extract phone numbers in various formats.\n",
    "\n",
    "\n",
    "# Define the pattern to match phone numbers in different formats\n",
    "pattern = r'\\+?\\d{1,2}[-.\\s]?(\\(?\\d{3}\\)?[-.\\s]?)?\\d{3}[-.\\s]?\\d{4}'"
   ]
  },
  {
   "cell_type": "code",
   "execution_count": 22,
   "id": "6bb0005f-f377-49ed-bac8-f79b3a8251e1",
   "metadata": {},
   "outputs": [
    {
     "name": "stdout",
     "output_type": "stream",
     "text": [
      "['800-', '']\n"
     ]
    }
   ],
   "source": [
    "# Extract phone numbers\n",
    "phone_numbers = re.findall(pattern, ' '.join(contacts))\n",
    "\n",
    "print(phone_numbers)"
   ]
  },
  {
   "cell_type": "raw",
   "id": "6b128347-b3c2-40b1-a985-579246a28e20",
   "metadata": {},
   "source": [
    "Explanation\n",
    "Pattern: r'\\+?\\d{1,2}[-.\\s]?(\\(?\\d{3}\\)?[-.\\s]?)?\\d{3}[-.\\s]?\\d{4}'\n",
    "\n",
    "\\+? optionally matches the + sign for international codes.\n",
    "\\d{1,2} matches the country code (1 or 2 digits).\n",
    "[-.\\s]? optionally matches a separator (hyphen, dot, or space).\n",
    "(\\(?\\d{3}\\)?[-.\\s]?)? optionally matches an area code in parentheses.\n",
    "\\d{3}[-.\\s]?\\d{4} matches the local number.\n",
    "re.findall(pattern, ' '.join(contacts)):\n",
    "\n",
    "Joins all contact strings into a single string to search for phone numbers."
   ]
  },
  {
   "cell_type": "code",
   "execution_count": 23,
   "id": "4da1a3cc-a129-4a59-8835-9c607107a78c",
   "metadata": {},
   "outputs": [],
   "source": [
    "#Example 3: Cleaning Up Text Data\n",
    "#Suppose you have a dataset with noisy text data and you need to remove all non-alphanumeric characters except spaces.\n",
    "\n",
    "\n",
    "\n",
    "text_data = [\n",
    "    \"Hello! This is a test.\",\n",
    "    \"Here, we have: numbers 1234 and symbols @$%^&*!\",\n",
    "    \"Clean this text: remove #hashtags and @mentions!\"\n",
    "]\n"
   ]
  },
  {
   "cell_type": "code",
   "execution_count": 24,
   "id": "e8392551-8981-4c97-b5af-8f8b124358b0",
   "metadata": {},
   "outputs": [],
   "source": [
    "#Remove all non-alphanumeric characters except spaces.\n",
    "\n",
    "\n",
    "# Define the pattern to remove non-alphanumeric characters except spaces\n",
    "pattern = r'[^\\w\\s]'"
   ]
  },
  {
   "cell_type": "code",
   "execution_count": 25,
   "id": "654c1e93-52fd-4311-bb3d-1e08f1d51ab7",
   "metadata": {},
   "outputs": [],
   "source": [
    "# Clean text\n",
    "cleaned_texts = [re.sub(pattern, '', text) for text in text_data]"
   ]
  },
  {
   "cell_type": "code",
   "execution_count": 26,
   "id": "e3ed3b09-43ea-4e52-b9e8-459b0002ebc0",
   "metadata": {},
   "outputs": [
    {
     "data": {
      "text/plain": [
       "['Hello This is a test',\n",
       " 'Here we have numbers 1234 and symbols ',\n",
       " 'Clean this text remove hashtags and mentions']"
      ]
     },
     "execution_count": 26,
     "metadata": {},
     "output_type": "execute_result"
    }
   ],
   "source": [
    "cleaned_texts"
   ]
  },
  {
   "cell_type": "code",
   "execution_count": 27,
   "id": "9461d869-ab07-4f93-975a-e13d951f6dae",
   "metadata": {},
   "outputs": [],
   "source": [
    "#Example 1: Validating Email Addresses\n",
    "#You might need to validate email addresses to ensure they follow a standard format.\n",
    "\n",
    "\n",
    "emails = [\n",
    "    \"valid.email@example.com\",\n",
    "    \"invalid-email@.com\",\n",
    "    \"another.valid.email@domain.co\",\n",
    "    \"yet.another@domain\",\n",
    "    \"no_at_sign_domain.com\"\n",
    "]"
   ]
  },
  {
   "cell_type": "code",
   "execution_count": 28,
   "id": "6a86c8d1-2774-4757-8113-d68d4e05a8c1",
   "metadata": {},
   "outputs": [],
   "source": [
    "#Identify which email addresses are valid.\n",
    "\n",
    "\n",
    "# Define the pattern for a basic email validation\n",
    "pattern = r'^[\\w\\.-]+@[\\w\\.-]+\\.\\w+$'"
   ]
  },
  {
   "cell_type": "code",
   "execution_count": 29,
   "id": "7135ffe8-8ffb-4a6f-8908-2e79f9ffc4b8",
   "metadata": {},
   "outputs": [
    {
     "name": "stdout",
     "output_type": "stream",
     "text": [
      "['valid.email@example.com', 'another.valid.email@domain.co']\n"
     ]
    }
   ],
   "source": [
    "# Check email validity\n",
    "valid_emails = [email for email in emails if re.match(pattern, email)]\n",
    "\n",
    "print(valid_emails)"
   ]
  },
  {
   "cell_type": "code",
   "execution_count": 30,
   "id": "6ccefc8c-f67d-485a-9e82-50e86f4f9452",
   "metadata": {},
   "outputs": [],
   "source": [
    "#Example 2: Extracting Numbers from Text\n",
    "#You might need to extract numbers from a string for further analysis.\n",
    "\n",
    "\n",
    "texts = [\n",
    "    \"The total cost is $123.45.\",\n",
    "    \"My phone number is 555-1234.\",\n",
    "    \"I have 2 apples and 3 oranges.\",\n",
    "    \"No numbers here!\"\n",
    "]"
   ]
  },
  {
   "cell_type": "code",
   "execution_count": 31,
   "id": "d08d8d94-b117-40c3-b070-c5a2ea20c18f",
   "metadata": {},
   "outputs": [],
   "source": [
    "#Extract all numbers from these texts.\n",
    "\n",
    "# Define the pattern to match numbers\n",
    "pattern = r'\\d+\\.?\\d*'"
   ]
  },
  {
   "cell_type": "code",
   "execution_count": 32,
   "id": "371e2244-9625-4a67-94ed-adbe6b500652",
   "metadata": {},
   "outputs": [
    {
     "name": "stdout",
     "output_type": "stream",
     "text": [
      "[['123.45'], ['555', '1234.'], ['2', '3'], []]\n"
     ]
    }
   ],
   "source": [
    "# Extract numbers\n",
    "numbers = [re.findall(pattern, text) for text in texts]\n",
    "\n",
    "print(numbers)"
   ]
  },
  {
   "cell_type": "code",
   "execution_count": 33,
   "id": "36e2e0ef-8d26-46b3-a54f-b0f174139e94",
   "metadata": {},
   "outputs": [],
   "source": [
    "#Example 3: Finding and Replacing Text\n",
    "#You might want to replace specific text patterns with another string.\n",
    "\n",
    "\n",
    "\n",
    "sentences = [\n",
    "    \"The quick brown fox.\",\n",
    "    \"Jumps over the lazy dog.\",\n",
    "    \"The fox is quick and brown.\"\n",
    "]"
   ]
  },
  {
   "cell_type": "code",
   "execution_count": 34,
   "id": "ef91e590-4de7-45f9-9615-3dd835f30d20",
   "metadata": {},
   "outputs": [],
   "source": [
    "#Replace occurrences of the word \"fox\" with \"cat\".\n",
    "\n",
    "# Define the pattern to match the word 'fox'\n",
    "pattern = r'fox'"
   ]
  },
  {
   "cell_type": "code",
   "execution_count": 35,
   "id": "36665e40-5fbc-442d-9e14-24aee6138845",
   "metadata": {},
   "outputs": [
    {
     "name": "stdout",
     "output_type": "stream",
     "text": [
      "['The quick brown cat.', 'Jumps over the lazy dog.', 'The cat is quick and brown.']\n"
     ]
    }
   ],
   "source": [
    "# Replace 'fox' with 'cat'\n",
    "updated_sentences = [re.sub(pattern, 'cat', sentence) for sentence in sentences]\n",
    "\n",
    "print(updated_sentences)"
   ]
  },
  {
   "cell_type": "code",
   "execution_count": 37,
   "id": "c57263e1-ebf1-4232-a6ec-7013f67fd9b3",
   "metadata": {},
   "outputs": [],
   "source": [
    "#Example 4: Splitting Text by Delimiters\n",
    "#You might need to split text based on various delimiters.\n",
    "\n",
    "\n",
    "data = [\n",
    "    \"apple;banana;cherry\",\n",
    "    \"dog,cat,mouse\",\n",
    "    \"red|blue|green\"\n",
    "]"
   ]
  },
  {
   "cell_type": "code",
   "execution_count": 38,
   "id": "d13253eb-76e4-4cec-8792-5f5f47f6943e",
   "metadata": {},
   "outputs": [],
   "source": [
    "#Split each string by common delimiters (e.g., ;, ,, |).\n",
    "\n",
    "\n",
    "# Define the pattern to match common delimiters\n",
    "pattern = r'[;,\\|]'"
   ]
  },
  {
   "cell_type": "code",
   "execution_count": 39,
   "id": "73c94b0e-997a-4758-8df3-7e2f16fa5995",
   "metadata": {},
   "outputs": [
    {
     "name": "stdout",
     "output_type": "stream",
     "text": [
      "[['apple', 'banana', 'cherry'], ['dog', 'cat', 'mouse'], ['red', 'blue', 'green']]\n"
     ]
    }
   ],
   "source": [
    "# Split text by delimiters\n",
    "split_data = [re.split(pattern, item) for item in data]\n",
    "\n",
    "print(split_data)"
   ]
  },
  {
   "cell_type": "code",
   "execution_count": 40,
   "id": "c1504c03-ade0-4ec0-9286-fcbed4d38fc8",
   "metadata": {},
   "outputs": [],
   "source": [
    "sentences = [\"Remove extra spaces           from the text, leaving only           single spaces between words.\"]"
   ]
  },
  {
   "cell_type": "code",
   "execution_count": 41,
   "id": "0cda7c56-1fb7-4a96-976d-2d688fac9478",
   "metadata": {},
   "outputs": [
    {
     "name": "stdout",
     "output_type": "stream",
     "text": [
      "['Remove extra spaces from the text, leaving only single spaces between words.']\n"
     ]
    }
   ],
   "source": [
    "#Example 5: Removing Extra Spaces\n",
    "#You might need to clean up text by removing extra spaces.\n",
    "\n",
    "\n",
    "#Remove extra spaces from the text, leaving only single spaces between words.\n",
    "\n",
    "# Define the pattern to match extra spaces\n",
    "pattern = r'\\s+'\n",
    "\n",
    "# Remove extra spaces\n",
    "cleaned_sentences = [re.sub(pattern, ' ', sentence).strip() for sentence in sentences]\n",
    "\n",
    "print(cleaned_sentences)"
   ]
  },
  {
   "cell_type": "code",
   "execution_count": null,
   "id": "ac54959d-ea3a-48f1-9e1d-03cc27f0c55b",
   "metadata": {},
   "outputs": [],
   "source": []
  }
 ],
 "metadata": {
  "kernelspec": {
   "display_name": "Python 3 (ipykernel)",
   "language": "python",
   "name": "python3"
  },
  "language_info": {
   "codemirror_mode": {
    "name": "ipython",
    "version": 3
   },
   "file_extension": ".py",
   "mimetype": "text/x-python",
   "name": "python",
   "nbconvert_exporter": "python",
   "pygments_lexer": "ipython3",
   "version": "3.11.7"
  }
 },
 "nbformat": 4,
 "nbformat_minor": 5
}
