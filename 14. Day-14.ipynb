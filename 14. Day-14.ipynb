{
 "cells": [
  {
   "cell_type": "raw",
   "id": "edaab4da-bbd1-45a1-84ba-1d503baf6e2b",
   "metadata": {},
   "source": [
    "For loop\n",
    "While loop\n",
    "iter"
   ]
  },
  {
   "cell_type": "code",
   "execution_count": null,
   "id": "05dd95e6-614f-4372-bdcf-29e4b4f8034b",
   "metadata": {},
   "outputs": [],
   "source": [
    "iteration \n",
    "iterable\n",
    "itertor "
   ]
  },
  {
   "cell_type": "code",
   "execution_count": null,
   "id": "68bf0ca9-c1a7-4df7-b1df-7db7bcbdb513",
   "metadata": {},
   "outputs": [],
   "source": [
    "(str\n",
    "list\n",
    "tuple\n",
    "set\n",
    "dict)   = iterable"
   ]
  },
  {
   "cell_type": "code",
   "execution_count": null,
   "id": "e3e6c9c9-adab-40da-a5bf-e3d26db2bd64",
   "metadata": {},
   "outputs": [],
   "source": [
    "for, while, iter  = iterator"
   ]
  },
  {
   "cell_type": "code",
   "execution_count": null,
   "id": "a38a630f-c2ae-4528-95fc-dba8bacb89f1",
   "metadata": {},
   "outputs": [],
   "source": [
    "iteration "
   ]
  },
  {
   "cell_type": "code",
   "execution_count": 1,
   "id": "b55030fe-b9a0-41d2-975b-6655da63b94c",
   "metadata": {},
   "outputs": [],
   "source": [
    "l = [1,2,3,4,\"sudh\" ,\"kumar\" , 45.56]"
   ]
  },
  {
   "cell_type": "code",
   "execution_count": 2,
   "id": "d186ffa7-af99-44f1-97c8-35d82c896c98",
   "metadata": {},
   "outputs": [],
   "source": [
    "str1 = \"this is my first string\"\n",
    "str2 = \"this is my second string\""
   ]
  },
  {
   "cell_type": "code",
   "execution_count": 3,
   "id": "7876b5f5-28a7-4a7a-918b-4b647a38b1a9",
   "metadata": {},
   "outputs": [
    {
     "name": "stdout",
     "output_type": "stream",
     "text": [
      "1\n",
      "2\n",
      "3\n",
      "4\n",
      "sudh\n",
      "kumar\n",
      "45.56\n"
     ]
    }
   ],
   "source": [
    "for i in l:\n",
    "    print(i)"
   ]
  },
  {
   "cell_type": "code",
   "execution_count": 4,
   "id": "dfabbfef-fb78-42af-a41f-d05dab4fa017",
   "metadata": {},
   "outputs": [
    {
     "name": "stdout",
     "output_type": "stream",
     "text": [
      "py\n",
      "py\n",
      "py\n",
      "py\n",
      "py\n",
      "py\n",
      "py\n"
     ]
    }
   ],
   "source": [
    "for i in l:\n",
    "    print(\"py\")"
   ]
  },
  {
   "cell_type": "code",
   "execution_count": 5,
   "id": "d2d68bd2-2c15-48da-8eb1-abac94058a3e",
   "metadata": {},
   "outputs": [
    {
     "name": "stdout",
     "output_type": "stream",
     "text": [
      "t\n",
      "h\n",
      "i\n",
      "s\n",
      " \n",
      "i\n",
      "s\n",
      " \n",
      "m\n",
      "y\n",
      " \n",
      "f\n",
      "i\n",
      "r\n",
      "s\n",
      "t\n",
      " \n",
      "s\n",
      "t\n",
      "r\n",
      "i\n",
      "n\n",
      "g\n"
     ]
    }
   ],
   "source": [
    "for i in str1 :\n",
    "    print(i)"
   ]
  },
  {
   "cell_type": "code",
   "execution_count": 6,
   "id": "1bb93467-04da-43e7-8e7d-30ad16f3ed77",
   "metadata": {},
   "outputs": [
    {
     "ename": "TypeError",
     "evalue": "'int' object is not iterable",
     "output_type": "error",
     "traceback": [
      "\u001b[1;31m---------------------------------------------------------------------------\u001b[0m",
      "\u001b[1;31mTypeError\u001b[0m                                 Traceback (most recent call last)",
      "Cell \u001b[1;32mIn[6], line 2\u001b[0m\n\u001b[0;32m      1\u001b[0m a \u001b[38;5;241m=\u001b[39m \u001b[38;5;241m45653\u001b[39m\n\u001b[1;32m----> 2\u001b[0m \u001b[38;5;28;01mfor\u001b[39;00m i \u001b[38;5;129;01min\u001b[39;00m a:\n\u001b[0;32m      3\u001b[0m     \u001b[38;5;28mprint\u001b[39m(i)\n",
      "\u001b[1;31mTypeError\u001b[0m: 'int' object is not iterable"
     ]
    }
   ],
   "source": [
    "a = 45653\n",
    "\n",
    "\n",
    "for i in a:\n",
    "    print(i)"
   ]
  },
  {
   "cell_type": "code",
   "execution_count": 7,
   "id": "09aeb764-d8b8-41f2-b522-c4d445cb1606",
   "metadata": {},
   "outputs": [
    {
     "name": "stdout",
     "output_type": "stream",
     "text": [
      "45653\n"
     ]
    }
   ],
   "source": [
    "a = [45653]\n",
    "\n",
    "\n",
    "for i in a:\n",
    "    print(i)"
   ]
  },
  {
   "cell_type": "code",
   "execution_count": 8,
   "id": "f1fd7e8b-e940-49f3-a1fc-77467625508a",
   "metadata": {},
   "outputs": [
    {
     "ename": "TypeError",
     "evalue": "'float' object is not iterable",
     "output_type": "error",
     "traceback": [
      "\u001b[1;31m---------------------------------------------------------------------------\u001b[0m",
      "\u001b[1;31mTypeError\u001b[0m                                 Traceback (most recent call last)",
      "Cell \u001b[1;32mIn[8], line 4\u001b[0m\n\u001b[0;32m      1\u001b[0m b \u001b[38;5;241m=\u001b[39m \u001b[38;5;241m676.99\u001b[39m\n\u001b[1;32m----> 4\u001b[0m \u001b[38;5;28;01mfor\u001b[39;00m i \u001b[38;5;129;01min\u001b[39;00m b:\n\u001b[0;32m      5\u001b[0m     \u001b[38;5;28mprint\u001b[39m(i)\n",
      "\u001b[1;31mTypeError\u001b[0m: 'float' object is not iterable"
     ]
    }
   ],
   "source": [
    "b = 676.99\n",
    "\n",
    "\n",
    "for i in b:\n",
    "    print(i)"
   ]
  },
  {
   "cell_type": "code",
   "execution_count": 9,
   "id": "034679ab-fcc4-4884-a8d9-3b968276114d",
   "metadata": {},
   "outputs": [
    {
     "ename": "TypeError",
     "evalue": "'float' object is not iterable",
     "output_type": "error",
     "traceback": [
      "\u001b[1;31m---------------------------------------------------------------------------\u001b[0m",
      "\u001b[1;31mTypeError\u001b[0m                                 Traceback (most recent call last)",
      "Cell \u001b[1;32mIn[9], line 3\u001b[0m\n\u001b[0;32m      1\u001b[0m c \u001b[38;5;241m=\u001b[39m \u001b[38;5;28;01mTrue\u001b[39;00m\n\u001b[1;32m----> 3\u001b[0m \u001b[38;5;28;01mfor\u001b[39;00m i \u001b[38;5;129;01min\u001b[39;00m b:\n\u001b[0;32m      4\u001b[0m     \u001b[38;5;28mprint\u001b[39m(i)\n",
      "\u001b[1;31mTypeError\u001b[0m: 'float' object is not iterable"
     ]
    }
   ],
   "source": [
    "c = True\n",
    "\n",
    "for i in b:\n",
    "    print(i)"
   ]
  },
  {
   "cell_type": "code",
   "execution_count": 11,
   "id": "08d03526-4c4e-4377-b32f-2742df46cb0a",
   "metadata": {},
   "outputs": [
    {
     "ename": "TypeError",
     "evalue": "'complex' object is not iterable",
     "output_type": "error",
     "traceback": [
      "\u001b[1;31m---------------------------------------------------------------------------\u001b[0m",
      "\u001b[1;31mTypeError\u001b[0m                                 Traceback (most recent call last)",
      "Cell \u001b[1;32mIn[11], line 3\u001b[0m\n\u001b[0;32m      1\u001b[0m d \u001b[38;5;241m=\u001b[39m \u001b[38;5;241m64\u001b[39m \u001b[38;5;241m+\u001b[39m \u001b[38;5;241m6\u001b[39mj\n\u001b[1;32m----> 3\u001b[0m \u001b[38;5;28;01mfor\u001b[39;00m i \u001b[38;5;129;01min\u001b[39;00m d:\n\u001b[0;32m      4\u001b[0m     \u001b[38;5;28mprint\u001b[39m(i)\n",
      "\u001b[1;31mTypeError\u001b[0m: 'complex' object is not iterable"
     ]
    }
   ],
   "source": [
    "d = 64 + 6j\n",
    "\n",
    "for i in d:\n",
    "    print(i)"
   ]
  },
  {
   "cell_type": "code",
   "execution_count": null,
   "id": "c2fed522-759a-4b11-8483-2b9a7508a001",
   "metadata": {},
   "outputs": [],
   "source": [
    "l = [1,2,3,4,\"sudh\" ,\"kumar\" , 45.56]\n",
    "\n",
    "for num in l:\n",
    "    print(num)"
   ]
  },
  {
   "cell_type": "code",
   "execution_count": 12,
   "id": "530e1552-1fce-4b05-ba69-49951ca37254",
   "metadata": {},
   "outputs": [],
   "source": [
    "ranges = range(10)"
   ]
  },
  {
   "cell_type": "code",
   "execution_count": 16,
   "id": "3c30391e-a96c-49ad-8bf7-d5c41f659e85",
   "metadata": {},
   "outputs": [
    {
     "data": {
      "text/plain": [
       "range(0, 10)"
      ]
     },
     "execution_count": 16,
     "metadata": {},
     "output_type": "execute_result"
    }
   ],
   "source": [
    "ranges"
   ]
  },
  {
   "cell_type": "code",
   "execution_count": 18,
   "id": "3c50afb6-7c33-4b4e-b643-1ace869254e6",
   "metadata": {},
   "outputs": [
    {
     "name": "stdout",
     "output_type": "stream",
     "text": [
      "0 Python\n",
      "1 Python\n",
      "2 Python\n",
      "3 Python\n",
      "4 Python\n",
      "5 Python\n",
      "6 Python\n",
      "7 Python\n",
      "8 Python\n",
      "9 Python\n",
      "10 Python\n",
      "11 Python\n",
      "12 Python\n",
      "13 Python\n",
      "14 Python\n",
      "15 Python\n",
      "16 Python\n",
      "17 Python\n",
      "18 Python\n",
      "19 Python\n",
      "20 Python\n",
      "21 Python\n",
      "22 Python\n",
      "23 Python\n",
      "24 Python\n",
      "25 Python\n",
      "26 Python\n",
      "27 Python\n",
      "28 Python\n",
      "29 Python\n",
      "30 Python\n",
      "31 Python\n",
      "32 Python\n",
      "33 Python\n",
      "34 Python\n",
      "35 Python\n",
      "36 Python\n",
      "37 Python\n",
      "38 Python\n",
      "39 Python\n",
      "40 Python\n",
      "41 Python\n",
      "42 Python\n",
      "43 Python\n",
      "44 Python\n",
      "45 Python\n",
      "46 Python\n",
      "47 Python\n",
      "48 Python\n",
      "49 Python\n"
     ]
    }
   ],
   "source": [
    "for x in range(50):\n",
    "    print(x, \"Python\")"
   ]
  },
  {
   "cell_type": "code",
   "execution_count": 20,
   "id": "234e413c-66f8-4acf-96b5-665e7135511a",
   "metadata": {},
   "outputs": [
    {
     "name": "stdout",
     "output_type": "stream",
     "text": [
      "Python Python Python Python Python Python Python Python Python Python Python Python Python Python Python Python Python Python Python Python "
     ]
    }
   ],
   "source": [
    "for x in range(20):\n",
    "    print(\"Python\", end = \" \")"
   ]
  },
  {
   "cell_type": "code",
   "execution_count": 22,
   "id": "1d9ea13c-09ef-4a0e-876a-9628643c94f7",
   "metadata": {},
   "outputs": [
    {
     "name": "stdout",
     "output_type": "stream",
     "text": [
      "1\n",
      "2\n",
      "3\n",
      "4\n",
      "sudh\n",
      "kumar\n",
      "45.56\n"
     ]
    }
   ],
   "source": [
    "for i in l :\n",
    "    pass\n",
    "    print(i)"
   ]
  },
  {
   "cell_type": "code",
   "execution_count": 23,
   "id": "2884632b-1548-4889-8ec0-9610ddc42a28",
   "metadata": {},
   "outputs": [
    {
     "name": "stdout",
     "output_type": "stream",
     "text": [
      "1\n",
      "2\n",
      "3\n",
      "4\n",
      "sudh\n",
      "kumar\n",
      "45.56\n",
      "if for loop is going to complete itself the it will execute else \n"
     ]
    }
   ],
   "source": [
    "for i in l :\n",
    "    print(i)\n",
    "else :\n",
    "    print(\"if for loop is going to complete itself the it will execute else \")"
   ]
  },
  {
   "cell_type": "code",
   "execution_count": 24,
   "id": "ccc69f00-8c17-477b-9cf5-da895bf7a764",
   "metadata": {},
   "outputs": [
    {
     "name": "stdout",
     "output_type": "stream",
     "text": [
      "1\n",
      "2\n",
      "3\n"
     ]
    }
   ],
   "source": [
    "for i in l :\n",
    "    if i == 4 :\n",
    "        break\n",
    "    print(i)\n",
    "else :\n",
    "    print(\"this will execute only if for is going to complete itself\")"
   ]
  },
  {
   "cell_type": "code",
   "execution_count": 25,
   "id": "8193f5b0-ea28-4f6c-bb68-6e70029e1bae",
   "metadata": {},
   "outputs": [
    {
     "name": "stdout",
     "output_type": "stream",
     "text": [
      "1\n",
      "2\n",
      "3\n",
      "4\n",
      "sudh\n",
      "kumar\n",
      "45.56\n",
      "this will execute only if for is going to complete itself\n"
     ]
    }
   ],
   "source": [
    "for i in l :\n",
    "    if i == 4 :\n",
    "        pass\n",
    "    print(i)\n",
    "else :\n",
    "    print(\"this will execute only if for is going to complete itself\")"
   ]
  },
  {
   "cell_type": "code",
   "execution_count": 26,
   "id": "8a9481be-f8d1-4b95-aed4-01496e15a6df",
   "metadata": {},
   "outputs": [
    {
     "name": "stdout",
     "output_type": "stream",
     "text": [
      "1\n",
      "2\n",
      "3\n",
      "sudh\n",
      "kumar\n",
      "45.56\n",
      "this will execute only if for is going to complete itself\n"
     ]
    }
   ],
   "source": [
    "for i in l :\n",
    "    if i == 4 :\n",
    "        continue\n",
    "    print(i)\n",
    "else :\n",
    "    print(\"this will execute only if for is going to complete itself\")"
   ]
  },
  {
   "cell_type": "code",
   "execution_count": 27,
   "id": "2887d23e-ada7-4dfc-a922-2f133e3fc159",
   "metadata": {},
   "outputs": [
    {
     "name": "stdout",
     "output_type": "stream",
     "text": [
      "s\n",
      "u\n",
      "d\n",
      "h\n",
      "a\n"
     ]
    }
   ],
   "source": [
    "s = \"sudhanshu\"\n",
    "for i in s :\n",
    "    if i == 'n' :\n",
    "        break\n",
    "    print(i)\n",
    "else :\n",
    "    print(\"print srtring \" , s )"
   ]
  },
  {
   "cell_type": "code",
   "execution_count": 28,
   "id": "398305f5-3acd-440f-a8e6-de60d0aada55",
   "metadata": {},
   "outputs": [
    {
     "name": "stdout",
     "output_type": "stream",
     "text": [
      "4\n",
      "5\n",
      "6\n",
      "7\n",
      "8\n",
      "6\n",
      "sudh\n"
     ]
    }
   ],
   "source": [
    "t = (4,5,6,7,8,6,\"sudh\")\n",
    "\n",
    "for i in t :\n",
    "    print(i)"
   ]
  },
  {
   "cell_type": "code",
   "execution_count": 29,
   "id": "d18420d0-176b-4557-bff1-09a7568bd641",
   "metadata": {},
   "outputs": [
    {
     "name": "stdout",
     "output_type": "stream",
     "text": [
      "4\n",
      "5\n",
      "6\n",
      "7\n",
      "8\n",
      "sudh\n"
     ]
    }
   ],
   "source": [
    "b = {4,5,6,7,7,7,7,7,7,7,7, 8,\"sudh\"}\n",
    "for i in b:\n",
    "    print(i)"
   ]
  },
  {
   "cell_type": "code",
   "execution_count": 30,
   "id": "0d4e740e-e6e8-40c3-8f3b-69dbd1511404",
   "metadata": {},
   "outputs": [],
   "source": [
    "c = {4,5,6,7,7,7,7,7,7,7,7, 8,\"sudh\"}"
   ]
  },
  {
   "cell_type": "code",
   "execution_count": 31,
   "id": "c7195eb9-c0e3-4c8f-a895-4f78920bceca",
   "metadata": {},
   "outputs": [
    {
     "data": {
      "text/plain": [
       "{4, 5, 6, 7, 8, 'sudh'}"
      ]
     },
     "execution_count": 31,
     "metadata": {},
     "output_type": "execute_result"
    }
   ],
   "source": [
    "c"
   ]
  },
  {
   "cell_type": "code",
   "execution_count": 32,
   "id": "b7168196-3075-4408-806d-169e6fee6c00",
   "metadata": {},
   "outputs": [],
   "source": [
    "d = {'key1' :\"sudh\" , 'contact' : \"gmail\" , \"position\" : \"mentor\"}"
   ]
  },
  {
   "cell_type": "code",
   "execution_count": 33,
   "id": "a102431f-9a6d-4e0d-8814-e2689034113d",
   "metadata": {},
   "outputs": [
    {
     "name": "stdout",
     "output_type": "stream",
     "text": [
      "key1\n",
      "contact\n",
      "position\n"
     ]
    }
   ],
   "source": [
    "for i in d:\n",
    "    print(i)"
   ]
  },
  {
   "cell_type": "code",
   "execution_count": 34,
   "id": "5566738c-0923-4b17-bb4a-fc84306d5715",
   "metadata": {},
   "outputs": [
    {
     "name": "stdout",
     "output_type": "stream",
     "text": [
      "('key1', 'sudh')\n",
      "('contact', 'gmail')\n",
      "('position', 'mentor')\n"
     ]
    }
   ],
   "source": [
    "for i in d.items():\n",
    "    print(i)"
   ]
  },
  {
   "cell_type": "code",
   "execution_count": 35,
   "id": "042bb729-37d9-4345-aea9-ab273ad83ba9",
   "metadata": {},
   "outputs": [
    {
     "name": "stdout",
     "output_type": "stream",
     "text": [
      "sudh\n",
      "gmail\n",
      "mentor\n"
     ]
    }
   ],
   "source": [
    "for i in d.values():\n",
    "    print(i)"
   ]
  },
  {
   "cell_type": "code",
   "execution_count": 36,
   "id": "61e0923d-9146-4c98-9296-231aba082bbe",
   "metadata": {},
   "outputs": [
    {
     "name": "stdout",
     "output_type": "stream",
     "text": [
      "key1\n",
      "contact\n",
      "position\n"
     ]
    }
   ],
   "source": [
    "for i in d.keys():\n",
    "    print(i)"
   ]
  },
  {
   "cell_type": "code",
   "execution_count": 37,
   "id": "ba5fb1bd-281b-481d-a165-b6b110aeaa42",
   "metadata": {},
   "outputs": [
    {
     "data": {
      "text/plain": [
       "'sudh'"
      ]
     },
     "execution_count": 37,
     "metadata": {},
     "output_type": "execute_result"
    }
   ],
   "source": [
    "d[\"key1\"]"
   ]
  },
  {
   "cell_type": "code",
   "execution_count": 38,
   "id": "53fa8c2d-ebb4-4ec0-b839-b828dc47037d",
   "metadata": {},
   "outputs": [
    {
     "name": "stdout",
     "output_type": "stream",
     "text": [
      "key1 : sudh\n",
      "contact : gmail\n",
      "position : mentor\n"
     ]
    }
   ],
   "source": [
    "for i in d :\n",
    "    print(i,\":\" ,  d[i])"
   ]
  },
  {
   "cell_type": "code",
   "execution_count": 39,
   "id": "f07fcbe8-b094-431c-88b9-8d9df076e94d",
   "metadata": {},
   "outputs": [
    {
     "data": {
      "text/plain": [
       "[0, 1, 2, 3, 4, 5, 6, 7, 8]"
      ]
     },
     "execution_count": 39,
     "metadata": {},
     "output_type": "execute_result"
    }
   ],
   "source": [
    "list(range(9))"
   ]
  },
  {
   "cell_type": "code",
   "execution_count": 41,
   "id": "29be7891-d464-4deb-bd5c-270642299104",
   "metadata": {},
   "outputs": [
    {
     "name": "stdout",
     "output_type": "stream",
     "text": [
      "1\n",
      "3\n",
      "5\n",
      "7\n",
      "9\n",
      "11\n",
      "13\n",
      "15\n",
      "17\n",
      "19\n"
     ]
    }
   ],
   "source": [
    "for i in range(1,20,2):\n",
    "    print(i)"
   ]
  },
  {
   "cell_type": "code",
   "execution_count": 42,
   "id": "6136b211-108c-4db6-a8eb-2a8b717e068b",
   "metadata": {},
   "outputs": [
    {
     "data": {
      "text/plain": [
       "(0, 1, 2, 3, 4, 5, 6, 7, 8)"
      ]
     },
     "execution_count": 42,
     "metadata": {},
     "output_type": "execute_result"
    }
   ],
   "source": [
    "tuple(range(9))"
   ]
  },
  {
   "cell_type": "code",
   "execution_count": 44,
   "id": "e4f04eb4-c9fe-4cd5-af56-88b369f63a0b",
   "metadata": {},
   "outputs": [
    {
     "name": "stdout",
     "output_type": "stream",
     "text": [
      "DA \n",
      "\n",
      "DA DA \n",
      "\n",
      "DA DA DA \n",
      "\n",
      "DA DA DA DA \n",
      "\n"
     ]
    }
   ],
   "source": [
    "n = 4\n",
    "\n",
    "for i in range(n) :\n",
    "    for j in range(0, i+1) : \n",
    "        print(\"DA\" , end = \" \")\n",
    "    print(\"\\n\")"
   ]
  },
  {
   "cell_type": "code",
   "execution_count": null,
   "id": "b5b6673d-6fba-47d8-abe6-ef6a7086273b",
   "metadata": {},
   "outputs": [],
   "source": []
  }
 ],
 "metadata": {
  "kernelspec": {
   "display_name": "Python 3 (ipykernel)",
   "language": "python",
   "name": "python3"
  },
  "language_info": {
   "codemirror_mode": {
    "name": "ipython",
    "version": 3
   },
   "file_extension": ".py",
   "mimetype": "text/x-python",
   "name": "python",
   "nbconvert_exporter": "python",
   "pygments_lexer": "ipython3",
   "version": "3.11.7"
  }
 },
 "nbformat": 4,
 "nbformat_minor": 5
}
