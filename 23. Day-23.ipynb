{
 "cells": [
  {
   "cell_type": "code",
   "execution_count": 1,
   "id": "72ddbfb9-fb64-4dc8-a638-2b8161638b8c",
   "metadata": {},
   "outputs": [],
   "source": [
    "def power_of(n, exponent):\n",
    "    \"\"\"\n",
    "    Calculate the power of n to the exponent using a nested function.\n",
    "\n",
    "    Parameters:\n",
    "    n (int/float): The base number.\n",
    "    exponent (int): The exponent.\n",
    "\n",
    "    Returns:\n",
    "    int/float: The result of n raised to the exponent.\n",
    "    \"\"\"\n",
    "    def calculate_power(base, exp):\n",
    "        result = 1\n",
    "        for _ in range(exp):\n",
    "            result *= base\n",
    "        return result\n",
    "\n",
    "    return calculate_power(n, exponent)"
   ]
  },
  {
   "cell_type": "code",
   "execution_count": 2,
   "id": "f36ca2b6-52e5-46ab-be7e-1987e62629e0",
   "metadata": {},
   "outputs": [
    {
     "data": {
      "text/plain": [
       "8"
      ]
     },
     "execution_count": 2,
     "metadata": {},
     "output_type": "execute_result"
    }
   ],
   "source": [
    "power_of(2, 3)  "
   ]
  },
  {
   "cell_type": "code",
   "execution_count": 4,
   "id": "f6d09f9e-0882-49b4-8d04-c94787c7d304",
   "metadata": {},
   "outputs": [],
   "source": [
    "def create_counter():\n",
    "    \"\"\"\n",
    "    Create a counter function that increments a count each time it is called.\n",
    "\n",
    "    Returns:\n",
    "    function: The counter function.\n",
    "    \"\"\"\n",
    "    count = 0\n",
    "\n",
    "    def counter():\n",
    "        nonlocal count\n",
    "        count += 1\n",
    "        return count\n",
    "\n",
    "    return counter"
   ]
  },
  {
   "cell_type": "code",
   "execution_count": 5,
   "id": "2db2c135-119f-41ac-9405-e080f85ab0a2",
   "metadata": {},
   "outputs": [],
   "source": [
    "my_counter = create_counter()"
   ]
  },
  {
   "cell_type": "code",
   "execution_count": 6,
   "id": "a3d6fb44-b019-4809-a4b3-dfd5953309a4",
   "metadata": {},
   "outputs": [
    {
     "name": "stdout",
     "output_type": "stream",
     "text": [
      "1\n",
      "2\n",
      "3\n"
     ]
    }
   ],
   "source": [
    "print(my_counter())   \n",
    "print(my_counter())   \n",
    "print(my_counter()) "
   ]
  },
  {
   "cell_type": "code",
   "execution_count": 7,
   "id": "96e3db77-14b4-4ab0-a8e4-f3624fb1aa3b",
   "metadata": {},
   "outputs": [],
   "source": [
    "#import logging\n",
    "\n",
    "# Set up logging configuration\n",
    "#logging.basicConfig(level=logging.INFO, format='%(asctime)s - %(levelname)s - %(message)s')\n",
    "\n",
    "def divide_numbers(a, b):\n",
    "    try:\n",
    "        result = a / b\n",
    "        #logging.info(f\"Division successful: {a} / {b} = {result}\")\n",
    "        return result\n",
    "    except Exception as e:\n",
    "        print(e)\n",
    "        #logging.exception(\"Exception occurred\")\n",
    "    return None"
   ]
  },
  {
   "cell_type": "code",
   "execution_count": 8,
   "id": "1951b2c4-2f36-4508-a145-ef06f47f95ed",
   "metadata": {},
   "outputs": [
    {
     "data": {
      "text/plain": [
       "2.0"
      ]
     },
     "execution_count": 8,
     "metadata": {},
     "output_type": "execute_result"
    }
   ],
   "source": [
    "divide_numbers(4, 2)"
   ]
  },
  {
   "cell_type": "code",
   "execution_count": 9,
   "id": "cccc9464-50ff-4209-86b3-bd4139fb0c5b",
   "metadata": {},
   "outputs": [
    {
     "name": "stdout",
     "output_type": "stream",
     "text": [
      "division by zero\n"
     ]
    }
   ],
   "source": [
    "divide_numbers(4, 0)"
   ]
  },
  {
   "cell_type": "code",
   "execution_count": null,
   "id": "7ffc8b16-cbc9-49d4-9d80-bdec714000d5",
   "metadata": {},
   "outputs": [],
   "source": [
    "#import logging\n",
    "\n",
    "# Configure logging to output messages to the console\n",
    "#logging.basicConfig(level=logging.INFO, format='%(asctime)s - %(levelname)s - %(message)s')\n",
    "\n",
    "def divide_by_number(num):\n",
    "    try:\n",
    "        # Perform the division\n",
    "        result = 100 / num\n",
    "        # Log the result\n",
    "        logging.info(f'The result of 100 divided by {num} is {result}')\n",
    "    except ZeroDivisionError:\n",
    "        # Handle the division by zero error\n",
    "        logging.error('Error: Division by zero is not allowed.')\n",
    "    except Exception as e:\n",
    "        # Handle any other exceptions\n",
    "        logging.error(f'An unexpected error occurred: {e}')\n",
    "\n",
    "# Example usage\n",
    "divide_by_number(10)  # This will work\n",
    "divide_by_number(0)   # This will raise a ZeroDivisionError"
   ]
  },
  {
   "cell_type": "code",
   "execution_count": null,
   "id": "e4628e11-b396-42ee-a703-64dbfe7c46a4",
   "metadata": {},
   "outputs": [],
   "source": [
    "def safe_divide(numerator, denominator):\n",
    "    \"\"\"\n",
    "    Safely divides two numbers with detailed logging and error handling.\n",
    "    \n",
    "    Parameters:\n",
    "    - numerator: The number to be divided.\n",
    "    - denominator: The number by which to divide.\n",
    "    \n",
    "    Returns:\n",
    "    - The result of the division if successful, None otherwise.\n",
    "    \"\"\"\n",
    "    logger = logging.getLogger(__name__)\n",
    "    \n",
    "    try:\n",
    "        # Ensure denominator is not zero\n",
    "        if denominator == 0:\n",
    "            raise ValueError('Denominator cannot be zero.')\n",
    "        \n",
    "        result = numerator / denominator\n",
    "        logger.info(f'Successfully divided {numerator} by {denominator}. Result: {result}')\n",
    "        return result\n",
    "    \n",
    "    except ValueError as ve:\n",
    "        logger.error(f'ValueError occurred: {ve}')\n",
    "    except ZeroDivisionError as zde:\n",
    "        logger.error(f'ZeroDivisionError occurred: {zde}')\n",
    "    except Exception as e:\n",
    "        logger.error(f'Unexpected error occurred: {e}')\n",
    "    \n",
    "    return None\n",
    "\n"
   ]
  },
  {
   "cell_type": "code",
   "execution_count": null,
   "id": "12523cf7-d058-49c7-a432-29f5110bca83",
   "metadata": {},
   "outputs": [],
   "source": [
    "# Example usage\n",
    "if __name__ == \"__main__\":\n",
    "    safe_divide(100, 10)  # This will log a successful division\n",
    "    safe_divide(100, 0)   # This will log an error for zero denominator\n",
    "    safe_divide(100, 'a') # This will log an error for invalid input"
   ]
  },
  {
   "cell_type": "markdown",
   "id": "39e6f48f-3d50-4049-a791-beabd417a8c7",
   "metadata": {},
   "source": [
    "### list comprehension "
   ]
  },
  {
   "cell_type": "code",
   "execution_count": 10,
   "id": "29c3b77f-1a6d-4906-ab59-5b91664134bb",
   "metadata": {},
   "outputs": [],
   "source": [
    "lis = [4,6,8,3,6,4]"
   ]
  },
  {
   "cell_type": "code",
   "execution_count": 11,
   "id": "1afd47d1-4e7c-446d-874f-3abf87822937",
   "metadata": {},
   "outputs": [
    {
     "name": "stdout",
     "output_type": "stream",
     "text": [
      "4\n",
      "6\n",
      "8\n",
      "3\n",
      "6\n",
      "4\n"
     ]
    }
   ],
   "source": [
    "for i in lis:\n",
    "    print(i)"
   ]
  },
  {
   "cell_type": "code",
   "execution_count": 12,
   "id": "b0f06f54-f9c9-4e2e-a5e8-7a9a60ec8c03",
   "metadata": {},
   "outputs": [
    {
     "data": {
      "text/plain": [
       "[4, 6, 8, 3, 6, 4]"
      ]
     },
     "execution_count": 12,
     "metadata": {},
     "output_type": "execute_result"
    }
   ],
   "source": [
    "[i for i in lis]"
   ]
  },
  {
   "cell_type": "code",
   "execution_count": 13,
   "id": "8de62a45-eaae-4162-bb12-c0d05b675227",
   "metadata": {},
   "outputs": [
    {
     "data": {
      "text/plain": [
       "[16, 36, 64, 9, 36, 16]"
      ]
     },
     "execution_count": 13,
     "metadata": {},
     "output_type": "execute_result"
    }
   ],
   "source": [
    "[i**2 for i in lis]"
   ]
  },
  {
   "cell_type": "code",
   "execution_count": 14,
   "id": "dd1057f8-1105-400f-b7fc-6c7377ac8687",
   "metadata": {},
   "outputs": [],
   "source": [
    "strvar = \"data science\""
   ]
  },
  {
   "cell_type": "code",
   "execution_count": 15,
   "id": "c986786c-2ae1-4692-b2f5-9a27d2941557",
   "metadata": {},
   "outputs": [
    {
     "data": {
      "text/plain": [
       "['d', 'a', 't', 'a', ' ', 's', 'c', 'i', 'e', 'n', 'c', 'e']"
      ]
     },
     "execution_count": 15,
     "metadata": {},
     "output_type": "execute_result"
    }
   ],
   "source": [
    "[i for i in strvar]"
   ]
  },
  {
   "cell_type": "code",
   "execution_count": 16,
   "id": "0a3f2b8f-e30f-4607-80b4-ef0de3fb6a84",
   "metadata": {},
   "outputs": [
    {
     "data": {
      "text/plain": [
       "<generator object <genexpr> at 0x0000023E6EE11490>"
      ]
     },
     "execution_count": 16,
     "metadata": {},
     "output_type": "execute_result"
    }
   ],
   "source": [
    "(i for i in strvar)"
   ]
  },
  {
   "cell_type": "code",
   "execution_count": 17,
   "id": "72263f9d-f946-4097-89eb-805d1945a3ea",
   "metadata": {},
   "outputs": [
    {
     "data": {
      "text/plain": [
       "[{4, int}, {6, int}, {8, int}, {3, int}, {6, int}, {4, int}]"
      ]
     },
     "execution_count": 17,
     "metadata": {},
     "output_type": "execute_result"
    }
   ],
   "source": [
    "[{type(i), i} for i in lis]"
   ]
  },
  {
   "cell_type": "code",
   "execution_count": 18,
   "id": "f9ab5c97-defb-4c70-b5c6-a5fb69e12a15",
   "metadata": {},
   "outputs": [
    {
     "data": {
      "text/plain": [
       "[(int, 4), (int, 6), (int, 8), (int, 3), (int, 6), (int, 4)]"
      ]
     },
     "execution_count": 18,
     "metadata": {},
     "output_type": "execute_result"
    }
   ],
   "source": [
    "[(type(i), i) for i in lis]"
   ]
  },
  {
   "cell_type": "code",
   "execution_count": 19,
   "id": "a07e8881-10e3-40e1-949f-a4ed3f756384",
   "metadata": {},
   "outputs": [
    {
     "data": {
      "text/plain": [
       "[[int, 4], [int, 6], [int, 8], [int, 3], [int, 6], [int, 4]]"
      ]
     },
     "execution_count": 19,
     "metadata": {},
     "output_type": "execute_result"
    }
   ],
   "source": [
    "[[type(i), i] for i in lis]"
   ]
  },
  {
   "cell_type": "code",
   "execution_count": 21,
   "id": "0a1c3010-1145-45fa-b5b6-b8463ee6f73b",
   "metadata": {},
   "outputs": [
    {
     "ename": "SyntaxError",
     "evalue": "invalid syntax. Perhaps you forgot a comma? (2398758499.py, line 1)",
     "output_type": "error",
     "traceback": [
      "\u001b[1;36m  Cell \u001b[1;32mIn[21], line 1\u001b[1;36m\u001b[0m\n\u001b[1;33m    [type(i) i for i in lis]\u001b[0m\n\u001b[1;37m     ^\u001b[0m\n\u001b[1;31mSyntaxError\u001b[0m\u001b[1;31m:\u001b[0m invalid syntax. Perhaps you forgot a comma?\n"
     ]
    }
   ],
   "source": [
    "[type(i) i for i in lis]"
   ]
  },
  {
   "cell_type": "code",
   "execution_count": 22,
   "id": "bccf7a6b-6699-4573-b94d-cc2e600198db",
   "metadata": {},
   "outputs": [
    {
     "name": "stdout",
     "output_type": "stream",
     "text": [
      "[1, 4, 9, 16, 25]\n"
     ]
    }
   ],
   "source": [
    "numbers = [1, 2, 3, 4, 5]\n",
    "\n",
    "squared = [i ** 2 for i in numbers]\n",
    "print(squared)"
   ]
  },
  {
   "cell_type": "code",
   "execution_count": 23,
   "id": "a6ed8a4a-4259-4d23-a558-145792c0db67",
   "metadata": {},
   "outputs": [
    {
     "name": "stdout",
     "output_type": "stream",
     "text": [
      "[0, 2, 4, 6, 8, 10]\n"
     ]
    }
   ],
   "source": [
    "list = [i for i in range(11) if i % 2 == 0]\n",
    "print(list)"
   ]
  },
  {
   "cell_type": "code",
   "execution_count": 24,
   "id": "84b9e9fd-7d18-4ec5-81fa-5f768b7e34af",
   "metadata": {},
   "outputs": [
    {
     "name": "stdout",
     "output_type": "stream",
     "text": [
      "[{0, <class 'int'>}, {<class 'int'>, 2}, {<class 'int'>, 4}, {<class 'int'>, 6}, {8, <class 'int'>}, {<class 'int'>, 10}]\n"
     ]
    }
   ],
   "source": [
    "list = [{type(i), i} for i in range(11) if i % 2 == 0]\n",
    "print(list)"
   ]
  },
  {
   "cell_type": "code",
   "execution_count": 25,
   "id": "edbd687e-2c51-4142-bbbc-5ee9f86063f7",
   "metadata": {},
   "outputs": [
    {
     "name": "stdout",
     "output_type": "stream",
     "text": [
      "[[0, 1, 2, 3], [0, 1, 2, 3], [0, 1, 2, 3], [0, 1, 2, 3]]\n"
     ]
    }
   ],
   "source": [
    "matrix = [[j for j in range(4)] for i in range(4)]\n",
    "\n",
    "print(matrix)"
   ]
  },
  {
   "cell_type": "code",
   "execution_count": 26,
   "id": "3a8a67d6-2190-4bba-8f41-4d7faa4b9a8a",
   "metadata": {},
   "outputs": [],
   "source": [
    "def list_comprehension(n):\n",
    "    return [i**2 for i in range(n)]"
   ]
  },
  {
   "cell_type": "code",
   "execution_count": 27,
   "id": "f18ff893-d313-48ab-bda0-de6bcc353be0",
   "metadata": {},
   "outputs": [
    {
     "data": {
      "text/plain": [
       "[0, 1, 4]"
      ]
     },
     "execution_count": 27,
     "metadata": {},
     "output_type": "execute_result"
    }
   ],
   "source": [
    "list_comprehension(3)"
   ]
  },
  {
   "cell_type": "code",
   "execution_count": 28,
   "id": "33823342-c5fa-4240-8966-0c97deada95d",
   "metadata": {},
   "outputs": [
    {
     "name": "stdout",
     "output_type": "stream",
     "text": [
      "['Even number', 'Odd number', 'Even number', 'Odd number', 'Even number', 'Odd number', 'Even number', 'Odd number']\n"
     ]
    }
   ],
   "source": [
    "lis = [\"Even number\" if i % 2 == 0 else \"Odd number\" for i in range(8)]\n",
    "print(lis)"
   ]
  },
  {
   "cell_type": "code",
   "execution_count": 29,
   "id": "f56d90f6-22a1-4581-ba89-e6c2f09c2505",
   "metadata": {},
   "outputs": [
    {
     "name": "stdout",
     "output_type": "stream",
     "text": [
      "[0, 15, 30, 45, 60, 75, 90]\n"
     ]
    }
   ],
   "source": [
    "lis = [i for i in range(100)  if i % 5 == 0 if i % 3 == 0]\n",
    "print(lis)"
   ]
  },
  {
   "cell_type": "code",
   "execution_count": 30,
   "id": "7ad440f6-6edd-441e-a15e-3ee379f11ada",
   "metadata": {},
   "outputs": [
    {
     "data": {
      "text/plain": [
       "[[0, 1, 2, 3, 4],\n",
       " [0, 1, 2, 3, 4],\n",
       " [0, 1, 2, 3, 4],\n",
       " [0, 1, 2, 3, 4],\n",
       " [0, 1, 2, 3, 4],\n",
       " [0, 1, 2, 3, 4]]"
      ]
     },
     "execution_count": 30,
     "metadata": {},
     "output_type": "execute_result"
    }
   ],
   "source": [
    "matrix = [[i for i in range(5) ]for _ in range(6)]\n",
    "matrix"
   ]
  },
  {
   "cell_type": "code",
   "execution_count": 32,
   "id": "b6cfa804-0adc-45eb-9fb3-43f03205d002",
   "metadata": {},
   "outputs": [
    {
     "name": "stdout",
     "output_type": "stream",
     "text": [
      "['Even number', 'Odd number', 'Even number', 'Odd number', 'Even number', 'Odd number', 'Even number', 'Odd number']\n"
     ]
    }
   ],
   "source": [
    "lis = [\"Even number\" if i % 2 == 0  else \"Odd number\" for i in range(8)]\n",
    "print(lis)"
   ]
  },
  {
   "cell_type": "markdown",
   "id": "e707a9eb-357a-46b6-a08e-febd2d1c3c9a",
   "metadata": {},
   "source": [
    "# Lambda function"
   ]
  },
  {
   "cell_type": "code",
   "execution_count": 34,
   "id": "4dc9c412-be3d-4b20-b2bd-2a0149919d93",
   "metadata": {},
   "outputs": [],
   "source": [
    "var = lambda a , b : a + b "
   ]
  },
  {
   "cell_type": "code",
   "execution_count": 35,
   "id": "2d0b01c7-61f3-4f55-81c2-2c040d9e9c6c",
   "metadata": {},
   "outputs": [
    {
     "data": {
      "text/plain": [
       "9"
      ]
     },
     "execution_count": 35,
     "metadata": {},
     "output_type": "execute_result"
    }
   ],
   "source": [
    "var(2,7)"
   ]
  },
  {
   "cell_type": "code",
   "execution_count": 36,
   "id": "af65da48-bab2-4afe-9a83-ddeaf800d75f",
   "metadata": {},
   "outputs": [],
   "source": [
    "str1 = 'python is a data science language'\n",
    "\n",
    "upper = lambda string_var: string_var.upper()"
   ]
  },
  {
   "cell_type": "code",
   "execution_count": 37,
   "id": "e5c23d0f-74a3-4e2a-9257-504ce36e7956",
   "metadata": {},
   "outputs": [
    {
     "data": {
      "text/plain": [
       "'PYTHON IS A DATA SCIENCE LANGUAGE'"
      ]
     },
     "execution_count": 37,
     "metadata": {},
     "output_type": "execute_result"
    }
   ],
   "source": [
    "upper(str1)"
   ]
  },
  {
   "cell_type": "code",
   "execution_count": 38,
   "id": "1c0fc870-80be-4dbd-8dec-7cf8a3992fab",
   "metadata": {},
   "outputs": [],
   "source": [
    "upper1 = lambda string_var: string_var.upper()"
   ]
  },
  {
   "cell_type": "code",
   "execution_count": 39,
   "id": "92245fe9-0487-4ace-acf0-b74dad214f60",
   "metadata": {},
   "outputs": [
    {
     "data": {
      "text/plain": [
       "'PYTHON IS A DATA SCIENCE LANGUAGE'"
      ]
     },
     "execution_count": 39,
     "metadata": {},
     "output_type": "execute_result"
    }
   ],
   "source": [
    "upper1(str1)"
   ]
  },
  {
   "cell_type": "code",
   "execution_count": 40,
   "id": "5b614ea2-7d06-4817-bd6b-669b05034b91",
   "metadata": {},
   "outputs": [
    {
     "data": {
      "text/plain": [
       "'PYTHON IS A DATA SCIENCE LANGUAGE'"
      ]
     },
     "execution_count": 40,
     "metadata": {},
     "output_type": "execute_result"
    }
   ],
   "source": [
    "upper(str1)"
   ]
  },
  {
   "cell_type": "code",
   "execution_count": 41,
   "id": "ef19e8ad-591b-444e-a3b0-bd5ecac18d18",
   "metadata": {},
   "outputs": [],
   "source": [
    "is_even_list = [lambda arg=x: arg * 10 for x in range(1, 5)]"
   ]
  },
  {
   "cell_type": "code",
   "execution_count": 42,
   "id": "1b853742-751b-486c-971c-9438ab538ef2",
   "metadata": {},
   "outputs": [
    {
     "data": {
      "text/plain": [
       "[<function __main__.<listcomp>.<lambda>(arg=1)>,\n",
       " <function __main__.<listcomp>.<lambda>(arg=2)>,\n",
       " <function __main__.<listcomp>.<lambda>(arg=3)>,\n",
       " <function __main__.<listcomp>.<lambda>(arg=4)>]"
      ]
     },
     "execution_count": 42,
     "metadata": {},
     "output_type": "execute_result"
    }
   ],
   "source": [
    "is_even_list"
   ]
  },
  {
   "cell_type": "code",
   "execution_count": 43,
   "id": "677f6786-e479-431b-93e2-ea1c98bac101",
   "metadata": {},
   "outputs": [
    {
     "name": "stdout",
     "output_type": "stream",
     "text": [
      "10\n",
      "20\n",
      "30\n",
      "40\n"
     ]
    }
   ],
   "source": [
    "for item in is_even_list:\n",
    "    print(item())"
   ]
  },
  {
   "cell_type": "code",
   "execution_count": 44,
   "id": "32d6aa26-77e8-4317-aaa9-2badec457f04",
   "metadata": {},
   "outputs": [],
   "source": [
    "Max = lambda a, b : a if(a > b) else b"
   ]
  },
  {
   "cell_type": "code",
   "execution_count": 45,
   "id": "4064c7e8-54be-4ba1-8f33-5efa74be96fe",
   "metadata": {},
   "outputs": [
    {
     "data": {
      "text/plain": [
       "20"
      ]
     },
     "execution_count": 45,
     "metadata": {},
     "output_type": "execute_result"
    }
   ],
   "source": [
    "Max(10,20)"
   ]
  },
  {
   "cell_type": "code",
   "execution_count": 46,
   "id": "29df6988-924f-4b09-be19-413315e5082a",
   "metadata": {},
   "outputs": [],
   "source": [
    "List = [[2,3,4],[1, 4, 16, 64],[3, 6, 9, 12]]\n",
    "\n",
    "sortList = lambda x: (sorted(i) for i in x)"
   ]
  },
  {
   "cell_type": "code",
   "execution_count": 47,
   "id": "ef389209-8a7c-4ce1-b1ea-e0c145fb6687",
   "metadata": {},
   "outputs": [
    {
     "data": {
      "text/plain": [
       "<generator object <lambda>.<locals>.<genexpr> at 0x0000023E6EE05A80>"
      ]
     },
     "execution_count": 47,
     "metadata": {},
     "output_type": "execute_result"
    }
   ],
   "source": [
    "sortList(List)"
   ]
  },
  {
   "cell_type": "code",
   "execution_count": 50,
   "id": "c8555f26-2f9a-4552-ad7e-ded47ca34fc4",
   "metadata": {},
   "outputs": [],
   "source": [
    "List = [[20,3,4],[1, 4, 66, 64],[30, 66, 9, 12]]\n",
    "\n",
    "sortList = lambda x: [sorted(i) for i in x]"
   ]
  },
  {
   "cell_type": "code",
   "execution_count": 51,
   "id": "6be1b92a-894b-41e3-baed-ff80c56dafd7",
   "metadata": {},
   "outputs": [
    {
     "data": {
      "text/plain": [
       "[[3, 4, 20], [1, 4, 64, 66], [9, 12, 30, 66]]"
      ]
     },
     "execution_count": 51,
     "metadata": {},
     "output_type": "execute_result"
    }
   ],
   "source": [
    "sortList(List)"
   ]
  },
  {
   "cell_type": "code",
   "execution_count": null,
   "id": "64142bb4-bf8d-490b-85eb-52293244e177",
   "metadata": {},
   "outputs": [],
   "source": []
  }
 ],
 "metadata": {
  "kernelspec": {
   "display_name": "Python 3 (ipykernel)",
   "language": "python",
   "name": "python3"
  },
  "language_info": {
   "codemirror_mode": {
    "name": "ipython",
    "version": 3
   },
   "file_extension": ".py",
   "mimetype": "text/x-python",
   "name": "python",
   "nbconvert_exporter": "python",
   "pygments_lexer": "ipython3",
   "version": "3.11.7"
  }
 },
 "nbformat": 4,
 "nbformat_minor": 5
}
