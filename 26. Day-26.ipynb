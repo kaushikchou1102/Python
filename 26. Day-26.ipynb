{
 "cells": [
  {
   "cell_type": "markdown",
   "id": "1814ad14-e1a6-43dd-8043-3064060c7c65",
   "metadata": {},
   "source": [
    "# Oops"
   ]
  },
  {
   "cell_type": "code",
   "execution_count": 2,
   "id": "6b719cab-006a-440b-ae75-cb3c4d2961d4",
   "metadata": {},
   "outputs": [],
   "source": [
    "class person:\n",
    "     def __init__(self, name, surname, emailid , year_of_birth):    \n",
    "            self.name = name\n",
    "            self.surname = surname\n",
    "            self.emailid = emailid\n",
    "            self.year_of_birth = year_of_birth"
   ]
  },
  {
   "cell_type": "code",
   "execution_count": 4,
   "id": "a8eb9106-990d-42b1-961d-0efc60a963e9",
   "metadata": {},
   "outputs": [],
   "source": [
    "obj = person(\"john\", \"tata\", \"john@gmail.com\", 2000)"
   ]
  },
  {
   "cell_type": "code",
   "execution_count": 5,
   "id": "63a571b3-405a-4e89-97d6-01e9127717db",
   "metadata": {},
   "outputs": [
    {
     "data": {
      "text/plain": [
       "'tata'"
      ]
     },
     "execution_count": 5,
     "metadata": {},
     "output_type": "execute_result"
    }
   ],
   "source": [
    "obj.surname"
   ]
  },
  {
   "cell_type": "code",
   "execution_count": 6,
   "id": "2eef58a2-5376-4351-bd9a-0147847ddf86",
   "metadata": {},
   "outputs": [
    {
     "data": {
      "text/plain": [
       "'john'"
      ]
     },
     "execution_count": 6,
     "metadata": {},
     "output_type": "execute_result"
    }
   ],
   "source": [
    "obj.name"
   ]
  },
  {
   "cell_type": "code",
   "execution_count": 7,
   "id": "8bf01890-9418-4d1d-b777-a0a4aaff7544",
   "metadata": {},
   "outputs": [],
   "source": [
    "obj1 = person(\"ROHIT\", \"SHARMA\", \"SHARMA@gmail.com\", 1987)"
   ]
  },
  {
   "cell_type": "code",
   "execution_count": 8,
   "id": "46c523cd-ed65-4ec1-82a4-7fec2ab3ec4b",
   "metadata": {},
   "outputs": [
    {
     "data": {
      "text/plain": [
       "1987"
      ]
     },
     "execution_count": 8,
     "metadata": {},
     "output_type": "execute_result"
    }
   ],
   "source": [
    "obj1.year_of_birth"
   ]
  },
  {
   "cell_type": "code",
   "execution_count": 10,
   "id": "0fb2fda4-b581-4558-821c-57310418a0ad",
   "metadata": {},
   "outputs": [
    {
     "name": "stdout",
     "output_type": "stream",
     "text": [
      "<__main__.person object at 0x000001D78E6D7550>\n"
     ]
    }
   ],
   "source": [
    "print(obj1)"
   ]
  },
  {
   "cell_type": "code",
   "execution_count": 11,
   "id": "952e25ad-3690-4272-8e08-17100f2ea34b",
   "metadata": {},
   "outputs": [],
   "source": [
    "##################################"
   ]
  },
  {
   "cell_type": "code",
   "execution_count": 18,
   "id": "62782439-904b-4b17-ac1c-0d24ff488142",
   "metadata": {},
   "outputs": [],
   "source": [
    "class person1:\n",
    "\n",
    "    def __init__(self, name, surname, emailid, year_of_birth):\n",
    "        self.name = name\n",
    "        self.surname = surname\n",
    "        self.emailid = emailid\n",
    "        self.year_of_birth = year_of_birth\n",
    "        \n",
    "    def __init__(self, name,  year_of_birth):\n",
    "        self.name = name\n",
    "        self. year_of_birth= year_of_birth\n",
    "\n",
    "    def __init__(self, name, surname, year_of_birth):\n",
    "        self.name = name\n",
    "        self.surname = surname \n",
    "        self. year_of_birth= year_of_birth \n",
    "    \n",
    "        \n",
    "    def age(self, curretn_year):\n",
    "        return curretn_year - self.year_of_birth "
   ]
  },
  {
   "cell_type": "code",
   "execution_count": 20,
   "id": "30596622-04a1-4441-8bb3-1f9e716cac5d",
   "metadata": {},
   "outputs": [],
   "source": [
    "obj2 = person1(\"sagar\", \"kumar\", 2001)"
   ]
  },
  {
   "cell_type": "code",
   "execution_count": 24,
   "id": "1b0b0538-51ec-492e-9178-db6824dce9cb",
   "metadata": {},
   "outputs": [
    {
     "data": {
      "text/plain": [
       "'sagar'"
      ]
     },
     "execution_count": 24,
     "metadata": {},
     "output_type": "execute_result"
    }
   ],
   "source": [
    "obj2.name"
   ]
  },
  {
   "cell_type": "code",
   "execution_count": 26,
   "id": "5244b7a2-7f82-4a4f-b339-769a2d06ae17",
   "metadata": {},
   "outputs": [
    {
     "data": {
      "text/plain": [
       "23"
      ]
     },
     "execution_count": 26,
     "metadata": {},
     "output_type": "execute_result"
    }
   ],
   "source": [
    "obj2.age(2024)"
   ]
  },
  {
   "cell_type": "code",
   "execution_count": null,
   "id": "3303b771-d5f7-416c-99dc-0952f25c5c21",
   "metadata": {},
   "outputs": [],
   "source": [
    "#########################################################################"
   ]
  },
  {
   "cell_type": "code",
   "execution_count": null,
   "id": "921482a9-7780-4ee8-bf9c-1881d3ed07ba",
   "metadata": {},
   "outputs": [],
   "source": []
  },
  {
   "cell_type": "code",
   "execution_count": 31,
   "id": "9103a461-530b-4935-82a4-f52f7796ad10",
   "metadata": {},
   "outputs": [],
   "source": [
    "class person2:\n",
    "\n",
    "    def __init__(self, name, surname, emailid, year_of_birth):\n",
    "        self.name1 = name\n",
    "        self.surname1 = surname\n",
    "        self.emailid1 = emailid\n",
    "        self.year_of_birth = year_of_birth\n",
    "           \n",
    "    def age(self, curretn_year):\n",
    "        return curretn_year - self.year_of_birth \n",
    "    \n",
    "    def age_2(self, curretn_year):\n",
    "        return curretn_year \n",
    "        "
   ]
  },
  {
   "cell_type": "code",
   "execution_count": 33,
   "id": "a2eddff7-ec5c-4523-b24b-f7332327cfa2",
   "metadata": {},
   "outputs": [],
   "source": [
    "obj3 = person2(\"rohit\", \"patil\", \"rohit@gmail.com\", 2002)"
   ]
  },
  {
   "cell_type": "code",
   "execution_count": 34,
   "id": "fc03a7bb-848d-47b5-81ca-0a7464d2c781",
   "metadata": {},
   "outputs": [
    {
     "data": {
      "text/plain": [
       "'rohit'"
      ]
     },
     "execution_count": 34,
     "metadata": {},
     "output_type": "execute_result"
    }
   ],
   "source": [
    "obj3.name1"
   ]
  },
  {
   "cell_type": "code",
   "execution_count": 35,
   "id": "e57994cc-3410-4c9f-bab5-03092555afc1",
   "metadata": {},
   "outputs": [
    {
     "data": {
      "text/plain": [
       "2024"
      ]
     },
     "execution_count": 35,
     "metadata": {},
     "output_type": "execute_result"
    }
   ],
   "source": [
    "obj3.age_2(2024)"
   ]
  },
  {
   "cell_type": "code",
   "execution_count": 36,
   "id": "925dac7a-2770-45df-b9f9-e1b3ee0b18df",
   "metadata": {},
   "outputs": [
    {
     "data": {
      "text/plain": [
       "22"
      ]
     },
     "execution_count": 36,
     "metadata": {},
     "output_type": "execute_result"
    }
   ],
   "source": [
    "obj3.age(2024)"
   ]
  },
  {
   "cell_type": "code",
   "execution_count": 37,
   "id": "bbf2475c-0beb-446b-b41a-d7abcd41ea87",
   "metadata": {},
   "outputs": [],
   "source": [
    "#############################################"
   ]
  },
  {
   "cell_type": "code",
   "execution_count": null,
   "id": "f73bb196-99e1-4b7f-a94e-50c557edde3b",
   "metadata": {},
   "outputs": [],
   "source": []
  },
  {
   "cell_type": "code",
   "execution_count": 38,
   "id": "26fb104d-e9d1-438c-803d-2135e8da9927",
   "metadata": {},
   "outputs": [],
   "source": [
    "class person3 :\n",
    "    \n",
    "    def __init__(self , name ,surname , yob):\n",
    "        self._name1 = name                 # single _ means private \n",
    "        self.__surname1 = surname          #  double __ means protective\n",
    "        self.yob1 = yob                    # public "
   ]
  },
  {
   "cell_type": "code",
   "execution_count": 39,
   "id": "5298ad45-e625-4be1-96b2-7e0255f81fa8",
   "metadata": {},
   "outputs": [],
   "source": [
    "obj4 = person3(\"rahul\", \"deo\", 1999)"
   ]
  },
  {
   "cell_type": "code",
   "execution_count": 40,
   "id": "471aa611-c425-49a7-8000-6b625d1576c5",
   "metadata": {},
   "outputs": [
    {
     "data": {
      "text/plain": [
       "1999"
      ]
     },
     "execution_count": 40,
     "metadata": {},
     "output_type": "execute_result"
    }
   ],
   "source": [
    "obj4.yob1"
   ]
  },
  {
   "cell_type": "code",
   "execution_count": 41,
   "id": "b73af3e0-0117-4f47-a35d-588b13344256",
   "metadata": {},
   "outputs": [
    {
     "data": {
      "text/plain": [
       "'rahul'"
      ]
     },
     "execution_count": 41,
     "metadata": {},
     "output_type": "execute_result"
    }
   ],
   "source": [
    "obj4._name1"
   ]
  },
  {
   "cell_type": "code",
   "execution_count": 42,
   "id": "f0d7af48-ea04-4f43-8506-8b1ce0e890b0",
   "metadata": {},
   "outputs": [
    {
     "ename": "AttributeError",
     "evalue": "'person3' object has no attribute '__surname1'",
     "output_type": "error",
     "traceback": [
      "\u001b[1;31m---------------------------------------------------------------------------\u001b[0m",
      "\u001b[1;31mAttributeError\u001b[0m                            Traceback (most recent call last)",
      "Cell \u001b[1;32mIn[42], line 1\u001b[0m\n\u001b[1;32m----> 1\u001b[0m obj4\u001b[38;5;241m.\u001b[39m__surname1\n",
      "\u001b[1;31mAttributeError\u001b[0m: 'person3' object has no attribute '__surname1'"
     ]
    }
   ],
   "source": [
    "obj4.__surname1"
   ]
  },
  {
   "cell_type": "code",
   "execution_count": 43,
   "id": "7c153861-93f9-4509-8d92-da6115f74be7",
   "metadata": {},
   "outputs": [
    {
     "data": {
      "text/plain": [
       "'deo'"
      ]
     },
     "execution_count": 43,
     "metadata": {},
     "output_type": "execute_result"
    }
   ],
   "source": [
    "obj4._person3__surname1"
   ]
  },
  {
   "cell_type": "code",
   "execution_count": 48,
   "id": "ec8f19dc-95b2-4f67-ae88-ab20e64f5083",
   "metadata": {},
   "outputs": [],
   "source": [
    "##############################################"
   ]
  },
  {
   "cell_type": "code",
   "execution_count": null,
   "id": "b8dbe18a-62ea-4d0e-b8af-7ec07e439b1a",
   "metadata": {},
   "outputs": [],
   "source": []
  },
  {
   "cell_type": "code",
   "execution_count": 49,
   "id": "a40b9a68-1ebf-403a-8157-3d5142c0d304",
   "metadata": {},
   "outputs": [],
   "source": [
    "class person4:                             # parents class\n",
    "\n",
    "    name = \"amit\"\n",
    "    surname = \"kumar\"\n",
    "    yob = 1990\n",
    "\n",
    "    def age(self , current_year ):\n",
    "        return current_year - self.yob\n",
    "    \n",
    "    def age1(self , current_year ):\n",
    "        return current_year - self.yob\n",
    "\n",
    "\n",
    "\n",
    "class employee(person4):           #child class\n",
    "    name = \"amit\"\n",
    "    surname = \"singh\"\n",
    "    yob = 1991\n"
   ]
  },
  {
   "cell_type": "code",
   "execution_count": 50,
   "id": "d7d1eb18-0fa7-46a2-a8c0-a148afa83299",
   "metadata": {},
   "outputs": [],
   "source": [
    "obj5 = employee()\n",
    "# inheritense "
   ]
  },
  {
   "cell_type": "code",
   "execution_count": 51,
   "id": "593fc83c-352c-4e33-8938-b1992194a809",
   "metadata": {},
   "outputs": [
    {
     "data": {
      "text/plain": [
       "'amit'"
      ]
     },
     "execution_count": 51,
     "metadata": {},
     "output_type": "execute_result"
    }
   ],
   "source": [
    "obj5.name"
   ]
  },
  {
   "cell_type": "code",
   "execution_count": 52,
   "id": "35f15075-b7e1-4ca5-ab8a-9a4205176695",
   "metadata": {},
   "outputs": [
    {
     "data": {
      "text/plain": [
       "'singh'"
      ]
     },
     "execution_count": 52,
     "metadata": {},
     "output_type": "execute_result"
    }
   ],
   "source": [
    "obj5.surname"
   ]
  },
  {
   "cell_type": "code",
   "execution_count": 53,
   "id": "d391e942-951c-44a0-bbf7-7c168d756477",
   "metadata": {},
   "outputs": [],
   "source": [
    "obj6 = person4()"
   ]
  },
  {
   "cell_type": "code",
   "execution_count": 54,
   "id": "ee7a78cd-0916-4775-a7b6-7b90b811345d",
   "metadata": {},
   "outputs": [
    {
     "data": {
      "text/plain": [
       "'kumar'"
      ]
     },
     "execution_count": 54,
     "metadata": {},
     "output_type": "execute_result"
    }
   ],
   "source": [
    "obj6.surname"
   ]
  },
  {
   "cell_type": "code",
   "execution_count": 55,
   "id": "b5d6a167-4bf5-49f9-ad8a-e134356b4860",
   "metadata": {},
   "outputs": [
    {
     "data": {
      "text/plain": [
       "34"
      ]
     },
     "execution_count": 55,
     "metadata": {},
     "output_type": "execute_result"
    }
   ],
   "source": [
    "obj6.age1(2024)"
   ]
  },
  {
   "cell_type": "code",
   "execution_count": 56,
   "id": "038a36db-9743-4818-886d-5964400390eb",
   "metadata": {},
   "outputs": [
    {
     "data": {
      "text/plain": [
       "33"
      ]
     },
     "execution_count": 56,
     "metadata": {},
     "output_type": "execute_result"
    }
   ],
   "source": [
    "obj5.age1(2024)"
   ]
  },
  {
   "cell_type": "code",
   "execution_count": null,
   "id": "0bad243a-6474-4ee7-9c77-59af4cec1d53",
   "metadata": {},
   "outputs": [],
   "source": []
  },
  {
   "cell_type": "code",
   "execution_count": 58,
   "id": "6c1a1ec8-f895-4075-8ed4-5bd06cbfd75e",
   "metadata": {},
   "outputs": [
    {
     "name": "stdout",
     "output_type": "stream",
     "text": [
      "<__main__.tata object at 0x000001D78ED69490>\n",
      "milage of this car \n",
      "None\n"
     ]
    }
   ],
   "source": [
    "class car :                 #perent class   \n",
    "                         # inheritence \n",
    "    def __init__(self , body , engin , tyre):\n",
    "        self.body = body\n",
    "        self.engin = engin\n",
    "        self.tyre = tyre\n",
    "\n",
    "    def milage (self):\n",
    "        print(\"milage of this car \") \n",
    "        \n",
    "        \n",
    "class tata(car):                #child class\n",
    "    pass\n",
    "\n",
    "t = tata(\"solid1\" , \"v8\" , \"radial1\")\n",
    "print(t)\n",
    "print(t.milage())        "
   ]
  },
  {
   "cell_type": "code",
   "execution_count": 57,
   "id": "a32b3a69-15ca-4836-9b18-cbff859bf575",
   "metadata": {},
   "outputs": [],
   "source": [
    "############################################################"
   ]
  },
  {
   "cell_type": "code",
   "execution_count": null,
   "id": "92e1fe53-3cea-453c-a8a6-36fae876d00a",
   "metadata": {},
   "outputs": [],
   "source": []
  },
  {
   "cell_type": "code",
   "execution_count": 59,
   "id": "0d6ce164-53e7-49cb-9a96-4c1cc207ea70",
   "metadata": {},
   "outputs": [],
   "source": [
    "class bank :             # perents class \n",
    "    def transaction(self) :\n",
    "        print(\"total transaction value \")\n",
    "    def account_opening(self):\n",
    "        print(\"this will show you your account open status \")\n",
    "    def deposite(self):\n",
    "        print(\"this will show your deposited amount\")\n",
    "\n",
    "\n",
    "class HDFC_bank(bank):             # child class\n",
    "    def hdfc_to_icici(self):\n",
    "        print(\"this will show you all the transaction happend to icici throuhg hdfc\")\n",
    "\n",
    "class icici(HDFC_bank):          # child class\n",
    "    pass                        \n",
    "\n",
    "# multilevel inheritence"
   ]
  },
  {
   "cell_type": "code",
   "execution_count": 62,
   "id": "e191ea47-ccb1-4af8-bb7f-bc8811d7f054",
   "metadata": {},
   "outputs": [],
   "source": [
    "obj7 = bank()\n",
    "obj8 = HDFC_bank()\n",
    "obj9 = icici()"
   ]
  },
  {
   "cell_type": "code",
   "execution_count": 64,
   "id": "d54f1309-ba95-491d-b2f0-588a131668b1",
   "metadata": {},
   "outputs": [
    {
     "name": "stdout",
     "output_type": "stream",
     "text": [
      "total transaction value \n"
     ]
    }
   ],
   "source": [
    "obj7.transaction()"
   ]
  },
  {
   "cell_type": "code",
   "execution_count": 65,
   "id": "b244481a-f612-42bd-8c02-74671b6685bb",
   "metadata": {},
   "outputs": [
    {
     "name": "stdout",
     "output_type": "stream",
     "text": [
      "this will show you all the transaction happend to icici throuhg hdfc\n"
     ]
    }
   ],
   "source": [
    "obj8.hdfc_to_icici()"
   ]
  },
  {
   "cell_type": "code",
   "execution_count": 66,
   "id": "1159d354-44ad-4838-a883-693da7ec0d31",
   "metadata": {},
   "outputs": [
    {
     "name": "stdout",
     "output_type": "stream",
     "text": [
      "this will show your deposited amount\n"
     ]
    }
   ],
   "source": [
    "obj9.deposite()"
   ]
  },
  {
   "cell_type": "code",
   "execution_count": 67,
   "id": "68d515cb-f42e-4a28-a6e1-7fe43a247652",
   "metadata": {},
   "outputs": [],
   "source": [
    "#####################################################"
   ]
  },
  {
   "cell_type": "code",
   "execution_count": null,
   "id": "6b6fc92b-d307-4e85-b09f-9312d5491861",
   "metadata": {},
   "outputs": [],
   "source": []
  },
  {
   "cell_type": "code",
   "execution_count": 68,
   "id": "393b2059-2204-48f5-bd8b-95547282dbad",
   "metadata": {},
   "outputs": [],
   "source": [
    "class bank :\n",
    "    def transaction(self) :\n",
    "        print(\"total transaction value \")\n",
    "    def account_opening(self):\n",
    "        print(\"this will show you your account open status \")\n",
    "    def deposite(self):\n",
    "        print(\"this will show your deposited amount\")\n",
    "    def test(self):                          # override code\n",
    "        print(\"this is a test methond form bank class \")\n",
    "\n",
    "\n",
    "class HDFC_bank:\n",
    "    def hdfc_to_icici(self):\n",
    "        print(\"this will show you all the transaction happend to icici throuhg hdfc\")\n",
    "    def test(self):           #override code\n",
    "        print(\"this is a test method form hdfc bank \")\n",
    "\n",
    "class ineron_bank:\n",
    "    def account_status_icici(self):\n",
    "        print(\"print a account status in icici \")\n",
    "\n",
    "class icici(bank, HDFC_bank, ineron_bank):      # multiple inheritence\n",
    "    pass"
   ]
  },
  {
   "cell_type": "code",
   "execution_count": 69,
   "id": "4a2d718a-7ee6-477f-9131-de980a6118d3",
   "metadata": {},
   "outputs": [],
   "source": [
    "obj10 = bank()"
   ]
  },
  {
   "cell_type": "code",
   "execution_count": 74,
   "id": "40dbfd89-0c55-4257-8746-4c862e705e2d",
   "metadata": {},
   "outputs": [],
   "source": [
    "obj11 = HDFC_bank()"
   ]
  },
  {
   "cell_type": "code",
   "execution_count": 71,
   "id": "5c5341fe-f3d1-4af4-a7ed-255b818341bf",
   "metadata": {},
   "outputs": [],
   "source": [
    "obj12 = ineron_bank()"
   ]
  },
  {
   "cell_type": "code",
   "execution_count": 72,
   "id": "85ebeaad-2814-499e-bb1e-34da0b83927b",
   "metadata": {},
   "outputs": [],
   "source": [
    "obj13 = icici()"
   ]
  },
  {
   "cell_type": "code",
   "execution_count": 75,
   "id": "afc3e7c6-a5ed-4fb6-99f4-359fd7eef383",
   "metadata": {},
   "outputs": [
    {
     "name": "stdout",
     "output_type": "stream",
     "text": [
      "print a account status in icici \n"
     ]
    }
   ],
   "source": [
    "obj12.account_status_icici()"
   ]
  },
  {
   "cell_type": "code",
   "execution_count": 76,
   "id": "bcc4baac-bf1b-4958-bb8a-64c3bef60d60",
   "metadata": {},
   "outputs": [
    {
     "name": "stdout",
     "output_type": "stream",
     "text": [
      "this is a test methond form bank class \n"
     ]
    }
   ],
   "source": [
    "obj13.test()"
   ]
  },
  {
   "cell_type": "code",
   "execution_count": null,
   "id": "206ff0d9-c784-4875-aa6c-9679e79befa6",
   "metadata": {},
   "outputs": [],
   "source": []
  },
  {
   "cell_type": "code",
   "execution_count": null,
   "id": "3262efc9-83a5-45dc-b6ef-d9042d4f8203",
   "metadata": {},
   "outputs": [],
   "source": []
  },
  {
   "cell_type": "code",
   "execution_count": 77,
   "id": "ca69d368-43c3-4d17-bbb5-17e428be11aa",
   "metadata": {},
   "outputs": [],
   "source": [
    "class bank :\n",
    "    def transaction(self) :\n",
    "        print(\"total transaction value \")\n",
    "    def account_opening(self):\n",
    "        print(\"this will show you your account open status \")\n",
    "    def deposite(self):\n",
    "        print(\"this will show your deposited amount\")\n",
    "    def test(self):                          # override code\n",
    "        print(\"this is a test methond form bank class \")\n",
    "\n",
    "\n",
    "class HDFC_bank:\n",
    "    def hdfc_to_icici(self):\n",
    "        print(\"this will show you all the transaction happend to icici throuhg hdfc\")\n",
    "    def test(self):           #override code\n",
    "        print(\"this is a test method form hdfc bank \")\n",
    "\n",
    "class ineron_bank:\n",
    "    def account_status_icici(self):\n",
    "        print(\"print a account status in icici \")\n",
    "\n",
    "class icici(HDFC_bank, bank,  ineron_bank):      # multiple inheritence\n",
    "    pass"
   ]
  },
  {
   "cell_type": "code",
   "execution_count": 78,
   "id": "36aabf43-183b-4682-a8b2-4879b575c0eb",
   "metadata": {},
   "outputs": [],
   "source": [
    "obj14 = icici()"
   ]
  },
  {
   "cell_type": "code",
   "execution_count": 79,
   "id": "88814206-37ad-431f-9078-e38ac8f4c2ca",
   "metadata": {},
   "outputs": [
    {
     "name": "stdout",
     "output_type": "stream",
     "text": [
      "this is a test method form hdfc bank \n"
     ]
    }
   ],
   "source": [
    "obj14.test()"
   ]
  },
  {
   "cell_type": "code",
   "execution_count": null,
   "id": "b0eedc9a-ef8c-4dd7-85f3-ce0bdaeac62f",
   "metadata": {},
   "outputs": [],
   "source": []
  }
 ],
 "metadata": {
  "kernelspec": {
   "display_name": "Python 3 (ipykernel)",
   "language": "python",
   "name": "python3"
  },
  "language_info": {
   "codemirror_mode": {
    "name": "ipython",
    "version": 3
   },
   "file_extension": ".py",
   "mimetype": "text/x-python",
   "name": "python",
   "nbconvert_exporter": "python",
   "pygments_lexer": "ipython3",
   "version": "3.11.7"
  }
 },
 "nbformat": 4,
 "nbformat_minor": 5
}
