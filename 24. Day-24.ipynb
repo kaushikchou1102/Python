{
 "cells": [
  {
   "cell_type": "code",
   "execution_count": 3,
   "id": "93a85a95-96a8-4a16-8bc1-f02009f1cdf4",
   "metadata": {},
   "outputs": [],
   "source": [
    "import logging \n",
    "import math\n",
    "import json\n",
    "import os\n",
    "import datetime\n",
    "import re"
   ]
  },
  {
   "cell_type": "markdown",
   "id": "27aa92c3-f7d0-4aca-9aea-4ceab7ae855b",
   "metadata": {},
   "source": [
    "# math"
   ]
  },
  {
   "cell_type": "code",
   "execution_count": 4,
   "id": "778eaa4c-9cfe-450f-91d7-bcc59e06004b",
   "metadata": {},
   "outputs": [
    {
     "name": "stdout",
     "output_type": "stream",
     "text": [
      "Pi: 3.141592653589793\n",
      "e: 2.718281828459045\n"
     ]
    }
   ],
   "source": [
    "# Constants\n",
    "print(\"Pi:\", math.pi)\n",
    "print(\"e:\", math.e)\n"
   ]
  },
  {
   "cell_type": "code",
   "execution_count": 5,
   "id": "6dece068-e13c-479c-a081-97a545dc61cb",
   "metadata": {},
   "outputs": [
    {
     "name": "stdout",
     "output_type": "stream",
     "text": [
      "Ceiling of 4.2: 5\n",
      "Floor of 4.7: 4\n"
     ]
    }
   ],
   "source": [
    "# Arithmetic Functions\n",
    "print(\"Ceiling of 4.2:\", math.ceil(4.2))\n",
    "print(\"Floor of 4.7:\", math.floor(4.7))"
   ]
  },
  {
   "cell_type": "code",
   "execution_count": 6,
   "id": "a0425a0c-684b-438d-914e-c1379e6c5dcc",
   "metadata": {},
   "outputs": [
    {
     "name": "stdout",
     "output_type": "stream",
     "text": [
      "Square root of 16: 4.0\n",
      "Logarithm of 1000 base 10: 2.9999999999999996\n"
     ]
    }
   ],
   "source": [
    "# Power and Logarithmic Functions\n",
    "print(\"Square root of 16:\", math.sqrt(16))\n",
    "print(\"Logarithm of 1000 base 10:\", math.log(1000, 10))"
   ]
  },
  {
   "cell_type": "code",
   "execution_count": 7,
   "id": "8fb23616-fc4e-4fb5-adf9-17c9f6438116",
   "metadata": {},
   "outputs": [
    {
     "name": "stdout",
     "output_type": "stream",
     "text": [
      "Sine of 45 degrees: 0.7071067811865476\n"
     ]
    }
   ],
   "source": [
    "# Trigonometric Functions\n",
    "angle = math.radians(45)  # Convert 45 degrees to radians\n",
    "print(\"Sine of 45 degrees:\", math.sin(angle))"
   ]
  },
  {
   "cell_type": "code",
   "execution_count": 9,
   "id": "46a65ae2-fd08-453b-af34-2dfd43091d5d",
   "metadata": {},
   "outputs": [
    {
     "name": "stdout",
     "output_type": "stream",
     "text": [
      "Hyperbolic sine of 1: 5343237290762.231\n"
     ]
    }
   ],
   "source": [
    "# Hyperbolic Functions\n",
    "print(\"Hyperbolic sine of 1:\", math.sinh(30))"
   ]
  },
  {
   "cell_type": "code",
   "execution_count": 10,
   "id": "6e417741-2aa5-4b7c-829f-b3929d85e286",
   "metadata": {},
   "outputs": [
    {
     "name": "stdout",
     "output_type": "stream",
     "text": [
      "Factorial of 5: 120\n",
      "Combinations (5 choose 3): 10\n",
      "Permutations (5 P 3): 60\n"
     ]
    }
   ],
   "source": [
    "# Factorials and Combinatorics\n",
    "print(\"Factorial of 5:\", math.factorial(5))\n",
    "print(\"Combinations (5 choose 3):\", math.comb(5, 3))\n",
    "print(\"Permutations (5 P 3):\", math.perm(5, 3))"
   ]
  },
  {
   "cell_type": "code",
   "execution_count": 11,
   "id": "224b50a9-61d3-4693-ab0d-1a48fad1f021",
   "metadata": {},
   "outputs": [
    {
     "name": "stdout",
     "output_type": "stream",
     "text": [
      "GCD of 48 and 18: 6\n"
     ]
    }
   ],
   "source": [
    "# Greatest Common Divisor\n",
    "print(\"GCD of 48 and 18:\", math.gcd(48, 18))"
   ]
  },
  {
   "cell_type": "code",
   "execution_count": 12,
   "id": "d38bad61-68a5-4948-b694-210591486565",
   "metadata": {},
   "outputs": [
    {
     "name": "stdout",
     "output_type": "stream",
     "text": [
      "Absolute value of -7.5: 7.5\n",
      "Remainder of 7.5 divided by 2.3: 0.6000000000000005\n"
     ]
    }
   ],
   "source": [
    "# Rounding Functions\n",
    "print(\"Absolute value of -7.5:\", math.fabs(-7.5))\n",
    "print(\"Remainder of 7.5 divided by 2.3:\", math.fmod(7.5, 2.3))"
   ]
  },
  {
   "cell_type": "code",
   "execution_count": 13,
   "id": "5f7be386-f42b-43aa-96cd-4412f95a459c",
   "metadata": {},
   "outputs": [
    {
     "name": "stdout",
     "output_type": "stream",
     "text": [
      "Value of e: 2.718281828459045\n",
      "Value of pi: 3.141592653589793\n",
      "Value of tau: 6.283185307179586\n"
     ]
    }
   ],
   "source": [
    "# Mathematical Constants\n",
    "print(\"Value of e:\", math.e)\n",
    "print(\"Value of pi:\", math.pi)\n",
    "print(\"Value of tau:\", math.tau)"
   ]
  },
  {
   "cell_type": "code",
   "execution_count": 14,
   "id": "a734a16e-fbfd-4d2d-962c-c0db2ae3d2bf",
   "metadata": {},
   "outputs": [
    {
     "name": "stdout",
     "output_type": "stream",
     "text": [
      "Gamma function of 5: 24.0\n",
      "Log gamma function of 5: 3.178053830347945\n"
     ]
    }
   ],
   "source": [
    "# Special Functions\n",
    "print(\"Gamma function of 5:\", math.gamma(5))\n",
    "print(\"Log gamma function of 5:\", math.lgamma(5))"
   ]
  },
  {
   "cell_type": "code",
   "execution_count": 15,
   "id": "c66a6f52-46c6-4e83-9e62-733b6b22bf67",
   "metadata": {},
   "outputs": [
    {
     "name": "stdout",
     "output_type": "stream",
     "text": [
      "Error: math domain error\n"
     ]
    }
   ],
   "source": [
    "# Error Handling\n",
    "try:\n",
    "    print(\"Logarithm of -1:\", math.log(-1))\n",
    "except ValueError as e:\n",
    "    print(\"Error:\", e)"
   ]
  },
  {
   "cell_type": "code",
   "execution_count": 16,
   "id": "d95141c6-14e0-4e6f-9d5a-8ae7fc4f3bc4",
   "metadata": {},
   "outputs": [
    {
     "data": {
      "text/plain": [
       "['__doc__',\n",
       " '__loader__',\n",
       " '__name__',\n",
       " '__package__',\n",
       " '__spec__',\n",
       " 'acos',\n",
       " 'acosh',\n",
       " 'asin',\n",
       " 'asinh',\n",
       " 'atan',\n",
       " 'atan2',\n",
       " 'atanh',\n",
       " 'cbrt',\n",
       " 'ceil',\n",
       " 'comb',\n",
       " 'copysign',\n",
       " 'cos',\n",
       " 'cosh',\n",
       " 'degrees',\n",
       " 'dist',\n",
       " 'e',\n",
       " 'erf',\n",
       " 'erfc',\n",
       " 'exp',\n",
       " 'exp2',\n",
       " 'expm1',\n",
       " 'fabs',\n",
       " 'factorial',\n",
       " 'floor',\n",
       " 'fmod',\n",
       " 'frexp',\n",
       " 'fsum',\n",
       " 'gamma',\n",
       " 'gcd',\n",
       " 'hypot',\n",
       " 'inf',\n",
       " 'isclose',\n",
       " 'isfinite',\n",
       " 'isinf',\n",
       " 'isnan',\n",
       " 'isqrt',\n",
       " 'lcm',\n",
       " 'ldexp',\n",
       " 'lgamma',\n",
       " 'log',\n",
       " 'log10',\n",
       " 'log1p',\n",
       " 'log2',\n",
       " 'modf',\n",
       " 'nan',\n",
       " 'nextafter',\n",
       " 'perm',\n",
       " 'pi',\n",
       " 'pow',\n",
       " 'prod',\n",
       " 'radians',\n",
       " 'remainder',\n",
       " 'sin',\n",
       " 'sinh',\n",
       " 'sqrt',\n",
       " 'tan',\n",
       " 'tanh',\n",
       " 'tau',\n",
       " 'trunc',\n",
       " 'ulp']"
      ]
     },
     "execution_count": 16,
     "metadata": {},
     "output_type": "execute_result"
    }
   ],
   "source": [
    "dir(math)"
   ]
  },
  {
   "cell_type": "markdown",
   "id": "401eeec8-a0a5-4567-8fa3-0f256cf40511",
   "metadata": {},
   "source": [
    "# Datetime module"
   ]
  },
  {
   "cell_type": "markdown",
   "id": "5598f9f4-55cf-4ff0-808f-3fca9952e967",
   "metadata": {},
   "source": [
    "datetime.date\n",
    "\n",
    "Represents a date (year, month, and day) without time information.\n",
    "Common methods: today(), fromisoformat(), strftime()"
   ]
  },
  {
   "cell_type": "code",
   "execution_count": 19,
   "id": "2823a8ce-ae03-44ce-91ec-43cbcd70d012",
   "metadata": {},
   "outputs": [
    {
     "name": "stdout",
     "output_type": "stream",
     "text": [
      "Today's date: 2024-08-01\n",
      "Formatted date: 2024-08-01\n"
     ]
    }
   ],
   "source": [
    "from datetime import date\n",
    "\n",
    "today = date.today()\n",
    "print(\"Today's date:\", today)\n",
    "print(\"Formatted date:\", today.strftime(\"%Y-%m-%d\"))"
   ]
  },
  {
   "cell_type": "code",
   "execution_count": 21,
   "id": "4dfb6f97-79e1-4fd5-982d-7ff168e97cb8",
   "metadata": {},
   "outputs": [
    {
     "data": {
      "text/plain": [
       "datetime.date"
      ]
     },
     "execution_count": 21,
     "metadata": {},
     "output_type": "execute_result"
    }
   ],
   "source": [
    "type(today)"
   ]
  },
  {
   "cell_type": "code",
   "execution_count": 25,
   "id": "93adc1f4-573e-40a3-ad43-1acc42284497",
   "metadata": {},
   "outputs": [
    {
     "data": {
      "text/plain": [
       "'24-08-01'"
      ]
     },
     "execution_count": 25,
     "metadata": {},
     "output_type": "execute_result"
    }
   ],
   "source": [
    "today.strftime(\"%y-%m-%d\")"
   ]
  },
  {
   "cell_type": "markdown",
   "id": "a0cf8a35-877d-43aa-a8ee-46261cbe730c",
   "metadata": {},
   "source": [
    "datetime.time\n",
    "\n",
    "Represents a time (hour, minute, second, microsecond) without date information."
   ]
  },
  {
   "cell_type": "code",
   "execution_count": 27,
   "id": "f197a343-5cb2-4e4d-86cc-3199c57192a6",
   "metadata": {},
   "outputs": [
    {
     "name": "stdout",
     "output_type": "stream",
     "text": [
      "Current time: 14:30:45\n",
      "Formatted time: 14:30:45\n"
     ]
    }
   ],
   "source": [
    "from datetime import time\n",
    "\n",
    "current_time = time(14, 30, 45)\n",
    "print(\"Current time:\", current_time)\n",
    "print(\"Formatted time:\", current_time.strftime(\"%H:%M:%S\"))"
   ]
  },
  {
   "cell_type": "markdown",
   "id": "d782f98f-1474-4569-a48d-481da3482efc",
   "metadata": {},
   "source": [
    "datetime.datetime\n",
    "\n",
    "Represents a combination of date and time.\n",
    "Common methods: now(), fromisoformat(), strftime(), combine()"
   ]
  },
  {
   "cell_type": "code",
   "execution_count": 29,
   "id": "ae76dee6-25ff-4301-bf80-d32c15930484",
   "metadata": {},
   "outputs": [
    {
     "name": "stdout",
     "output_type": "stream",
     "text": [
      "Current date and time: 2024-08-01 19:02:40.811143\n",
      "Formatted datetime: 2024-08-01 19:02:40\n"
     ]
    }
   ],
   "source": [
    "from datetime import datetime\n",
    "\n",
    "now = datetime.now()\n",
    "print(\"Current date and time:\", now)\n",
    "print(\"Formatted datetime:\", now.strftime(\"%Y-%m-%d %H:%M:%S\"))"
   ]
  },
  {
   "cell_type": "markdown",
   "id": "82b5aab4-850a-4887-ac44-7011d59432b3",
   "metadata": {},
   "source": [
    "datetime.timedelta\n",
    "\n",
    "Represents a duration, the difference between two dates or times.\n",
    "Common methods: total_seconds(), days"
   ]
  },
  {
   "cell_type": "code",
   "execution_count": 31,
   "id": "3ebb3ad2-c7ee-4d06-ac5b-ce1788baddcc",
   "metadata": {},
   "outputs": [
    {
     "name": "stdout",
     "output_type": "stream",
     "text": [
      "Delta: 5 days, 3:00:00\n",
      "Total seconds in delta: 442800.0\n"
     ]
    }
   ],
   "source": [
    "from datetime import timedelta\n",
    "\n",
    "delta = timedelta(days=5, hours=3)\n",
    "print(\"Delta:\", delta)\n",
    "print(\"Total seconds in delta:\", delta.total_seconds())"
   ]
  },
  {
   "cell_type": "markdown",
   "id": "2bec0b6f-5a15-492d-8a7e-76c299b17412",
   "metadata": {},
   "source": [
    "datetime.tzinfo\n",
    "\n",
    "Base class for dealing with time zones. It’s usually subclassed to create specific time zone implementations."
   ]
  },
  {
   "cell_type": "code",
   "execution_count": 35,
   "id": "c1bb5b4e-cb3a-430e-ae8b-2a7dba88bb06",
   "metadata": {},
   "outputs": [
    {
     "name": "stdout",
     "output_type": "stream",
     "text": [
      "Current UTC time: 2024-08-01 13:36:27.403208+00:00\n"
     ]
    }
   ],
   "source": [
    "from datetime import datetime, timezone\n",
    "\n",
    "now = datetime.now(timezone.utc)\n",
    "print(\"Current UTC time:\", now)"
   ]
  },
  {
   "cell_type": "code",
   "execution_count": 36,
   "id": "989beb66-b33e-4a85-8fca-ec88abb72afc",
   "metadata": {},
   "outputs": [
    {
     "name": "stdout",
     "output_type": "stream",
     "text": [
      "Current date and time: 2024-08-01 19:06:50.780012\n"
     ]
    }
   ],
   "source": [
    "from datetime import datetime\n",
    "\n",
    "now = datetime.now()\n",
    "print(\"Current date and time:\", now)"
   ]
  },
  {
   "cell_type": "code",
   "execution_count": 40,
   "id": "1802448f-1520-4286-9741-ccd613026891",
   "metadata": {},
   "outputs": [],
   "source": [
    "from datetime import date, time, datetime\n",
    "\n",
    "d = date(2024, 7, 27)\n",
    "t = time(15, 30, 45)\n",
    "dt = datetime(2024, 7, 27, 15, 30, 45)"
   ]
  },
  {
   "cell_type": "code",
   "execution_count": 42,
   "id": "12d2c623-0b20-44b5-8c29-5c83f161e1d0",
   "metadata": {},
   "outputs": [
    {
     "data": {
      "text/plain": [
       "datetime.datetime"
      ]
     },
     "execution_count": 42,
     "metadata": {},
     "output_type": "execute_result"
    }
   ],
   "source": [
    "type(dt)"
   ]
  },
  {
   "cell_type": "code",
   "execution_count": 43,
   "id": "1d834e57-a044-42b8-9492-a0c448d815f0",
   "metadata": {},
   "outputs": [
    {
     "data": {
      "text/plain": [
       "datetime.datetime(2024, 7, 27, 15, 30, 45)"
      ]
     },
     "execution_count": 43,
     "metadata": {},
     "output_type": "execute_result"
    }
   ],
   "source": [
    "dt"
   ]
  },
  {
   "cell_type": "code",
   "execution_count": 44,
   "id": "0427d02a-dec6-476f-b4c3-dff657783817",
   "metadata": {},
   "outputs": [
    {
     "name": "stdout",
     "output_type": "stream",
     "text": [
      "Date: 2024-07-27\n",
      "Time: 15:30:45\n",
      "DateTime: 2024-07-27 15:30:45\n"
     ]
    }
   ],
   "source": [
    "print(\"Date:\", d)\n",
    "print(\"Time:\", t)\n",
    "print(\"DateTime:\", dt)\n"
   ]
  },
  {
   "cell_type": "code",
   "execution_count": 46,
   "id": "4596c43f-09f2-49ad-b1d3-033f97d7364b",
   "metadata": {},
   "outputs": [
    {
     "name": "stdout",
     "output_type": "stream",
     "text": [
      "2024-07-27\n"
     ]
    }
   ],
   "source": [
    "print(d)"
   ]
  },
  {
   "cell_type": "code",
   "execution_count": 48,
   "id": "08470918-eba9-46bf-87d7-59bd39c59445",
   "metadata": {},
   "outputs": [
    {
     "name": "stdout",
     "output_type": "stream",
     "text": [
      "Formatted date: 2024-08-01\n",
      "Formatted time: 19:10:28\n"
     ]
    }
   ],
   "source": [
    "from datetime import datetime\n",
    "\n",
    "now = datetime.now()\n",
    "print(\"Formatted date:\", now.strftime(\"%Y-%m-%d\"))\n",
    "print(\"Formatted time:\", now.strftime(\"%H:%M:%S\"))"
   ]
  },
  {
   "cell_type": "code",
   "execution_count": 49,
   "id": "1f179be3-ddbe-4b60-a439-8dcc0b84cfa6",
   "metadata": {},
   "outputs": [
    {
     "name": "stdout",
     "output_type": "stream",
     "text": [
      "Parsed datetime: 2024-07-27 15:30:45\n"
     ]
    }
   ],
   "source": [
    "from datetime import datetime\n",
    "\n",
    "dt_str = \"2024-07-27 15:30:45\"\n",
    "dt = datetime.strptime(dt_str, \"%Y-%m-%d %H:%M:%S\")\n",
    "print(\"Parsed datetime:\", dt)\n"
   ]
  },
  {
   "cell_type": "code",
   "execution_count": 54,
   "id": "8e0f7a1c-c7ef-42e2-889b-fbef7f73d5f8",
   "metadata": {},
   "outputs": [
    {
     "name": "stdout",
     "output_type": "stream",
     "text": [
      "Difference: 2 days, 0:00:00\n"
     ]
    }
   ],
   "source": [
    "from datetime import datetime, timedelta\n",
    "\n",
    "now = datetime.now()\n",
    "tomorrow = now + timedelta(days=2)\n",
    "difference = tomorrow - now\n",
    "print(\"Difference:\", difference)"
   ]
  },
  {
   "cell_type": "code",
   "execution_count": 52,
   "id": "11e31e76-aef6-40f0-aee8-60811dd17d59",
   "metadata": {},
   "outputs": [
    {
     "name": "stdout",
     "output_type": "stream",
     "text": [
      "1 day, 0:00:00\n"
     ]
    }
   ],
   "source": [
    "print(timedelta(days=1))"
   ]
  },
  {
   "cell_type": "code",
   "execution_count": 53,
   "id": "d13c6966-6038-48d4-af0f-8a950c5b28fd",
   "metadata": {},
   "outputs": [
    {
     "data": {
      "text/plain": [
       "datetime.datetime(2024, 8, 1, 19, 11, 34, 198963)"
      ]
     },
     "execution_count": 53,
     "metadata": {},
     "output_type": "execute_result"
    }
   ],
   "source": [
    "now"
   ]
  },
  {
   "cell_type": "code",
   "execution_count": 55,
   "id": "82d8df20-f276-4bc8-b871-e178b7265899",
   "metadata": {},
   "outputs": [
    {
     "name": "stdout",
     "output_type": "stream",
     "text": [
      "Current UTC time: 2024-08-01 13:43:43.089042+00:00\n",
      "Local time with offset -5: 2024-08-01 08:43:43.089042-05:00\n"
     ]
    }
   ],
   "source": [
    "from datetime import datetime, timezone, timedelta\n",
    "\n",
    "now = datetime.now(timezone.utc)\n",
    "print(\"Current UTC time:\", now)\n",
    "\n",
    "# Time zone with an offset\n",
    "tz = timezone(timedelta(hours=-5))\n",
    "local_time = now.astimezone(tz)\n",
    "print(\"Local time with offset -5:\", local_time)"
   ]
  },
  {
   "cell_type": "code",
   "execution_count": 56,
   "id": "ef68781b-1310-4598-920f-71ca9455155c",
   "metadata": {},
   "outputs": [
    {
     "name": "stdout",
     "output_type": "stream",
     "text": [
      "Date 30 days from now: 2024-08-31 19:14:04.573107\n"
     ]
    }
   ],
   "source": [
    "from datetime import datetime, timedelta\n",
    "\n",
    "now = datetime.now()\n",
    "future_date = now + timedelta(days=30)\n",
    "print(\"Date 30 days from now:\", future_date)"
   ]
  },
  {
   "cell_type": "code",
   "execution_count": 57,
   "id": "b15de801-692c-4aac-8185-8354a5bbe4f0",
   "metadata": {},
   "outputs": [
    {
     "name": "stdout",
     "output_type": "stream",
     "text": [
      "Updated time: 14:45:00\n"
     ]
    }
   ],
   "source": [
    "from datetime import time\n",
    "\n",
    "t = time(14, 30)\n",
    "new_time = t.replace(minute=45)\n",
    "print(\"Updated time:\", new_time)\n"
   ]
  },
  {
   "cell_type": "code",
   "execution_count": 59,
   "id": "824a6454-d93e-4cf5-8afd-7f3316885aa6",
   "metadata": {},
   "outputs": [
    {
     "name": "stdout",
     "output_type": "stream",
     "text": [
      "14:30:00\n"
     ]
    }
   ],
   "source": [
    "print(t)"
   ]
  },
  {
   "cell_type": "code",
   "execution_count": 60,
   "id": "8c19d31b-a4b2-45e2-aca6-05df71553233",
   "metadata": {},
   "outputs": [],
   "source": [
    "new_hours = t.replace(hour=18)"
   ]
  },
  {
   "cell_type": "code",
   "execution_count": 61,
   "id": "5c8dcf97-e93e-4625-8fb1-a253e6da5e3e",
   "metadata": {},
   "outputs": [
    {
     "data": {
      "text/plain": [
       "datetime.time(18, 30)"
      ]
     },
     "execution_count": 61,
     "metadata": {},
     "output_type": "execute_result"
    }
   ],
   "source": [
    "new_hours"
   ]
  },
  {
   "cell_type": "code",
   "execution_count": null,
   "id": "f5c68d2a-a7e6-4e40-9818-b4c614ca26e6",
   "metadata": {},
   "outputs": [],
   "source": [
    "from datetime import datetime\n",
    "\n",
    "now = datetime.now()\n",
    "weekday = now.weekday()  # Monday is 0, Sunday is 6\n",
    "week_number = now.isocalendar()[1]  # Week number of the year\n",
    "\n",
    "print(\"Weekday (0=Monday, 6=Sunday):\", weekday)\n",
    "print(\"ISO calendar week number:\", week_number)"
   ]
  },
  {
   "cell_type": "code",
   "execution_count": 62,
   "id": "0e67bf1d-8d5f-4626-8b66-ac6a8aaec5f9",
   "metadata": {},
   "outputs": [],
   "source": [
    "weekday = now.weekday() "
   ]
  },
  {
   "cell_type": "code",
   "execution_count": 63,
   "id": "d9919506-987a-44ba-b54b-6b0f6f24aa36",
   "metadata": {},
   "outputs": [
    {
     "data": {
      "text/plain": [
       "3"
      ]
     },
     "execution_count": 63,
     "metadata": {},
     "output_type": "execute_result"
    }
   ],
   "source": [
    "weekday"
   ]
  },
  {
   "cell_type": "code",
   "execution_count": 72,
   "id": "275cd252-f8ba-42b4-8003-29bdcf5a9a4c",
   "metadata": {},
   "outputs": [],
   "source": [
    "week_number = now.isocalendar()[2]"
   ]
  },
  {
   "cell_type": "code",
   "execution_count": 73,
   "id": "b00e4245-7147-4dd1-a8e3-9012526b63b0",
   "metadata": {},
   "outputs": [
    {
     "data": {
      "text/plain": [
       "4"
      ]
     },
     "execution_count": 73,
     "metadata": {},
     "output_type": "execute_result"
    }
   ],
   "source": [
    "week_number"
   ]
  },
  {
   "cell_type": "markdown",
   "id": "dc81c212-b623-42e1-a732-d7f943464183",
   "metadata": {},
   "source": [
    "Practical Use Cases\n",
    "Scheduling Tasks\n",
    "\n",
    "Compute time intervals for scheduling and deadlines. Useful for applications like task managers and reminders."
   ]
  },
  {
   "cell_type": "code",
   "execution_count": 74,
   "id": "904080dd-39cb-4b94-8777-6270d160689e",
   "metadata": {},
   "outputs": [
    {
     "name": "stdout",
     "output_type": "stream",
     "text": [
      "Deadline: 2024-08-11 19:18:38.230036\n"
     ]
    }
   ],
   "source": [
    "from datetime import datetime, timedelta\n",
    "\n",
    "# Calculate a deadline 10 days from now\n",
    "deadline = datetime.now() + timedelta(days=10)\n",
    "print(\"Deadline:\", deadline)"
   ]
  },
  {
   "cell_type": "markdown",
   "id": "79c0565b-393a-4f17-8f67-106a4904a31b",
   "metadata": {},
   "source": [
    "Log Analysis\n",
    "\n",
    "Parse and analyze log files with timestamps."
   ]
  },
  {
   "cell_type": "code",
   "execution_count": 75,
   "id": "10b54fed-d3cc-4457-b3a3-3d76826bc79c",
   "metadata": {},
   "outputs": [
    {
     "name": "stdout",
     "output_type": "stream",
     "text": [
      "Log time: 2024-07-27 14:30:00\n"
     ]
    }
   ],
   "source": [
    "from datetime import datetime\n",
    "\n",
    "log_entry = \"2024-07-27 14:30:00 - Event occurred\"\n",
    "log_time = datetime.strptime(log_entry.split(\" - \")[0], \"%Y-%m-%d %H:%M:%S\")\n",
    "print(\"Log time:\", log_time)"
   ]
  },
  {
   "cell_type": "markdown",
   "id": "22922c24-2b01-414e-9815-26e7939303d8",
   "metadata": {},
   "source": [
    "Event Scheduling\n",
    "\n",
    "Manage events and appointments by calculating time differences and reminders.\n"
   ]
  },
  {
   "cell_type": "code",
   "execution_count": 76,
   "id": "695c203e-3435-4235-99a1-71c4b7652db8",
   "metadata": {},
   "outputs": [
    {
     "name": "stdout",
     "output_type": "stream",
     "text": [
      "Reminder set for: 2024-07-27 14:00:00\n"
     ]
    }
   ],
   "source": [
    "\n",
    "from datetime import datetime, timedelta\n",
    "\n",
    "# Schedule an event\n",
    "event_date = datetime(2024, 7, 27, 15, 0)\n",
    "reminder_time = event_date - timedelta(hours=1)\n",
    "print(\"Reminder set for:\", reminder_time)"
   ]
  },
  {
   "cell_type": "markdown",
   "id": "86b7e370-4a7f-4f73-9104-733ddc4d7aff",
   "metadata": {},
   "source": [
    "Financial Calculations\n",
    "\n",
    "Compute time-based financial metrics like loan payments or interest.\n"
   ]
  },
  {
   "cell_type": "code",
   "execution_count": 79,
   "id": "c661302b-30e5-42ef-a7f9-e3dc20153cfd",
   "metadata": {},
   "outputs": [
    {
     "name": "stdout",
     "output_type": "stream",
     "text": [
      "Next payment date: 2024-08-26 00:00:00\n"
     ]
    }
   ],
   "source": [
    "from datetime import datetime, timedelta\n",
    "\n",
    "# Calculate the time between payments\n",
    "payment_date = datetime(2024, 7, 27)\n",
    "next_payment = payment_date + timedelta(days=30)\n",
    "print(\"Next payment date:\", next_payment)"
   ]
  },
  {
   "cell_type": "code",
   "execution_count": 80,
   "id": "023f16e9-a1fe-4326-ac61-790f05140566",
   "metadata": {},
   "outputs": [
    {
     "data": {
      "text/plain": [
       "['__add__',\n",
       " '__class__',\n",
       " '__delattr__',\n",
       " '__dir__',\n",
       " '__doc__',\n",
       " '__eq__',\n",
       " '__format__',\n",
       " '__ge__',\n",
       " '__getattribute__',\n",
       " '__getstate__',\n",
       " '__gt__',\n",
       " '__hash__',\n",
       " '__init__',\n",
       " '__init_subclass__',\n",
       " '__le__',\n",
       " '__lt__',\n",
       " '__ne__',\n",
       " '__new__',\n",
       " '__radd__',\n",
       " '__reduce__',\n",
       " '__reduce_ex__',\n",
       " '__repr__',\n",
       " '__rsub__',\n",
       " '__setattr__',\n",
       " '__sizeof__',\n",
       " '__str__',\n",
       " '__sub__',\n",
       " '__subclasshook__',\n",
       " 'astimezone',\n",
       " 'combine',\n",
       " 'ctime',\n",
       " 'date',\n",
       " 'day',\n",
       " 'dst',\n",
       " 'fold',\n",
       " 'fromisocalendar',\n",
       " 'fromisoformat',\n",
       " 'fromordinal',\n",
       " 'fromtimestamp',\n",
       " 'hour',\n",
       " 'isocalendar',\n",
       " 'isoformat',\n",
       " 'isoweekday',\n",
       " 'max',\n",
       " 'microsecond',\n",
       " 'min',\n",
       " 'minute',\n",
       " 'month',\n",
       " 'now',\n",
       " 'replace',\n",
       " 'resolution',\n",
       " 'second',\n",
       " 'strftime',\n",
       " 'strptime',\n",
       " 'time',\n",
       " 'timestamp',\n",
       " 'timetuple',\n",
       " 'timetz',\n",
       " 'today',\n",
       " 'toordinal',\n",
       " 'tzinfo',\n",
       " 'tzname',\n",
       " 'utcfromtimestamp',\n",
       " 'utcnow',\n",
       " 'utcoffset',\n",
       " 'utctimetuple',\n",
       " 'weekday',\n",
       " 'year']"
      ]
     },
     "execution_count": 80,
     "metadata": {},
     "output_type": "execute_result"
    }
   ],
   "source": [
    "dir(datetime)"
   ]
  },
  {
   "cell_type": "code",
   "execution_count": 81,
   "id": "e9b2e62b-38cb-4ab7-8116-bf3e891952fe",
   "metadata": {},
   "outputs": [
    {
     "data": {
      "text/plain": [
       "['__add__',\n",
       " '__class__',\n",
       " '__delattr__',\n",
       " '__dir__',\n",
       " '__doc__',\n",
       " '__eq__',\n",
       " '__format__',\n",
       " '__ge__',\n",
       " '__getattribute__',\n",
       " '__getstate__',\n",
       " '__gt__',\n",
       " '__hash__',\n",
       " '__init__',\n",
       " '__init_subclass__',\n",
       " '__le__',\n",
       " '__lt__',\n",
       " '__ne__',\n",
       " '__new__',\n",
       " '__radd__',\n",
       " '__reduce__',\n",
       " '__reduce_ex__',\n",
       " '__repr__',\n",
       " '__rsub__',\n",
       " '__setattr__',\n",
       " '__sizeof__',\n",
       " '__str__',\n",
       " '__sub__',\n",
       " '__subclasshook__',\n",
       " 'ctime',\n",
       " 'day',\n",
       " 'fromisocalendar',\n",
       " 'fromisoformat',\n",
       " 'fromordinal',\n",
       " 'fromtimestamp',\n",
       " 'isocalendar',\n",
       " 'isoformat',\n",
       " 'isoweekday',\n",
       " 'max',\n",
       " 'min',\n",
       " 'month',\n",
       " 'replace',\n",
       " 'resolution',\n",
       " 'strftime',\n",
       " 'timetuple',\n",
       " 'today',\n",
       " 'toordinal',\n",
       " 'weekday',\n",
       " 'year']"
      ]
     },
     "execution_count": 81,
     "metadata": {},
     "output_type": "execute_result"
    }
   ],
   "source": [
    "dir(date)"
   ]
  },
  {
   "cell_type": "code",
   "execution_count": 83,
   "id": "80ca1614-ae04-4f43-9652-51e8a0111945",
   "metadata": {},
   "outputs": [
    {
     "data": {
      "text/plain": [
       "['__add__',\n",
       " '__class__',\n",
       " '__class_getitem__',\n",
       " '__contains__',\n",
       " '__delattr__',\n",
       " '__delitem__',\n",
       " '__dir__',\n",
       " '__doc__',\n",
       " '__eq__',\n",
       " '__format__',\n",
       " '__ge__',\n",
       " '__getattribute__',\n",
       " '__getitem__',\n",
       " '__getstate__',\n",
       " '__gt__',\n",
       " '__hash__',\n",
       " '__iadd__',\n",
       " '__imul__',\n",
       " '__init__',\n",
       " '__init_subclass__',\n",
       " '__iter__',\n",
       " '__le__',\n",
       " '__len__',\n",
       " '__lt__',\n",
       " '__mul__',\n",
       " '__ne__',\n",
       " '__new__',\n",
       " '__reduce__',\n",
       " '__reduce_ex__',\n",
       " '__repr__',\n",
       " '__reversed__',\n",
       " '__rmul__',\n",
       " '__setattr__',\n",
       " '__setitem__',\n",
       " '__sizeof__',\n",
       " '__str__',\n",
       " '__subclasshook__',\n",
       " 'append',\n",
       " 'clear',\n",
       " 'copy',\n",
       " 'count',\n",
       " 'extend',\n",
       " 'index',\n",
       " 'insert',\n",
       " 'pop',\n",
       " 'remove',\n",
       " 'reverse',\n",
       " 'sort']"
      ]
     },
     "execution_count": 83,
     "metadata": {},
     "output_type": "execute_result"
    }
   ],
   "source": [
    "dir(list)"
   ]
  },
  {
   "cell_type": "code",
   "execution_count": 84,
   "id": "16de4c1c-2d4c-4eaa-ac0c-16867a45d8a3",
   "metadata": {},
   "outputs": [
    {
     "name": "stdout",
     "output_type": "stream",
     "text": [
      "Help on class list in module builtins:\n",
      "\n",
      "class list(object)\n",
      " |  list(iterable=(), /)\n",
      " |  \n",
      " |  Built-in mutable sequence.\n",
      " |  \n",
      " |  If no argument is given, the constructor creates a new empty list.\n",
      " |  The argument must be an iterable if specified.\n",
      " |  \n",
      " |  Methods defined here:\n",
      " |  \n",
      " |  __add__(self, value, /)\n",
      " |      Return self+value.\n",
      " |  \n",
      " |  __contains__(self, key, /)\n",
      " |      Return key in self.\n",
      " |  \n",
      " |  __delitem__(self, key, /)\n",
      " |      Delete self[key].\n",
      " |  \n",
      " |  __eq__(self, value, /)\n",
      " |      Return self==value.\n",
      " |  \n",
      " |  __ge__(self, value, /)\n",
      " |      Return self>=value.\n",
      " |  \n",
      " |  __getattribute__(self, name, /)\n",
      " |      Return getattr(self, name).\n",
      " |  \n",
      " |  __getitem__(...)\n",
      " |      x.__getitem__(y) <==> x[y]\n",
      " |  \n",
      " |  __gt__(self, value, /)\n",
      " |      Return self>value.\n",
      " |  \n",
      " |  __iadd__(self, value, /)\n",
      " |      Implement self+=value.\n",
      " |  \n",
      " |  __imul__(self, value, /)\n",
      " |      Implement self*=value.\n",
      " |  \n",
      " |  __init__(self, /, *args, **kwargs)\n",
      " |      Initialize self.  See help(type(self)) for accurate signature.\n",
      " |  \n",
      " |  __iter__(self, /)\n",
      " |      Implement iter(self).\n",
      " |  \n",
      " |  __le__(self, value, /)\n",
      " |      Return self<=value.\n",
      " |  \n",
      " |  __len__(self, /)\n",
      " |      Return len(self).\n",
      " |  \n",
      " |  __lt__(self, value, /)\n",
      " |      Return self<value.\n",
      " |  \n",
      " |  __mul__(self, value, /)\n",
      " |      Return self*value.\n",
      " |  \n",
      " |  __ne__(self, value, /)\n",
      " |      Return self!=value.\n",
      " |  \n",
      " |  __repr__(self, /)\n",
      " |      Return repr(self).\n",
      " |  \n",
      " |  __reversed__(self, /)\n",
      " |      Return a reverse iterator over the list.\n",
      " |  \n",
      " |  __rmul__(self, value, /)\n",
      " |      Return value*self.\n",
      " |  \n",
      " |  __setitem__(self, key, value, /)\n",
      " |      Set self[key] to value.\n",
      " |  \n",
      " |  __sizeof__(self, /)\n",
      " |      Return the size of the list in memory, in bytes.\n",
      " |  \n",
      " |  append(self, object, /)\n",
      " |      Append object to the end of the list.\n",
      " |  \n",
      " |  clear(self, /)\n",
      " |      Remove all items from list.\n",
      " |  \n",
      " |  copy(self, /)\n",
      " |      Return a shallow copy of the list.\n",
      " |  \n",
      " |  count(self, value, /)\n",
      " |      Return number of occurrences of value.\n",
      " |  \n",
      " |  extend(self, iterable, /)\n",
      " |      Extend list by appending elements from the iterable.\n",
      " |  \n",
      " |  index(self, value, start=0, stop=9223372036854775807, /)\n",
      " |      Return first index of value.\n",
      " |      \n",
      " |      Raises ValueError if the value is not present.\n",
      " |  \n",
      " |  insert(self, index, object, /)\n",
      " |      Insert object before index.\n",
      " |  \n",
      " |  pop(self, index=-1, /)\n",
      " |      Remove and return item at index (default last).\n",
      " |      \n",
      " |      Raises IndexError if list is empty or index is out of range.\n",
      " |  \n",
      " |  remove(self, value, /)\n",
      " |      Remove first occurrence of value.\n",
      " |      \n",
      " |      Raises ValueError if the value is not present.\n",
      " |  \n",
      " |  reverse(self, /)\n",
      " |      Reverse *IN PLACE*.\n",
      " |  \n",
      " |  sort(self, /, *, key=None, reverse=False)\n",
      " |      Sort the list in ascending order and return None.\n",
      " |      \n",
      " |      The sort is in-place (i.e. the list itself is modified) and stable (i.e. the\n",
      " |      order of two equal elements is maintained).\n",
      " |      \n",
      " |      If a key function is given, apply it once to each list item and sort them,\n",
      " |      ascending or descending, according to their function values.\n",
      " |      \n",
      " |      The reverse flag can be set to sort in descending order.\n",
      " |  \n",
      " |  ----------------------------------------------------------------------\n",
      " |  Class methods defined here:\n",
      " |  \n",
      " |  __class_getitem__(...) from builtins.type\n",
      " |      See PEP 585\n",
      " |  \n",
      " |  ----------------------------------------------------------------------\n",
      " |  Static methods defined here:\n",
      " |  \n",
      " |  __new__(*args, **kwargs) from builtins.type\n",
      " |      Create and return a new object.  See help(type) for accurate signature.\n",
      " |  \n",
      " |  ----------------------------------------------------------------------\n",
      " |  Data and other attributes defined here:\n",
      " |  \n",
      " |  __hash__ = None\n",
      "\n"
     ]
    }
   ],
   "source": [
    "help(list)"
   ]
  },
  {
   "cell_type": "code",
   "execution_count": null,
   "id": "8ed98625-81f9-46a5-a906-daee6cd937f7",
   "metadata": {},
   "outputs": [],
   "source": []
  }
 ],
 "metadata": {
  "kernelspec": {
   "display_name": "Python 3 (ipykernel)",
   "language": "python",
   "name": "python3"
  },
  "language_info": {
   "codemirror_mode": {
    "name": "ipython",
    "version": 3
   },
   "file_extension": ".py",
   "mimetype": "text/x-python",
   "name": "python",
   "nbconvert_exporter": "python",
   "pygments_lexer": "ipython3",
   "version": "3.11.7"
  }
 },
 "nbformat": 4,
 "nbformat_minor": 5
}
