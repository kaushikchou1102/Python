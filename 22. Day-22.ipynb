{
 "cells": [
  {
   "cell_type": "code",
   "execution_count": 1,
   "id": "d8d87059-4e29-48a0-8e16-d3d8cc331c45",
   "metadata": {},
   "outputs": [],
   "source": [
    "def add_numbers(a, b):\n",
    "    \"\"\"Return the sum of two numbers.\"\"\"\n",
    "    return a + b"
   ]
  },
  {
   "cell_type": "code",
   "execution_count": 2,
   "id": "2883ad37-6c25-4024-8181-7b6c77e331b5",
   "metadata": {},
   "outputs": [
    {
     "data": {
      "text/plain": [
       "10"
      ]
     },
     "execution_count": 2,
     "metadata": {},
     "output_type": "execute_result"
    }
   ],
   "source": [
    "add_numbers(2, 8)"
   ]
  },
  {
   "cell_type": "code",
   "execution_count": 3,
   "id": "8b2b7268-ecd8-4925-86ae-daad68857c0f",
   "metadata": {},
   "outputs": [
    {
     "data": {
      "text/plain": [
       "128"
      ]
     },
     "execution_count": 3,
     "metadata": {},
     "output_type": "execute_result"
    }
   ],
   "source": [
    "add_numbers(40, 88)"
   ]
  },
  {
   "cell_type": "code",
   "execution_count": 4,
   "id": "ab7b8f0d-bd9f-44d9-9d08-4dbfb2e64be9",
   "metadata": {},
   "outputs": [
    {
     "ename": "TypeError",
     "evalue": "add_numbers() missing 1 required positional argument: 'b'",
     "output_type": "error",
     "traceback": [
      "\u001b[1;31m---------------------------------------------------------------------------\u001b[0m",
      "\u001b[1;31mTypeError\u001b[0m                                 Traceback (most recent call last)",
      "Cell \u001b[1;32mIn[4], line 1\u001b[0m\n\u001b[1;32m----> 1\u001b[0m add_numbers(\u001b[38;5;241m50\u001b[39m)\n",
      "\u001b[1;31mTypeError\u001b[0m: add_numbers() missing 1 required positional argument: 'b'"
     ]
    }
   ],
   "source": [
    "add_numbers(50)"
   ]
  },
  {
   "cell_type": "code",
   "execution_count": 13,
   "id": "d4c3899e-070c-4ba9-865b-d4832635a84d",
   "metadata": {},
   "outputs": [],
   "source": [
    "def multiply(a, b=2):\n",
    "    \"\"\"Return the product of a and b. Default value of b is 1.\"\"\"\n",
    "    return a * b"
   ]
  },
  {
   "cell_type": "code",
   "execution_count": 14,
   "id": "20285ab9-90b5-45a4-930c-d1cc0ec9ec17",
   "metadata": {},
   "outputs": [
    {
     "data": {
      "text/plain": [
       "8"
      ]
     },
     "execution_count": 14,
     "metadata": {},
     "output_type": "execute_result"
    }
   ],
   "source": [
    "multiply(4)"
   ]
  },
  {
   "cell_type": "code",
   "execution_count": 15,
   "id": "3730f611-4a33-47b3-9f7d-e5e3030bbc2b",
   "metadata": {},
   "outputs": [
    {
     "data": {
      "text/plain": [
       "21"
      ]
     },
     "execution_count": 15,
     "metadata": {},
     "output_type": "execute_result"
    }
   ],
   "source": [
    "multiply(7, 3)"
   ]
  },
  {
   "cell_type": "code",
   "execution_count": 16,
   "id": "02c37148-55d1-42c2-960f-1dd87a18fa49",
   "metadata": {},
   "outputs": [
    {
     "data": {
      "text/plain": [
       "12"
      ]
     },
     "execution_count": 16,
     "metadata": {},
     "output_type": "execute_result"
    }
   ],
   "source": [
    "multiply(3, 4)"
   ]
  },
  {
   "cell_type": "code",
   "execution_count": 17,
   "id": "b09bfe52-7f3d-4b3d-8513-0adaa954072c",
   "metadata": {},
   "outputs": [],
   "source": [
    "def list_items(*args):\n",
    "    \"\"\"Print all items passed as arguments.\"\"\"\n",
    "    for item in args:\n",
    "        print(item)"
   ]
  },
  {
   "cell_type": "code",
   "execution_count": 19,
   "id": "b6612bac-436b-4f69-8940-4e0c80d8bd6a",
   "metadata": {},
   "outputs": [
    {
     "name": "stdout",
     "output_type": "stream",
     "text": [
      "py\n",
      "java\n"
     ]
    }
   ],
   "source": [
    "list_items(\"py\", \"java\")"
   ]
  },
  {
   "cell_type": "code",
   "execution_count": 20,
   "id": "92ba265a-3e14-4f33-b8d5-894f8ed25836",
   "metadata": {},
   "outputs": [],
   "source": [
    "list_items()"
   ]
  },
  {
   "cell_type": "code",
   "execution_count": 21,
   "id": "bdffa206-676c-4349-9f5f-cec4c6028067",
   "metadata": {},
   "outputs": [
    {
     "name": "stdout",
     "output_type": "stream",
     "text": [
      "apple\n",
      "banana\n",
      "cherry\n"
     ]
    }
   ],
   "source": [
    "list_items('apple', 'banana', 'cherry')"
   ]
  },
  {
   "cell_type": "code",
   "execution_count": 22,
   "id": "12946684-342d-4f95-b0f3-70bec2a652f5",
   "metadata": {},
   "outputs": [],
   "source": [
    "def print_info(**kwargs):\n",
    "    \"\"\"Print key-value pairs passed as keyword arguments.\"\"\"\n",
    "    for key, value in kwargs.items():\n",
    "        print(f\"{key}: {value}\")"
   ]
  },
  {
   "cell_type": "code",
   "execution_count": 23,
   "id": "e0bf0125-d7f9-4582-9a7c-4098d175884c",
   "metadata": {},
   "outputs": [],
   "source": [
    "print_info()"
   ]
  },
  {
   "cell_type": "code",
   "execution_count": 25,
   "id": "e4562bf2-b52a-435d-8d82-a4f807c54cf1",
   "metadata": {},
   "outputs": [
    {
     "name": "stdout",
     "output_type": "stream",
     "text": [
      "lan: python\n"
     ]
    }
   ],
   "source": [
    "print_info(lan = \"python\")"
   ]
  },
  {
   "cell_type": "code",
   "execution_count": 26,
   "id": "0ab38ec0-5ef5-4bfd-8fba-224d4ba4b81d",
   "metadata": {},
   "outputs": [
    {
     "name": "stdout",
     "output_type": "stream",
     "text": [
      "lan: python\n",
      "flan: HTML\n"
     ]
    }
   ],
   "source": [
    "print_info(lan = \"python\", flan = \"HTML\")"
   ]
  },
  {
   "cell_type": "code",
   "execution_count": 27,
   "id": "86bd8c78-6982-4aae-90a5-735f8ebd762f",
   "metadata": {},
   "outputs": [
    {
     "name": "stdout",
     "output_type": "stream",
     "text": [
      "name: Alice\n",
      "age: 30\n"
     ]
    }
   ],
   "source": [
    "print_info(name=\"Alice\", age=30)"
   ]
  },
  {
   "cell_type": "code",
   "execution_count": 28,
   "id": "25416c58-79e5-4e78-9dde-cb279f2a6de8",
   "metadata": {},
   "outputs": [],
   "source": [
    "def divide(a, b):\n",
    "    \"\"\"\n",
    "    Divide a by b and return the result.\n",
    "\n",
    "    Parameters:\n",
    "    a (float): The numerator.\n",
    "    b (float): The denominator.\n",
    "\n",
    "    Returns:\n",
    "    float: The result of the division.\n",
    "    \"\"\"\n",
    "    return a / b"
   ]
  },
  {
   "cell_type": "code",
   "execution_count": 30,
   "id": "52d295a0-6f47-4e1c-8b74-8c419131ae6b",
   "metadata": {},
   "outputs": [
    {
     "data": {
      "text/plain": [
       "6.666666666666667"
      ]
     },
     "execution_count": 30,
     "metadata": {},
     "output_type": "execute_result"
    }
   ],
   "source": [
    "divide(60, 9)"
   ]
  },
  {
   "cell_type": "code",
   "execution_count": 31,
   "id": "964ba2f8-d3e6-4b58-b629-d6544c8ae8f3",
   "metadata": {},
   "outputs": [],
   "source": [
    "def square(x):\n",
    "    \"\"\"Return the square of x.\"\"\"\n",
    "    return x * x"
   ]
  },
  {
   "cell_type": "code",
   "execution_count": 32,
   "id": "6f935d0e-e192-4e50-af96-c466790dc949",
   "metadata": {},
   "outputs": [
    {
     "data": {
      "text/plain": [
       "25"
      ]
     },
     "execution_count": 32,
     "metadata": {},
     "output_type": "execute_result"
    }
   ],
   "source": [
    "square(5)"
   ]
  },
  {
   "cell_type": "code",
   "execution_count": 34,
   "id": "623b8215-46a8-44de-bcdb-d39ec9cfc03c",
   "metadata": {},
   "outputs": [],
   "source": [
    "def calculate_area(radius):\n",
    "    \"\"\"Calculate the area of a circle with the given radius.\"\"\"\n",
    "    import math\n",
    "    area = math.pi * (radius ** 2)\n",
    "    return area"
   ]
  },
  {
   "cell_type": "code",
   "execution_count": 35,
   "id": "e079fb49-6579-489f-ab67-a21fa86e6ef6",
   "metadata": {},
   "outputs": [
    {
     "data": {
      "text/plain": [
       "1256.6370614359173"
      ]
     },
     "execution_count": 35,
     "metadata": {},
     "output_type": "execute_result"
    }
   ],
   "source": [
    "calculate_area(20)"
   ]
  },
  {
   "cell_type": "code",
   "execution_count": 37,
   "id": "06709ef4-af4f-4e50-9fdd-c513cf86d7e1",
   "metadata": {},
   "outputs": [],
   "source": [
    "def factorial(n):\n",
    "    \"\"\"\n",
    "    Calculate the factorial of a non-negative integer n.\n",
    "\n",
    "    Parameters:\n",
    "    n (int): The number to calculate the factorial for.\n",
    "\n",
    "    Returns:\n",
    "    int: The factorial of n.\n",
    "    \"\"\"\n",
    "    if n < 0:\n",
    "        raise ValueError(\"Factorial is not defined for negative numbers\")\n",
    "    if n == 0 or n == 1:\n",
    "        return 1\n",
    "    return n * factorial(n - 1)"
   ]
  },
  {
   "cell_type": "code",
   "execution_count": 38,
   "id": "3cfad742-b5e7-441c-8256-261a1a07bd6f",
   "metadata": {},
   "outputs": [
    {
     "ename": "ValueError",
     "evalue": "Factorial is not defined for negative numbers",
     "output_type": "error",
     "traceback": [
      "\u001b[1;31m---------------------------------------------------------------------------\u001b[0m",
      "\u001b[1;31mValueError\u001b[0m                                Traceback (most recent call last)",
      "Cell \u001b[1;32mIn[38], line 1\u001b[0m\n\u001b[1;32m----> 1\u001b[0m factorial(\u001b[38;5;241m-\u001b[39m\u001b[38;5;241m1\u001b[39m)\n",
      "Cell \u001b[1;32mIn[37], line 12\u001b[0m, in \u001b[0;36mfactorial\u001b[1;34m(n)\u001b[0m\n\u001b[0;32m      2\u001b[0m \u001b[38;5;250m\u001b[39m\u001b[38;5;124;03m\"\"\"\u001b[39;00m\n\u001b[0;32m      3\u001b[0m \u001b[38;5;124;03mCalculate the factorial of a non-negative integer n.\u001b[39;00m\n\u001b[0;32m      4\u001b[0m \n\u001b[1;32m   (...)\u001b[0m\n\u001b[0;32m      9\u001b[0m \u001b[38;5;124;03mint: The factorial of n.\u001b[39;00m\n\u001b[0;32m     10\u001b[0m \u001b[38;5;124;03m\"\"\"\u001b[39;00m\n\u001b[0;32m     11\u001b[0m \u001b[38;5;28;01mif\u001b[39;00m n \u001b[38;5;241m<\u001b[39m \u001b[38;5;241m0\u001b[39m:\n\u001b[1;32m---> 12\u001b[0m     \u001b[38;5;28;01mraise\u001b[39;00m \u001b[38;5;167;01mValueError\u001b[39;00m(\u001b[38;5;124m\"\u001b[39m\u001b[38;5;124mFactorial is not defined for negative numbers\u001b[39m\u001b[38;5;124m\"\u001b[39m)\n\u001b[0;32m     13\u001b[0m \u001b[38;5;28;01mif\u001b[39;00m n \u001b[38;5;241m==\u001b[39m \u001b[38;5;241m0\u001b[39m \u001b[38;5;129;01mor\u001b[39;00m n \u001b[38;5;241m==\u001b[39m \u001b[38;5;241m1\u001b[39m:\n\u001b[0;32m     14\u001b[0m     \u001b[38;5;28;01mreturn\u001b[39;00m \u001b[38;5;241m1\u001b[39m\n",
      "\u001b[1;31mValueError\u001b[0m: Factorial is not defined for negative numbers"
     ]
    }
   ],
   "source": [
    "factorial(-1)"
   ]
  },
  {
   "cell_type": "code",
   "execution_count": 39,
   "id": "77588205-2f57-4e44-b21c-18f3468854aa",
   "metadata": {},
   "outputs": [
    {
     "data": {
      "text/plain": [
       "1"
      ]
     },
     "execution_count": 39,
     "metadata": {},
     "output_type": "execute_result"
    }
   ],
   "source": [
    "factorial(0)"
   ]
  },
  {
   "cell_type": "code",
   "execution_count": 40,
   "id": "d04c5d35-427f-4663-90fe-1946cb99d795",
   "metadata": {},
   "outputs": [
    {
     "data": {
      "text/plain": [
       "24"
      ]
     },
     "execution_count": 40,
     "metadata": {},
     "output_type": "execute_result"
    }
   ],
   "source": [
    "factorial(4)"
   ]
  },
  {
   "cell_type": "code",
   "execution_count": 41,
   "id": "0e10b895-22ba-4d63-bca4-66867afadb64",
   "metadata": {},
   "outputs": [],
   "source": [
    "def is_prime(n):\n",
    "    \"\"\"\n",
    "    Check if a number is a prime number.\n",
    "\n",
    "    Parameters:\n",
    "    n (int): The number to check.\n",
    "\n",
    "    Returns:\n",
    "    bool: True if n is a prime number, False otherwise.\n",
    "    \"\"\"\n",
    "    if n <= 1:\n",
    "        return False\n",
    "    for i in range(2, int(n**0.5) + 1):\n",
    "        if n % i == 0:\n",
    "            return False\n",
    "    return True"
   ]
  },
  {
   "cell_type": "code",
   "execution_count": 43,
   "id": "23c8871d-1532-45bc-ae0d-885b5f176769",
   "metadata": {},
   "outputs": [
    {
     "data": {
      "text/plain": [
       "False"
      ]
     },
     "execution_count": 43,
     "metadata": {},
     "output_type": "execute_result"
    }
   ],
   "source": [
    "is_prime(38)"
   ]
  },
  {
   "cell_type": "code",
   "execution_count": 45,
   "id": "0b3ed4b4-383e-4e41-92b7-65acfc6aaeee",
   "metadata": {},
   "outputs": [],
   "source": [
    "def find_max(lst):\n",
    "    \"\"\"\n",
    "    Find the maximum value in a list of numbers.\n",
    "\n",
    "    Parameters:\n",
    "    lst (list of int/float): The list to search.\n",
    "\n",
    "    Returns:\n",
    "    int/float: The maximum value in the list.\n",
    "    \"\"\"\n",
    "    if not lst:\n",
    "        raise ValueError(\"List is empty\")\n",
    "    max_value = lst[0]\n",
    "    for item in lst[1:]:\n",
    "        if item > max_value:\n",
    "            max_value = item\n",
    "    return max_value"
   ]
  },
  {
   "cell_type": "code",
   "execution_count": 46,
   "id": "d22b2ffa-3676-4c77-93d2-ac1151f973c5",
   "metadata": {},
   "outputs": [
    {
     "ename": "TypeError",
     "evalue": "'int' object is not subscriptable",
     "output_type": "error",
     "traceback": [
      "\u001b[1;31m---------------------------------------------------------------------------\u001b[0m",
      "\u001b[1;31mTypeError\u001b[0m                                 Traceback (most recent call last)",
      "Cell \u001b[1;32mIn[46], line 1\u001b[0m\n\u001b[1;32m----> 1\u001b[0m find_max(\u001b[38;5;241m5\u001b[39m)\n",
      "Cell \u001b[1;32mIn[45], line 13\u001b[0m, in \u001b[0;36mfind_max\u001b[1;34m(lst)\u001b[0m\n\u001b[0;32m     11\u001b[0m \u001b[38;5;28;01mif\u001b[39;00m \u001b[38;5;129;01mnot\u001b[39;00m lst:\n\u001b[0;32m     12\u001b[0m     \u001b[38;5;28;01mraise\u001b[39;00m \u001b[38;5;167;01mValueError\u001b[39;00m(\u001b[38;5;124m\"\u001b[39m\u001b[38;5;124mList is empty\u001b[39m\u001b[38;5;124m\"\u001b[39m)\n\u001b[1;32m---> 13\u001b[0m max_value \u001b[38;5;241m=\u001b[39m lst[\u001b[38;5;241m0\u001b[39m]\n\u001b[0;32m     14\u001b[0m \u001b[38;5;28;01mfor\u001b[39;00m item \u001b[38;5;129;01min\u001b[39;00m lst[\u001b[38;5;241m1\u001b[39m:]:\n\u001b[0;32m     15\u001b[0m     \u001b[38;5;28;01mif\u001b[39;00m item \u001b[38;5;241m>\u001b[39m max_value:\n",
      "\u001b[1;31mTypeError\u001b[0m: 'int' object is not subscriptable"
     ]
    }
   ],
   "source": [
    "find_max(5)"
   ]
  },
  {
   "cell_type": "code",
   "execution_count": 47,
   "id": "1cfe1c19-be27-4726-860d-733f98deed51",
   "metadata": {},
   "outputs": [],
   "source": [
    "l1 = [3,5,67,83,34,27]"
   ]
  },
  {
   "cell_type": "code",
   "execution_count": 48,
   "id": "d9bf614b-5d03-4d56-9b5a-dca95d590e3d",
   "metadata": {},
   "outputs": [
    {
     "data": {
      "text/plain": [
       "83"
      ]
     },
     "execution_count": 48,
     "metadata": {},
     "output_type": "execute_result"
    }
   ],
   "source": [
    "find_max(l1)"
   ]
  },
  {
   "cell_type": "code",
   "execution_count": 49,
   "id": "8071b332-0c57-4553-8555-d06f281cae67",
   "metadata": {},
   "outputs": [],
   "source": [
    "def reverse_string(s):\n",
    "    \"\"\"\n",
    "    Reverse the input string.\n",
    "\n",
    "    Parameters:\n",
    "    s (str): The string to reverse.\n",
    "\n",
    "    Returns:\n",
    "    str: The reversed string.\n",
    "    \"\"\"\n",
    "    return s[::-1]"
   ]
  },
  {
   "cell_type": "code",
   "execution_count": 50,
   "id": "2ec41583-f77f-4b28-b193-c8c82c28fa8e",
   "metadata": {},
   "outputs": [
    {
     "data": {
      "text/plain": [
       "'tima'"
      ]
     },
     "execution_count": 50,
     "metadata": {},
     "output_type": "execute_result"
    }
   ],
   "source": [
    "reverse_string(\"amit\")"
   ]
  },
  {
   "cell_type": "code",
   "execution_count": 51,
   "id": "7b5e16a5-2709-4f6d-827c-e7d03ee97417",
   "metadata": {},
   "outputs": [],
   "source": [
    "def sum_list(lst):\n",
    "    \"\"\"\n",
    "    Calculate the sum of all numbers in a list.\n",
    "\n",
    "    Parameters:\n",
    "    lst (list of int/float): The list of numbers to sum.\n",
    "\n",
    "    Returns:\n",
    "    int/float: The sum of the list.\n",
    "    \"\"\"\n",
    "    total = 0\n",
    "    for num in lst:\n",
    "        total += num\n",
    "    return total"
   ]
  },
  {
   "cell_type": "code",
   "execution_count": 52,
   "id": "6f1acbb0-b952-4436-a881-0e72c7c8cb1d",
   "metadata": {},
   "outputs": [
    {
     "data": {
      "text/plain": [
       "219"
      ]
     },
     "execution_count": 52,
     "metadata": {},
     "output_type": "execute_result"
    }
   ],
   "source": [
    "sum_list(l1)"
   ]
  },
  {
   "cell_type": "code",
   "execution_count": 53,
   "id": "1eb868ac-1ca6-4ad6-8c09-9fa1afabdfa9",
   "metadata": {},
   "outputs": [],
   "source": [
    "def fibonacci(n):\n",
    "    \"\"\"\n",
    "    Generate the first n numbers in the Fibonacci sequence.\n",
    "\n",
    "    Parameters:\n",
    "    n (int): The number of Fibonacci numbers to generate.\n",
    "\n",
    "    Returns:\n",
    "    list of int: The first n numbers in the Fibonacci sequence.\n",
    "    \"\"\"\n",
    "    if n <= 0:\n",
    "        return []\n",
    "    elif n == 1:\n",
    "        return [0]\n",
    "    \n",
    "    sequence = [0, 1]\n",
    "    while len(sequence) < n:\n",
    "        sequence.append(sequence[-1] + sequence[-2])\n",
    "    return sequence"
   ]
  },
  {
   "cell_type": "code",
   "execution_count": 55,
   "id": "031c0c5d-a7a2-4365-9dd6-e01c73f0df19",
   "metadata": {},
   "outputs": [
    {
     "data": {
      "text/plain": [
       "[0, 1, 1, 2, 3, 5, 8, 13, 21, 34]"
      ]
     },
     "execution_count": 55,
     "metadata": {},
     "output_type": "execute_result"
    }
   ],
   "source": [
    "fibonacci(10)"
   ]
  },
  {
   "cell_type": "code",
   "execution_count": 56,
   "id": "640309b2-a078-45d3-a5ce-03b5a4cc4fdf",
   "metadata": {},
   "outputs": [],
   "source": [
    "def celsius_to_fahrenheit(celsius):\n",
    "    \"\"\"\n",
    "    Convert Celsius to Fahrenheit.\n",
    "\n",
    "    Parameters:\n",
    "    celsius (float): The temperature in Celsius.\n",
    "\n",
    "    Returns:\n",
    "    float: The temperature in Fahrenheit.\n",
    "    \"\"\"\n",
    "    return (celsius * 9/5) + 32"
   ]
  },
  {
   "cell_type": "code",
   "execution_count": 59,
   "id": "623afb92-250c-4020-a66b-e9e939c3b518",
   "metadata": {},
   "outputs": [
    {
     "data": {
      "text/plain": [
       "98.6"
      ]
     },
     "execution_count": 59,
     "metadata": {},
     "output_type": "execute_result"
    }
   ],
   "source": [
    "celsius_to_fahrenheit(37)"
   ]
  },
  {
   "cell_type": "code",
   "execution_count": 60,
   "id": "4a895d78-c7c0-4ec8-a670-be222211085b",
   "metadata": {},
   "outputs": [],
   "source": [
    "def fahrenheit_to_celsius(fahrenheit):\n",
    "    \"\"\"\n",
    "    Convert Fahrenheit to Celsius.\n",
    "\n",
    "    Parameters:\n",
    "    fahrenheit (float): The temperature in Fahrenheit.\n",
    "\n",
    "    Returns:\n",
    "    float: The temperature in Celsius.\n",
    "    \"\"\"\n",
    "    return (fahrenheit - 32) * 5/9"
   ]
  },
  {
   "cell_type": "code",
   "execution_count": 61,
   "id": "caeaaa94-6ade-4db1-b57e-6c543a477934",
   "metadata": {},
   "outputs": [],
   "source": [
    "def string_length(s):\n",
    "    \"\"\"\n",
    "    Find the length of a string.\n",
    "\n",
    "    Parameters:\n",
    "    s (str): The string to measure.\n",
    "\n",
    "    Returns:\n",
    "    int: The length of the string.\n",
    "    \"\"\"\n",
    "    length = 0\n",
    "    for _ in s:\n",
    "        length += 1\n",
    "    return length"
   ]
  },
  {
   "cell_type": "code",
   "execution_count": 62,
   "id": "4bb93889-3d4b-4c24-a2c3-cc0540b0cfb6",
   "metadata": {},
   "outputs": [
    {
     "data": {
      "text/plain": [
       "33"
      ]
     },
     "execution_count": 62,
     "metadata": {},
     "output_type": "execute_result"
    }
   ],
   "source": [
    "string_length(\"python is a data science language\")"
   ]
  },
  {
   "cell_type": "code",
   "execution_count": 63,
   "id": "f3a1734b-3acf-46e4-9dfe-02fda031aad4",
   "metadata": {},
   "outputs": [],
   "source": [
    "def count_occurrences(lst, item):\n",
    "    \"\"\"\n",
    "    Count the occurrences of an item in a list.\n",
    "\n",
    "    Parameters:\n",
    "    lst (list): The list to search.\n",
    "    item: The item to count.\n",
    "\n",
    "    Returns:\n",
    "    int: The number of times the item appears in the list.\n",
    "    \"\"\"\n",
    "    count = 0\n",
    "    for element in lst:\n",
    "        if element == item:\n",
    "            count += 1\n",
    "    return count"
   ]
  },
  {
   "cell_type": "code",
   "execution_count": 64,
   "id": "37ec8ba5-c58a-433b-b211-95d4684974a8",
   "metadata": {},
   "outputs": [
    {
     "data": {
      "text/plain": [
       "3"
      ]
     },
     "execution_count": 64,
     "metadata": {},
     "output_type": "execute_result"
    }
   ],
   "source": [
    "count_occurrences([1, 2, 2, 3, 2, 4], 2)"
   ]
  },
  {
   "cell_type": "code",
   "execution_count": 65,
   "id": "76ad215c-abd8-4705-a248-4c73627c8a6f",
   "metadata": {},
   "outputs": [],
   "source": [
    "def is_palindrome(s):\n",
    "    \"\"\"\n",
    "    Check if a string is a palindrome.\n",
    "\n",
    "    Parameters:\n",
    "    s (str): The string to check.\n",
    "\n",
    "    Returns:\n",
    "    bool: True if the string is a palindrome, False otherwise.\n",
    "    \"\"\"\n",
    "    s = s.lower().replace(\" \", \"\")  # Normalize the string\n",
    "    return s == s[::-1]"
   ]
  },
  {
   "cell_type": "code",
   "execution_count": 66,
   "id": "1442a942-9599-4e7e-9b9b-115f82c9e51f",
   "metadata": {},
   "outputs": [
    {
     "data": {
      "text/plain": [
       "False"
      ]
     },
     "execution_count": 66,
     "metadata": {},
     "output_type": "execute_result"
    }
   ],
   "source": [
    "is_palindrome(\"apple\")"
   ]
  },
  {
   "cell_type": "code",
   "execution_count": 67,
   "id": "a254efe9-eeb5-4231-ac0e-c7d9764bd5af",
   "metadata": {},
   "outputs": [
    {
     "data": {
      "text/plain": [
       "True"
      ]
     },
     "execution_count": 67,
     "metadata": {},
     "output_type": "execute_result"
    }
   ],
   "source": [
    "is_palindrome(\"wow\")"
   ]
  },
  {
   "cell_type": "code",
   "execution_count": 68,
   "id": "bce6c7c7-7815-4e7d-932b-e218fa7fd7aa",
   "metadata": {},
   "outputs": [
    {
     "data": {
      "text/plain": [
       "True"
      ]
     },
     "execution_count": 68,
     "metadata": {},
     "output_type": "execute_result"
    }
   ],
   "source": [
    "is_palindrome(\"nan\")"
   ]
  },
  {
   "cell_type": "code",
   "execution_count": 69,
   "id": "8a6471b6-35cf-4adf-820d-5a2e4bc6640f",
   "metadata": {},
   "outputs": [
    {
     "data": {
      "text/plain": [
       "False"
      ]
     },
     "execution_count": 69,
     "metadata": {},
     "output_type": "execute_result"
    }
   ],
   "source": [
    "is_palindrome(\"minimun\")"
   ]
  },
  {
   "cell_type": "code",
   "execution_count": 70,
   "id": "3ec84eb9-4eed-461b-a2f8-c6bb8ae4dc9c",
   "metadata": {},
   "outputs": [
    {
     "name": "stdout",
     "output_type": "stream",
     "text": [
      "True\n",
      "False\n"
     ]
    }
   ],
   "source": [
    "print(is_palindrome(\"A man a plan a canal Panama\"))  # Output: True\n",
    "print(is_palindrome(\"hello\"))  # Output: False"
   ]
  },
  {
   "cell_type": "code",
   "execution_count": null,
   "id": "ef990ca7-c75c-4656-ae88-0f5ad99f50f8",
   "metadata": {},
   "outputs": [],
   "source": [
    "def add_numbers1(a, b):\n",
    "    logging\n",
    "    try:\n",
    "        \"\"\"Return the sum of two numbers.\"\"\"\n",
    "        return a + b\n",
    "    except     "
   ]
  }
 ],
 "metadata": {
  "kernelspec": {
   "display_name": "Python 3 (ipykernel)",
   "language": "python",
   "name": "python3"
  },
  "language_info": {
   "codemirror_mode": {
    "name": "ipython",
    "version": 3
   },
   "file_extension": ".py",
   "mimetype": "text/x-python",
   "name": "python",
   "nbconvert_exporter": "python",
   "pygments_lexer": "ipython3",
   "version": "3.11.7"
  }
 },
 "nbformat": 4,
 "nbformat_minor": 5
}
