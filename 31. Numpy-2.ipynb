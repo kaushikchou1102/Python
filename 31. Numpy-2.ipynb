{
 "cells": [
  {
   "cell_type": "markdown",
   "id": "117e0a2b-f7b8-45a3-8a54-db5c69c1c74e",
   "metadata": {},
   "source": [
    "### math"
   ]
  },
  {
   "cell_type": "code",
   "execution_count": 2,
   "id": "46425cea-07d3-495b-a63d-3e037aa4bc1d",
   "metadata": {},
   "outputs": [
    {
     "name": "stdout",
     "output_type": "stream",
     "text": [
      "[[ 4 10 11]\n",
      " [21 22 23]\n",
      " [31 32 33]]\n"
     ]
    }
   ],
   "source": [
    "import numpy as np\n",
    "A = np.array([ [4, 10, 11], [21, 22, 23], [31, 32, 33] ])\n",
    "B = np.ones((3,3))\n",
    "print(A)"
   ]
  },
  {
   "cell_type": "code",
   "execution_count": 3,
   "id": "c82293f2-57f7-49f5-813c-25d5a97e00a7",
   "metadata": {},
   "outputs": [
    {
     "data": {
      "text/plain": [
       "array([[1., 1., 1.],\n",
       "       [1., 1., 1.],\n",
       "       [1., 1., 1.]])"
      ]
     },
     "execution_count": 3,
     "metadata": {},
     "output_type": "execute_result"
    }
   ],
   "source": [
    "B"
   ]
  },
  {
   "cell_type": "code",
   "execution_count": 4,
   "id": "3fcaa7dc-1110-43b1-b843-e55479645e82",
   "metadata": {},
   "outputs": [
    {
     "name": "stdout",
     "output_type": "stream",
     "text": [
      "Adding to arrays: \n",
      "[[ 5. 11. 12.]\n",
      " [22. 23. 24.]\n",
      " [32. 33. 34.]]\n"
     ]
    }
   ],
   "source": [
    "print(\"Adding to arrays: \")\n",
    "print(A + B)"
   ]
  },
  {
   "cell_type": "code",
   "execution_count": 5,
   "id": "eeb6af27-654b-4bf0-94a8-2fd091dc4bdf",
   "metadata": {},
   "outputs": [
    {
     "name": "stdout",
     "output_type": "stream",
     "text": [
      "Substracting Two Arrays\n",
      "[[ 3.  9. 10.]\n",
      " [20. 21. 22.]\n",
      " [30. 31. 32.]]\n"
     ]
    }
   ],
   "source": [
    "print(\"Substracting Two Arrays\")\n",
    "print(A-B)"
   ]
  },
  {
   "cell_type": "code",
   "execution_count": 6,
   "id": "bfe80e1e-efda-4fc5-b4fc-dee9aab676f4",
   "metadata": {},
   "outputs": [
    {
     "name": "stdout",
     "output_type": "stream",
     "text": [
      "\n",
      "Multiplying two arrays: \n",
      "[[ 4. 10. 11.]\n",
      " [21. 22. 23.]\n",
      " [31. 32. 33.]]\n"
     ]
    }
   ],
   "source": [
    "print(\"\\nMultiplying two arrays: \")\n",
    "print(A * B)"
   ]
  },
  {
   "cell_type": "code",
   "execution_count": 7,
   "id": "823e9c08-66fc-4829-9c55-b3bcaa4c5591",
   "metadata": {},
   "outputs": [
    {
     "name": "stdout",
     "output_type": "stream",
     "text": [
      "Multiplying one Array with scalar\n",
      "[[12 30 33]\n",
      " [63 66 69]\n",
      " [93 96 99]]\n"
     ]
    }
   ],
   "source": [
    "print(\"Multiplying one Array with scalar\")\n",
    "print(3*A)"
   ]
  },
  {
   "cell_type": "code",
   "execution_count": 8,
   "id": "6a56148e-f1cc-4ffe-aa7c-507d7cf0c0e6",
   "metadata": {},
   "outputs": [
    {
     "name": "stdout",
     "output_type": "stream",
     "text": [
      "Matrix Multiplication\n",
      "[[25. 25. 25.]\n",
      " [66. 66. 66.]\n",
      " [96. 96. 96.]]\n"
     ]
    }
   ],
   "source": [
    "print(\"Matrix Multiplication\")\n",
    "print(np.dot(A,B))"
   ]
  },
  {
   "cell_type": "code",
   "execution_count": 9,
   "id": "dbb28657-5a66-4ae9-b660-dcd9f0f67c98",
   "metadata": {},
   "outputs": [
    {
     "data": {
      "text/plain": [
       "array([[2.        , 3.16227766, 3.31662479],\n",
       "       [4.58257569, 4.69041576, 4.79583152],\n",
       "       [5.56776436, 5.65685425, 5.74456265]])"
      ]
     },
     "execution_count": 9,
     "metadata": {},
     "output_type": "execute_result"
    }
   ],
   "source": [
    "np.sqrt(A)"
   ]
  },
  {
   "cell_type": "code",
   "execution_count": 10,
   "id": "de0ff226-9481-4e0a-801f-a972aec97f1c",
   "metadata": {},
   "outputs": [
    {
     "data": {
      "text/plain": [
       "array([[5.45981500e+01, 2.20264658e+04, 5.98741417e+04],\n",
       "       [1.31881573e+09, 3.58491285e+09, 9.74480345e+09],\n",
       "       [2.90488497e+13, 7.89629602e+13, 2.14643580e+14]])"
      ]
     },
     "execution_count": 10,
     "metadata": {},
     "output_type": "execute_result"
    }
   ],
   "source": [
    "np.exp(A)"
   ]
  },
  {
   "cell_type": "code",
   "execution_count": 11,
   "id": "7a56f83a-ab2b-4a07-8e9f-3a5e3e5f6a9f",
   "metadata": {},
   "outputs": [
    {
     "data": {
      "text/plain": [
       "array([[1.38629436, 2.30258509, 2.39789527],\n",
       "       [3.04452244, 3.09104245, 3.13549422],\n",
       "       [3.4339872 , 3.4657359 , 3.49650756]])"
      ]
     },
     "execution_count": 11,
     "metadata": {},
     "output_type": "execute_result"
    }
   ],
   "source": [
    "np.log(A)"
   ]
  },
  {
   "cell_type": "code",
   "execution_count": 12,
   "id": "6fe81350-5ae4-4d6a-a1c5-a013dac592b8",
   "metadata": {},
   "outputs": [
    {
     "name": "stdout",
     "output_type": "stream",
     "text": [
      "[ 0 30 45 60 90]\n",
      "Sine of different angles:\n"
     ]
    }
   ],
   "source": [
    "a = np.array([0,30,45,60,90]) \n",
    "print(a)\n",
    "print ('Sine of different angles:' )"
   ]
  },
  {
   "cell_type": "code",
   "execution_count": 13,
   "id": "8197e3d1-564e-49d5-88c1-a77506e83fda",
   "metadata": {},
   "outputs": [
    {
     "name": "stdout",
     "output_type": "stream",
     "text": [
      "[0.         0.5        0.70710678 0.8660254  1.        ]\n",
      "\n",
      "\n"
     ]
    }
   ],
   "source": [
    "# Convert to radians by multiplying with pi/180 \n",
    "print (np.sin(a*np.pi/180) )\n",
    "print (\"\\n\") "
   ]
  },
  {
   "cell_type": "code",
   "execution_count": 14,
   "id": "e5b8774a-1d4b-4102-aab9-51cf70add4d3",
   "metadata": {},
   "outputs": [
    {
     "name": "stdout",
     "output_type": "stream",
     "text": [
      "Cosine values for angles in array:\n",
      "[1.00000000e+00 8.66025404e-01 7.07106781e-01 5.00000000e-01\n",
      " 6.12323400e-17]\n",
      "\n",
      "\n"
     ]
    }
   ],
   "source": [
    "print ('Cosine values for angles in array:')\n",
    "print (np.cos(a*np.pi/180) )\n",
    "print (\"\\n\") "
   ]
  },
  {
   "cell_type": "code",
   "execution_count": 15,
   "id": "eca548ab-5232-4648-849f-aff1b623f938",
   "metadata": {},
   "outputs": [
    {
     "name": "stdout",
     "output_type": "stream",
     "text": [
      "Tangent values for given angles:\n",
      "[0.00000000e+00 5.77350269e-01 1.00000000e+00 1.73205081e+00\n",
      " 1.63312394e+16]\n"
     ]
    }
   ],
   "source": [
    "print ('Tangent values for given angles:' )\n",
    "print (np.tan(a*np.pi/180) )"
   ]
  },
  {
   "cell_type": "code",
   "execution_count": 16,
   "id": "a38e89e5-e81a-4bd8-9e40-af5ee278d0a1",
   "metadata": {},
   "outputs": [
    {
     "name": "stdout",
     "output_type": "stream",
     "text": [
      "[[12. 24.]\n",
      " [33. 46.]]\n"
     ]
    }
   ],
   "source": [
    "a=np.array([[11.667,23.662],[33.21,45.887]])\n",
    "print (np.around(a)) "
   ]
  },
  {
   "cell_type": "code",
   "execution_count": 17,
   "id": "480ae249-308c-4a6e-9a1b-395a82df75ee",
   "metadata": {},
   "outputs": [
    {
     "name": "stdout",
     "output_type": "stream",
     "text": [
      "[[11.7 23.7]\n",
      " [33.2 45.9]]\n"
     ]
    }
   ],
   "source": [
    "print (np.around(a, decimals = 1))"
   ]
  },
  {
   "cell_type": "code",
   "execution_count": 18,
   "id": "51deccbc-dea2-44ec-8eea-6eac73ae0565",
   "metadata": {},
   "outputs": [
    {
     "name": "stdout",
     "output_type": "stream",
     "text": [
      "[[11.67 23.66]\n",
      " [33.21 45.89]]\n"
     ]
    }
   ],
   "source": [
    "print (np.around(a, decimals = 2))"
   ]
  },
  {
   "cell_type": "code",
   "execution_count": 19,
   "id": "bfe6d3f3-5fdf-4390-91f0-ce8db38ffc85",
   "metadata": {},
   "outputs": [
    {
     "data": {
      "text/plain": [
       "187"
      ]
     },
     "execution_count": 19,
     "metadata": {},
     "output_type": "execute_result"
    }
   ],
   "source": [
    "A.sum() ## SUM OF ALL THE DATA "
   ]
  },
  {
   "cell_type": "code",
   "execution_count": 20,
   "id": "9ed47515-8c14-4a71-8d15-e06f073dcc54",
   "metadata": {},
   "outputs": [
    {
     "data": {
      "text/plain": [
       "array([56, 64, 67])"
      ]
     },
     "execution_count": 20,
     "metadata": {},
     "output_type": "execute_result"
    }
   ],
   "source": [
    "A.sum(axis=0) ## row wise"
   ]
  },
  {
   "cell_type": "code",
   "execution_count": 21,
   "id": "98f892dc-7b4d-4c8e-a6bb-2c1ac3b1ecbf",
   "metadata": {},
   "outputs": [
    {
     "data": {
      "text/plain": [
       "array([25, 66, 96])"
      ]
     },
     "execution_count": 21,
     "metadata": {},
     "output_type": "execute_result"
    }
   ],
   "source": [
    "A.sum(axis=1) ## Column wise"
   ]
  },
  {
   "cell_type": "code",
   "execution_count": 22,
   "id": "b1459151-0a9f-4f51-8413-c22e1228916a",
   "metadata": {},
   "outputs": [
    {
     "data": {
      "text/plain": [
       "20.77777777777778"
      ]
     },
     "execution_count": 22,
     "metadata": {},
     "output_type": "execute_result"
    }
   ],
   "source": [
    "A.mean()"
   ]
  },
  {
   "cell_type": "code",
   "execution_count": 23,
   "id": "804ab23b-db7c-4b5c-b5b0-342edbbf7b65",
   "metadata": {},
   "outputs": [
    {
     "data": {
      "text/plain": [
       "9.88576729757121"
      ]
     },
     "execution_count": 23,
     "metadata": {},
     "output_type": "execute_result"
    }
   ],
   "source": [
    "np.std(A)"
   ]
  },
  {
   "cell_type": "code",
   "execution_count": 24,
   "id": "811e4282-eaaf-4c15-962f-51f8706b4afd",
   "metadata": {},
   "outputs": [
    {
     "data": {
      "text/plain": [
       "array([11.14550233,  8.99382504,  8.99382504])"
      ]
     },
     "execution_count": 24,
     "metadata": {},
     "output_type": "execute_result"
    }
   ],
   "source": [
    "np.std(A,axis=0)"
   ]
  },
  {
   "cell_type": "code",
   "execution_count": 25,
   "id": "a30b1e96-5a8b-426e-bbfd-a6d4df9130ff",
   "metadata": {},
   "outputs": [
    {
     "data": {
      "text/plain": [
       "22.0"
      ]
     },
     "execution_count": 25,
     "metadata": {},
     "output_type": "execute_result"
    }
   ],
   "source": [
    "np.median(A)"
   ]
  },
  {
   "cell_type": "code",
   "execution_count": 26,
   "id": "a9b642c7-a4a5-483d-8cae-784a0e04014d",
   "metadata": {},
   "outputs": [
    {
     "data": {
      "text/plain": [
       "array([[ 4, 10, 11],\n",
       "       [21, 22, 23],\n",
       "       [31, 32, 33]])"
      ]
     },
     "execution_count": 26,
     "metadata": {},
     "output_type": "execute_result"
    }
   ],
   "source": [
    "A"
   ]
  },
  {
   "cell_type": "code",
   "execution_count": 27,
   "id": "5dfab5b1-523f-4905-9b1e-f42d4cfa4deb",
   "metadata": {},
   "outputs": [
    {
     "data": {
      "text/plain": [
       "array([[ 4, 10, 11],\n",
       "       [21, 22,  0],\n",
       "       [ 8,  9, 10]], dtype=int32)"
      ]
     },
     "execution_count": 27,
     "metadata": {},
     "output_type": "execute_result"
    }
   ],
   "source": [
    "np.mod(A,23)   #modulus"
   ]
  },
  {
   "cell_type": "code",
   "execution_count": 28,
   "id": "e81d7a8c-e6dc-4fb7-ad54-2043c2f98eb4",
   "metadata": {},
   "outputs": [
    {
     "data": {
      "text/plain": [
       "97.72839506172839"
      ]
     },
     "execution_count": 28,
     "metadata": {},
     "output_type": "execute_result"
    }
   ],
   "source": [
    "np.var(A)    #Variance"
   ]
  },
  {
   "cell_type": "markdown",
   "id": "9e7addfa-73b1-4926-a9f2-8f3863069d2d",
   "metadata": {},
   "source": [
    "#### Binary Universal Functions"
   ]
  },
  {
   "cell_type": "code",
   "execution_count": 29,
   "id": "1aec2232-250c-46f2-a0f8-747f4d222e6f",
   "metadata": {},
   "outputs": [
    {
     "data": {
      "text/plain": [
       "array([[False, False, False],\n",
       "       [ True,  True,  True]])"
      ]
     },
     "execution_count": 29,
     "metadata": {},
     "output_type": "execute_result"
    }
   ],
   "source": [
    "A=[[1,2,3],[3,4,5]]\n",
    "B=[[3,3,4],[1,2,0]]\n",
    "a=np.array(A)\n",
    "b=np.array(B)\n",
    "np.greater_equal(a,b)"
   ]
  },
  {
   "cell_type": "code",
   "execution_count": 30,
   "id": "56d6374c-31f5-4476-a66b-78e29b5948fc",
   "metadata": {},
   "outputs": [
    {
     "data": {
      "text/plain": [
       "[[1, 2, 3], [3, 4, 5]]"
      ]
     },
     "execution_count": 30,
     "metadata": {},
     "output_type": "execute_result"
    }
   ],
   "source": [
    "A"
   ]
  },
  {
   "cell_type": "code",
   "execution_count": 31,
   "id": "be6b2bc2-c3be-41ac-8228-b3ff3ddcfa23",
   "metadata": {},
   "outputs": [
    {
     "data": {
      "text/plain": [
       "[[3, 3, 4], [1, 2, 0]]"
      ]
     },
     "execution_count": 31,
     "metadata": {},
     "output_type": "execute_result"
    }
   ],
   "source": [
    "B"
   ]
  },
  {
   "cell_type": "code",
   "execution_count": 32,
   "id": "2898aac3-9e24-4fc2-861c-da83d23077f8",
   "metadata": {},
   "outputs": [
    {
     "data": {
      "text/plain": [
       "array([[ True,  True,  True],\n",
       "       [False, False, False]])"
      ]
     },
     "execution_count": 32,
     "metadata": {},
     "output_type": "execute_result"
    }
   ],
   "source": [
    "np.greater_equal(b,a)"
   ]
  },
  {
   "cell_type": "code",
   "execution_count": 33,
   "id": "b0560358-1e38-4e1f-8789-d136388256d0",
   "metadata": {},
   "outputs": [
    {
     "data": {
      "text/plain": [
       "array([[ True,  True,  True],\n",
       "       [False, False, False]])"
      ]
     },
     "execution_count": 33,
     "metadata": {},
     "output_type": "execute_result"
    }
   ],
   "source": [
    "np.less(a,b)"
   ]
  },
  {
   "cell_type": "markdown",
   "id": "dbb098e7-b4c8-4702-a61d-82cfd1102e04",
   "metadata": {},
   "source": [
    "### Subsetting array"
   ]
  },
  {
   "cell_type": "code",
   "execution_count": 34,
   "id": "e5bea70b-0f48-4f51-b19a-08c6a02fc23f",
   "metadata": {},
   "outputs": [
    {
     "data": {
      "text/plain": [
       "array([[1, 2, 3],\n",
       "       [3, 4, 5]])"
      ]
     },
     "execution_count": 34,
     "metadata": {},
     "output_type": "execute_result"
    }
   ],
   "source": [
    "a"
   ]
  },
  {
   "cell_type": "code",
   "execution_count": 37,
   "id": "0113fdcc-3200-47ff-9078-53eb4c03b08e",
   "metadata": {},
   "outputs": [],
   "source": [
    "subset1 = a[:,1] = 2  ## sub set element before postion 0 to value 1"
   ]
  },
  {
   "cell_type": "code",
   "execution_count": 38,
   "id": "a258913b-f26a-425f-8cbc-3974928b0e46",
   "metadata": {},
   "outputs": [
    {
     "data": {
      "text/plain": [
       "array([[1, 2, 3],\n",
       "       [1, 2, 5]])"
      ]
     },
     "execution_count": 38,
     "metadata": {},
     "output_type": "execute_result"
    }
   ],
   "source": [
    "a"
   ]
  },
  {
   "cell_type": "markdown",
   "id": "f7625d01-67b9-4f84-87ad-bc526c4c28ec",
   "metadata": {},
   "source": [
    "### Concatenating Arrays"
   ]
  },
  {
   "cell_type": "code",
   "execution_count": 42,
   "id": "510e0409-d82d-4a2f-a017-83f7037cb19f",
   "metadata": {},
   "outputs": [
    {
     "data": {
      "text/plain": [
       "array([[1, 2, 3],\n",
       "       [1, 2, 5],\n",
       "       [3, 3, 4],\n",
       "       [1, 2, 0]])"
      ]
     },
     "execution_count": 42,
     "metadata": {},
     "output_type": "execute_result"
    }
   ],
   "source": [
    "np.concatenate([a,b])"
   ]
  },
  {
   "cell_type": "code",
   "execution_count": null,
   "id": "319899b5-8a59-4dee-ad83-110804f1623a",
   "metadata": {},
   "outputs": [],
   "source": []
  },
  {
   "cell_type": "code",
   "execution_count": 39,
   "id": "3a20f1dd-0464-4e6f-9314-f6889886cdc3",
   "metadata": {},
   "outputs": [
    {
     "data": {
      "text/plain": [
       "array([[1, 2, 3, 3, 3, 4],\n",
       "       [1, 2, 5, 1, 2, 0]])"
      ]
     },
     "execution_count": 39,
     "metadata": {},
     "output_type": "execute_result"
    }
   ],
   "source": [
    "np.concatenate([a,b],axis=1)"
   ]
  },
  {
   "cell_type": "code",
   "execution_count": 40,
   "id": "00d983ec-5c44-4bad-b10f-1e96720ddf6d",
   "metadata": {},
   "outputs": [
    {
     "data": {
      "text/plain": [
       "array([[1, 2, 3],\n",
       "       [1, 2, 5],\n",
       "       [3, 3, 4],\n",
       "       [1, 2, 0]])"
      ]
     },
     "execution_count": 40,
     "metadata": {},
     "output_type": "execute_result"
    }
   ],
   "source": [
    "np.concatenate([a,b],axis=0)"
   ]
  },
  {
   "cell_type": "code",
   "execution_count": 41,
   "id": "a57a8a93-b060-4e40-8488-fc55022490d7",
   "metadata": {},
   "outputs": [
    {
     "data": {
      "text/plain": [
       "2"
      ]
     },
     "execution_count": 41,
     "metadata": {},
     "output_type": "execute_result"
    }
   ],
   "source": [
    "np.ndim(b)"
   ]
  },
  {
   "cell_type": "code",
   "execution_count": 43,
   "id": "ac0b0d1c-3616-4f15-834b-30fcffa41d5d",
   "metadata": {},
   "outputs": [
    {
     "name": "stdout",
     "output_type": "stream",
     "text": [
      "First array:\n",
      " [[ 0.  0.  0.]\n",
      " [10. 10. 10.]\n",
      " [20. 20. 20.]\n",
      " [30. 30. 30.]]\n",
      "Second array:\n",
      " [0. 1. 2.]\n",
      "\n",
      "\n",
      "First Array + Second Array=\n",
      " [[ 0.  1.  2.]\n",
      " [10. 11. 12.]\n",
      " [20. 21. 22.]\n",
      " [30. 31. 32.]]\n"
     ]
    }
   ],
   "source": [
    "a = np.array([[0.0,0.0,0.0],[10.0,10.0,10.0],[20.0,20.0,20.0],[30.0,30.0,30.0]]) \n",
    "b = np.array([0.0,1.0,2.0])  \n",
    "   \n",
    "print ('First array:\\n',a )\n",
    "print ('Second array:\\n',b )\n",
    "print (\"\\n\")   \n",
    "print ('First Array + Second Array=\\n',a+b)"
   ]
  },
  {
   "cell_type": "markdown",
   "id": "9e4d0f82-8647-48ea-9c73-1e40270af16e",
   "metadata": {},
   "source": [
    "### file input output"
   ]
  },
  {
   "cell_type": "code",
   "execution_count": 44,
   "id": "360d3ce9-6777-49da-951b-fba76e665c50",
   "metadata": {},
   "outputs": [],
   "source": [
    "a = np.array([11,2,30,4,5,13]) \n",
    "np.save('dar',a)"
   ]
  },
  {
   "cell_type": "code",
   "execution_count": 45,
   "id": "80ac2f11-52d1-411d-8bdd-8c7d6e760c9b",
   "metadata": {},
   "outputs": [
    {
     "name": "stdout",
     "output_type": "stream",
     "text": [
      "[11  2 30  4  5 13]\n"
     ]
    }
   ],
   "source": [
    "# To reconstruct array from demofile.npy, use load() function.\n",
    "b = np.load('dar.npy') \n",
    "print (b)"
   ]
  },
  {
   "cell_type": "code",
   "execution_count": 46,
   "id": "d2936daf-03bd-4c8d-b3d4-ebf630b2019c",
   "metadata": {},
   "outputs": [
    {
     "data": {
      "text/plain": [
       "array([[7, 2, 5, 3],\n",
       "       [9, 4, 2, 6],\n",
       "       [7, 7, 8, 4]])"
      ]
     },
     "execution_count": 46,
     "metadata": {},
     "output_type": "execute_result"
    }
   ],
   "source": [
    "np.random.randint(2,10,(3,4))"
   ]
  },
  {
   "cell_type": "code",
   "execution_count": 48,
   "id": "2fbf9fdf-234c-4ac1-a95e-0e67aa4c1e16",
   "metadata": {},
   "outputs": [
    {
     "data": {
      "text/plain": [
       "array([[2, 2, 2],\n",
       "       [2, 2, 2],\n",
       "       [2, 2, 2]])"
      ]
     },
     "execution_count": 48,
     "metadata": {},
     "output_type": "execute_result"
    }
   ],
   "source": [
    "np.random.randint(2,3.8,(3,3))"
   ]
  },
  {
   "cell_type": "code",
   "execution_count": 49,
   "id": "82d6c47b-7fb0-4299-bf8b-3e2a46ad741d",
   "metadata": {},
   "outputs": [
    {
     "data": {
      "text/plain": [
       "array([[[49, 35, 47, 35],\n",
       "        [28, 10, 34,  2],\n",
       "        [ 8, 38, 15,  7]],\n",
       "\n",
       "       [[28, 39, 43, 46],\n",
       "        [46,  2,  4, 24],\n",
       "        [19, 31, 41, 25]]])"
      ]
     },
     "execution_count": 49,
     "metadata": {},
     "output_type": "execute_result"
    }
   ],
   "source": [
    "np.random.randint(2,50, (2,3,4) )"
   ]
  },
  {
   "cell_type": "code",
   "execution_count": 50,
   "id": "dc476690-fc81-40ed-81b5-e1439d686d66",
   "metadata": {},
   "outputs": [
    {
     "data": {
      "text/plain": [
       "array([[0.09882442, 0.06163918, 0.6390256 , 0.43359111],\n",
       "       [0.50670503, 0.47410942, 0.51277825, 0.41703965],\n",
       "       [0.9701602 , 0.83647351, 0.77244062, 0.18090565],\n",
       "       [0.8219337 , 0.42881703, 0.66077872, 0.95288988],\n",
       "       [0.68257404, 0.16592385, 0.85462807, 0.91208757]])"
      ]
     },
     "execution_count": 50,
     "metadata": {},
     "output_type": "execute_result"
    }
   ],
   "source": [
    "np.random.rand(5,4)"
   ]
  },
  {
   "cell_type": "code",
   "execution_count": 51,
   "id": "65f8b5fa-6c74-4119-80a1-89a48bf00821",
   "metadata": {},
   "outputs": [],
   "source": [
    "a =np.random.randn(4,4)"
   ]
  },
  {
   "cell_type": "code",
   "execution_count": 52,
   "id": "f79e5d09-4bea-4727-ae70-e1ebf3efcd1c",
   "metadata": {},
   "outputs": [
    {
     "data": {
      "text/plain": [
       "array([[-0.68193743,  0.98487483,  0.92990775,  1.14492212],\n",
       "       [ 1.00413695, -1.59540662,  0.74567706,  0.97414941],\n",
       "       [-1.15225493, -0.80853556, -1.47231   , -0.10208243],\n",
       "       [ 0.81825794, -0.8430383 , -0.44330399,  0.78138689]])"
      ]
     },
     "execution_count": 52,
     "metadata": {},
     "output_type": "execute_result"
    }
   ],
   "source": [
    "a"
   ]
  },
  {
   "cell_type": "code",
   "execution_count": 53,
   "id": "bda10e44-aedc-4aa7-ad6d-2ad9e1ab06ba",
   "metadata": {},
   "outputs": [
    {
     "data": {
      "text/plain": [
       "array([[-0.68193743,  0.98487483,  0.92990775,  1.14492212,  1.00413695,\n",
       "        -1.59540662,  0.74567706,  0.97414941],\n",
       "       [-1.15225493, -0.80853556, -1.47231   , -0.10208243,  0.81825794,\n",
       "        -0.8430383 , -0.44330399,  0.78138689]])"
      ]
     },
     "execution_count": 53,
     "metadata": {},
     "output_type": "execute_result"
    }
   ],
   "source": [
    "a.reshape(2,8)"
   ]
  },
  {
   "cell_type": "code",
   "execution_count": 56,
   "id": "b3ae3fbb-5835-4cda-a04f-b5f6b18207aa",
   "metadata": {},
   "outputs": [
    {
     "data": {
      "text/plain": [
       "array([[ 0.61860231,  1.02192929],\n",
       "       [-0.47521702, -1.30163794],\n",
       "       [ 1.31010373,  1.64667513],\n",
       "       [ 0.3473535 , -0.61791652],\n",
       "       [ 0.37290561, -0.69166786]])"
      ]
     },
     "execution_count": 56,
     "metadata": {},
     "output_type": "execute_result"
    }
   ],
   "source": [
    "np.random.randn(5,2)"
   ]
  },
  {
   "cell_type": "code",
   "execution_count": 57,
   "id": "c80e46ae-bf56-4915-9c03-887eb039f2ed",
   "metadata": {},
   "outputs": [],
   "source": [
    "a6 = np.random.randint(0,3 , (3,3))"
   ]
  },
  {
   "cell_type": "code",
   "execution_count": 58,
   "id": "8bb4a608-5bd7-4a8c-8e50-075b86aaab4a",
   "metadata": {},
   "outputs": [],
   "source": [
    "a7 = np.random.randint(0,3 , (3,3))"
   ]
  },
  {
   "cell_type": "code",
   "execution_count": 60,
   "id": "ad8a3a9a-a0d1-4454-a1f4-639760997969",
   "metadata": {},
   "outputs": [
    {
     "data": {
      "text/plain": [
       "array([[2, 1, 0],\n",
       "       [0, 0, 2],\n",
       "       [0, 0, 0]])"
      ]
     },
     "execution_count": 60,
     "metadata": {},
     "output_type": "execute_result"
    }
   ],
   "source": [
    "a6"
   ]
  },
  {
   "cell_type": "code",
   "execution_count": 61,
   "id": "87460b8c-3800-4b1a-ba78-35d77619b1b1",
   "metadata": {},
   "outputs": [
    {
     "data": {
      "text/plain": [
       "array([[1, 0, 0],\n",
       "       [1, 1, 2],\n",
       "       [2, 0, 1]])"
      ]
     },
     "execution_count": 61,
     "metadata": {},
     "output_type": "execute_result"
    }
   ],
   "source": [
    "a7"
   ]
  },
  {
   "cell_type": "code",
   "execution_count": 59,
   "id": "e805f968-672f-461d-a964-c74d57950083",
   "metadata": {},
   "outputs": [
    {
     "data": {
      "text/plain": [
       "array([[2, 0, 0],\n",
       "       [0, 0, 4],\n",
       "       [0, 0, 0]])"
      ]
     },
     "execution_count": 59,
     "metadata": {},
     "output_type": "execute_result"
    }
   ],
   "source": [
    "a6*a7"
   ]
  },
  {
   "cell_type": "code",
   "execution_count": 62,
   "id": "039112e5-b0cc-44ce-8a97-91f8377a8043",
   "metadata": {},
   "outputs": [
    {
     "data": {
      "text/plain": [
       "array([[3, 1, 2],\n",
       "       [4, 0, 2],\n",
       "       [0, 0, 0]])"
      ]
     },
     "execution_count": 62,
     "metadata": {},
     "output_type": "execute_result"
    }
   ],
   "source": [
    "a6@a7"
   ]
  },
  {
   "cell_type": "code",
   "execution_count": 63,
   "id": "2b36aacd-131b-4cca-8eb3-998bcd35d478",
   "metadata": {},
   "outputs": [
    {
     "data": {
      "text/plain": [
       "array([[2, 1, 0],\n",
       "       [0, 0, 2],\n",
       "       [0, 0, 0]])"
      ]
     },
     "execution_count": 63,
     "metadata": {},
     "output_type": "execute_result"
    }
   ],
   "source": [
    "a6"
   ]
  },
  {
   "cell_type": "code",
   "execution_count": 64,
   "id": "30141876-850a-49ed-9f31-df76acee887b",
   "metadata": {},
   "outputs": [
    {
     "data": {
      "text/plain": [
       "array([[1, 0, 0],\n",
       "       [1, 1, 2],\n",
       "       [2, 0, 1]])"
      ]
     },
     "execution_count": 64,
     "metadata": {},
     "output_type": "execute_result"
    }
   ],
   "source": [
    "a7"
   ]
  },
  {
   "cell_type": "code",
   "execution_count": 65,
   "id": "5e03caf8-07f1-45a2-9650-7fde5fdb72e9",
   "metadata": {},
   "outputs": [
    {
     "data": {
      "text/plain": [
       "3"
      ]
     },
     "execution_count": 65,
     "metadata": {},
     "output_type": "execute_result"
    }
   ],
   "source": [
    "(2*1)+(1*1)+(0*2)"
   ]
  },
  {
   "cell_type": "code",
   "execution_count": 66,
   "id": "a1bdbd9f-80ef-4d8a-bb1b-3e621428b1ce",
   "metadata": {},
   "outputs": [
    {
     "data": {
      "text/plain": [
       "1"
      ]
     },
     "execution_count": 66,
     "metadata": {},
     "output_type": "execute_result"
    }
   ],
   "source": [
    "(2*0)+(1*1)+(0*0)"
   ]
  },
  {
   "cell_type": "code",
   "execution_count": 67,
   "id": "16b0b475-9899-4ad9-a5d8-0f7897624b63",
   "metadata": {},
   "outputs": [
    {
     "data": {
      "text/plain": [
       "array([[8, 1, 0],\n",
       "       [0, 0, 8],\n",
       "       [0, 0, 0]], dtype=int32)"
      ]
     },
     "execution_count": 67,
     "metadata": {},
     "output_type": "execute_result"
    }
   ],
   "source": [
    "a6**3"
   ]
  },
  {
   "cell_type": "code",
   "execution_count": null,
   "id": "ded184f4-e30d-4784-81c5-fa0bacfff477",
   "metadata": {},
   "outputs": [],
   "source": []
  }
 ],
 "metadata": {
  "kernelspec": {
   "display_name": "Python 3 (ipykernel)",
   "language": "python",
   "name": "python3"
  },
  "language_info": {
   "codemirror_mode": {
    "name": "ipython",
    "version": 3
   },
   "file_extension": ".py",
   "mimetype": "text/x-python",
   "name": "python",
   "nbconvert_exporter": "python",
   "pygments_lexer": "ipython3",
   "version": "3.11.7"
  }
 },
 "nbformat": 4,
 "nbformat_minor": 5
}
