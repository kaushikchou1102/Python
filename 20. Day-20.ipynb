{
 "cells": [
  {
   "cell_type": "code",
   "execution_count": 1,
   "id": "e8ed04ae-1e7b-477f-951f-c129545a1204",
   "metadata": {},
   "outputs": [
    {
     "name": "stdout",
     "output_type": "stream",
     "text": [
      " Volume in drive C is Local Disk\n",
      " Volume Serial Number is C685-8258\n",
      "\n",
      " Directory of C:\\Users\\amitm\\Class\\6_30 June 2023\n",
      "\n",
      "25-07-2024  18:53    <DIR>          .\n",
      "26-06-2024  14:53    <DIR>          ..\n",
      "25-07-2024  18:51    <DIR>          .ipynb_checkpoints\n",
      "09-07-2024  18:47            27,140 10. Day-10.ipynb\n",
      "09-07-2024  19:30            10,887 11. Day-11.ipynb\n",
      "15-07-2024  19:34            16,182 12. Day-12.ipynb\n",
      "16-07-2024  19:19            12,947 13. Day-13.ipynb\n",
      "17-07-2024  19:30            19,309 14. Day-14.ipynb\n",
      "18-07-2024  19:36            23,590 15. Day-15.ipynb\n",
      "19-07-2024  19:42            13,514 16. Day-16.ipynb\n",
      "22-07-2024  20:33            10,915 17. Day-17.ipynb\n",
      "23-07-2024  19:40            22,459 18 Day-18.ipynb\n",
      "24-07-2024  19:46             7,149 19. Day-19.ipynb\n",
      "25-07-2024  18:53               617 20. Day-20.ipynb\n",
      "04-07-2024  19:14            26,021 9. Day-9.ipynb\n",
      "02-07-2024  19:16            21,411 Day-1.ipynb\n",
      "19-06-2024  19:24            31,105 Day-2.ipynb\n",
      "26-06-2024  19:26            38,995 Day-3.ipynb\n",
      "26-06-2024  19:35             4,915 Day-4.ipynb\n",
      "27-06-2024  19:40            24,452 Day-5.ipynb\n",
      "28-06-2024  19:37            28,772 Day-6.ipynb\n",
      "01-07-2024  19:21            24,774 Day-7.ipynb\n",
      "02-07-2024  19:17            15,126 Day-8.ipynb\n",
      "24-07-2024  19:36             6,093 Listt.log\n",
      "              21 File(s)        386,373 bytes\n",
      "               3 Dir(s)  146,624,385,024 bytes free\n"
     ]
    }
   ],
   "source": [
    "ls"
   ]
  },
  {
   "cell_type": "code",
   "execution_count": null,
   "id": "300b6ef1-87ad-46f3-b797-0d9f9459cd8c",
   "metadata": {},
   "outputs": [],
   "source": [
    "- \"r\" - Read - Default value. Opens a file for reading, it returns an error if the file does not exist\n",
    "- \"a\" - Append - Opens a file for appending, creates the file if it does not exist\n",
    "- \"w\" - Write - Opens a file for writing, creates the file if it does not exist\n",
    "- \"x\" - Create - Creates the specified file, returns an error if the file exists\n",
    "- \"t\" - Text - Default value. Text mode\n",
    "- \"b\" - Binary - Binary mode (e.g. images)\n",
    "- \"r+\" - Read and Write\n",
    "                                           "
   ]
  },
  {
   "cell_type": "code",
   "execution_count": 2,
   "id": "d124018a-5ffe-4c38-82b9-ace5e3cb9b57",
   "metadata": {},
   "outputs": [
    {
     "ename": "FileNotFoundError",
     "evalue": "[Errno 2] No such file or directory: 'test_file.txt'",
     "output_type": "error",
     "traceback": [
      "\u001b[1;31m---------------------------------------------------------------------------\u001b[0m",
      "\u001b[1;31mFileNotFoundError\u001b[0m                         Traceback (most recent call last)",
      "Cell \u001b[1;32mIn[2], line 1\u001b[0m\n\u001b[1;32m----> 1\u001b[0m \u001b[38;5;28mopen\u001b[39m(\u001b[38;5;124m\"\u001b[39m\u001b[38;5;124mtest_file.txt\u001b[39m\u001b[38;5;124m\"\u001b[39m)\n",
      "File \u001b[1;32m~\\anaconda3\\Lib\\site-packages\\IPython\\core\\interactiveshell.py:310\u001b[0m, in \u001b[0;36m_modified_open\u001b[1;34m(file, *args, **kwargs)\u001b[0m\n\u001b[0;32m    303\u001b[0m \u001b[38;5;28;01mif\u001b[39;00m file \u001b[38;5;129;01min\u001b[39;00m {\u001b[38;5;241m0\u001b[39m, \u001b[38;5;241m1\u001b[39m, \u001b[38;5;241m2\u001b[39m}:\n\u001b[0;32m    304\u001b[0m     \u001b[38;5;28;01mraise\u001b[39;00m \u001b[38;5;167;01mValueError\u001b[39;00m(\n\u001b[0;32m    305\u001b[0m         \u001b[38;5;124mf\u001b[39m\u001b[38;5;124m\"\u001b[39m\u001b[38;5;124mIPython won\u001b[39m\u001b[38;5;124m'\u001b[39m\u001b[38;5;124mt let you open fd=\u001b[39m\u001b[38;5;132;01m{\u001b[39;00mfile\u001b[38;5;132;01m}\u001b[39;00m\u001b[38;5;124m by default \u001b[39m\u001b[38;5;124m\"\u001b[39m\n\u001b[0;32m    306\u001b[0m         \u001b[38;5;124m\"\u001b[39m\u001b[38;5;124mas it is likely to crash IPython. If you know what you are doing, \u001b[39m\u001b[38;5;124m\"\u001b[39m\n\u001b[0;32m    307\u001b[0m         \u001b[38;5;124m\"\u001b[39m\u001b[38;5;124myou can use builtins\u001b[39m\u001b[38;5;124m'\u001b[39m\u001b[38;5;124m open.\u001b[39m\u001b[38;5;124m\"\u001b[39m\n\u001b[0;32m    308\u001b[0m     )\n\u001b[1;32m--> 310\u001b[0m \u001b[38;5;28;01mreturn\u001b[39;00m io_open(file, \u001b[38;5;241m*\u001b[39margs, \u001b[38;5;241m*\u001b[39m\u001b[38;5;241m*\u001b[39mkwargs)\n",
      "\u001b[1;31mFileNotFoundError\u001b[0m: [Errno 2] No such file or directory: 'test_file.txt'"
     ]
    }
   ],
   "source": [
    "open(\"test_file.txt\")"
   ]
  },
  {
   "cell_type": "code",
   "execution_count": 3,
   "id": "67172bd3-cf1a-40f3-bd77-30e60ccbd8f2",
   "metadata": {},
   "outputs": [],
   "source": [
    "f = open(\"test_file.txt\", \"w\")"
   ]
  },
  {
   "cell_type": "code",
   "execution_count": 4,
   "id": "5c6ceca5-c9d3-455c-b289-d60a6b16b5bf",
   "metadata": {},
   "outputs": [
    {
     "data": {
      "text/plain": [
       "46"
      ]
     },
     "execution_count": 4,
     "metadata": {},
     "output_type": "execute_result"
    }
   ],
   "source": [
    "f.write(\"Read - Default value. Opens a file for reading\")"
   ]
  },
  {
   "cell_type": "code",
   "execution_count": 5,
   "id": "11f9d975-501e-40eb-ab4a-bdce804641fb",
   "metadata": {},
   "outputs": [],
   "source": [
    "f.close()"
   ]
  },
  {
   "cell_type": "code",
   "execution_count": 6,
   "id": "61e30cc5-bcff-4b92-a00d-d3ec2304442c",
   "metadata": {},
   "outputs": [
    {
     "ename": "TypeError",
     "evalue": "'str' object is not callable",
     "output_type": "error",
     "traceback": [
      "\u001b[1;31m---------------------------------------------------------------------------\u001b[0m",
      "\u001b[1;31mTypeError\u001b[0m                                 Traceback (most recent call last)",
      "Cell \u001b[1;32mIn[6], line 1\u001b[0m\n\u001b[1;32m----> 1\u001b[0m f\u001b[38;5;241m.\u001b[39mmode()\n",
      "\u001b[1;31mTypeError\u001b[0m: 'str' object is not callable"
     ]
    }
   ],
   "source": [
    "f.mode()"
   ]
  },
  {
   "cell_type": "code",
   "execution_count": 7,
   "id": "7350b39a-4755-4535-ad36-5d6e19202c21",
   "metadata": {},
   "outputs": [
    {
     "data": {
      "text/plain": [
       "'w'"
      ]
     },
     "execution_count": 7,
     "metadata": {},
     "output_type": "execute_result"
    }
   ],
   "source": [
    "f.mode"
   ]
  },
  {
   "cell_type": "code",
   "execution_count": 13,
   "id": "950d02f6-e757-4e9b-ae5b-f58c6b3c1a62",
   "metadata": {},
   "outputs": [],
   "source": [
    "f1 = open(\"test_file.txt\", \"r\")"
   ]
  },
  {
   "cell_type": "code",
   "execution_count": 14,
   "id": "8f8ef2cf-7e75-438a-a915-5fe4d38f49ed",
   "metadata": {},
   "outputs": [
    {
     "ename": "UnsupportedOperation",
     "evalue": "not writable",
     "output_type": "error",
     "traceback": [
      "\u001b[1;31m---------------------------------------------------------------------------\u001b[0m",
      "\u001b[1;31mUnsupportedOperation\u001b[0m                      Traceback (most recent call last)",
      "Cell \u001b[1;32mIn[14], line 1\u001b[0m\n\u001b[1;32m----> 1\u001b[0m f1\u001b[38;5;241m.\u001b[39mwrite(\u001b[38;5;124m\"\u001b[39m\u001b[38;5;124mTypeError: \u001b[39m\u001b[38;5;124m'\u001b[39m\u001b[38;5;124mstr\u001b[39m\u001b[38;5;124m'\u001b[39m\u001b[38;5;124m object is not callable\u001b[39m\u001b[38;5;124m\"\u001b[39m)\n",
      "\u001b[1;31mUnsupportedOperation\u001b[0m: not writable"
     ]
    }
   ],
   "source": [
    "f1.write(\"TypeError: 'str' object is not callable\")"
   ]
  },
  {
   "cell_type": "code",
   "execution_count": 15,
   "id": "a528e687-8722-4f13-9ed1-7cb66867f48a",
   "metadata": {},
   "outputs": [
    {
     "data": {
      "text/plain": [
       "'Read - Default value. Opens a file for reading'"
      ]
     },
     "execution_count": 15,
     "metadata": {},
     "output_type": "execute_result"
    }
   ],
   "source": [
    "f1.read()"
   ]
  },
  {
   "cell_type": "code",
   "execution_count": 16,
   "id": "1495fdbf-0558-4829-a92d-3c1a448db43b",
   "metadata": {},
   "outputs": [
    {
     "data": {
      "text/plain": [
       "''"
      ]
     },
     "execution_count": 16,
     "metadata": {},
     "output_type": "execute_result"
    }
   ],
   "source": [
    "f1.read()"
   ]
  },
  {
   "cell_type": "code",
   "execution_count": 17,
   "id": "37b8185b-d42b-4f0d-9541-1187e5fc52d4",
   "metadata": {},
   "outputs": [],
   "source": [
    "f1.close()"
   ]
  },
  {
   "cell_type": "code",
   "execution_count": 12,
   "id": "e0e5a127-363f-4c4d-bd5f-d2e2baf1bf95",
   "metadata": {},
   "outputs": [
    {
     "data": {
      "text/plain": [
       "'r'"
      ]
     },
     "execution_count": 12,
     "metadata": {},
     "output_type": "execute_result"
    }
   ],
   "source": [
    "f1.mode"
   ]
  },
  {
   "cell_type": "code",
   "execution_count": 18,
   "id": "a4edff45-4dd8-4d32-93d6-eb11b709dc76",
   "metadata": {},
   "outputs": [],
   "source": [
    "f2 = open(\"test_file.txt\", \"r+\")"
   ]
  },
  {
   "cell_type": "code",
   "execution_count": 19,
   "id": "e8dd83cd-9739-4dd0-9e0d-fc1f4b79fdfd",
   "metadata": {},
   "outputs": [
    {
     "data": {
      "text/plain": [
       "34"
      ]
     },
     "execution_count": 19,
     "metadata": {},
     "output_type": "execute_result"
    }
   ],
   "source": [
    "f2.write(\"UnsupportedOperation: not writable\")"
   ]
  },
  {
   "cell_type": "code",
   "execution_count": 20,
   "id": "89de4f9d-e26e-4e28-a838-ee670da6f583",
   "metadata": {},
   "outputs": [
    {
     "data": {
      "text/plain": [
       "' for reading'"
      ]
     },
     "execution_count": 20,
     "metadata": {},
     "output_type": "execute_result"
    }
   ],
   "source": [
    "f2.read()"
   ]
  },
  {
   "cell_type": "code",
   "execution_count": 21,
   "id": "c095f9d6-6bf5-458f-838b-0b9dc336d72b",
   "metadata": {},
   "outputs": [],
   "source": [
    "f2.close()"
   ]
  },
  {
   "cell_type": "code",
   "execution_count": 22,
   "id": "1d1e0130-a226-4994-9f49-78249f8bf01e",
   "metadata": {},
   "outputs": [],
   "source": [
    "f3 = open(\"test_file.txt\", \"a\")"
   ]
  },
  {
   "cell_type": "code",
   "execution_count": 23,
   "id": "7563937a-eee8-402c-a0c4-123e4368880b",
   "metadata": {},
   "outputs": [
    {
     "data": {
      "text/plain": [
       "23"
      ]
     },
     "execution_count": 23,
     "metadata": {},
     "output_type": "execute_result"
    }
   ],
   "source": [
    "f3.write(\" String Functions.ipynb\") "
   ]
  },
  {
   "cell_type": "code",
   "execution_count": 24,
   "id": "d60680d1-1b4f-4bb0-9da9-b768d4f5b0c2",
   "metadata": {},
   "outputs": [],
   "source": [
    "f3.close()"
   ]
  },
  {
   "cell_type": "code",
   "execution_count": 25,
   "id": "49ea3857-90e6-433d-9bb3-33a2069b302f",
   "metadata": {},
   "outputs": [],
   "source": [
    "f4 =open(\"test_file.txt\", \"r+\")"
   ]
  },
  {
   "cell_type": "code",
   "execution_count": 26,
   "id": "9467ed9d-486f-40af-82cd-571325064168",
   "metadata": {},
   "outputs": [
    {
     "data": {
      "text/plain": [
       "10"
      ]
     },
     "execution_count": 26,
     "metadata": {},
     "output_type": "execute_result"
    }
   ],
   "source": [
    "f4.seek(10)"
   ]
  },
  {
   "cell_type": "code",
   "execution_count": 27,
   "id": "794bda2a-3671-42cd-8ba4-acef6d2bba3d",
   "metadata": {},
   "outputs": [
    {
     "data": {
      "text/plain": [
       "'dOperation: not writable for reading String Functions.ipynb'"
      ]
     },
     "execution_count": 27,
     "metadata": {},
     "output_type": "execute_result"
    }
   ],
   "source": [
    "f4.read()"
   ]
  },
  {
   "cell_type": "code",
   "execution_count": 28,
   "id": "baae838f-291b-4bb1-b22d-14df800949be",
   "metadata": {},
   "outputs": [
    {
     "data": {
      "text/plain": [
       "69"
      ]
     },
     "execution_count": 28,
     "metadata": {},
     "output_type": "execute_result"
    }
   ],
   "source": [
    "f4.tell()"
   ]
  },
  {
   "cell_type": "code",
   "execution_count": 29,
   "id": "3323dbe6-15aa-49e7-9712-c39bafbfe3f4",
   "metadata": {},
   "outputs": [
    {
     "data": {
      "text/plain": [
       "''"
      ]
     },
     "execution_count": 29,
     "metadata": {},
     "output_type": "execute_result"
    }
   ],
   "source": [
    "f4.read()"
   ]
  },
  {
   "cell_type": "code",
   "execution_count": 30,
   "id": "be1a1b47-d39d-40e7-ac2a-62cd93c51cb6",
   "metadata": {},
   "outputs": [],
   "source": [
    "f4.close()"
   ]
  },
  {
   "cell_type": "code",
   "execution_count": 32,
   "id": "e402625a-f3f9-4e39-ba4d-f82998690cff",
   "metadata": {},
   "outputs": [
    {
     "name": "stdout",
     "output_type": "stream",
     "text": [
      "UnsupportedOperation: not writable for reading String Functions.ipynb\n"
     ]
    }
   ],
   "source": [
    "f = open(\"test_file.txt\")\n",
    "line = f.readline()\n",
    "#print(type(line))\n",
    "print(line)\n",
    "#f.close()"
   ]
  },
  {
   "cell_type": "code",
   "execution_count": 33,
   "id": "37ab3319-6d48-400e-bd83-80aef5c104f6",
   "metadata": {},
   "outputs": [
    {
     "name": "stdout",
     "output_type": "stream",
     "text": [
      "['UnsupportedOperation: not writable for reading String Functions.ipynb']\n"
     ]
    }
   ],
   "source": [
    "f = open(\"test_file.txt\")\n",
    "lines = f.read().splitlines()\n",
    "#print(type(lines))\n",
    "print(lines)\n",
    "#f.close()"
   ]
  },
  {
   "cell_type": "code",
   "execution_count": 34,
   "id": "cba6d37f-d534-42ba-8730-86a4fe26baf0",
   "metadata": {},
   "outputs": [
    {
     "name": "stdout",
     "output_type": "stream",
     "text": [
      "UnsupportedOperation: not writable for reading String Functions.ipynb\n"
     ]
    }
   ],
   "source": [
    "with open(\"test_file.txt\") as f:\n",
    "    lines = f.read()\n",
    "    print(lines)"
   ]
  },
  {
   "cell_type": "code",
   "execution_count": 35,
   "id": "8f68046b-03f0-46fc-b9f6-577a051c20cd",
   "metadata": {},
   "outputs": [
    {
     "name": "stdout",
     "output_type": "stream",
     "text": [
      "Writing demo1.txt\n"
     ]
    }
   ],
   "source": [
    "%%writefile demo1.txt    \n",
    "my name is amit "
   ]
  },
  {
   "cell_type": "code",
   "execution_count": 36,
   "id": "9f5c9c3e-e693-47a0-ad64-ff32d6bfc286",
   "metadata": {},
   "outputs": [
    {
     "name": "stdout",
     "output_type": "stream",
     "text": [
      "Writing demo2.pdf\n"
     ]
    }
   ],
   "source": [
    "%%writefile demo2.pdf  \n",
    "my name is amit "
   ]
  },
  {
   "cell_type": "code",
   "execution_count": 1,
   "id": "13883bd5-1afb-47f5-983b-99877825110a",
   "metadata": {},
   "outputs": [],
   "source": [
    "import os "
   ]
  },
  {
   "cell_type": "code",
   "execution_count": 39,
   "id": "d63d07f9-b4cf-4b59-8b90-97ed9ee89723",
   "metadata": {},
   "outputs": [
    {
     "data": {
      "text/plain": [
       "'C:\\\\Users\\\\amitm\\\\Class\\\\6_30 June 2023'"
      ]
     },
     "execution_count": 39,
     "metadata": {},
     "output_type": "execute_result"
    }
   ],
   "source": [
    "os.getcwd()"
   ]
  },
  {
   "cell_type": "code",
   "execution_count": 40,
   "id": "d1c2b51b-05a7-47f8-bad7-d6b365824277",
   "metadata": {},
   "outputs": [
    {
     "data": {
      "text/plain": [
       "['.ipynb_checkpoints',\n",
       " '10. Day-10.ipynb',\n",
       " '11. Day-11.ipynb',\n",
       " '12. Day-12.ipynb',\n",
       " '13. Day-13.ipynb',\n",
       " '14. Day-14.ipynb',\n",
       " '15. Day-15.ipynb',\n",
       " '16. Day-16.ipynb',\n",
       " '17. Day-17.ipynb',\n",
       " '18 Day-18.ipynb',\n",
       " '19. Day-19.ipynb',\n",
       " '20. Day-20.ipynb',\n",
       " '9. Day-9.ipynb',\n",
       " 'Day-1.ipynb',\n",
       " 'Day-2.ipynb',\n",
       " 'Day-3.ipynb',\n",
       " 'Day-4.ipynb',\n",
       " 'Day-5.ipynb',\n",
       " 'Day-6.ipynb',\n",
       " 'Day-7.ipynb',\n",
       " 'Day-8.ipynb',\n",
       " 'demo1.txt',\n",
       " 'demo2.pdf',\n",
       " 'Listt.log',\n",
       " 'test_file.txt']"
      ]
     },
     "execution_count": 40,
     "metadata": {},
     "output_type": "execute_result"
    }
   ],
   "source": [
    "os.listdir()"
   ]
  },
  {
   "cell_type": "code",
   "execution_count": 41,
   "id": "85127988-e698-4d8d-8d66-63efac0ad1a0",
   "metadata": {},
   "outputs": [],
   "source": [
    "os.chdir(\"C:/Users/amitm/Downloads\") "
   ]
  },
  {
   "cell_type": "code",
   "execution_count": 42,
   "id": "1f4304d0-5394-406b-ba50-cd06e484e605",
   "metadata": {},
   "outputs": [
    {
     "data": {
      "text/plain": [
       "'C:\\\\Users\\\\amitm\\\\Downloads'"
      ]
     },
     "execution_count": 42,
     "metadata": {},
     "output_type": "execute_result"
    }
   ],
   "source": [
    "os.getcwd()"
   ]
  },
  {
   "cell_type": "code",
   "execution_count": 43,
   "id": "9e2f2cd5-6af6-4373-87e4-c2b966347216",
   "metadata": {},
   "outputs": [],
   "source": [
    "os.chdir(\"F:\\\\L_Download\")"
   ]
  },
  {
   "cell_type": "code",
   "execution_count": 44,
   "id": "c58b8978-eebb-4590-bb40-ca6edfbc8267",
   "metadata": {},
   "outputs": [
    {
     "data": {
      "text/plain": [
       "'F:\\\\L_Download'"
      ]
     },
     "execution_count": 44,
     "metadata": {},
     "output_type": "execute_result"
    }
   ],
   "source": [
    "os.getcwd()"
   ]
  },
  {
   "cell_type": "code",
   "execution_count": 45,
   "id": "4b788c03-91d5-467c-b8fe-1ed0a5002263",
   "metadata": {},
   "outputs": [
    {
     "data": {
      "text/plain": [
       "['1. Data Analyst Interview Questions.pdf',\n",
       " '1. Power Bi Interview Questions.pdf',\n",
       " '1. Python_Interview Questions.pdf',\n",
       " '1. SQL Frequent asked Interview.pdf',\n",
       " '1. Statistics_Interview_Questions.docx.pdf',\n",
       " '10. Top 100 Most Asked SQL QnA📌.pdf',\n",
       " '1_4967505947023902256.pdf',\n",
       " '2. SQL Questionbank.pdf',\n",
       " '3 Project _ Langchain + streamlit .pdf',\n",
       " '3. Python interview.pdf',\n",
       " '3. SQL Interview Questions and Answers.pdf',\n",
       " '3. Stats.pdf',\n",
       " '4. SQL Interview Questions Part 3.pdf',\n",
       " '4. Stats -1.pdf',\n",
       " '5. SQL Interview Questions 📌.pdf',\n",
       " '6. SQL qst.pdf',\n",
       " '7. SQL ques.pdf',\n",
       " '8. SQL question.pdf',\n",
       " '9. SQL 📌-2.pdf',\n",
       " 'A Resume and Interview Guide .pdf',\n",
       " 'Complete SQL Guide.pdf',\n",
       " 'Data Analytics Job Simulation.pdf',\n",
       " 'Data Science Public Dataset.pdf',\n",
       " 'Data Visualization in Excel.pdf',\n",
       " 'Deep learning notes.pdf',\n",
       " 'Doc.pdf',\n",
       " 'documents_5959-MySQL+Training+Syllabus.pdf',\n",
       " 'Excel 📌.pdf',\n",
       " 'Introduction to NLP.pdf',\n",
       " 'job portal.pdf',\n",
       " 'KPI.pdf',\n",
       " 'Leetcode solution.pdf',\n",
       " 'merging roles.pdf',\n",
       " 'ML notes.pdf',\n",
       " 'MS Excel.pdf',\n",
       " 'MySQL Notes for Professionals.pdf',\n",
       " 'mysql-bootcamp-syllabus.pdf',\n",
       " 'Power BI chart.pdf',\n",
       " 'powerbi cheatsheet.pdf',\n",
       " 'Powerbi Dax Methods.pdf',\n",
       " 'PowerBI Notes.pdf',\n",
       " 'prompt engineer.pdf',\n",
       " 'Python 📌.pdf',\n",
       " 'Python.pdf',\n",
       " 'S Logo final in cmyk.pdf',\n",
       " 'SQL Interview questions and answers .pdf',\n",
       " 'SQL Optimization techniques .pdf',\n",
       " 'SQL Project Handbook 📌-1.pdf',\n",
       " 'SQL Project Handbook 📌.pdf',\n",
       " 'SQL with practice exercises. .pdf',\n",
       " 'SQL 📌-1.pdf',\n",
       " 'SQL 📌.pdf',\n",
       " 'Statistics.pdf',\n",
       " 'Statistics📝 Practice.pdf',\n",
       " 'VBA for Excel 📌.pdf',\n",
       " 'Visualization .pdf',\n",
       " 'Zero to Advance In SQL in 24 Days .pdf.pdf']"
      ]
     },
     "execution_count": 45,
     "metadata": {},
     "output_type": "execute_result"
    }
   ],
   "source": [
    "os.listdir()"
   ]
  },
  {
   "cell_type": "code",
   "execution_count": 46,
   "id": "9af86a48-bf4a-47a6-8809-05b923801c3d",
   "metadata": {},
   "outputs": [],
   "source": [
    "os.chdir('C:\\\\Users\\\\amitm\\\\Class\\\\6_30 June 2023')"
   ]
  },
  {
   "cell_type": "code",
   "execution_count": 47,
   "id": "3752a2a7-c2a8-4aa6-9db9-de907008633c",
   "metadata": {},
   "outputs": [
    {
     "data": {
      "text/plain": [
       "['.ipynb_checkpoints',\n",
       " '10. Day-10.ipynb',\n",
       " '11. Day-11.ipynb',\n",
       " '12. Day-12.ipynb',\n",
       " '13. Day-13.ipynb',\n",
       " '14. Day-14.ipynb',\n",
       " '15. Day-15.ipynb',\n",
       " '16. Day-16.ipynb',\n",
       " '17. Day-17.ipynb',\n",
       " '18 Day-18.ipynb',\n",
       " '19. Day-19.ipynb',\n",
       " '20. Day-20.ipynb',\n",
       " '9. Day-9.ipynb',\n",
       " 'Day-1.ipynb',\n",
       " 'Day-2.ipynb',\n",
       " 'Day-3.ipynb',\n",
       " 'Day-4.ipynb',\n",
       " 'Day-5.ipynb',\n",
       " 'Day-6.ipynb',\n",
       " 'Day-7.ipynb',\n",
       " 'Day-8.ipynb',\n",
       " 'demo1.txt',\n",
       " 'demo2.pdf',\n",
       " 'Listt.log',\n",
       " 'test_file.txt']"
      ]
     },
     "execution_count": 47,
     "metadata": {},
     "output_type": "execute_result"
    }
   ],
   "source": [
    "os.listdir()"
   ]
  },
  {
   "cell_type": "code",
   "execution_count": 48,
   "id": "a74a4f48-ff00-4a4e-8727-2af29be2f7a8",
   "metadata": {},
   "outputs": [],
   "source": [
    "os.mkdir(\"new_dir\")"
   ]
  },
  {
   "cell_type": "code",
   "execution_count": 49,
   "id": "9fdf6f6c-f8b4-406e-b000-d54fb8bb1b87",
   "metadata": {},
   "outputs": [
    {
     "data": {
      "text/plain": [
       "'C:\\\\Users\\\\amitm\\\\Class\\\\6_30 June 2023'"
      ]
     },
     "execution_count": 49,
     "metadata": {},
     "output_type": "execute_result"
    }
   ],
   "source": [
    "os.getcwd()"
   ]
  },
  {
   "cell_type": "code",
   "execution_count": 50,
   "id": "2ae5ab8a-911d-4c76-93bf-872d1f6a3b5a",
   "metadata": {},
   "outputs": [
    {
     "data": {
      "text/plain": [
       "['.ipynb_checkpoints',\n",
       " '10. Day-10.ipynb',\n",
       " '11. Day-11.ipynb',\n",
       " '12. Day-12.ipynb',\n",
       " '13. Day-13.ipynb',\n",
       " '14. Day-14.ipynb',\n",
       " '15. Day-15.ipynb',\n",
       " '16. Day-16.ipynb',\n",
       " '17. Day-17.ipynb',\n",
       " '18 Day-18.ipynb',\n",
       " '19. Day-19.ipynb',\n",
       " '20. Day-20.ipynb',\n",
       " '9. Day-9.ipynb',\n",
       " 'Day-1.ipynb',\n",
       " 'Day-2.ipynb',\n",
       " 'Day-3.ipynb',\n",
       " 'Day-4.ipynb',\n",
       " 'Day-5.ipynb',\n",
       " 'Day-6.ipynb',\n",
       " 'Day-7.ipynb',\n",
       " 'Day-8.ipynb',\n",
       " 'demo1.txt',\n",
       " 'demo2.pdf',\n",
       " 'Listt.log',\n",
       " 'new_dir',\n",
       " 'test_file.txt']"
      ]
     },
     "execution_count": 50,
     "metadata": {},
     "output_type": "execute_result"
    }
   ],
   "source": [
    "os.listdir()"
   ]
  },
  {
   "cell_type": "code",
   "execution_count": 51,
   "id": "749909a8-f545-49b8-b03b-bd7879d2294d",
   "metadata": {},
   "outputs": [],
   "source": [
    "os.chdir('C:\\\\Users\\\\amitm\\\\Class\\\\6_30 June 2023\\\\new_dir')"
   ]
  },
  {
   "cell_type": "code",
   "execution_count": 2,
   "id": "e0ee6586-d736-4c1f-bb7d-438c856ab34d",
   "metadata": {},
   "outputs": [
    {
     "data": {
      "text/plain": [
       "'C:\\\\Users\\\\amitm\\\\Class\\\\6_30 June 2023'"
      ]
     },
     "execution_count": 2,
     "metadata": {},
     "output_type": "execute_result"
    }
   ],
   "source": [
    "os.getcwd()"
   ]
  },
  {
   "cell_type": "code",
   "execution_count": 54,
   "id": "4d9441c8-efcd-425e-a834-ef42e639751e",
   "metadata": {},
   "outputs": [
    {
     "name": "stdout",
     "output_type": "stream",
     "text": [
      "Writing new_file.py\n"
     ]
    }
   ],
   "source": [
    "%%writefile new_file.py\n",
    "\"Hello Python\""
   ]
  },
  {
   "cell_type": "code",
   "execution_count": 55,
   "id": "18c48983-461c-412c-b7f2-a09f699d273a",
   "metadata": {},
   "outputs": [
    {
     "data": {
      "text/plain": [
       "['new_file.py']"
      ]
     },
     "execution_count": 55,
     "metadata": {},
     "output_type": "execute_result"
    }
   ],
   "source": [
    "os.listdir()"
   ]
  },
  {
   "cell_type": "code",
   "execution_count": 56,
   "id": "51df1cc4-4214-407f-9caa-e10981e6f051",
   "metadata": {},
   "outputs": [],
   "source": [
    "os.chdir('C:\\\\Users\\\\amitm\\\\Class\\\\6_30 June 2023')"
   ]
  },
  {
   "cell_type": "code",
   "execution_count": 57,
   "id": "751d6729-d3b3-44fa-8869-ed3240f156f2",
   "metadata": {},
   "outputs": [
    {
     "data": {
      "text/plain": [
       "'C:\\\\Users\\\\amitm\\\\Class\\\\6_30 June 2023'"
      ]
     },
     "execution_count": 57,
     "metadata": {},
     "output_type": "execute_result"
    }
   ],
   "source": [
    "os.getcwd()"
   ]
  },
  {
   "cell_type": "code",
   "execution_count": 58,
   "id": "2db8c0e5-89a5-4e57-ba02-22610826e21a",
   "metadata": {},
   "outputs": [
    {
     "ename": "PermissionError",
     "evalue": "[WinError 5] Access is denied: 'new_dir'",
     "output_type": "error",
     "traceback": [
      "\u001b[1;31m---------------------------------------------------------------------------\u001b[0m",
      "\u001b[1;31mPermissionError\u001b[0m                           Traceback (most recent call last)",
      "Cell \u001b[1;32mIn[58], line 1\u001b[0m\n\u001b[1;32m----> 1\u001b[0m os\u001b[38;5;241m.\u001b[39mremove(\u001b[38;5;124m\"\u001b[39m\u001b[38;5;124mnew_dir\u001b[39m\u001b[38;5;124m\"\u001b[39m)\n",
      "\u001b[1;31mPermissionError\u001b[0m: [WinError 5] Access is denied: 'new_dir'"
     ]
    }
   ],
   "source": [
    "os.remove(\"new_dir\")   # it is used to delete file inside the cwdir "
   ]
  },
  {
   "cell_type": "code",
   "execution_count": 3,
   "id": "78dc059f-7705-4ae9-bb24-12e5b6fc2a45",
   "metadata": {},
   "outputs": [
    {
     "ename": "OSError",
     "evalue": "[WinError 145] The directory is not empty: 'new_dir'",
     "output_type": "error",
     "traceback": [
      "\u001b[1;31m---------------------------------------------------------------------------\u001b[0m",
      "\u001b[1;31mOSError\u001b[0m                                   Traceback (most recent call last)",
      "Cell \u001b[1;32mIn[3], line 1\u001b[0m\n\u001b[1;32m----> 1\u001b[0m os\u001b[38;5;241m.\u001b[39mrmdir(\u001b[38;5;124m\"\u001b[39m\u001b[38;5;124mnew_dir\u001b[39m\u001b[38;5;124m\"\u001b[39m)\n",
      "\u001b[1;31mOSError\u001b[0m: [WinError 145] The directory is not empty: 'new_dir'"
     ]
    }
   ],
   "source": [
    "os.rmdir(\"new_dir\")"
   ]
  },
  {
   "cell_type": "code",
   "execution_count": 9,
   "id": "05476205-6c66-4ff9-a3f0-105e227210b3",
   "metadata": {},
   "outputs": [
    {
     "data": {
      "text/plain": [
       "'C:\\\\Users\\\\amitm\\\\Class\\\\6_30 June 2023'"
      ]
     },
     "execution_count": 9,
     "metadata": {},
     "output_type": "execute_result"
    }
   ],
   "source": [
    "pwd()"
   ]
  },
  {
   "cell_type": "code",
   "execution_count": null,
   "id": "02555f76-7b8e-4509-9e46-8da3c5dd9da2",
   "metadata": {},
   "outputs": [],
   "source": [
    "if 'datafile' in os.listdir():\n",
    "    print(\"yes\")\n",
    "    f = open(\"new.txt\", \"w\")\n",
    "    for i in f:\n",
    "        print(i)\n",
    "else:\n",
    "    print(\"no\")"
   ]
  },
  {
   "cell_type": "code",
   "execution_count": null,
   "id": "186078a6-b03b-48b5-ad76-a4eaa25c1cfd",
   "metadata": {},
   "outputs": [],
   "source": [
    "for i in os.listdir():\n",
    "    if i == \"filename\":\n",
    "        os.remove(i)"
   ]
  },
  {
   "cell_type": "code",
   "execution_count": null,
   "id": "02ab2637-d505-4e1c-af68-22f96d3e5ea4",
   "metadata": {},
   "outputs": [],
   "source": [
    "def remove_file(a):\n",
    "    import os\n",
    "    for i in os.a():\n",
    "        if i == \"filename\":\n",
    "            os.remove(i)\n",
    "    return "
   ]
  }
 ],
 "metadata": {
  "kernelspec": {
   "display_name": "Python 3 (ipykernel)",
   "language": "python",
   "name": "python3"
  },
  "language_info": {
   "codemirror_mode": {
    "name": "ipython",
    "version": 3
   },
   "file_extension": ".py",
   "mimetype": "text/x-python",
   "name": "python",
   "nbconvert_exporter": "python",
   "pygments_lexer": "ipython3",
   "version": "3.11.7"
  }
 },
 "nbformat": 4,
 "nbformat_minor": 5
}
