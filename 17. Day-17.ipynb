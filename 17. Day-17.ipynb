{
 "cells": [
  {
   "cell_type": "code",
   "execution_count": 10,
   "id": "420f5496-f4dc-4f87-b36a-6d183f63a175",
   "metadata": {},
   "outputs": [
    {
     "name": "stdin",
     "output_type": "stream",
     "text": [
      "Enter the height of triangle\n",
      " 3\n"
     ]
    },
    {
     "name": "stdout",
     "output_type": "stream",
     "text": [
      "\n"
     ]
    }
   ],
   "source": [
    "times = int(input(\"Enter the height of triangle\\n\"))\n",
    "\n",
    "print()\n",
    "\n",
    "items = []\n",
    "for i in range(times,20,2):\n",
    "    items.append(i+1)"
   ]
  },
  {
   "cell_type": "code",
   "execution_count": 11,
   "id": "43f5a8cb-9e1f-4d62-817e-148736f00695",
   "metadata": {},
   "outputs": [
    {
     "data": {
      "text/plain": [
       "[4, 6, 8, 10, 12, 14, 16, 18, 20]"
      ]
     },
     "execution_count": 11,
     "metadata": {},
     "output_type": "execute_result"
    }
   ],
   "source": [
    "items"
   ]
  },
  {
   "cell_type": "code",
   "execution_count": 16,
   "id": "4f92c839-3db8-4667-b5aa-c287905d4437",
   "metadata": {},
   "outputs": [
    {
     "name": "stdout",
     "output_type": "stream",
     "text": [
      "     ****  $\n",
      "       ******  $\n",
      "         ********  $\n",
      "           **********  $\n",
      "             ************  $\n",
      "               **************  $\n",
      "                 ****************  $\n",
      "                   ******************  $\n",
      "                     ********************  $\n"
     ]
    }
   ],
   "source": [
    "for j in items:\n",
    "    print((2*j-j)* \" \", j * \"*\",\" $\")"
   ]
  },
  {
   "cell_type": "code",
   "execution_count": 19,
   "id": "c10c716f-5e34-4bf0-80d4-301249bace94",
   "metadata": {},
   "outputs": [
    {
     "name": "stdout",
     "output_type": "stream",
     "text": [
      "\n",
      "1 \n",
      "2 2 \n",
      "3 3 3 \n",
      "4 4 4 4 \n"
     ]
    }
   ],
   "source": [
    "rows = 5\n",
    "\n",
    "for i in range(rows):\n",
    "    # nested loop\n",
    "    for j in range(i):\n",
    "        # display number\n",
    "        print(i, end=' ')\n",
    "    # new line after each row\n",
    "    print('')"
   ]
  },
  {
   "cell_type": "code",
   "execution_count": 20,
   "id": "b7260514-78bd-4870-b793-1b6c7ef7c3e5",
   "metadata": {},
   "outputs": [
    {
     "name": "stdout",
     "output_type": "stream",
     "text": [
      "1 \n",
      "1 2 \n",
      "1 2 3 \n",
      "1 2 3 4 \n",
      "1 2 3 4 5 \n"
     ]
    }
   ],
   "source": [
    "rows = 5\n",
    "for i in range(1, rows + 1):\n",
    "    for j in range(1, i + 1):\n",
    "        print(j, end=' ')\n",
    "    print('')"
   ]
  },
  {
   "cell_type": "code",
   "execution_count": 30,
   "id": "bc0dff18-91c2-412f-a577-90cf01be81b7",
   "metadata": {},
   "outputs": [
    {
     "name": "stdout",
     "output_type": "stream",
     "text": [
      "1 1 1 1 1 1 1 1 1 1  \n",
      "2 2 2 2 2 2 2 2  \n",
      "3 3 3 3 3 3  \n",
      "4 4 4 4  \n",
      "5 5  \n"
     ]
    }
   ],
   "source": [
    "rows = 10\n",
    "b = 0\n",
    "# reverse for loop from 5 to 0\n",
    "for i in range(rows, 0, -2):\n",
    "    b += 1\n",
    "    for j in range(1, i + 1):\n",
    "        print(b, end=' ')\n",
    "    print(' ')"
   ]
  },
  {
   "cell_type": "code",
   "execution_count": 32,
   "id": "d6941800-977b-4260-b944-bac326b84fd5",
   "metadata": {},
   "outputs": [
    {
     "name": "stdout",
     "output_type": "stream",
     "text": [
      "& & & & & \n",
      "& & & & \n",
      "& & & \n",
      "& & \n",
      "& \n"
     ]
    }
   ],
   "source": [
    "rows = 5\n",
    "num = rows\n",
    "# reverse for loop\n",
    "for i in range(rows, 0, -1):\n",
    "    for j in range(0, i):\n",
    "        print(\"&\", end=' ')\n",
    "    print(\"\\r\")"
   ]
  },
  {
   "cell_type": "code",
   "execution_count": 46,
   "id": "59c3fbaf-fce9-492b-833b-ae994e6aeff9",
   "metadata": {},
   "outputs": [
    {
     "name": "stdout",
     "output_type": "stream",
     "text": [
      "& & & & & \n",
      "& & & & \n",
      " & & & \n",
      "   & & \n",
      "      & \n"
     ]
    }
   ],
   "source": [
    "rows = 5\n",
    "num = rows\n",
    "# reverse for loop\n",
    "for i in range(rows, 0, -1):\n",
    "    for j in range(5-i):\n",
    "        print(\" \"*j, end = \"\")\n",
    "    for j in range(0, i):\n",
    "        print(\"&\", end=' ')\n",
    "    print(\"\\r\")"
   ]
  },
  {
   "cell_type": "code",
   "execution_count": 47,
   "id": "0f7912a9-4e16-4c2a-949b-c36525fca134",
   "metadata": {},
   "outputs": [
    {
     "name": "stdout",
     "output_type": "stream",
     "text": [
      "* \n",
      "* * \n",
      "* * * \n",
      "* * * * \n",
      "* * * * * \n"
     ]
    }
   ],
   "source": [
    "# number of rows\n",
    "rows = 5\n",
    "for i in range(0, rows):\n",
    "    # nested loop for each column\n",
    "    for j in range(0, i + 1):\n",
    "        # print star\n",
    "        print(\"*\", end=' ')\n",
    "    # new line after each row\n",
    "    print(\"\\r\")"
   ]
  },
  {
   "cell_type": "code",
   "execution_count": 48,
   "id": "34b145bf-ecdb-48b8-be9d-c5d1d70c80a8",
   "metadata": {},
   "outputs": [
    {
     "name": "stdout",
     "output_type": "stream",
     "text": [
      "        * \n",
      "      * * \n",
      "    * * * \n",
      "  * * * * \n",
      "* * * * * \n"
     ]
    }
   ],
   "source": [
    "# number of rows\n",
    "rows = 5\n",
    "k = 2 * rows - 2\n",
    "for i in range(0, rows):\n",
    "    # process each column\n",
    "    for j in range(0, k):\n",
    "        # print space in pyramid\n",
    "        print(end=\" \")\n",
    "    k = k - 2\n",
    "    for j in range(0, i + 1):\n",
    "        # display star\n",
    "        print(\"* \", end=\"\")\n",
    "    print(\"\")"
   ]
  },
  {
   "cell_type": "code",
   "execution_count": 49,
   "id": "660326b3-f8f6-41f0-96a9-c774e7e320b6",
   "metadata": {},
   "outputs": [
    {
     "name": "stdout",
     "output_type": "stream",
     "text": [
      "* * * * *  \n",
      "* * * *  \n",
      "* * *  \n",
      "* *  \n",
      "*  \n",
      " \n"
     ]
    }
   ],
   "source": [
    "rows = 5\n",
    "for i in range(rows + 1, 0, -1):\n",
    "    # nested reverse loop\n",
    "    for j in range(0, i - 1):\n",
    "        # display star\n",
    "        print(\"*\", end=' ')\n",
    "    print(\" \")"
   ]
  },
  {
   "cell_type": "code",
   "execution_count": 50,
   "id": "6c9a0a4f-3ed0-473b-ade6-8dc93e16f77b",
   "metadata": {},
   "outputs": [
    {
     "name": "stdout",
     "output_type": "stream",
     "text": [
      "        * * * * * * \n",
      "         * * * * * \n",
      "          * * * * \n",
      "           * * * \n",
      "            * * \n",
      "             * \n"
     ]
    }
   ],
   "source": [
    "rows = 5\n",
    "k = 2 * rows - 2\n",
    "for i in range(rows, -1, -1):\n",
    "    for j in range(k, 0, -1):\n",
    "        print(end=\" \")\n",
    "    k = k + 1\n",
    "    for j in range(0, i + 1):\n",
    "        print(\"*\", end=\" \")\n",
    "    print(\"\")"
   ]
  },
  {
   "cell_type": "code",
   "execution_count": 52,
   "id": "707712fe-f1b2-4b0d-9ac7-dc648f6c57af",
   "metadata": {},
   "outputs": [
    {
     "name": "stdout",
     "output_type": "stream",
     "text": [
      "        * \n",
      "      * * \n",
      "    * * * \n",
      "  * * * * \n",
      "* * * * * \n",
      "* \n",
      "* * \n",
      "* * * \n",
      "* * * * \n",
      "* * * * * \n"
     ]
    }
   ],
   "source": [
    "# number of rows\n",
    "rows = 5\n",
    "k = 2 * rows - 2\n",
    "for i in range(0, rows):\n",
    "    # process each column\n",
    "    for j in range(0, k):\n",
    "        # print space in pyramid\n",
    "        print(end=\" \")\n",
    "    k = k - 2\n",
    "    for j in range(0, i + 1):\n",
    "        # display star\n",
    "        print(\"* \", end=\"\")\n",
    "    print(\"\")\n",
    "\n",
    "\n",
    "for i in range(0, rows):\n",
    "    # nested loop for each column\n",
    "    for j in range(0, i + 1):\n",
    "        # print star\n",
    "        print(\"*\", end=' ')\n",
    "    # new line after each row\n",
    "    print(\"\\r\")"
   ]
  },
  {
   "cell_type": "code",
   "execution_count": null,
   "id": "99f72a2b-b1a6-458e-bc6c-66366f440757",
   "metadata": {},
   "outputs": [],
   "source": [
    "rows = 5\n",
    "k = 2 * rows - 2\n",
    "\n",
    "for i in range(rows, -1, -1):\n",
    "    for j in range(k, 0, -1):\n",
    "        print(end=\" \")\n",
    "    k = k + 1\n",
    "    for j in range(0, i + 1):\n",
    "        print(\"*\", end=\" \")\n",
    "    print(\"\")"
   ]
  },
  {
   "cell_type": "code",
   "execution_count": 55,
   "id": "ec751dfc-e9af-4d3f-a09a-516cfd8d8fb4",
   "metadata": {},
   "outputs": [
    {
     "data": {
      "text/plain": [
       "[6, 5, 4, 3, 2, 1, 0]"
      ]
     },
     "execution_count": 55,
     "metadata": {},
     "output_type": "execute_result"
    }
   ],
   "source": [
    "list(range(6, -1, -1))"
   ]
  },
  {
   "cell_type": "code",
   "execution_count": 56,
   "id": "2ec3685a-9928-49e4-b899-bfcebf5e61c0",
   "metadata": {},
   "outputs": [
    {
     "data": {
      "text/plain": [
       "[6, 5, 4, 3, 2, 1]"
      ]
     },
     "execution_count": 56,
     "metadata": {},
     "output_type": "execute_result"
    }
   ],
   "source": [
    "list(range(6,0, -1))"
   ]
  },
  {
   "cell_type": "code",
   "execution_count": 58,
   "id": "261704b4-ac9b-4b64-9960-60caf3e0db01",
   "metadata": {},
   "outputs": [
    {
     "name": "stdout",
     "output_type": "stream",
     "text": [
      "* * * * * \n",
      "  * * * * \n",
      "    * * * \n",
      "      * * \n",
      "        * \n"
     ]
    }
   ],
   "source": [
    "rows = 5\n",
    "i = rows\n",
    "while i >= 1:\n",
    "    j = rows\n",
    "    while j > i:\n",
    "        # display space\n",
    "        print(' ', end=' ')\n",
    "        j -= 1\n",
    "    k = 1\n",
    "    while k <= i:\n",
    "        print('*', end=' ')\n",
    "        k += 1\n",
    "    print()\n",
    "    i -= 1"
   ]
  },
  {
   "cell_type": "code",
   "execution_count": null,
   "id": "3cc8c34d-039a-477a-ad8f-35c8c190e683",
   "metadata": {},
   "outputs": [],
   "source": []
  }
 ],
 "metadata": {
  "kernelspec": {
   "display_name": "Python 3 (ipykernel)",
   "language": "python",
   "name": "python3"
  },
  "language_info": {
   "codemirror_mode": {
    "name": "ipython",
    "version": 3
   },
   "file_extension": ".py",
   "mimetype": "text/x-python",
   "name": "python",
   "nbconvert_exporter": "python",
   "pygments_lexer": "ipython3",
   "version": "3.11.7"
  }
 },
 "nbformat": 4,
 "nbformat_minor": 5
}
