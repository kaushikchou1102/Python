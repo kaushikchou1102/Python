{
 "cells": [
  {
   "cell_type": "code",
   "execution_count": 1,
   "id": "f958f027-a9b5-45fe-89a1-eeabc118ca9e",
   "metadata": {},
   "outputs": [],
   "source": [
    "import logging "
   ]
  },
  {
   "cell_type": "code",
   "execution_count": null,
   "id": "e2785b6d-c919-4c87-9e58-0d205c727990",
   "metadata": {},
   "outputs": [],
   "source": [
    "logging.DEBUG\n",
    "logging.info\n",
    "logging.warning\n",
    "logging.error\n",
    "logging.critical"
   ]
  },
  {
   "cell_type": "code",
   "execution_count": null,
   "id": "05c40857-665a-4748-9f17-d980c3f6a13c",
   "metadata": {},
   "outputs": [],
   "source": [
    "DEBUG = 10\n",
    "Info = 20\n",
    "Warniing = 30\n",
    "Error = 40\n",
    "Critical = 50"
   ]
  },
  {
   "cell_type": "code",
   "execution_count": 6,
   "id": "5e591470-3b34-4a19-88da-083b26e02d5d",
   "metadata": {},
   "outputs": [],
   "source": [
    "logging.basicConfig(filename=\"Listt.log\", level=logging.DEBUG, format=\"%(asctime)s %(levelname)s %(message)s\")"
   ]
  },
  {
   "cell_type": "code",
   "execution_count": 3,
   "id": "2e00d875-fb55-4862-8908-99c55ed3e08d",
   "metadata": {},
   "outputs": [],
   "source": [
    "l = [[1, 2, 3, 4], (2, 3, 4, 5, 6), (3, 4, 5, 6, 7), [23, 4, 5, 45, 4, 3, 5, 45, 45, 4, 5]]"
   ]
  },
  {
   "cell_type": "code",
   "execution_count": 7,
   "id": "bcbd924a-753b-4f65-bf95-15d9c32fb2ac",
   "metadata": {},
   "outputs": [
    {
     "name": "stdout",
     "output_type": "stream",
     "text": [
      "[1, 2, 3, 4]\n",
      "[23, 4, 5, 45, 4, 4, 5, 45, 45, 4, 5]\n"
     ]
    }
   ],
   "source": [
    "try:\n",
    "    for i in l:\n",
    "        logging.info(\"Loop begin\")\n",
    "        if type(i) == list:\n",
    "            print(i)\n",
    "            logging.info(\"Output is there\")\n",
    "except Exception as e:\n",
    "    print(e)\n",
    "    logging.exception(e, \" Please enter iterable collections like :- lists, tuples, set, dictionary\")"
   ]
  },
  {
   "cell_type": "code",
   "execution_count": 11,
   "id": "484a77c6-92c3-4bcc-b123-0496d9ae28fc",
   "metadata": {},
   "outputs": [],
   "source": [
    "l1 = [[1, 2, 3, 4], (2, 3, 4, 5, 6), (3, 4, 5, 6, 7), [23, 4, 5, 45, 4, 3, 5, 45, 45, 4, 5], \"ineuron\"]"
   ]
  },
  {
   "cell_type": "code",
   "execution_count": 15,
   "id": "c7edd274-86bc-4cd6-a5f6-ae5ab560b32f",
   "metadata": {},
   "outputs": [
    {
     "name": "stdout",
     "output_type": "stream",
     "text": [
      "3\n",
      "3\n",
      "3\n",
      "3\n",
      "ineuron\n",
      "ineuron\n",
      "ineuron\n",
      "ineuron\n",
      "ineuron\n"
     ]
    }
   ],
   "source": [
    "for i in l1:\n",
    "    logging.info(\"My first loop is begin start\")\n",
    "    if type(i) != dict:\n",
    "        for j in i:\n",
    "            logging.info(\"second loop start\")\n",
    "            if j == 3:\n",
    "                logging.info(\"value of j = 3\")\n",
    "                print(j)\n",
    "else:\n",
    "    for j in l1:\n",
    "        logging.info(\"It is else block loop\")\n",
    "        if i== 'ineuron':\n",
    "            logging.info(i)\n",
    "            print (i)"
   ]
  },
  {
   "cell_type": "code",
   "execution_count": 16,
   "id": "0db2a375-4aa1-49b1-9abd-2a5846769cc9",
   "metadata": {},
   "outputs": [
    {
     "data": {
      "text/plain": [
       "[[1, 2, 3, 4],\n",
       " (2, 3, 4, 5, 6),\n",
       " (3, 4, 5, 6, 7),\n",
       " [23, 4, 5, 45, 4, 3, 5, 45, 45, 4, 5],\n",
       " 'ineuron']"
      ]
     },
     "execution_count": 16,
     "metadata": {},
     "output_type": "execute_result"
    }
   ],
   "source": [
    "l1"
   ]
  },
  {
   "cell_type": "code",
   "execution_count": 17,
   "id": "9760a458-3fd5-4a66-b768-23b10e9066c7",
   "metadata": {},
   "outputs": [],
   "source": [
    "l2 = []\n",
    "logging.info(\"code starting\")\n",
    "for i in l1:\n",
    "    logging.debug(\"fist loop\")\n",
    "    if type(i) == list:\n",
    "        logging.warning(\"it warnning\")\n",
    "        for j in i:\n",
    "            logging.info(\"second loop\")\n",
    "            if j == 4:\n",
    "                l2.append(j)\n",
    "                logging.error(\"new list created\")"
   ]
  },
  {
   "cell_type": "code",
   "execution_count": 18,
   "id": "6524cd0d-b9e2-4fdc-b2e4-36e66414a1a7",
   "metadata": {},
   "outputs": [
    {
     "data": {
      "text/plain": [
       "[4, 4, 4, 4]"
      ]
     },
     "execution_count": 18,
     "metadata": {},
     "output_type": "execute_result"
    }
   ],
   "source": [
    "l2"
   ]
  },
  {
   "cell_type": "code",
   "execution_count": 19,
   "id": "b1187950-57e7-4192-b3a2-e60859e29062",
   "metadata": {},
   "outputs": [
    {
     "name": "stdout",
     "output_type": "stream",
     "text": [
      "name 'l3' is not defined\n"
     ]
    },
    {
     "name": "stderr",
     "output_type": "stream",
     "text": [
      "--- Logging error ---\n",
      "Traceback (most recent call last):\n",
      "  File \"C:\\Users\\amitm\\AppData\\Local\\Temp\\ipykernel_8772\\1341481204.py\", line 4, in <module>\n",
      "    for i in l3:\n",
      "             ^^\n",
      "NameError: name 'l3' is not defined\n",
      "\n",
      "During handling of the above exception, another exception occurred:\n",
      "\n",
      "Traceback (most recent call last):\n",
      "  File \"C:\\Users\\amitm\\anaconda3\\Lib\\logging\\__init__.py\", line 1110, in emit\n",
      "    msg = self.format(record)\n",
      "          ^^^^^^^^^^^^^^^^^^^\n",
      "  File \"C:\\Users\\amitm\\anaconda3\\Lib\\logging\\__init__.py\", line 953, in format\n",
      "    return fmt.format(record)\n",
      "           ^^^^^^^^^^^^^^^^^^\n",
      "  File \"C:\\Users\\amitm\\anaconda3\\Lib\\logging\\__init__.py\", line 687, in format\n",
      "    record.message = record.getMessage()\n",
      "                     ^^^^^^^^^^^^^^^^^^^\n",
      "  File \"C:\\Users\\amitm\\anaconda3\\Lib\\logging\\__init__.py\", line 377, in getMessage\n",
      "    msg = msg % self.args\n",
      "          ~~~~^~~~~~~~~~~\n",
      "TypeError: not all arguments converted during string formatting\n",
      "Call stack:\n",
      "  File \"<frozen runpy>\", line 198, in _run_module_as_main\n",
      "  File \"<frozen runpy>\", line 88, in _run_code\n",
      "  File \"C:\\Users\\amitm\\anaconda3\\Lib\\site-packages\\ipykernel_launcher.py\", line 17, in <module>\n",
      "    app.launch_new_instance()\n",
      "  File \"C:\\Users\\amitm\\anaconda3\\Lib\\site-packages\\traitlets\\config\\application.py\", line 992, in launch_instance\n",
      "    app.start()\n",
      "  File \"C:\\Users\\amitm\\anaconda3\\Lib\\site-packages\\ipykernel\\kernelapp.py\", line 701, in start\n",
      "    self.io_loop.start()\n",
      "  File \"C:\\Users\\amitm\\anaconda3\\Lib\\site-packages\\tornado\\platform\\asyncio.py\", line 195, in start\n",
      "    self.asyncio_loop.run_forever()\n",
      "  File \"C:\\Users\\amitm\\anaconda3\\Lib\\asyncio\\windows_events.py\", line 321, in run_forever\n",
      "    super().run_forever()\n",
      "  File \"C:\\Users\\amitm\\anaconda3\\Lib\\asyncio\\base_events.py\", line 607, in run_forever\n",
      "    self._run_once()\n",
      "  File \"C:\\Users\\amitm\\anaconda3\\Lib\\asyncio\\base_events.py\", line 1922, in _run_once\n",
      "    handle._run()\n",
      "  File \"C:\\Users\\amitm\\anaconda3\\Lib\\asyncio\\events.py\", line 80, in _run\n",
      "    self._context.run(self._callback, *self._args)\n",
      "  File \"C:\\Users\\amitm\\anaconda3\\Lib\\site-packages\\ipykernel\\kernelbase.py\", line 534, in dispatch_queue\n",
      "    await self.process_one()\n",
      "  File \"C:\\Users\\amitm\\anaconda3\\Lib\\site-packages\\ipykernel\\kernelbase.py\", line 523, in process_one\n",
      "    await dispatch(*args)\n",
      "  File \"C:\\Users\\amitm\\anaconda3\\Lib\\site-packages\\ipykernel\\kernelbase.py\", line 429, in dispatch_shell\n",
      "    await result\n",
      "  File \"C:\\Users\\amitm\\anaconda3\\Lib\\site-packages\\ipykernel\\kernelbase.py\", line 767, in execute_request\n",
      "    reply_content = await reply_content\n",
      "  File \"C:\\Users\\amitm\\anaconda3\\Lib\\site-packages\\ipykernel\\ipkernel.py\", line 429, in do_execute\n",
      "    res = shell.run_cell(\n",
      "  File \"C:\\Users\\amitm\\anaconda3\\Lib\\site-packages\\ipykernel\\zmqshell.py\", line 549, in run_cell\n",
      "    return super().run_cell(*args, **kwargs)\n",
      "  File \"C:\\Users\\amitm\\anaconda3\\Lib\\site-packages\\IPython\\core\\interactiveshell.py\", line 3051, in run_cell\n",
      "    result = self._run_cell(\n",
      "  File \"C:\\Users\\amitm\\anaconda3\\Lib\\site-packages\\IPython\\core\\interactiveshell.py\", line 3106, in _run_cell\n",
      "    result = runner(coro)\n",
      "  File \"C:\\Users\\amitm\\anaconda3\\Lib\\site-packages\\IPython\\core\\async_helpers.py\", line 129, in _pseudo_sync_runner\n",
      "    coro.send(None)\n",
      "  File \"C:\\Users\\amitm\\anaconda3\\Lib\\site-packages\\IPython\\core\\interactiveshell.py\", line 3311, in run_cell_async\n",
      "    has_raised = await self.run_ast_nodes(code_ast.body, cell_name,\n",
      "  File \"C:\\Users\\amitm\\anaconda3\\Lib\\site-packages\\IPython\\core\\interactiveshell.py\", line 3493, in run_ast_nodes\n",
      "    if await self.run_code(code, result, async_=asy):\n",
      "  File \"C:\\Users\\amitm\\anaconda3\\Lib\\site-packages\\IPython\\core\\interactiveshell.py\", line 3553, in run_code\n",
      "    exec(code_obj, self.user_global_ns, self.user_ns)\n",
      "  File \"C:\\Users\\amitm\\AppData\\Local\\Temp\\ipykernel_8772\\1341481204.py\", line 15, in <module>\n",
      "    logging.info(e, \"except\")\n",
      "Message: NameError(\"name 'l3' is not defined\")\n",
      "Arguments: ('except',)\n"
     ]
    }
   ],
   "source": [
    "try:\n",
    "    l2 = []\n",
    "    logging.info(\"try code starting\")\n",
    "    for i in l3:\n",
    "        logging.debug(\"try fist loop\")\n",
    "        if type(i) == list:\n",
    "            logging.warning(\"try it warnning\")\n",
    "            for j in i:\n",
    "                logging.info(\"try second loop\")\n",
    "                if j == 4:\n",
    "                    l2.append(j)\n",
    "                    logging.error(\"try new list created\")\n",
    "except Exception as e:\n",
    "    print(e)\n",
    "    logging.info(e, \"except\")"
   ]
  },
  {
   "cell_type": "code",
   "execution_count": null,
   "id": "23f2f8c2-f86c-4f44-a56c-85bad22f3f29",
   "metadata": {},
   "outputs": [],
   "source": []
  }
 ],
 "metadata": {
  "kernelspec": {
   "display_name": "Python 3 (ipykernel)",
   "language": "python",
   "name": "python3"
  },
  "language_info": {
   "codemirror_mode": {
    "name": "ipython",
    "version": 3
   },
   "file_extension": ".py",
   "mimetype": "text/x-python",
   "name": "python",
   "nbconvert_exporter": "python",
   "pygments_lexer": "ipython3",
   "version": "3.11.7"
  }
 },
 "nbformat": 4,
 "nbformat_minor": 5
}
