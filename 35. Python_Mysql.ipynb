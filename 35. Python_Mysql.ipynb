{
 "cells": [
  {
   "cell_type": "code",
   "execution_count": 1,
   "id": "65c1fb08-d7c8-4a9d-9e14-451d1b9d276f",
   "metadata": {},
   "outputs": [
    {
     "name": "stdout",
     "output_type": "stream",
     "text": [
      "Collecting mysql-connector-python\n",
      "  Downloading mysql_connector_python-9.0.0-cp311-cp311-win_amd64.whl.metadata (2.0 kB)\n",
      "Downloading mysql_connector_python-9.0.0-cp311-cp311-win_amd64.whl (14.3 MB)\n",
      "   ---------------------------------------- 0.0/14.3 MB ? eta -:--:--\n",
      "   ---------------------------------------- 0.0/14.3 MB 660.6 kB/s eta 0:00:22\n",
      "    --------------------------------------- 0.2/14.3 MB 2.5 MB/s eta 0:00:06\n",
      "   -- ------------------------------------- 0.8/14.3 MB 6.0 MB/s eta 0:00:03\n",
      "   ---- ----------------------------------- 1.6/14.3 MB 9.4 MB/s eta 0:00:02\n",
      "   ------- -------------------------------- 2.6/14.3 MB 11.9 MB/s eta 0:00:01\n",
      "   ---------- ----------------------------- 3.7/14.3 MB 13.9 MB/s eta 0:00:01\n",
      "   ------------- -------------------------- 4.8/14.3 MB 15.2 MB/s eta 0:00:01\n",
      "   ---------------- ----------------------- 5.8/14.3 MB 16.2 MB/s eta 0:00:01\n",
      "   ------------------- -------------------- 7.0/14.3 MB 17.2 MB/s eta 0:00:01\n",
      "   ---------------------- ----------------- 8.1/14.3 MB 17.8 MB/s eta 0:00:01\n",
      "   ------------------------- -------------- 9.2/14.3 MB 18.3 MB/s eta 0:00:01\n",
      "   ---------------------------- ----------- 10.4/14.3 MB 21.8 MB/s eta 0:00:01\n",
      "   ------------------------------ --------- 11.1/14.3 MB 21.8 MB/s eta 0:00:01\n",
      "   --------------------------------- ------ 12.0/14.3 MB 21.8 MB/s eta 0:00:01\n",
      "   ------------------------------------ --- 13.1/14.3 MB 22.6 MB/s eta 0:00:01\n",
      "   ---------------------------------------  14.3/14.3 MB 22.6 MB/s eta 0:00:01\n",
      "   ---------------------------------------- 14.3/14.3 MB 21.8 MB/s eta 0:00:00\n",
      "Installing collected packages: mysql-connector-python\n",
      "Successfully installed mysql-connector-python-9.0.0\n"
     ]
    }
   ],
   "source": [
    "# install mysql connection package\n",
    "!pip install mysql-connector-python"
   ]
  },
  {
   "cell_type": "code",
   "execution_count": 2,
   "id": "ae3f7b2c-51f6-45ce-84c8-7aa0a6fa8315",
   "metadata": {},
   "outputs": [],
   "source": [
    "# import module\n",
    "import mysql.connector as conn"
   ]
  },
  {
   "cell_type": "code",
   "execution_count": 3,
   "id": "0165d5bc-d40d-49df-b62d-b8f060fdfae7",
   "metadata": {},
   "outputs": [
    {
     "name": "stdout",
     "output_type": "stream",
     "text": [
      "<mysql.connector.connection_cext.CMySQLConnection object at 0x000001ECA8D3CE90>\n"
     ]
    }
   ],
   "source": [
    "# make a connection with mysql\n",
    "mydb = conn.connect(\n",
    "  host=\"localhost\",\n",
    "  user=\"root\",\n",
    "  password=\"12345\"\n",
    ")\n",
    "\n",
    "print(mydb)"
   ]
  },
  {
   "cell_type": "code",
   "execution_count": 4,
   "id": "e84f34a4-84fb-44ee-b1e3-5ff570c4cc33",
   "metadata": {},
   "outputs": [],
   "source": [
    "#create a database in mysql \n",
    "mycursor = mydb.cursor()\n",
    "\n",
    "mycursor.execute(\"CREATE DATABASE df\")"
   ]
  },
  {
   "cell_type": "code",
   "execution_count": 5,
   "id": "314a7a9c-f72a-4a83-a605-a3ae9f16b270",
   "metadata": {},
   "outputs": [
    {
     "name": "stdout",
     "output_type": "stream",
     "text": [
      "CMySQLCursor: CREATE DATABASE df\n"
     ]
    }
   ],
   "source": [
    "print(mycursor)"
   ]
  },
  {
   "cell_type": "code",
   "execution_count": 6,
   "id": "564be04d-f191-40a3-8dab-2b6fe448b07e",
   "metadata": {},
   "outputs": [
    {
     "name": "stdout",
     "output_type": "stream",
     "text": [
      "('5_30',)\n",
      "('aggr_fun',)\n",
      "('bulk_load',)\n",
      "('cases',)\n",
      "('class11',)\n",
      "('class11_2',)\n",
      "('class_6',)\n",
      "('cte',)\n",
      "('df',)\n",
      "('duplicates',)\n",
      "('extraclass',)\n",
      "('indexx',)\n",
      "('information_schema',)\n",
      "('joins',)\n",
      "('mysql',)\n",
      "('new_practice',)\n",
      "('part',)\n",
      "('partition1',)\n",
      "('partitionss',)\n",
      "('performance_schema',)\n",
      "('practice',)\n",
      "('practice_sql',)\n",
      "('project',)\n",
      "('regularexp',)\n",
      "('sakila',)\n",
      "('sys',)\n",
      "('test',)\n",
      "('trigg',)\n",
      "('unions',)\n",
      "('views',)\n",
      "('win_fun',)\n",
      "('world',)\n"
     ]
    }
   ],
   "source": [
    "#show database\n",
    "mycursor.execute(\"SHOW DATABASES\")\n",
    "\n",
    "for x in mycursor:\n",
    "  print(x)"
   ]
  },
  {
   "cell_type": "code",
   "execution_count": null,
   "id": "339fbcd6-f909-46d5-9904-8ebdf213621f",
   "metadata": {},
   "outputs": [],
   "source": [
    "mycursor.execute(\"DROP DATABASE DEMO\")"
   ]
  },
  {
   "cell_type": "code",
   "execution_count": 7,
   "id": "50b8af41-09ac-4961-9d1a-64f6c4dfc854",
   "metadata": {},
   "outputs": [],
   "source": [
    "mycursor.execute(\"USE df\")"
   ]
  },
  {
   "cell_type": "code",
   "execution_count": 8,
   "id": "4d8cad83-468f-4b87-8be9-4554bc60baf6",
   "metadata": {},
   "outputs": [],
   "source": [
    "#CREATE TABLE \n",
    "mycursor.execute(\"CREATE TABLE customer (name VARCHAR(255), address VARCHAR(255))\")"
   ]
  },
  {
   "cell_type": "code",
   "execution_count": 9,
   "id": "ce5f505c-75d3-485e-8df5-fa367e55377d",
   "metadata": {},
   "outputs": [],
   "source": [
    "# HERE WE EDIT THE TABLE ADD ANOTHER COLUMN \"MOB\", WHICH IS AUTOINCREMENTED AND ALSO PRIMARY KEY\n",
    "mycursor.execute(\"ALTER TABLE customer ADD COLUMN id INT AUTO_INCREMENT PRIMARY KEY\")"
   ]
  },
  {
   "cell_type": "code",
   "execution_count": 10,
   "id": "87180fd9-550a-466b-83a5-9f4c5cf0bde5",
   "metadata": {},
   "outputs": [],
   "source": [
    "#inserting single row \n",
    "# NO NEED OF GIVE PARAMETER WHICH IS AUTOINCEMENTED\n",
    "sql = \"INSERT INTO customer (name, address) VALUES (%s, %s)\"\n",
    "val = (\"ROHIT\", \"Highway 21\")\n",
    "mycursor.execute(sql, val)\n",
    "mydb.commit()"
   ]
  },
  {
   "cell_type": "code",
   "execution_count": 11,
   "id": "c72a64c6-f3d2-4a2d-893d-c74162fc3a3e",
   "metadata": {},
   "outputs": [
    {
     "name": "stdout",
     "output_type": "stream",
     "text": [
      "1 record inserted.\n"
     ]
    }
   ],
   "source": [
    "print(mycursor.rowcount, \"record inserted.\")"
   ]
  },
  {
   "cell_type": "code",
   "execution_count": 12,
   "id": "e33eac1e-cf31-4a73-ab8f-2c7dcfe46d7f",
   "metadata": {},
   "outputs": [],
   "source": [
    "# INSERT MANY VALUE AT A TIME\n",
    "sql = \"INSERT INTO customer(name, address) VALUES (%s, %s)\"\n",
    "val = [(\"ROHIT\", \"Highway 21\"),\n",
    "  ('Peter', 'Lowstreet 4'),\n",
    "  ('Ammy', 'Apple st 652'),\n",
    "  ('Huma', 'Mountain 21')]"
   ]
  },
  {
   "cell_type": "code",
   "execution_count": 13,
   "id": "1300db75-06e8-4c99-8b24-f5eeb40bfa55",
   "metadata": {},
   "outputs": [
    {
     "name": "stdout",
     "output_type": "stream",
     "text": [
      "4 was inserted.\n"
     ]
    }
   ],
   "source": [
    "#COMMIT THE VALUE WHICH WE INSERTED \n",
    "mycursor.executemany(sql, val)\n",
    "\n",
    "mydb.commit()\n",
    "\n",
    "print(mycursor.rowcount, \"was inserted.\")"
   ]
  },
  {
   "cell_type": "code",
   "execution_count": 14,
   "id": "8d56aa34-e6cc-44ba-a169-3f461e774a57",
   "metadata": {},
   "outputs": [
    {
     "name": "stdout",
     "output_type": "stream",
     "text": [
      "1 record inserted, ID: 6\n"
     ]
    }
   ],
   "source": [
    "#here again inserted a valus but will show the saperate id name of last added row\n",
    "sql = \"INSERT INTO customer (name, address) VALUES (%s, %s)\"\n",
    "val = (\"Mohit\", \"sainagar\")\n",
    "mycursor.execute(sql, val)\n",
    "\n",
    "mydb.commit()\n",
    "print(\"1 record inserted, ID:\", mycursor.lastrowid)"
   ]
  },
  {
   "cell_type": "code",
   "execution_count": 15,
   "id": "5a34fe45-3c4d-46ab-8f0f-71e9b782e9ab",
   "metadata": {},
   "outputs": [
    {
     "name": "stdout",
     "output_type": "stream",
     "text": [
      "('ROHIT', 'Highway 21', 1)\n",
      "('ROHIT', 'Highway 21', 2)\n",
      "('Peter', 'Lowstreet 4', 3)\n",
      "('Ammy', 'Apple st 652', 4)\n",
      "('Huma', 'Mountain 21', 5)\n",
      "('Mohit', 'sainagar', 6)\n"
     ]
    }
   ],
   "source": [
    "# for view all the existing records available in table\n",
    "mycursor.execute(\"SELECT * FROM customer\")\n",
    "\n",
    "myresult = mycursor.fetchall()\n",
    "\n",
    "for x in myresult:\n",
    "  print(x)"
   ]
  },
  {
   "cell_type": "code",
   "execution_count": 16,
   "id": "29344c60-b665-4ad2-9513-8a56e0f61788",
   "metadata": {},
   "outputs": [
    {
     "name": "stdout",
     "output_type": "stream",
     "text": [
      "('ROHIT', 'Highway 21')\n",
      "('ROHIT', 'Highway 21')\n",
      "('Peter', 'Lowstreet 4')\n",
      "('Ammy', 'Apple st 652')\n",
      "('Huma', 'Mountain 21')\n",
      "('Mohit', 'sainagar')\n"
     ]
    }
   ],
   "source": [
    "# here we can view seperately induvisual column like here we are showing name and address\n",
    "\n",
    "mycursor.execute(\"SELECT name, address FROM customer\")\n",
    "\n",
    "myresult = mycursor.fetchall()\n",
    "\n",
    "for x in myresult:\n",
    "  print(x)"
   ]
  },
  {
   "cell_type": "code",
   "execution_count": 17,
   "id": "7677f5b4-949c-49ae-9669-ad00f54e442a",
   "metadata": {},
   "outputs": [
    {
     "name": "stdout",
     "output_type": "stream",
     "text": [
      "('ROHIT',)\n",
      "('ROHIT',)\n",
      "('Peter',)\n",
      "('Ammy',)\n",
      "('Huma',)\n",
      "('Mohit',)\n"
     ]
    }
   ],
   "source": [
    "mycursor.execute(\"SELECT name FROM customer\")\n",
    "\n",
    "myresult = mycursor.fetchall()\n",
    "\n",
    "for x in myresult:\n",
    "  print(x)"
   ]
  },
  {
   "cell_type": "code",
   "execution_count": 18,
   "id": "ce24815f-7c96-404a-b120-da837dd277e8",
   "metadata": {},
   "outputs": [
    {
     "name": "stdout",
     "output_type": "stream",
     "text": [
      "('Mohit', 'sainagar', 6)\n"
     ]
    }
   ],
   "source": [
    "# we filtering the data by using where condition \n",
    "sql = \"SELECT * FROM customer WHERE address ='sainagar'\"\n",
    "\n",
    "mycursor.execute(sql)\n",
    "\n",
    "myresult = mycursor.fetchall()\n",
    "\n",
    "for x in myresult:\n",
    "  print(x)"
   ]
  },
  {
   "cell_type": "code",
   "execution_count": 19,
   "id": "59ecf62b-81a8-4d19-8ea9-ac1ddb7658ee",
   "metadata": {},
   "outputs": [
    {
     "name": "stdout",
     "output_type": "stream",
     "text": [
      "('Ammy', 'Apple st 652', 4)\n"
     ]
    }
   ],
   "source": [
    "# with only single word in syllabus we are applying filter  \"Wildcard Character\"\n",
    "sql = \"SELECT * FROM customer WHERE address LIKE '%652%'\"\n",
    "\n",
    "mycursor.execute(sql)\n",
    "\n",
    "myresult = mycursor.fetchall()\n",
    "\n",
    "for x in myresult:\n",
    "  print(x)"
   ]
  },
  {
   "cell_type": "code",
   "execution_count": 20,
   "id": "82d99132-9f76-4673-b430-576bc84b4960",
   "metadata": {},
   "outputs": [],
   "source": [
    "### ?????????????\n",
    "sql = \"SELECT * FROM customer WHERE address = %s\"\n",
    "adr = (\"Yellow Garden 2\", )\n",
    "\n",
    "mycursor.execute(sql, adr)\n",
    "\n",
    "myresult = mycursor.fetchall()\n",
    "\n",
    "for x in myresult:\n",
    "  print(x)"
   ]
  },
  {
   "cell_type": "code",
   "execution_count": 21,
   "id": "be31061b-0b20-48cb-a8ca-d48526f365a1",
   "metadata": {},
   "outputs": [
    {
     "name": "stdout",
     "output_type": "stream",
     "text": [
      "('Ammy', 'Apple st 652', 4)\n",
      "('Huma', 'Mountain 21', 5)\n",
      "('Mohit', 'sainagar', 6)\n",
      "('Peter', 'Lowstreet 4', 3)\n",
      "('ROHIT', 'Highway 21', 1)\n",
      "('ROHIT', 'Highway 21', 2)\n"
     ]
    }
   ],
   "source": [
    "# using order by short the list  \n",
    "sql = \"SELECT * FROM customer ORDER BY name\"\n",
    "\n",
    "mycursor.execute(sql)\n",
    "\n",
    "myresult = mycursor.fetchall()\n",
    "\n",
    "for x in myresult:\n",
    "  print(x)"
   ]
  },
  {
   "cell_type": "code",
   "execution_count": 22,
   "id": "73b20efb-7b0e-461d-84a6-bbaeaab0660b",
   "metadata": {},
   "outputs": [
    {
     "name": "stdout",
     "output_type": "stream",
     "text": [
      "('ROHIT', 'Highway 21', 1)\n",
      "('ROHIT', 'Highway 21', 2)\n",
      "('Peter', 'Lowstreet 4', 3)\n",
      "('Mohit', 'sainagar', 6)\n",
      "('Huma', 'Mountain 21', 5)\n",
      "('Ammy', 'Apple st 652', 4)\n"
     ]
    }
   ],
   "source": [
    "# order by descending order\n",
    "sql = \"SELECT * FROM customer ORDER BY name DESC\"\n",
    "\n",
    "mycursor.execute(sql)\n",
    "\n",
    "myresult = mycursor.fetchall()\n",
    "\n",
    "for x in myresult:\n",
    "  print(x)"
   ]
  },
  {
   "cell_type": "code",
   "execution_count": 23,
   "id": "0784193b-6526-4c73-8d75-e30632d4ff35",
   "metadata": {},
   "outputs": [
    {
     "name": "stdout",
     "output_type": "stream",
     "text": [
      "1 record(s) deleted\n"
     ]
    }
   ],
   "source": [
    "# Delete record usning where condition \n",
    "\n",
    "sql = \"DELETE FROM customer WHERE address = 'Mountain 21'\"\n",
    "\n",
    "mycursor.execute(sql)\n",
    "\n",
    "mydb.commit()\n",
    "\n",
    "print(mycursor.rowcount, \"record(s) deleted\")"
   ]
  },
  {
   "cell_type": "code",
   "execution_count": 24,
   "id": "fce8e7b1-7440-485a-9ebd-c1caaefb4716",
   "metadata": {},
   "outputs": [
    {
     "name": "stdout",
     "output_type": "stream",
     "text": [
      "0 record(s) deleted\n"
     ]
    }
   ],
   "source": [
    "# It is considered a good practice to escape the values of any query, also in delete statements.\n",
    "\n",
    "# This is to prevent SQL injections, which is a common web hacking technique to destroy or misuse your database.\n",
    "\n",
    "# The mysql.connector module uses the placeholder %s to escape values in the delete statement: \n",
    "\n",
    "sql = \"DELETE FROM customer WHERE address = %s\"\n",
    "adr = (\"Yellow Garden 2\", )\n",
    "\n",
    "mycursor.execute(sql, adr)\n",
    "\n",
    "mydb.commit()\n",
    "\n",
    "print(mycursor.rowcount, \"record(s) deleted\")"
   ]
  },
  {
   "cell_type": "code",
   "execution_count": null,
   "id": "0a6af66c-d2ee-4504-bca5-febc19485db1",
   "metadata": {},
   "outputs": [],
   "source": [
    "# for delete the table from database\n",
    "\n",
    "sql = \"DROP TABLE customer\"\n",
    "\n",
    "mycursor.execute(sql)"
   ]
  },
  {
   "cell_type": "code",
   "execution_count": null,
   "id": "147e1c76-82db-47b7-8a2c-d0d8dc8e3d9b",
   "metadata": {},
   "outputs": [],
   "source": [
    "# If the table you want to delete is already deleted, or for any other reason does not exist, you can use the IF EXISTS keyword to avoid getting an error.\n",
    "\n",
    "sql = \"DROP TABLE IF EXISTS customers\"\n",
    "\n",
    "mycursor.execute(sql)"
   ]
  },
  {
   "cell_type": "code",
   "execution_count": 25,
   "id": "52396f84-9bca-4ec2-9dc8-bebbae5308a5",
   "metadata": {},
   "outputs": [
    {
     "name": "stdout",
     "output_type": "stream",
     "text": [
      "1 record(s) affected\n"
     ]
    }
   ],
   "source": [
    "# Update table Overwrite the address column from \"Valley 345\" to \"Canyon 123\":\n",
    "\n",
    "sql = \"UPDATE customer SET address = 'sainagar-2' WHERE address = 'sainagar'\"\n",
    "\n",
    "mycursor.execute(sql)\n",
    "\n",
    "mydb.commit()\n",
    "\n",
    "print(mycursor.rowcount, \"record(s) affected\")"
   ]
  },
  {
   "cell_type": "code",
   "execution_count": 26,
   "id": "ef3b4353-a295-4eaa-9067-55c7b2214042",
   "metadata": {},
   "outputs": [
    {
     "name": "stdout",
     "output_type": "stream",
     "text": [
      "0 record(s) affected\n"
     ]
    }
   ],
   "source": [
    "# Prevent SQL Injection: Escape values by using the placeholder %s method:\n",
    "\n",
    "sql = \"UPDATE customer SET address = %s WHERE address = %s\"\n",
    "val = (\"Valley 345\", \"Canyon 123\")\n",
    "\n",
    "mycursor.execute(sql, val)\n",
    "\n",
    "mydb.commit()\n",
    "\n",
    "print(mycursor.rowcount, \"record(s) affected\")"
   ]
  },
  {
   "cell_type": "code",
   "execution_count": 27,
   "id": "ae09b0d0-1e0f-4dc3-8ddb-e968442410b2",
   "metadata": {},
   "outputs": [
    {
     "name": "stdout",
     "output_type": "stream",
     "text": [
      "('ROHIT', 'Highway 21', 1)\n",
      "('ROHIT', 'Highway 21', 2)\n",
      "('Peter', 'Lowstreet 4', 3)\n"
     ]
    }
   ],
   "source": [
    "# you can limit the record and the row using limit \n",
    "\n",
    "mycursor.execute(\"SELECT * FROM customer LIMIT 3\")\n",
    "\n",
    "myresult = mycursor.fetchall()\n",
    "\n",
    "for x in myresult:\n",
    "  print(x)"
   ]
  },
  {
   "cell_type": "code",
   "execution_count": null,
   "id": "07fa88a3-2624-4a83-aed6-2a3cf0cb0bac",
   "metadata": {},
   "outputs": [],
   "source": []
  }
 ],
 "metadata": {
  "kernelspec": {
   "display_name": "Python 3 (ipykernel)",
   "language": "python",
   "name": "python3"
  },
  "language_info": {
   "codemirror_mode": {
    "name": "ipython",
    "version": 3
   },
   "file_extension": ".py",
   "mimetype": "text/x-python",
   "name": "python",
   "nbconvert_exporter": "python",
   "pygments_lexer": "ipython3",
   "version": "3.11.7"
  }
 },
 "nbformat": 4,
 "nbformat_minor": 5
}
