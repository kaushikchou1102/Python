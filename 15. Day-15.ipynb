{
 "cells": [
  {
   "cell_type": "code",
   "execution_count": 5,
   "id": "28b5f4fb-37ad-4c73-a7b3-3966210c2f55",
   "metadata": {},
   "outputs": [
    {
     "data": {
      "text/plain": [
       "5"
      ]
     },
     "execution_count": 5,
     "metadata": {},
     "output_type": "execute_result"
    }
   ],
   "source": [
    "my_number_list = range(3,8)\n",
    "my_number_list\n",
    "len(my_number_list)"
   ]
  },
  {
   "cell_type": "code",
   "execution_count": 7,
   "id": "7ab3bff6-789d-4d0d-8114-c244dd1ca9cc",
   "metadata": {},
   "outputs": [
    {
     "data": {
      "text/plain": [
       "3"
      ]
     },
     "execution_count": 7,
     "metadata": {},
     "output_type": "execute_result"
    }
   ],
   "source": [
    "my_number_list[0]"
   ]
  },
  {
   "cell_type": "code",
   "execution_count": 8,
   "id": "97a88fab-f1c6-4fb7-9322-018f7f00b0b2",
   "metadata": {},
   "outputs": [
    {
     "name": "stdout",
     "output_type": "stream",
     "text": [
      "0 3\n",
      "1 4\n",
      "2 5\n",
      "3 6\n",
      "4 7\n",
      "Length of list  5\n"
     ]
    }
   ],
   "source": [
    "i = 0\n",
    "while i < len(my_number_list):\n",
    "    print( i, my_number_list[i])\n",
    "    i = i+1\n",
    "    \n",
    "print(\"Length of list \", len(my_number_list))      "
   ]
  },
  {
   "cell_type": "code",
   "execution_count": 10,
   "id": "a6c3d8f4-c884-4a76-b0ee-642cd1eae17f",
   "metadata": {},
   "outputs": [
    {
     "name": "stdout",
     "output_type": "stream",
     "text": [
      "0\n",
      "1\n",
      "2\n"
     ]
    }
   ],
   "source": [
    "i = 0\n",
    "while i < 3:\n",
    "    print(i)\n",
    "    i+=1"
   ]
  },
  {
   "cell_type": "code",
   "execution_count": null,
   "id": "eae8cdf7-ef23-43f9-b29f-08ddc13d0d60",
   "metadata": {},
   "outputs": [],
   "source": [
    "i = 0\n",
    "#while i < 3:\n",
    "    print(i)\n",
    "    "
   ]
  },
  {
   "cell_type": "code",
   "execution_count": 1,
   "id": "bf1d8151-ab57-4164-84fb-28986337ca1e",
   "metadata": {},
   "outputs": [
    {
     "name": "stdin",
     "output_type": "stream",
     "text": [
      "Enter the name :  anup\n"
     ]
    },
    {
     "name": "stdout",
     "output_type": "stream",
     "text": [
      "\n",
      "You entered  anup\n"
     ]
    },
    {
     "name": "stdin",
     "output_type": "stream",
     "text": [
      "Enter the name :  sagar\n"
     ]
    },
    {
     "name": "stdout",
     "output_type": "stream",
     "text": [
      "\n",
      "You entered  sagar\n"
     ]
    },
    {
     "name": "stdin",
     "output_type": "stream",
     "text": [
      "Enter the name :  parag\n"
     ]
    },
    {
     "name": "stdout",
     "output_type": "stream",
     "text": [
      "\n",
      "You entered  parag\n"
     ]
    }
   ],
   "source": [
    "count = 3\n",
    "\n",
    "for i in range(count):\n",
    "    name = input(\"Enter the name : \")\n",
    "    print()\n",
    "    print('You entered ', name)"
   ]
  },
  {
   "cell_type": "code",
   "execution_count": 2,
   "id": "23f6ee6e-ce61-49be-8068-52f446e7e05c",
   "metadata": {},
   "outputs": [
    {
     "name": "stdin",
     "output_type": "stream",
     "text": [
      "Enter the name (use 'Quit' to stop : amit\n"
     ]
    },
    {
     "name": "stdout",
     "output_type": "stream",
     "text": [
      "You entered  amit\n"
     ]
    },
    {
     "name": "stdin",
     "output_type": "stream",
     "text": [
      "Enter the name (use 'Quit' to stop : anup\n"
     ]
    },
    {
     "name": "stdout",
     "output_type": "stream",
     "text": [
      "You entered  anup\n"
     ]
    },
    {
     "name": "stdin",
     "output_type": "stream",
     "text": [
      "Enter the name (use 'Quit' to stop : Quit\n"
     ]
    }
   ],
   "source": [
    "name = \"\"\n",
    "\n",
    "while name != \"Quit\":\n",
    "    name = input(\"Enter the name (use 'Quit' to stop :\")\n",
    "    if name != \"Quit\":\n",
    "        print('You entered ', name) "
   ]
  },
  {
   "cell_type": "code",
   "execution_count": null,
   "id": "f20eff8a-3da3-4a31-95af-51e4500df12b",
   "metadata": {},
   "outputs": [],
   "source": [
    "# Example\n",
    "i = 0           #iteration variable initialized\n",
    "while i < 5:    # condition is evaluated \n",
    "    print(i)    # block statements are executed until the condition is true i.e. 5 times\n",
    "    i = i + 1"
   ]
  },
  {
   "cell_type": "code",
   "execution_count": 3,
   "id": "81c20443-c764-414b-8934-37f9a1649658",
   "metadata": {},
   "outputs": [
    {
     "name": "stdout",
     "output_type": "stream",
     "text": [
      "1\n",
      "2\n",
      "3\n",
      "4\n",
      "4\n",
      "5\n",
      "5\n",
      "6\n",
      "6\n",
      "7\n"
     ]
    }
   ],
   "source": [
    "# Example\n",
    "i = 0           #iteration variable initialized\n",
    "while i < 7:    # condition is evaluated \n",
    "    if i > 3 :   \n",
    "        print(i)    # block statements are executed until the condition is true and iteration variable is less that 3\n",
    "    i = i + 1\n",
    "    print(i)"
   ]
  },
  {
   "cell_type": "code",
   "execution_count": 4,
   "id": "7827dd38-863a-49fc-8641-7e807e34d22a",
   "metadata": {},
   "outputs": [
    {
     "name": "stdout",
     "output_type": "stream",
     "text": [
      "1\n",
      "2\n",
      "3\n",
      "4\n"
     ]
    }
   ],
   "source": [
    "# Example\n",
    "i = 0           #iteration variable initialized\n",
    "while i < 7:    # condition is evaluated \n",
    "    if i > 3 :   \n",
    "        break   # no more further execution of the loop, once i is greater than 4 \n",
    "        print(i)    # block statements are executed until the condition is true and iteration variable is less that 3\n",
    "    i = i + 1\n",
    "    print(i)"
   ]
  },
  {
   "cell_type": "code",
   "execution_count": 5,
   "id": "3f8e3d6d-8c74-43f0-b055-e7ba41a49839",
   "metadata": {},
   "outputs": [
    {
     "name": "stdout",
     "output_type": "stream",
     "text": [
      "1\n",
      "2\n",
      "3\n",
      "4\n",
      "4\n",
      "5\n",
      "5\n",
      "6\n",
      "6\n",
      "7\n"
     ]
    }
   ],
   "source": [
    "# Example\n",
    "i = 0           #iteration variable initialized\n",
    "while i < 7:    # condition is evaluated \n",
    "    if i > 3 :   \n",
    "        pass  # no more further execution of the loop, once i is greater than 4 \n",
    "        print(i)    # block statements are executed until the condition is true and iteration variable is less that 3\n",
    "    i = i + 1\n",
    "    print(i)"
   ]
  },
  {
   "cell_type": "code",
   "execution_count": null,
   "id": "8e719d5e-e9d8-4ac1-82d1-e5841603f926",
   "metadata": {},
   "outputs": [
    {
     "name": "stdout",
     "output_type": "stream",
     "text": [
      "1\n",
      "2\n",
      "3\n",
      "4\n"
     ]
    }
   ],
   "source": [
    "# Example\n",
    "i = 0           #iteration variable initialized\n",
    "while i < 7:    # condition is evaluated \n",
    "    if i > 3 :   \n",
    "        continue   # no more further execution of the loop, once i is greater than 4 \n",
    "        print(i)    # block statements are executed until the condition is true and iteration variable is less that 3\n",
    "    i = i + 1\n",
    "    print(i)"
   ]
  },
  {
   "cell_type": "code",
   "execution_count": 1,
   "id": "7fa3d36e-8d61-47c3-86c9-5944dd7a9aeb",
   "metadata": {},
   "outputs": [
    {
     "name": "stdin",
     "output_type": "stream",
     "text": [
      "Enter the stmt (Use 'Quit' to stop ) amit\n"
     ]
    },
    {
     "name": "stdout",
     "output_type": "stream",
     "text": [
      "amit\n"
     ]
    },
    {
     "name": "stdin",
     "output_type": "stream",
     "text": [
      "Enter the stmt (Use 'Quit' to stop ) anup\n"
     ]
    },
    {
     "name": "stdout",
     "output_type": "stream",
     "text": [
      "anup\n"
     ]
    },
    {
     "name": "stdin",
     "output_type": "stream",
     "text": [
      "Enter the stmt (Use 'Quit' to stop ) #anup\n",
      "Enter the stmt (Use 'Quit' to stop ) Quit\n"
     ]
    },
    {
     "name": "stdout",
     "output_type": "stream",
     "text": [
      "Quit\n"
     ]
    }
   ],
   "source": [
    "stmt = \"\"\n",
    "\n",
    "while stmt != 'Quit':\n",
    "    stmt = input(\"Enter the stmt (Use 'Quit' to stop )\")\n",
    "    if stmt.startswith(\"#\") :\n",
    "        continue\n",
    "    if len(stmt) > 0 :\n",
    "        print(stmt)"
   ]
  },
  {
   "cell_type": "code",
   "execution_count": 2,
   "id": "1b62a762-f7ba-47f1-814c-77997d2d6e12",
   "metadata": {},
   "outputs": [
    {
     "name": "stdout",
     "output_type": "stream",
     "text": [
      "Hello 1\n",
      "Hello 2\n",
      "Hello 3\n",
      "Hello 4\n",
      "Hello 5\n"
     ]
    }
   ],
   "source": [
    "#Example : print Hello five times\n",
    "for i in range(5):\n",
    "    print(\"Hello\", i+1)"
   ]
  },
  {
   "cell_type": "code",
   "execution_count": 3,
   "id": "69d48620-6e43-4973-80fa-0d6ab438cb41",
   "metadata": {},
   "outputs": [
    {
     "name": "stdin",
     "output_type": "stream",
     "text": [
      "Enter the number 4\n"
     ]
    },
    {
     "name": "stdout",
     "output_type": "stream",
     "text": [
      "the cube is  64\n"
     ]
    },
    {
     "name": "stdin",
     "output_type": "stream",
     "text": [
      "Enter the number 2\n"
     ]
    },
    {
     "name": "stdout",
     "output_type": "stream",
     "text": [
      "the cube is  8\n"
     ]
    },
    {
     "name": "stdin",
     "output_type": "stream",
     "text": [
      "Enter the number 8\n"
     ]
    },
    {
     "name": "stdout",
     "output_type": "stream",
     "text": [
      "the cube is  512\n"
     ]
    }
   ],
   "source": [
    "for i in range(3):\n",
    "    number = int(input(\"Enter the number\"))\n",
    "    print(\"the cube is \" , number*number*number )"
   ]
  },
  {
   "cell_type": "code",
   "execution_count": 4,
   "id": "e7a0e43a-ff4f-4728-9fc2-85723863fbe5",
   "metadata": {},
   "outputs": [
    {
     "name": "stdout",
     "output_type": "stream",
     "text": [
      "(i)   0 (number)  1\n",
      "(i)   1 (number)  2\n",
      "(i)   2 (number)  3\n",
      "(i)   3 (number)  4\n",
      "(i)   4 (number)  5\n"
     ]
    }
   ],
   "source": [
    "for i in range(5):\n",
    "    print(\"(i)  \", i, \"(number) \" , i+1)"
   ]
  },
  {
   "cell_type": "code",
   "execution_count": 6,
   "id": "77bf61b1-5f2f-48ad-a5cc-436a56f85dc9",
   "metadata": {},
   "outputs": [
    {
     "name": "stdout",
     "output_type": "stream",
     "text": [
      "99\n",
      "94\n",
      "89\n",
      "84\n",
      "79\n",
      "74\n",
      "69\n",
      "64\n",
      "59\n",
      "54\n"
     ]
    }
   ],
   "source": [
    "for i in range(99, 50, -5):\n",
    "    print(i)"
   ]
  },
  {
   "cell_type": "code",
   "execution_count": 8,
   "id": "a48c1e07-2553-4d20-96fe-fa3f169b1698",
   "metadata": {},
   "outputs": [
    {
     "name": "stdout",
     "output_type": "stream",
     "text": [
      "23\n",
      "34\n",
      "12\n",
      "34\n",
      "45\n",
      "\n",
      "6\n",
      "\n"
     ]
    }
   ],
   "source": [
    "scores = [23, 34, 12, 34, 45,\"\" ,\"6\" ,\"\" ]\n",
    "length = len(scores)\n",
    "\n",
    "for i in range(length):\n",
    "    print(scores[i])"
   ]
  },
  {
   "cell_type": "code",
   "execution_count": 9,
   "id": "ef6a7363-65d1-403e-87be-439ea13deeca",
   "metadata": {},
   "outputs": [
    {
     "name": "stdout",
     "output_type": "stream",
     "text": [
      "index :  0    value :  0\n",
      "index :  1    value :  1\n",
      "index :  2    value :  4\n",
      "index :  3    value :  9\n",
      "index :  4    value :  16\n"
     ]
    }
   ],
   "source": [
    "squares = [0, 1, 4, 9, 16]\n",
    "\n",
    "for i, j in enumerate(squares):\n",
    "    print(\"index : \", i, \"  \", \"value : \" , j)"
   ]
  },
  {
   "cell_type": "code",
   "execution_count": 10,
   "id": "a0be522c-fd2e-4f89-b5d3-a55a78138bad",
   "metadata": {},
   "outputs": [
    {
     "name": "stdout",
     "output_type": "stream",
     "text": [
      "index :  0    value :  0\n",
      "index :  1    value :  1\n",
      "index :  2    value :  40\n",
      "index :  3    value :  90\n",
      "index :  4    value :  16\n",
      "index :  5    value :  20\n"
     ]
    }
   ],
   "source": [
    "squares = [0, 1, 40, 90, 16, 20]\n",
    "\n",
    "for i, j in enumerate(squares):\n",
    "    print(\"index : \", i, \"  \", \"value : \" , j)"
   ]
  },
  {
   "cell_type": "code",
   "execution_count": 12,
   "id": "e63a017c-2a5a-4204-a537-f926704aa2d4",
   "metadata": {},
   "outputs": [
    {
     "name": "stdout",
     "output_type": "stream",
     "text": [
      "0 - 0\n",
      "1 - 1\n",
      "2 - 2\n",
      "3 - 3\n",
      "4 - 4\n",
      "5 - 5\n",
      "6 - 6\n",
      "7 - 7\n",
      "8 - 8\n",
      "9 - 9\n"
     ]
    }
   ],
   "source": [
    "for i, j in enumerate(range(10)):\n",
    "    print(i, \"-\", j)\n"
   ]
  },
  {
   "cell_type": "code",
   "execution_count": 13,
   "id": "1bd69cb6-c4ee-4bfd-8c9a-fb398f29f617",
   "metadata": {},
   "outputs": [],
   "source": [
    "lis = [\"mango\", \"orange\", \"graps\", \"banana\"]"
   ]
  },
  {
   "cell_type": "code",
   "execution_count": 14,
   "id": "e4d2450b-33c4-4888-8be8-9d1e42080347",
   "metadata": {},
   "outputs": [
    {
     "name": "stdout",
     "output_type": "stream",
     "text": [
      "0 - mango\n",
      "1 - orange\n",
      "2 - graps\n",
      "3 - banana\n"
     ]
    }
   ],
   "source": [
    "for i, j in enumerate(lis):\n",
    "    print(i, \"-\", j)\n"
   ]
  },
  {
   "cell_type": "code",
   "execution_count": 15,
   "id": "ec33c52c-6794-4d05-b1e5-a5e33aefe17f",
   "metadata": {},
   "outputs": [
    {
     "name": "stdout",
     "output_type": "stream",
     "text": [
      "t\n",
      "h\n",
      "i\n",
      "s\n",
      " \n",
      "i\n",
      "s\n",
      " \n",
      "d\n",
      "e\n",
      "m\n",
      "o\n"
     ]
    }
   ],
   "source": [
    "my_string = \"this is demo\"\n",
    "\n",
    "for letter in my_string:\n",
    "    print(letter)"
   ]
  },
  {
   "cell_type": "code",
   "execution_count": 18,
   "id": "4a4e31c8-fd29-4133-b9b4-2f1a52c4ed38",
   "metadata": {},
   "outputs": [
    {
     "name": "stdout",
     "output_type": "stream",
     "text": [
      "t h i s   i s   d e m o "
     ]
    }
   ],
   "source": [
    "my_string = \"this is demo\"\n",
    "\n",
    "for letter in my_string:\n",
    "    print(letter, end = \" \")"
   ]
  },
  {
   "cell_type": "code",
   "execution_count": 19,
   "id": "a52da730-2e7c-4b87-85e0-056f783a4bf2",
   "metadata": {},
   "outputs": [
    {
     "name": "stdout",
     "output_type": "stream",
     "text": [
      "1\n",
      "two\n",
      "3.4\n",
      "True\n"
     ]
    }
   ],
   "source": [
    "#iterate over tuple elements directly\n",
    "\n",
    "my_tuple = (1, 'two', 3.4, True)\n",
    "\n",
    "for element in my_tuple:\n",
    "    print(element)"
   ]
  },
  {
   "cell_type": "code",
   "execution_count": 20,
   "id": "72065c7e-7cf6-4598-86e2-07f1178e84e4",
   "metadata": {},
   "outputs": [
    {
     "name": "stdout",
     "output_type": "stream",
     "text": [
      "('key1', 'value1')\n",
      "('key2', 'value2')\n"
     ]
    }
   ],
   "source": [
    "#iterate over dictionary elements directly\n",
    "\n",
    "my_dict = {\"key1\": \"value1\", \"key2\":\"value2\"}\n",
    "\n",
    "for item in my_dict.items():\n",
    "    print(item)"
   ]
  },
  {
   "cell_type": "code",
   "execution_count": 21,
   "id": "5d91998b-3656-48c3-9e0d-e8712f62d7d4",
   "metadata": {},
   "outputs": [
    {
     "name": "stdout",
     "output_type": "stream",
     "text": [
      "J\n",
      "a\n",
      "s\n",
      "m\n",
      "i\n",
      "n\n",
      " \n",
      "s\n",
      "h\n",
      "e\n",
      "i\n",
      "k\n",
      "h\n"
     ]
    }
   ],
   "source": [
    "s = \"Jasmin sheikh\"\n",
    "for i in s:\n",
    "    print(i)"
   ]
  },
  {
   "cell_type": "code",
   "execution_count": 23,
   "id": "064d428d-f67c-49ca-a569-220369098ff8",
   "metadata": {},
   "outputs": [
    {
     "data": {
      "text/plain": [
       "13"
      ]
     },
     "execution_count": 23,
     "metadata": {},
     "output_type": "execute_result"
    }
   ],
   "source": [
    "len(s)"
   ]
  },
  {
   "cell_type": "code",
   "execution_count": 26,
   "id": "d479272e-a344-4a93-a0fb-04ce82da8db0",
   "metadata": {},
   "outputs": [
    {
     "data": {
      "text/plain": [
       "'n'"
      ]
     },
     "execution_count": 26,
     "metadata": {},
     "output_type": "execute_result"
    }
   ],
   "source": [
    "s[5]"
   ]
  },
  {
   "cell_type": "code",
   "execution_count": 22,
   "id": "dddd0f8b-8c4b-4b13-8dd4-d62d5e19eaa7",
   "metadata": {},
   "outputs": [
    {
     "name": "stdout",
     "output_type": "stream",
     "text": [
      "0 J\n",
      "1 a\n",
      "2 s\n",
      "3 m\n",
      "4 i\n",
      "5 n\n",
      "6  \n",
      "7 s\n",
      "8 h\n",
      "9 e\n",
      "10 i\n",
      "11 k\n",
      "12 h\n"
     ]
    }
   ],
   "source": [
    "s = \"Jasmin sheikh\"\n",
    "for i in range(len(s)) : \n",
    "    print(i , s[i])"
   ]
  },
  {
   "cell_type": "code",
   "execution_count": 27,
   "id": "fdb5f3b5-5a06-4b1e-886c-7ac6b405700e",
   "metadata": {},
   "outputs": [
    {
     "name": "stdout",
     "output_type": "stream",
     "text": [
      "0 a\n",
      "1 s\n",
      "2 m\n",
      "3 i\n",
      "4 n\n",
      "5  \n",
      "6 s\n",
      "7 h\n",
      "8 e\n",
      "9 i\n",
      "10 k\n",
      "11 h\n"
     ]
    },
    {
     "ename": "IndexError",
     "evalue": "string index out of range",
     "output_type": "error",
     "traceback": [
      "\u001b[1;31m---------------------------------------------------------------------------\u001b[0m",
      "\u001b[1;31mIndexError\u001b[0m                                Traceback (most recent call last)",
      "Cell \u001b[1;32mIn[27], line 3\u001b[0m\n\u001b[0;32m      1\u001b[0m s \u001b[38;5;241m=\u001b[39m \u001b[38;5;124m\"\u001b[39m\u001b[38;5;124mJasmin sheikh\u001b[39m\u001b[38;5;124m\"\u001b[39m\n\u001b[0;32m      2\u001b[0m \u001b[38;5;28;01mfor\u001b[39;00m i \u001b[38;5;129;01min\u001b[39;00m \u001b[38;5;28mrange\u001b[39m(\u001b[38;5;28mlen\u001b[39m(s)) : \n\u001b[1;32m----> 3\u001b[0m     \u001b[38;5;28mprint\u001b[39m(i , s[i\u001b[38;5;241m+\u001b[39m\u001b[38;5;241m1\u001b[39m])\n",
      "\u001b[1;31mIndexError\u001b[0m: string index out of range"
     ]
    }
   ],
   "source": [
    "s = \"Jasmin sheikh\"\n",
    "for i in range(len(s)) : \n",
    "    print(i , s[i+1])"
   ]
  },
  {
   "cell_type": "code",
   "execution_count": 28,
   "id": "0ce72f31-7b82-4cfc-a4b8-667b70c82b1f",
   "metadata": {},
   "outputs": [
    {
     "name": "stdout",
     "output_type": "stream",
     "text": [
      "5 n\n",
      "4 i\n",
      "3 m\n",
      "2 s\n",
      "1 a\n",
      "0 J\n"
     ]
    }
   ],
   "source": [
    "S = \"Jasmin\"\n",
    "for i in range(len(S)-1 , -1, -1):\n",
    "    print(i , S[i])"
   ]
  },
  {
   "cell_type": "code",
   "execution_count": 30,
   "id": "d2197f36-62f4-4eca-8f8f-aa17c2e902a0",
   "metadata": {},
   "outputs": [
    {
     "data": {
      "text/plain": [
       "[5, 3, 1, -1]"
      ]
     },
     "execution_count": 30,
     "metadata": {},
     "output_type": "execute_result"
    }
   ],
   "source": [
    "list(range(5, -2, -2))"
   ]
  },
  {
   "cell_type": "code",
   "execution_count": 31,
   "id": "36ff1a5c-08d9-4b22-9f80-0a57f18281e9",
   "metadata": {},
   "outputs": [],
   "source": [
    "d = {1: \"Nikita\", 2: \"mayuri\", 3:\"jasmin\", 4:\"aarti\", 5:\"pratiksha\"}"
   ]
  },
  {
   "cell_type": "code",
   "execution_count": 35,
   "id": "fd3d7f38-b515-4ba2-8348-77b01be8268f",
   "metadata": {},
   "outputs": [],
   "source": [
    "j = (1,\"Nikita\")"
   ]
  },
  {
   "cell_type": "code",
   "execution_count": 37,
   "id": "2ff591e6-9c23-4573-a215-df6fe9b7e413",
   "metadata": {},
   "outputs": [
    {
     "data": {
      "text/plain": [
       "tuple"
      ]
     },
     "execution_count": 37,
     "metadata": {},
     "output_type": "execute_result"
    }
   ],
   "source": [
    "type(j)"
   ]
  },
  {
   "cell_type": "code",
   "execution_count": 43,
   "id": "019b81ac-5d44-4797-8f10-b6c025639c11",
   "metadata": {},
   "outputs": [
    {
     "data": {
      "text/plain": [
       "'Nikita'"
      ]
     },
     "execution_count": 43,
     "metadata": {},
     "output_type": "execute_result"
    }
   ],
   "source": [
    "j[1]"
   ]
  },
  {
   "cell_type": "code",
   "execution_count": 41,
   "id": "ca93e638-7fa2-482e-853a-86faca6d2844",
   "metadata": {},
   "outputs": [
    {
     "name": "stdout",
     "output_type": "stream",
     "text": [
      "(1, 'Nikita') <class 'tuple'> <class 'int'>\n",
      "(2, 'mayuri') <class 'tuple'> <class 'int'>\n",
      "(3, 'jasmin') <class 'tuple'> <class 'int'>\n",
      "(4, 'aarti') <class 'tuple'> <class 'int'>\n",
      "(5, 'pratiksha') <class 'tuple'> <class 'int'>\n"
     ]
    }
   ],
   "source": [
    "for i in d.items():\n",
    "    print(i , type(i) , type(i[0]))"
   ]
  },
  {
   "cell_type": "code",
   "execution_count": 44,
   "id": "64cb4a4d-0785-4067-a069-ec2699df7460",
   "metadata": {},
   "outputs": [
    {
     "name": "stdout",
     "output_type": "stream",
     "text": [
      "(1, 'Nikita') <class 'tuple'> <class 'int'> <class 'str'>\n",
      "(2, 'mayuri') <class 'tuple'> <class 'int'> <class 'str'>\n",
      "(3, 'jasmin') <class 'tuple'> <class 'int'> <class 'str'>\n",
      "(4, 'aarti') <class 'tuple'> <class 'int'> <class 'str'>\n",
      "(5, 'pratiksha') <class 'tuple'> <class 'int'> <class 'str'>\n"
     ]
    }
   ],
   "source": [
    "for i in d.items():\n",
    "    print(i , type(i) , type(i[0]), type(i[1]))"
   ]
  },
  {
   "cell_type": "code",
   "execution_count": 1,
   "id": "cd097c47-39c7-44a6-9ef8-ddfd1d0b6916",
   "metadata": {},
   "outputs": [
    {
     "name": "stdout",
     "output_type": "stream",
     "text": [
      "0\n",
      "0\n",
      "1\n",
      "0\n",
      "1\n",
      "2\n"
     ]
    }
   ],
   "source": [
    "i= 0\n",
    "while i <  4:\n",
    "    for j in range(i):\n",
    "        print(j)\n",
    "    i+=1    "
   ]
  },
  {
   "cell_type": "code",
   "execution_count": 5,
   "id": "e37d46b1-d90d-4fbc-a056-601422b19530",
   "metadata": {},
   "outputs": [
    {
     "name": "stdout",
     "output_type": "stream",
     "text": [
      "0\n",
      "1\n",
      "2\n"
     ]
    }
   ],
   "source": [
    "for i in range(3):\n",
    "    print(i)"
   ]
  },
  {
   "cell_type": "code",
   "execution_count": null,
   "id": "a6037bcb-7c7c-4d10-92c1-ceaddf1619f1",
   "metadata": {},
   "outputs": [],
   "source": []
  }
 ],
 "metadata": {
  "kernelspec": {
   "display_name": "Python 3 (ipykernel)",
   "language": "python",
   "name": "python3"
  },
  "language_info": {
   "codemirror_mode": {
    "name": "ipython",
    "version": 3
   },
   "file_extension": ".py",
   "mimetype": "text/x-python",
   "name": "python",
   "nbconvert_exporter": "python",
   "pygments_lexer": "ipython3",
   "version": "3.11.7"
  }
 },
 "nbformat": 4,
 "nbformat_minor": 5
}
