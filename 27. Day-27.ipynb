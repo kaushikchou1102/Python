{
 "cells": [
  {
   "cell_type": "code",
   "execution_count": 1,
   "id": "864d16c2-5466-46a7-8c6f-a42d5a6e3bbc",
   "metadata": {},
   "outputs": [],
   "source": [
    "class ineuron:\n",
    "    def student(self):\n",
    "        print(\"print the details of all the students\")\n",
    "    def achivers(self):\n",
    "        print(\"print the list of all the achiver \")\n",
    "    def hall_of_fame(self):\n",
    "        print(\"print everyone form hall of fame \")\n",
    "\n",
    "\n",
    "\n",
    "class ineuron_vision(ineuron):\n",
    "\n",
    "    def student(self):      #override method\n",
    "        print(\"these are the filters student list \")"
   ]
  },
  {
   "cell_type": "code",
   "execution_count": 2,
   "id": "8304a00a-944d-45b9-baba-59b52837c8e9",
   "metadata": {},
   "outputs": [],
   "source": [
    "obj = ineuron()"
   ]
  },
  {
   "cell_type": "code",
   "execution_count": 3,
   "id": "625ca7a1-c370-49a9-b7ae-c920427ae405",
   "metadata": {},
   "outputs": [
    {
     "name": "stdout",
     "output_type": "stream",
     "text": [
      "print the details of all the students\n"
     ]
    }
   ],
   "source": [
    "obj.student()"
   ]
  },
  {
   "cell_type": "code",
   "execution_count": 4,
   "id": "eab93f38-fac7-43d9-8c1f-b42e58917a39",
   "metadata": {},
   "outputs": [],
   "source": [
    "obj1 = ineuron_vision()"
   ]
  },
  {
   "cell_type": "code",
   "execution_count": 5,
   "id": "bc50b29b-ce19-43b9-a149-d3c1aae3876b",
   "metadata": {},
   "outputs": [
    {
     "name": "stdout",
     "output_type": "stream",
     "text": [
      "these are the filters student list \n"
     ]
    }
   ],
   "source": [
    "obj1.student()"
   ]
  },
  {
   "cell_type": "code",
   "execution_count": 6,
   "id": "89aae709-35ce-4951-addd-4b4f2ce280a6",
   "metadata": {},
   "outputs": [],
   "source": [
    "#####################################"
   ]
  },
  {
   "cell_type": "code",
   "execution_count": 14,
   "id": "556e1476-609d-4bb2-8892-c9bc1859f04f",
   "metadata": {},
   "outputs": [],
   "source": [
    "class ineuron1:\n",
    "    __students = \"data science\"       #data abstraction \n",
    "\n",
    "    def studetns(self):\n",
    "        print(ineuron1.__students)"
   ]
  },
  {
   "cell_type": "code",
   "execution_count": 9,
   "id": "64723bed-0543-4e99-92d8-cf06b4f15562",
   "metadata": {},
   "outputs": [
    {
     "ename": "AttributeError",
     "evalue": "type object 'ineuron' has no attribute '_ineuron1__students'",
     "output_type": "error",
     "traceback": [
      "\u001b[1;31m---------------------------------------------------------------------------\u001b[0m",
      "\u001b[1;31mAttributeError\u001b[0m                            Traceback (most recent call last)",
      "Cell \u001b[1;32mIn[9], line 2\u001b[0m\n\u001b[0;32m      1\u001b[0m i \u001b[38;5;241m=\u001b[39m ineuron1()\n\u001b[1;32m----> 2\u001b[0m i\u001b[38;5;241m.\u001b[39mstudetns()\n\u001b[0;32m      3\u001b[0m \u001b[38;5;28mprint\u001b[39m(i\u001b[38;5;241m.\u001b[39m__students)\n",
      "Cell \u001b[1;32mIn[7], line 5\u001b[0m, in \u001b[0;36mineuron1.studetns\u001b[1;34m(self)\u001b[0m\n\u001b[0;32m      4\u001b[0m \u001b[38;5;28;01mdef\u001b[39;00m \u001b[38;5;21mstudetns\u001b[39m(\u001b[38;5;28mself\u001b[39m):\n\u001b[1;32m----> 5\u001b[0m     \u001b[38;5;28mprint\u001b[39m(ineuron\u001b[38;5;241m.\u001b[39m__students)\n",
      "\u001b[1;31mAttributeError\u001b[0m: type object 'ineuron' has no attribute '_ineuron1__students'"
     ]
    }
   ],
   "source": [
    "i = ineuron1()\n",
    "i.studetns()\n",
    "print(i.__students)"
   ]
  },
  {
   "cell_type": "code",
   "execution_count": 11,
   "id": "38a2927d-04ce-43ed-ab1e-c6725765af7d",
   "metadata": {},
   "outputs": [
    {
     "ename": "AttributeError",
     "evalue": "'ineuron1' object has no attribute '__studetns'",
     "output_type": "error",
     "traceback": [
      "\u001b[1;31m---------------------------------------------------------------------------\u001b[0m",
      "\u001b[1;31mAttributeError\u001b[0m                            Traceback (most recent call last)",
      "Cell \u001b[1;32mIn[11], line 1\u001b[0m\n\u001b[1;32m----> 1\u001b[0m i\u001b[38;5;241m.\u001b[39mstudetns(i\u001b[38;5;241m.\u001b[39m__studetns)\n",
      "\u001b[1;31mAttributeError\u001b[0m: 'ineuron1' object has no attribute '__studetns'"
     ]
    }
   ],
   "source": [
    "i.studetns(i.__studetns)"
   ]
  },
  {
   "cell_type": "code",
   "execution_count": 15,
   "id": "bb489d13-6f60-4bbd-a2ca-28f605170070",
   "metadata": {},
   "outputs": [
    {
     "name": "stdout",
     "output_type": "stream",
     "text": [
      "data science\n",
      "data science\n"
     ]
    }
   ],
   "source": [
    "i = ineuron1()\n",
    "i.studetns()\n",
    "print(i._ineuron1__students)"
   ]
  },
  {
   "cell_type": "markdown",
   "id": "b067dd20-d12e-4fbb-b738-3062345a2d76",
   "metadata": {},
   "source": [
    "*********************************************"
   ]
  },
  {
   "cell_type": "code",
   "execution_count": 17,
   "id": "dbfd5798-72bf-49a7-9406-31e09dad7bd7",
   "metadata": {},
   "outputs": [],
   "source": [
    "class ineuron2:                      # encpsulation \n",
    "    def __init__(self):\n",
    "        self.students1 = \"data science\"\n",
    "\n",
    "    def students(self):\n",
    "        print(self.students1)\n",
    "\n",
    "\n",
    "\n",
    "class ineuron3:\n",
    "    def __init__(self):\n",
    "        self.__students1 = \"data science \"\n",
    "\n",
    "    def students(self):\n",
    "        print(self.__students1)\n",
    "        \n",
    "    def student_change(self,new_value):\n",
    "        self.__students1 = new_value"
   ]
  },
  {
   "cell_type": "code",
   "execution_count": 18,
   "id": "c67f1f32-6ca1-4247-9f72-b43864e480b6",
   "metadata": {},
   "outputs": [
    {
     "name": "stdout",
     "output_type": "stream",
     "text": [
      "data science\n"
     ]
    }
   ],
   "source": [
    "i = ineuron2()\n",
    "i.students()"
   ]
  },
  {
   "cell_type": "code",
   "execution_count": 19,
   "id": "198df910-d544-4b30-8802-d36495866c40",
   "metadata": {},
   "outputs": [
    {
     "name": "stdout",
     "output_type": "stream",
     "text": [
      "data analytics\n"
     ]
    }
   ],
   "source": [
    "i.students1 = \"data analytics\"\n",
    "i.students()"
   ]
  },
  {
   "cell_type": "code",
   "execution_count": 21,
   "id": "4b49a8db-0e6e-465a-94e2-01610476b8a3",
   "metadata": {},
   "outputs": [
    {
     "name": "stdout",
     "output_type": "stream",
     "text": [
      "data science \n"
     ]
    }
   ],
   "source": [
    "i1 = ineuron3()\n",
    "i1.students()"
   ]
  },
  {
   "cell_type": "code",
   "execution_count": 22,
   "id": "40fe47d0-00d7-441a-b641-eb26c72738a6",
   "metadata": {},
   "outputs": [
    {
     "name": "stdout",
     "output_type": "stream",
     "text": [
      "data science \n"
     ]
    }
   ],
   "source": [
    "i1.students1 = \"data analytics\"\n",
    "i1.students()"
   ]
  },
  {
   "cell_type": "code",
   "execution_count": 24,
   "id": "95d086dd-8e89-4a42-aae3-60c7d8ec6cda",
   "metadata": {},
   "outputs": [
    {
     "name": "stdout",
     "output_type": "stream",
     "text": [
      "data analytics\n"
     ]
    }
   ],
   "source": [
    "i1._ineuron3__students1 = \"data analytics\"\n",
    "i1.students()"
   ]
  },
  {
   "cell_type": "code",
   "execution_count": null,
   "id": "48d8e477-6437-42c6-8649-5863a6e53016",
   "metadata": {},
   "outputs": [],
   "source": [
    "*********************************************"
   ]
  },
  {
   "cell_type": "code",
   "execution_count": 25,
   "id": "e7e95a8a-40ca-4697-9616-34d12845e66b",
   "metadata": {},
   "outputs": [],
   "source": [
    "class ineuron4:\n",
    "    def students(self):\n",
    "        print(\"print a students details \")\n",
    "\n",
    "class class_type :\n",
    "    def student(self):\n",
    "        print(\"print the class type of students\")\n"
   ]
  },
  {
   "cell_type": "code",
   "execution_count": 26,
   "id": "07f9ae52-8b40-4553-9f2b-c557b918255d",
   "metadata": {},
   "outputs": [],
   "source": [
    "def ineuron_external(a,b):\n",
    "    a.students()\n",
    "    b.student()"
   ]
  },
  {
   "cell_type": "code",
   "execution_count": 28,
   "id": "909d3d1c-9324-4e0f-97ee-bed9fa5beff1",
   "metadata": {},
   "outputs": [],
   "source": [
    "obj4 = ineuron4()"
   ]
  },
  {
   "cell_type": "code",
   "execution_count": 29,
   "id": "1dfdc3f6-4c01-4695-b3c5-0576e8a675b4",
   "metadata": {},
   "outputs": [],
   "source": [
    "obj5 = class_type()"
   ]
  },
  {
   "cell_type": "code",
   "execution_count": null,
   "id": "46b18f8f-0450-49cc-83ff-b54bb78ed0b5",
   "metadata": {},
   "outputs": [],
   "source": []
  },
  {
   "cell_type": "code",
   "execution_count": 30,
   "id": "b0f8f471-57a7-4aba-bd6a-b490e1fb83a1",
   "metadata": {},
   "outputs": [
    {
     "name": "stdout",
     "output_type": "stream",
     "text": [
      "print a students details \n",
      "print the class type of students\n"
     ]
    }
   ],
   "source": [
    "ineuron_external(obj4, obj5)"
   ]
  },
  {
   "cell_type": "code",
   "execution_count": 31,
   "id": "2fd12345-6438-464c-9d0c-d9e20422c20e",
   "metadata": {},
   "outputs": [],
   "source": [
    "# polymorphism"
   ]
  },
  {
   "cell_type": "code",
   "execution_count": null,
   "id": "d2a2c819-b9fe-4d4c-92b4-8dfac971edec",
   "metadata": {},
   "outputs": [],
   "source": [
    "# class = atributes\n",
    "# __inti__ = constructor\n",
    "# self = pointer\n",
    "# def = method\n",
    "# package  (directory) \n",
    "# module   (file)\n",
    "# class  \n",
    "# method\n",
    "# inheritence\n",
    "# multilevel inheritence\n",
    "# multiple inheritence\n",
    "# overide method\n",
    "# public\n",
    "# private\n",
    "# protective\n",
    "# data abstraction\n",
    "# encapsulation\n",
    "# polymorphism "
   ]
  },
  {
   "cell_type": "code",
   "execution_count": null,
   "id": "96078911-15e2-4d2f-a2b2-f07ef31e6541",
   "metadata": {},
   "outputs": [],
   "source": []
  },
  {
   "cell_type": "code",
   "execution_count": 32,
   "id": "a72dd686-1756-48bb-a2be-3ef6fd3a136a",
   "metadata": {},
   "outputs": [],
   "source": [
    "import logging"
   ]
  },
  {
   "cell_type": "code",
   "execution_count": 34,
   "id": "002cbf92-628e-4ce4-be5a-8a891a3c2fdd",
   "metadata": {},
   "outputs": [],
   "source": [
    "import logging\n",
    "\n",
    "# Configure logging\n",
    "logging.basicConfig(filename = \"logfile.txt\", level=logging.INFO, format='%(asctime)s - %(levelname)s - %(message)s')\n",
    "\n",
    "class ElementList:\n",
    "    def __init__(self, elements):\n",
    "        self.elements = elements\n",
    "\n",
    "    def find_strings(self):\n",
    "        if not isinstance(self.elements, list):\n",
    "            logging.error(\"Provided data is not a list\")\n",
    "            raise TypeError(\"Expected a list of elements\")\n",
    "\n",
    "        strings = []\n",
    "        for element in self.elements:\n",
    "            try:\n",
    "                if isinstance(element, str):\n",
    "                    strings.append(element)\n",
    "                    logging.info(f\"String found: {element}\")\n",
    "                else:\n",
    "                    logging.debug(f\"Non-string element encountered: {element}\")\n",
    "            except Exception as e:\n",
    "                logging.error(f\"Error processing element: {e}\")\n",
    "        return strings\n"
   ]
  },
  {
   "cell_type": "code",
   "execution_count": 37,
   "id": "86cf409a-a2d7-4d54-acc2-52a397ba37ce",
   "metadata": {},
   "outputs": [],
   "source": [
    "listobj = ElementList(ele_list)"
   ]
  },
  {
   "cell_type": "code",
   "execution_count": 36,
   "id": "60a9a96e-801f-46bf-a79e-8e0009b773d1",
   "metadata": {},
   "outputs": [],
   "source": [
    "ele_list = [5,8,3, \"hii\",6,3,\"c++\", 4.0, 3.33, 'py' ]"
   ]
  },
  {
   "cell_type": "code",
   "execution_count": 40,
   "id": "cb57ad1a-e344-46b3-9fdb-5f6e1d32ab75",
   "metadata": {},
   "outputs": [
    {
     "data": {
      "text/plain": [
       "['hii', 'c++', 'py']"
      ]
     },
     "execution_count": 40,
     "metadata": {},
     "output_type": "execute_result"
    }
   ],
   "source": [
    "listobj.find_strings()"
   ]
  },
  {
   "cell_type": "code",
   "execution_count": null,
   "id": "a356710c-07ef-408a-9e2b-c6a14e2ceba3",
   "metadata": {},
   "outputs": [],
   "source": []
  },
  {
   "cell_type": "code",
   "execution_count": null,
   "id": "e524d025-51d6-46dd-813c-0ddd3a398883",
   "metadata": {},
   "outputs": [],
   "source": []
  }
 ],
 "metadata": {
  "kernelspec": {
   "display_name": "Python 3 (ipykernel)",
   "language": "python",
   "name": "python3"
  },
  "language_info": {
   "codemirror_mode": {
    "name": "ipython",
    "version": 3
   },
   "file_extension": ".py",
   "mimetype": "text/x-python",
   "name": "python",
   "nbconvert_exporter": "python",
   "pygments_lexer": "ipython3",
   "version": "3.11.7"
  }
 },
 "nbformat": 4,
 "nbformat_minor": 5
}
