{
 "cells": [
  {
   "cell_type": "code",
   "execution_count": 1,
   "id": "02100fad-7600-4753-ae03-414f592c91d5",
   "metadata": {},
   "outputs": [],
   "source": [
    "dict1 = {\"name\": \"jasmine\", \"class\":[1,3,4,6]}"
   ]
  },
  {
   "cell_type": "code",
   "execution_count": 2,
   "id": "f4826058-1489-4f15-b884-f817d9fcb7e3",
   "metadata": {},
   "outputs": [],
   "source": [
    "list1 = [1,2,3,\"dg\", {\"name\": \"jasmine\"}]"
   ]
  },
  {
   "cell_type": "code",
   "execution_count": 3,
   "id": "da78af39-b67e-47b5-b24d-b65859d2b2ae",
   "metadata": {},
   "outputs": [],
   "source": [
    "d = { 1:[1,(1,2)], 2:(1,[1,5,3]), 3:[1,{4:(5,6)}]}"
   ]
  },
  {
   "cell_type": "code",
   "execution_count": 4,
   "id": "082f1d66-aaa0-4a45-be84-49a31bb08ebb",
   "metadata": {},
   "outputs": [
    {
     "name": "stdout",
     "output_type": "stream",
     "text": [
      "(1, [1, (1, 2)])\n",
      "(2, (1, [1, 5, 3]))\n",
      "(3, [1, {4: (5, 6)}])\n"
     ]
    }
   ],
   "source": [
    "for i in d.items():\n",
    "    print(i) "
   ]
  },
  {
   "cell_type": "code",
   "execution_count": 5,
   "id": "f826831e-991c-4365-b45f-2c7133ea517e",
   "metadata": {},
   "outputs": [
    {
     "name": "stdout",
     "output_type": "stream",
     "text": [
      "(1, [1, (1, 2)])   <class 'tuple'>\n",
      "(2, (1, [1, 5, 3]))   <class 'tuple'>\n",
      "(3, [1, {4: (5, 6)}])   <class 'tuple'>\n"
     ]
    }
   ],
   "source": [
    "for i in d.items():\n",
    "    print(i, \" \", type(i)) "
   ]
  },
  {
   "cell_type": "code",
   "execution_count": 6,
   "id": "ccaeddfd-6ae6-4641-8cc3-f551bb7f9c6c",
   "metadata": {},
   "outputs": [
    {
     "name": "stdout",
     "output_type": "stream",
     "text": [
      "(1, [1, (1, 2)])   <class 'tuple'> <class 'int'>\n",
      "(2, (1, [1, 5, 3]))   <class 'tuple'> <class 'int'>\n",
      "(3, [1, {4: (5, 6)}])   <class 'tuple'> <class 'int'>\n"
     ]
    }
   ],
   "source": [
    "for i in d.items():\n",
    "    print(i, \" \", type(i), type(i[0])) "
   ]
  },
  {
   "cell_type": "code",
   "execution_count": 8,
   "id": "c4c59639-409b-4da9-9df7-368f1b81a79d",
   "metadata": {},
   "outputs": [
    {
     "name": "stdout",
     "output_type": "stream",
     "text": [
      "(1, [1, (1, 2)])   <class 'tuple'> <class 'int'> <class 'int'> 1\n",
      "(2, (1, [1, 5, 3]))   <class 'tuple'> <class 'int'> <class 'int'> 1\n",
      "(3, [1, {4: (5, 6)}])   <class 'tuple'> <class 'int'> <class 'int'> 1\n"
     ]
    }
   ],
   "source": [
    "for i in d.items():\n",
    "    print(i, \" \", type(i), type(i[0]), type(i[1][0]), i[1][0]) "
   ]
  },
  {
   "cell_type": "code",
   "execution_count": 9,
   "id": "637a6a9c-55f9-45ff-91ce-a47c11a00bef",
   "metadata": {},
   "outputs": [
    {
     "name": "stdout",
     "output_type": "stream",
     "text": [
      "(1, [1, (1, 2)])   <class 'tuple'> <class 'int'> <class 'int'> 1 <class 'tuple'>\n",
      "(2, (1, [1, 5, 3]))   <class 'tuple'> <class 'int'> <class 'int'> 1 <class 'list'>\n",
      "(3, [1, {4: (5, 6)}])   <class 'tuple'> <class 'int'> <class 'int'> 1 <class 'dict'>\n"
     ]
    }
   ],
   "source": [
    "for i in d.items():\n",
    "    print(i, \" \", type(i), type(i[0]), type(i[1][0]), i[1][0], type(i[1][1])) "
   ]
  },
  {
   "cell_type": "code",
   "execution_count": 11,
   "id": "14c7edf1-3725-4634-9053-3dfd03e111e6",
   "metadata": {},
   "outputs": [
    {
     "ename": "IndexError",
     "evalue": "tuple index out of range",
     "output_type": "error",
     "traceback": [
      "\u001b[1;31m---------------------------------------------------------------------------\u001b[0m",
      "\u001b[1;31mIndexError\u001b[0m                                Traceback (most recent call last)",
      "Cell \u001b[1;32mIn[11], line 2\u001b[0m\n\u001b[0;32m      1\u001b[0m \u001b[38;5;28;01mfor\u001b[39;00m i \u001b[38;5;129;01min\u001b[39;00m d\u001b[38;5;241m.\u001b[39mitems():\n\u001b[1;32m----> 2\u001b[0m     \u001b[38;5;28mprint\u001b[39m(i, \u001b[38;5;124m\"\u001b[39m\u001b[38;5;124m \u001b[39m\u001b[38;5;124m\"\u001b[39m, \u001b[38;5;28mtype\u001b[39m(i), \u001b[38;5;28mtype\u001b[39m(i[\u001b[38;5;241m0\u001b[39m]), \u001b[38;5;28mtype\u001b[39m(i[\u001b[38;5;241m1\u001b[39m][\u001b[38;5;241m0\u001b[39m]), i[\u001b[38;5;241m1\u001b[39m][\u001b[38;5;241m0\u001b[39m], \u001b[38;5;28mtype\u001b[39m(i[\u001b[38;5;241m1\u001b[39m][\u001b[38;5;241m1\u001b[39m]), \u001b[38;5;28mtype\u001b[39m(i[\u001b[38;5;241m1\u001b[39m][\u001b[38;5;241m1\u001b[39m][\u001b[38;5;241m4\u001b[39m]) )\n",
      "\u001b[1;31mIndexError\u001b[0m: tuple index out of range"
     ]
    }
   ],
   "source": [
    "for i in d.items():\n",
    "    print(i, \" \", type(i), type(i[0]), type(i[1][0]), i[1][0], type(i[1][1]), type(i[1][1][4]) ) "
   ]
  },
  {
   "cell_type": "code",
   "execution_count": 12,
   "id": "a725d7a1-e0a9-45e2-82f4-c2ef609da42a",
   "metadata": {},
   "outputs": [
    {
     "ename": "IndexError",
     "evalue": "list index out of range",
     "output_type": "error",
     "traceback": [
      "\u001b[1;31m---------------------------------------------------------------------------\u001b[0m",
      "\u001b[1;31mIndexError\u001b[0m                                Traceback (most recent call last)",
      "Cell \u001b[1;32mIn[12], line 4\u001b[0m\n\u001b[0;32m      1\u001b[0m d \u001b[38;5;241m=\u001b[39m { \u001b[38;5;241m1\u001b[39m:[\u001b[38;5;241m1\u001b[39m,(\u001b[38;5;241m1\u001b[39m,\u001b[38;5;241m2\u001b[39m)], \u001b[38;5;241m2\u001b[39m:(\u001b[38;5;241m1\u001b[39m,[\u001b[38;5;241m1\u001b[39m,\u001b[38;5;241m5\u001b[39m,\u001b[38;5;241m3\u001b[39m]), \u001b[38;5;241m3\u001b[39m:[\u001b[38;5;241m1\u001b[39m,{\u001b[38;5;241m4\u001b[39m:(\u001b[38;5;241m5\u001b[39m,\u001b[38;5;241m6\u001b[39m)}]}\n\u001b[0;32m      3\u001b[0m \u001b[38;5;28;01mfor\u001b[39;00m i \u001b[38;5;129;01min\u001b[39;00m d\u001b[38;5;241m.\u001b[39mitems():\n\u001b[1;32m----> 4\u001b[0m     \u001b[38;5;28mprint\u001b[39m(i,\u001b[38;5;124m\"\u001b[39m\u001b[38;5;124m   \u001b[39m\u001b[38;5;124m\"\u001b[39m,  \u001b[38;5;28mtype\u001b[39m(i),\u001b[38;5;124m\"\u001b[39m\u001b[38;5;124m   \u001b[39m\u001b[38;5;124m\"\u001b[39m,\u001b[38;5;28mtype\u001b[39m(i[\u001b[38;5;241m1\u001b[39m]), \u001b[38;5;124m\"\u001b[39m\u001b[38;5;124m  \u001b[39m\u001b[38;5;124m\"\u001b[39m,  \u001b[38;5;28mtype\u001b[39m(i[\u001b[38;5;241m1\u001b[39m][\u001b[38;5;241m3\u001b[39m]),\u001b[38;5;124m\"\u001b[39m\u001b[38;5;124m \u001b[39m\u001b[38;5;124m\"\u001b[39m,\u001b[38;5;28mtype\u001b[39m(i[\u001b[38;5;241m1\u001b[39m][\u001b[38;5;241m3\u001b[39m][\u001b[38;5;241m0\u001b[39m]))\n",
      "\u001b[1;31mIndexError\u001b[0m: list index out of range"
     ]
    }
   ],
   "source": [
    "d = { 1:[1,(1,2)], 2:(1,[1,5,3]), 3:[1,{4:(5,6)}]}\n",
    "\n",
    "for i in d.items():\n",
    "    print(i,\"   \",  type(i),\"   \",type(i[1]), \"  \",  type(i[1][3]),\" \",type(i[1][3][0]))  "
   ]
  },
  {
   "cell_type": "code",
   "execution_count": 18,
   "id": "ae81588c-3616-4495-8f58-aa0852e60150",
   "metadata": {},
   "outputs": [
    {
     "name": "stdout",
     "output_type": "stream",
     "text": [
      "<class 'tuple'> (5, 6)\n"
     ]
    }
   ],
   "source": [
    "d = { 1:[1,(1,2)], 2:(1,[1,5,3]), 3:[1,{4:(5,6)}]}\n",
    "\n",
    "for i in d.items():\n",
    "    if type(i[1]) == list:\n",
    "        if type(i[1][1]) == dict:\n",
    "            print(type(i[1][1][4]), i[1][1][4])  "
   ]
  },
  {
   "cell_type": "code",
   "execution_count": 19,
   "id": "0921bf0c-4fcf-4528-8329-4f38885a10a7",
   "metadata": {},
   "outputs": [],
   "source": [
    "d1 = { 1:[1,2], 2:[1,3], 3:[2,3]}"
   ]
  },
  {
   "cell_type": "code",
   "execution_count": 21,
   "id": "20380f29-bbff-4963-842e-dc0021e82b8d",
   "metadata": {},
   "outputs": [
    {
     "name": "stdout",
     "output_type": "stream",
     "text": [
      "1\n",
      "1\n",
      "2\n"
     ]
    }
   ],
   "source": [
    "for i in d1.items():\n",
    "    print(i[1][0])"
   ]
  },
  {
   "cell_type": "code",
   "execution_count": 22,
   "id": "46481d09-d5d5-484f-968b-fe8b5d3067fd",
   "metadata": {},
   "outputs": [
    {
     "name": "stdout",
     "output_type": "stream",
     "text": [
      "a\n",
      "a\n"
     ]
    }
   ],
   "source": [
    "my_dict = {\"key1\": \"value1\", \"key2\":\"value2\"}\n",
    "\n",
    "\n",
    "for item in my_dict.items():\n",
    "    print(item[1][1])"
   ]
  },
  {
   "cell_type": "code",
   "execution_count": 30,
   "id": "08313120-9d7c-4d5d-b0bb-f19755d7e0bf",
   "metadata": {},
   "outputs": [
    {
     "name": "stdout",
     "output_type": "stream",
     "text": [
      "value2\n"
     ]
    }
   ],
   "source": [
    "for item in my_dict.values():\n",
    "    if item == \"value2\":\n",
    "        print(item)"
   ]
  },
  {
   "cell_type": "code",
   "execution_count": 26,
   "id": "054d5f61-9414-44b4-81c5-261a47ac5223",
   "metadata": {},
   "outputs": [
    {
     "name": "stdout",
     "output_type": "stream",
     "text": [
      "key1\n",
      "key2\n"
     ]
    }
   ],
   "source": [
    "for item in my_dict.keys():\n",
    "    print(item)"
   ]
  },
  {
   "cell_type": "code",
   "execution_count": 31,
   "id": "f6aab256-b2fe-4bcc-8d1e-1d735116964e",
   "metadata": {},
   "outputs": [],
   "source": [
    "d3 = {1: \"Nikita\", 2: \"mayuri\", 3:\"jasmin\", 4:\"aarti\", 5:\"pratiksha\", 6:\"nikita\"}"
   ]
  },
  {
   "cell_type": "code",
   "execution_count": 35,
   "id": "cebedb35-a430-4796-b26c-bab3c437a99c",
   "metadata": {},
   "outputs": [
    {
     "name": "stdout",
     "output_type": "stream",
     "text": [
      "Nikita\n",
      "nikita\n"
     ]
    }
   ],
   "source": [
    "for i in d3.values():\n",
    "    if i == \"Nikita\" or i == \"nikita\":\n",
    "        print(i)"
   ]
  },
  {
   "cell_type": "code",
   "execution_count": 36,
   "id": "bb88d893-dbf2-460d-8af0-ce9f46921a83",
   "metadata": {},
   "outputs": [],
   "source": [
    "d4 = {1: ([[\"a\",\"b\"],1,2],\"Nikita\",\"mayuri\"), 2: ([[2,\"b\"],\"k1\",2000],\"mayuri\",\"nikita\")}"
   ]
  },
  {
   "cell_type": "code",
   "execution_count": 38,
   "id": "e74b0597-7b77-4aec-a66b-8afd68be74c1",
   "metadata": {},
   "outputs": [
    {
     "name": "stdout",
     "output_type": "stream",
     "text": [
      "Nikita\n",
      "mayuri\n",
      "mayuri\n",
      "nikita\n"
     ]
    }
   ],
   "source": [
    "for i in d4.values():\n",
    "    for j in i:\n",
    "        if type(j) == str: \n",
    "            print(j)"
   ]
  },
  {
   "cell_type": "code",
   "execution_count": 39,
   "id": "99ed8b24-1666-45a6-ae4a-60d63488a902",
   "metadata": {},
   "outputs": [
    {
     "name": "stdout",
     "output_type": "stream",
     "text": [
      "([['a', 'b'], 1, 2], 'Nikita', 'mayuri')\n",
      "([[2, 'b'], 'k1', 2000], 'mayuri', 'nikita')\n"
     ]
    }
   ],
   "source": [
    "for i in d4.values():\n",
    "    print(i)"
   ]
  },
  {
   "cell_type": "code",
   "execution_count": 44,
   "id": "b794fe8d-b52d-4ec1-941c-1759b9eb50dd",
   "metadata": {},
   "outputs": [
    {
     "name": "stdout",
     "output_type": "stream",
     "text": [
      "1\n",
      "2\n",
      "2000\n"
     ]
    }
   ],
   "source": [
    "for i in d4.values():\n",
    "    for j in i:\n",
    "        if type(j) == list: \n",
    "            for k in j:\n",
    "                if type(k) == int:\n",
    "                    print(k)"
   ]
  },
  {
   "cell_type": "code",
   "execution_count": 46,
   "id": "ae81fce7-a06a-4bc0-aaf0-9418272be856",
   "metadata": {},
   "outputs": [],
   "source": [
    "t = (\"sudh\",\"kumar\",[1,3,5,7,4],(3,5,88,4),{3:3,3:\"kjshdf\",\"key1\":\"sudh\",\"key2\":\"kumar\"})"
   ]
  },
  {
   "cell_type": "code",
   "execution_count": 47,
   "id": "8682ee29-6a92-4f56-b48d-ed89e96df886",
   "metadata": {},
   "outputs": [
    {
     "name": "stdout",
     "output_type": "stream",
     "text": [
      "3\n",
      "3\n",
      "3\n",
      "kjshdf\n"
     ]
    }
   ],
   "source": [
    "for i in t :\n",
    "    if type(i) == list or type(i) == tuple :\n",
    "        for j in i :\n",
    "            if j == 3 :\n",
    "                print(j)\n",
    "    if type(i) == dict :\n",
    "        for k,v  in i.items():\n",
    "            if k == 3 or v == 3 :\n",
    "                print(k)\n",
    "                print(v)"
   ]
  },
  {
   "cell_type": "code",
   "execution_count": 57,
   "id": "4b673d92-63aa-4143-bd95-0fb7cbd17551",
   "metadata": {},
   "outputs": [
    {
     "name": "stdout",
     "output_type": "stream",
     "text": [
      "3 3\n",
      "4 kjshdf\n",
      "key1 kumar\n"
     ]
    }
   ],
   "source": [
    "d5 = {3:3, 4:\"kjshdf\", \"key1\":\"sudh\", \"key1\":\"kumar\"}\n",
    "for k,v  in d5.items():\n",
    "        print(k,v)"
   ]
  },
  {
   "cell_type": "code",
   "execution_count": null,
   "id": "f53b2ec9-c48d-41a3-a9d1-912888df947e",
   "metadata": {},
   "outputs": [],
   "source": []
  }
 ],
 "metadata": {
  "kernelspec": {
   "display_name": "Python 3 (ipykernel)",
   "language": "python",
   "name": "python3"
  },
  "language_info": {
   "codemirror_mode": {
    "name": "ipython",
    "version": 3
   },
   "file_extension": ".py",
   "mimetype": "text/x-python",
   "name": "python",
   "nbconvert_exporter": "python",
   "pygments_lexer": "ipython3",
   "version": "3.11.7"
  }
 },
 "nbformat": 4,
 "nbformat_minor": 5
}
