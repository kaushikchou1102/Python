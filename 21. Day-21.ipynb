{
 "cells": [
  {
   "cell_type": "code",
   "execution_count": 3,
   "id": "45e12072-8bd6-43e7-a42e-f23ab0d8f0b2",
   "metadata": {},
   "outputs": [
    {
     "name": "stdout",
     "output_type": "stream",
     "text": [
      "asdjhk asdjh asdf 67 90.09\n"
     ]
    }
   ],
   "source": [
    "print(\"asdjhk\",\"asdjh\", \"asdf\", 67, 90.09)"
   ]
  },
  {
   "cell_type": "code",
   "execution_count": 6,
   "id": "10d48c83-8f0f-4ebd-a223-d7784fb2ee2d",
   "metadata": {},
   "outputs": [
    {
     "ename": "TypeError",
     "evalue": "type.__new__() argument 2 must be tuple, not str",
     "output_type": "error",
     "traceback": [
      "\u001b[1;31m---------------------------------------------------------------------------\u001b[0m",
      "\u001b[1;31mTypeError\u001b[0m                                 Traceback (most recent call last)",
      "Cell \u001b[1;32mIn[6], line 1\u001b[0m\n\u001b[1;32m----> 1\u001b[0m \u001b[38;5;28mtype\u001b[39m(\u001b[38;5;124m\"\u001b[39m\u001b[38;5;124mamit\u001b[39m\u001b[38;5;124m\"\u001b[39m, \u001b[38;5;124m\"\u001b[39m\u001b[38;5;124mkumar\u001b[39m\u001b[38;5;124m\"\u001b[39m, \u001b[38;5;124m\"\u001b[39m\u001b[38;5;124mpy\u001b[39m\u001b[38;5;124m\"\u001b[39m)\n",
      "\u001b[1;31mTypeError\u001b[0m: type.__new__() argument 2 must be tuple, not str"
     ]
    }
   ],
   "source": [
    "type(\"amit\", \"kumar\", \"py\")"
   ]
  },
  {
   "cell_type": "code",
   "execution_count": 8,
   "id": "4893b8a3-61f1-49c6-8a3a-bc6f41ef2fe3",
   "metadata": {},
   "outputs": [
    {
     "ename": "TypeError",
     "evalue": "len() takes exactly one argument (2 given)",
     "output_type": "error",
     "traceback": [
      "\u001b[1;31m---------------------------------------------------------------------------\u001b[0m",
      "\u001b[1;31mTypeError\u001b[0m                                 Traceback (most recent call last)",
      "Cell \u001b[1;32mIn[8], line 1\u001b[0m\n\u001b[1;32m----> 1\u001b[0m \u001b[38;5;28mlen\u001b[39m(\u001b[38;5;124m\"\u001b[39m\u001b[38;5;124mpython\u001b[39m\u001b[38;5;124m\"\u001b[39m, \u001b[38;5;124m\"\u001b[39m\u001b[38;5;124mc++\u001b[39m\u001b[38;5;124m\"\u001b[39m)\n",
      "\u001b[1;31mTypeError\u001b[0m: len() takes exactly one argument (2 given)"
     ]
    }
   ],
   "source": [
    "len(\"python\", \"c++\")"
   ]
  },
  {
   "cell_type": "code",
   "execution_count": 9,
   "id": "180b4517-9a75-4306-8b75-d4ef716485f0",
   "metadata": {},
   "outputs": [],
   "source": [
    "def test():\n",
    "    return \"hello\""
   ]
  },
  {
   "cell_type": "code",
   "execution_count": 10,
   "id": "fdd0ceaa-9f65-4a92-942d-f4a777470245",
   "metadata": {},
   "outputs": [
    {
     "data": {
      "text/plain": [
       "'hello'"
      ]
     },
     "execution_count": 10,
     "metadata": {},
     "output_type": "execute_result"
    }
   ],
   "source": [
    "test()"
   ]
  },
  {
   "cell_type": "code",
   "execution_count": 11,
   "id": "e7c21435-421a-4774-b5a9-69f648745fcf",
   "metadata": {},
   "outputs": [],
   "source": [
    "def test1(name):\n",
    "    b = input(\"user input -\", name)\n",
    "    return b"
   ]
  },
  {
   "cell_type": "code",
   "execution_count": 13,
   "id": "7118a573-a4cc-47de-9174-57caacd12478",
   "metadata": {},
   "outputs": [
    {
     "ename": "TypeError",
     "evalue": "Kernel.raw_input() takes from 1 to 2 positional arguments but 3 were given",
     "output_type": "error",
     "traceback": [
      "\u001b[1;31m---------------------------------------------------------------------------\u001b[0m",
      "\u001b[1;31mTypeError\u001b[0m                                 Traceback (most recent call last)",
      "Cell \u001b[1;32mIn[13], line 1\u001b[0m\n\u001b[1;32m----> 1\u001b[0m test1(\u001b[38;5;124m\"\u001b[39m\u001b[38;5;124mamit\u001b[39m\u001b[38;5;124m\"\u001b[39m)\n",
      "Cell \u001b[1;32mIn[11], line 2\u001b[0m, in \u001b[0;36mtest1\u001b[1;34m(name)\u001b[0m\n\u001b[0;32m      1\u001b[0m \u001b[38;5;28;01mdef\u001b[39;00m \u001b[38;5;21mtest1\u001b[39m(name):\n\u001b[1;32m----> 2\u001b[0m     b \u001b[38;5;241m=\u001b[39m \u001b[38;5;28minput\u001b[39m(\u001b[38;5;124m\"\u001b[39m\u001b[38;5;124muser input -\u001b[39m\u001b[38;5;124m\"\u001b[39m, name)\n\u001b[0;32m      3\u001b[0m     \u001b[38;5;28;01mreturn\u001b[39;00m b\n",
      "\u001b[1;31mTypeError\u001b[0m: Kernel.raw_input() takes from 1 to 2 positional arguments but 3 were given"
     ]
    }
   ],
   "source": [
    "test1(\"amit\")"
   ]
  },
  {
   "cell_type": "code",
   "execution_count": 14,
   "id": "59bd01c0-c0d7-48fb-8ae8-ae0f20bb8571",
   "metadata": {},
   "outputs": [],
   "source": [
    "def test1():\n",
    "    b = input(\"My name is -- \")\n",
    "    return b"
   ]
  },
  {
   "cell_type": "code",
   "execution_count": 15,
   "id": "29efe995-4cda-4aa5-99ee-bc1ac230ec39",
   "metadata": {},
   "outputs": [
    {
     "name": "stdin",
     "output_type": "stream",
     "text": [
      "My name is --  amit\n"
     ]
    },
    {
     "data": {
      "text/plain": [
       "'amit'"
      ]
     },
     "execution_count": 15,
     "metadata": {},
     "output_type": "execute_result"
    }
   ],
   "source": [
    "test1()"
   ]
  },
  {
   "cell_type": "markdown",
   "id": "b1835f5c-b863-4ede-b344-60b6fcda8315",
   "metadata": {},
   "source": [
    "## arguments "
   ]
  },
  {
   "cell_type": "code",
   "execution_count": null,
   "id": "4c53b9f7-0c31-4ba8-b108-079e6cf80ae6",
   "metadata": {},
   "outputs": [],
   "source": [
    "positional = fix\n",
    "*arg = non-keyword argument \n",
    "**kwargs = keyword argument "
   ]
  },
  {
   "cell_type": "code",
   "execution_count": 16,
   "id": "0285d5e0-6ff5-4392-9d3c-9f2951e0879f",
   "metadata": {},
   "outputs": [],
   "source": [
    "def test2(a):\n",
    "    b = a**3\n",
    "    return b"
   ]
  },
  {
   "cell_type": "code",
   "execution_count": 18,
   "id": "e40a0647-1430-4c6b-ad90-fa1ebd415cc8",
   "metadata": {},
   "outputs": [
    {
     "ename": "TypeError",
     "evalue": "test2() takes 1 positional argument but 2 were given",
     "output_type": "error",
     "traceback": [
      "\u001b[1;31m---------------------------------------------------------------------------\u001b[0m",
      "\u001b[1;31mTypeError\u001b[0m                                 Traceback (most recent call last)",
      "Cell \u001b[1;32mIn[18], line 1\u001b[0m\n\u001b[1;32m----> 1\u001b[0m test2(\u001b[38;5;241m6\u001b[39m,\u001b[38;5;241m7\u001b[39m)\n",
      "\u001b[1;31mTypeError\u001b[0m: test2() takes 1 positional argument but 2 were given"
     ]
    }
   ],
   "source": [
    "test2(6,7)"
   ]
  },
  {
   "cell_type": "code",
   "execution_count": 19,
   "id": "0b7b51e3-25ff-42b1-a9eb-9e1d04c6da60",
   "metadata": {},
   "outputs": [],
   "source": [
    "def test3(a, b):\n",
    "    c = a**2 -b\n",
    "    return c"
   ]
  },
  {
   "cell_type": "code",
   "execution_count": 21,
   "id": "8f6e322e-4549-4ff1-ae60-c103a8edbbcd",
   "metadata": {},
   "outputs": [
    {
     "ename": "TypeError",
     "evalue": "test3() takes 2 positional arguments but 3 were given",
     "output_type": "error",
     "traceback": [
      "\u001b[1;31m---------------------------------------------------------------------------\u001b[0m",
      "\u001b[1;31mTypeError\u001b[0m                                 Traceback (most recent call last)",
      "Cell \u001b[1;32mIn[21], line 1\u001b[0m\n\u001b[1;32m----> 1\u001b[0m test3(\u001b[38;5;241m3\u001b[39m, \u001b[38;5;241m7\u001b[39m, \u001b[38;5;241m8\u001b[39m)\n",
      "\u001b[1;31mTypeError\u001b[0m: test3() takes 2 positional arguments but 3 were given"
     ]
    }
   ],
   "source": [
    "test3(3, 7, 8)"
   ]
  },
  {
   "cell_type": "code",
   "execution_count": 27,
   "id": "dcdbe656-d8e1-4ad2-9aed-8a3f70ede9ad",
   "metadata": {},
   "outputs": [],
   "source": [
    "def test4(*a):\n",
    "    return a"
   ]
  },
  {
   "cell_type": "code",
   "execution_count": 28,
   "id": "bc97b7bc-8296-4942-ab33-5eb13106075e",
   "metadata": {},
   "outputs": [
    {
     "data": {
      "text/plain": [
       "(2,)"
      ]
     },
     "execution_count": 28,
     "metadata": {},
     "output_type": "execute_result"
    }
   ],
   "source": [
    "test4(2)"
   ]
  },
  {
   "cell_type": "code",
   "execution_count": 29,
   "id": "f70df02a-29dd-456e-bbc4-2a750b0573be",
   "metadata": {},
   "outputs": [
    {
     "data": {
      "text/plain": [
       "()"
      ]
     },
     "execution_count": 29,
     "metadata": {},
     "output_type": "execute_result"
    }
   ],
   "source": [
    "test4()"
   ]
  },
  {
   "cell_type": "code",
   "execution_count": 32,
   "id": "b75c6c94-3abf-4f27-8ef5-23b5281c80b2",
   "metadata": {},
   "outputs": [
    {
     "data": {
      "text/plain": [
       "(2, 3, 4, 'py')"
      ]
     },
     "execution_count": 32,
     "metadata": {},
     "output_type": "execute_result"
    }
   ],
   "source": [
    "test4(2,3,4,\"py\")"
   ]
  },
  {
   "cell_type": "code",
   "execution_count": 33,
   "id": "790507c6-51e2-4b13-a17a-0ddb0bc50b45",
   "metadata": {},
   "outputs": [],
   "source": [
    "def test5(**a):\n",
    "    return a"
   ]
  },
  {
   "cell_type": "code",
   "execution_count": 37,
   "id": "5b7bdb07-f177-4b88-88b9-bd068814161b",
   "metadata": {},
   "outputs": [
    {
     "data": {
      "text/plain": [
       "{'name': 'amit', 'age': 30}"
      ]
     },
     "execution_count": 37,
     "metadata": {},
     "output_type": "execute_result"
    }
   ],
   "source": [
    "test5(name= \"amit\", age = 30)"
   ]
  },
  {
   "cell_type": "code",
   "execution_count": 38,
   "id": "8be0492a-0717-426e-bdc9-af428722071c",
   "metadata": {},
   "outputs": [],
   "source": [
    "def test6(*a, b):\n",
    "    return a, b"
   ]
  },
  {
   "cell_type": "code",
   "execution_count": 40,
   "id": "d2c21c22-672e-458e-aff8-53574588dd91",
   "metadata": {},
   "outputs": [
    {
     "ename": "TypeError",
     "evalue": "test6() missing 1 required keyword-only argument: 'b'",
     "output_type": "error",
     "traceback": [
      "\u001b[1;31m---------------------------------------------------------------------------\u001b[0m",
      "\u001b[1;31mTypeError\u001b[0m                                 Traceback (most recent call last)",
      "Cell \u001b[1;32mIn[40], line 1\u001b[0m\n\u001b[1;32m----> 1\u001b[0m test6(\u001b[38;5;241m4\u001b[39m,\u001b[38;5;241m5\u001b[39m)\n",
      "\u001b[1;31mTypeError\u001b[0m: test6() missing 1 required keyword-only argument: 'b'"
     ]
    }
   ],
   "source": [
    "test6(4,5)"
   ]
  },
  {
   "cell_type": "code",
   "execution_count": 41,
   "id": "30f6c7a6-87af-4ddb-8ca6-f87b2b362c0f",
   "metadata": {},
   "outputs": [
    {
     "ename": "TypeError",
     "evalue": "test6() missing 1 required keyword-only argument: 'b'",
     "output_type": "error",
     "traceback": [
      "\u001b[1;31m---------------------------------------------------------------------------\u001b[0m",
      "\u001b[1;31mTypeError\u001b[0m                                 Traceback (most recent call last)",
      "Cell \u001b[1;32mIn[41], line 1\u001b[0m\n\u001b[1;32m----> 1\u001b[0m test6(\u001b[38;5;241m4\u001b[39m,\u001b[38;5;241m55\u001b[39m,\u001b[38;5;241m5\u001b[39m)\n",
      "\u001b[1;31mTypeError\u001b[0m: test6() missing 1 required keyword-only argument: 'b'"
     ]
    }
   ],
   "source": [
    "test6(4,55,5)"
   ]
  },
  {
   "cell_type": "code",
   "execution_count": 43,
   "id": "14b433eb-85f2-49b4-9d58-f1109e6bc933",
   "metadata": {},
   "outputs": [],
   "source": [
    "def test7(a, *b):\n",
    "    return a, b"
   ]
  },
  {
   "cell_type": "code",
   "execution_count": 46,
   "id": "1c53efd1-23bd-4729-8099-356686de3d1e",
   "metadata": {},
   "outputs": [
    {
     "data": {
      "text/plain": [
       "(5, (99, 'py'))"
      ]
     },
     "execution_count": 46,
     "metadata": {},
     "output_type": "execute_result"
    }
   ],
   "source": [
    "test7(5, 99,\"py\")"
   ]
  },
  {
   "cell_type": "code",
   "execution_count": 47,
   "id": "e8943ef0-e646-44bf-94c3-9ff7dd7832c4",
   "metadata": {},
   "outputs": [
    {
     "ename": "SyntaxError",
     "evalue": "arguments cannot follow var-keyword argument (3614595137.py, line 1)",
     "output_type": "error",
     "traceback": [
      "\u001b[1;36m  Cell \u001b[1;32mIn[47], line 1\u001b[1;36m\u001b[0m\n\u001b[1;33m    def test8(**a, b, *c):\u001b[0m\n\u001b[1;37m                   ^\u001b[0m\n\u001b[1;31mSyntaxError\u001b[0m\u001b[1;31m:\u001b[0m arguments cannot follow var-keyword argument\n"
     ]
    }
   ],
   "source": [
    "def test8(**a, b, *c):\n",
    "    return c, b, a"
   ]
  },
  {
   "cell_type": "code",
   "execution_count": 49,
   "id": "0f47a906-d6cf-40c0-8f50-433e08b6d1ed",
   "metadata": {},
   "outputs": [
    {
     "ename": "SyntaxError",
     "evalue": "arguments cannot follow var-keyword argument (1919943464.py, line 1)",
     "output_type": "error",
     "traceback": [
      "\u001b[1;36m  Cell \u001b[1;32mIn[49], line 1\u001b[1;36m\u001b[0m\n\u001b[1;33m    def test8( b, **a, *c):\u001b[0m\n\u001b[1;37m                       ^\u001b[0m\n\u001b[1;31mSyntaxError\u001b[0m\u001b[1;31m:\u001b[0m arguments cannot follow var-keyword argument\n"
     ]
    }
   ],
   "source": [
    "def test8( b, **a, *c):\n",
    "    return c, b, a"
   ]
  },
  {
   "cell_type": "code",
   "execution_count": 50,
   "id": "c9e8f7b8-4489-4f9b-a917-f4a957e6b64f",
   "metadata": {},
   "outputs": [],
   "source": [
    "def test8( b,  *c, **a,):\n",
    "    return c, b, a"
   ]
  },
  {
   "cell_type": "code",
   "execution_count": 53,
   "id": "79185759-41e0-4922-a1ef-720c17d8cb92",
   "metadata": {},
   "outputs": [
    {
     "data": {
      "text/plain": [
       "((7,), 6, {'lag': 'py'})"
      ]
     },
     "execution_count": 53,
     "metadata": {},
     "output_type": "execute_result"
    }
   ],
   "source": [
    "test8(6, 7, lag = \"py\")"
   ]
  },
  {
   "cell_type": "code",
   "execution_count": 54,
   "id": "458017f7-5599-419c-87b6-9c6b0ed9a187",
   "metadata": {},
   "outputs": [],
   "source": [
    "def test9( *c, **a,):\n",
    "    return c, a"
   ]
  },
  {
   "cell_type": "code",
   "execution_count": 56,
   "id": "5534f26b-6141-4e3f-ad04-e58e492a0e31",
   "metadata": {},
   "outputs": [
    {
     "ename": "SyntaxError",
     "evalue": "arguments cannot follow var-keyword argument (991445186.py, line 1)",
     "output_type": "error",
     "traceback": [
      "\u001b[1;36m  Cell \u001b[1;32mIn[56], line 1\u001b[1;36m\u001b[0m\n\u001b[1;33m    def test9( **c, *a,):\u001b[0m\n\u001b[1;37m                    ^\u001b[0m\n\u001b[1;31mSyntaxError\u001b[0m\u001b[1;31m:\u001b[0m arguments cannot follow var-keyword argument\n"
     ]
    }
   ],
   "source": [
    "def test9( **c, *a,):\n",
    "    return c, a"
   ]
  },
  {
   "cell_type": "code",
   "execution_count": 58,
   "id": "3ad779b6-595b-4e8d-934e-1204551c8d9f",
   "metadata": {},
   "outputs": [
    {
     "name": "stdout",
     "output_type": "stream",
     "text": [
      "76 "
     ]
    }
   ],
   "source": [
    "print(76, end = \" \")"
   ]
  },
  {
   "cell_type": "code",
   "execution_count": 59,
   "id": "92731412-1234-4555-b24c-cac3ce70cec4",
   "metadata": {},
   "outputs": [],
   "source": [
    "def generate_full_name ():\n",
    "    first_name = 'Asabeneh'\n",
    "    last_name = 'Yetayeh'\n",
    "    space = ' '\n",
    "    full_name = first_name + space + last_name\n",
    "    print(full_name)"
   ]
  },
  {
   "cell_type": "code",
   "execution_count": 60,
   "id": "d0c7f994-5024-4110-baeb-f2d579791b9c",
   "metadata": {},
   "outputs": [
    {
     "name": "stdout",
     "output_type": "stream",
     "text": [
      "Asabeneh Yetayeh\n"
     ]
    }
   ],
   "source": [
    "generate_full_name ()"
   ]
  },
  {
   "cell_type": "code",
   "execution_count": 61,
   "id": "88d0133f-93cd-4d06-93ef-9d6ac62aeebc",
   "metadata": {},
   "outputs": [],
   "source": [
    "def greetings (name):\n",
    "    message = name + ', welcome to Python for Everyone!'\n",
    "    return message"
   ]
  },
  {
   "cell_type": "code",
   "execution_count": 63,
   "id": "41937a0b-c0b3-4b3d-a880-d6a7075617c7",
   "metadata": {},
   "outputs": [
    {
     "data": {
      "text/plain": [
       "'sagar, welcome to Python for Everyone!'"
      ]
     },
     "execution_count": 63,
     "metadata": {},
     "output_type": "execute_result"
    }
   ],
   "source": [
    "greetings(\"sagar\")"
   ]
  },
  {
   "cell_type": "code",
   "execution_count": 64,
   "id": "2d1d5ff1-08cb-466e-a9f2-be6f92605a83",
   "metadata": {},
   "outputs": [],
   "source": [
    "def area_of_circle (r):\n",
    "    PI = 3.14\n",
    "    area = PI * r ** 2\n",
    "    return area"
   ]
  },
  {
   "cell_type": "code",
   "execution_count": 65,
   "id": "81bb0dbb-147d-46a3-90cf-be77d83099e8",
   "metadata": {},
   "outputs": [
    {
     "data": {
      "text/plain": [
       "2826.0"
      ]
     },
     "execution_count": 65,
     "metadata": {},
     "output_type": "execute_result"
    }
   ],
   "source": [
    "area_of_circle (30)"
   ]
  },
  {
   "cell_type": "code",
   "execution_count": 66,
   "id": "84d7f5c1-da22-4a1e-95cf-41a71476642a",
   "metadata": {},
   "outputs": [],
   "source": [
    "def sum_of_numbers(n):\n",
    "    total = 0\n",
    "    for i in range(n+1):\n",
    "        total+=i\n",
    "    print(total)"
   ]
  },
  {
   "cell_type": "code",
   "execution_count": 67,
   "id": "adc0eef9-7d91-490b-a507-dfe6150e49ea",
   "metadata": {},
   "outputs": [
    {
     "name": "stdout",
     "output_type": "stream",
     "text": [
      "15\n"
     ]
    }
   ],
   "source": [
    "sum_of_numbers(5)"
   ]
  },
  {
   "cell_type": "code",
   "execution_count": 68,
   "id": "0605afd5-8f44-44a2-98a4-2b3d82faecfa",
   "metadata": {},
   "outputs": [
    {
     "name": "stdout",
     "output_type": "stream",
     "text": [
      "15\n"
     ]
    }
   ],
   "source": [
    "total = 0\n",
    "for i in range(5+1):\n",
    "    total+=i\n",
    "\n",
    "print(total)\n"
   ]
  },
  {
   "cell_type": "code",
   "execution_count": null,
   "id": "176e444f-f2fd-42ab-9b35-cf82b5002c6b",
   "metadata": {},
   "outputs": [],
   "source": []
  }
 ],
 "metadata": {
  "kernelspec": {
   "display_name": "Python 3 (ipykernel)",
   "language": "python",
   "name": "python3"
  },
  "language_info": {
   "codemirror_mode": {
    "name": "ipython",
    "version": 3
   },
   "file_extension": ".py",
   "mimetype": "text/x-python",
   "name": "python",
   "nbconvert_exporter": "python",
   "pygments_lexer": "ipython3",
   "version": "3.11.7"
  }
 },
 "nbformat": 4,
 "nbformat_minor": 5
}
